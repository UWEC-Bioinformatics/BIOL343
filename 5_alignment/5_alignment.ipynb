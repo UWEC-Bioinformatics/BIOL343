{
 "cells": [
  {
   "attachments": {},
   "cell_type": "markdown",
   "metadata": {},
   "source": [
    "# Alignment of RNA-seq reads to a reference genome\n",
    "\n",
    "## STAR\n",
    "\n",
    "Remember how STAR works...it is a splice-aware aligner that searches read prefixes against a suffix array (SA). It is ultra-fast and can soft-clip, which means trimming isn't as necessary as with other aligners. The use of the SA index makes it fast, but it also requires a lot of RAM to build the index and load it into memory for searches.\n",
    "\n",
    "As we use STAR to align reads, we will be using the [STAR manual](https://github.com/alexdobin/STAR/blob/master/doc/STARmanual.pdf) heavily. I recommend opening it in a separate tab/window.\n",
    "\n",
    "### Build the SA\n",
    "\n",
    "An SA is a lexographically sored array of *all* the suffixes of an entire genome. STAR usage is generally `STAR --runMode {mode} --argument option`. To build the SA and give the aligner some information about where to expect splice junctions, here are the relevant details provided in the manual:\n",
    "\n",
    "```\n",
    "--runThreadN NumberOfThreads\n",
    "--runMode genomeGenerate\n",
    "--genomeDir /path/to/genomeDir\n",
    "--genomeFastaFiles /path/to/genome/fasta1 /path/to/genome/fasta2 ...\n",
    "--sjdbGTFfile /path/to/annotations.gtf\n",
    "--sjdbOverhang ReadLength-1\n",
    "```\n",
    "\n",
    "Most of these are self-explanatory, but `--sjdbOverhang` takes special consideration. Here's the desription:\n",
    "\n",
    "> `--sjdbOverhang` specifies the length of the genomic sequence around the annotated junction\n",
    "to be used in constructing the splice junctions database. Ideally, this length should be equal\n",
    "to the ReadLength-1, where ReadLength is the length of the reads. For instance, for Illumina\n",
    "2x100b paired-end reads, the ideal value is 100-1=99. In case of reads of varying length, the\n",
    "ideal value is max(ReadLength)-1. In most cases, the default value of 100 will work as\n",
    "well as the ideal value.\n",
    "\n",
    "Usings this description and what we know about our read lenghs from our QC, choose the best value. Edit and run the code block below."
   ]
  },
  {
   "cell_type": "code",
   "execution_count": 20,
   "metadata": {},
   "outputs": [
    {
     "name": "stdout",
     "output_type": "stream",
     "text": [
      "\tSTAR --runThreadN 16 --runMode genomeGenerate --genomeDir /data/users/wheelenj/BIOL343/2_genome_exploration/genome/star --genomeFastaFiles /data/users/wheelenj/BIOL343/2_genome_exploration/genome/genome.fa --sjdbGTFfile /data/users/wheelenj/BIOL343/2_genome_exploration/genome/annotations.gtf --sjdbOverhang 68 --genomeSAindexNbases 13\n",
      "\tSTAR version: 2.7.10b   compiled: 2022-11-01T09:53:26-04:00 :/home/dobin/data/STAR/STARcode/STAR.master/source\n",
      "Sep 04 14:33:02 ..... started STAR run\n",
      "Sep 04 14:33:02 ... starting to generate Genome files\n",
      "Sep 04 14:33:07 ..... processing annotations GTF\n",
      "Sep 04 14:33:10 ... starting to sort Suffix Array. This may take a long time...\n",
      "Sep 04 14:33:12 ... sorting Suffix Array chunks and saving them to disk...\n",
      "Sep 04 14:34:07 ... loading chunks from disk, packing SA...\n",
      "Sep 04 14:34:16 ... finished generating suffix array\n",
      "Sep 04 14:34:16 ... generating Suffix Array index\n",
      "Sep 04 14:35:18 ... completed Suffix Array index\n",
      "Sep 04 14:35:18 ..... inserting junctions into the genome indices\n",
      "Sep 04 14:35:38 ... writing Genome to disk ...\n",
      "Sep 04 14:35:39 ... writing Suffix Array to disk ...\n",
      "Sep 04 14:35:43 ... writing SAindex to disk\n",
      "Sep 04 14:35:44 ..... finished successfully\n"
     ]
    }
   ],
   "source": [
    "!STAR \\\n",
    "--runThreadN 16 \\\n",
    "--runMode genomeGenerate \\\n",
    "--genomeDir /data/users/wheelenj/BIOL343/2_genome_exploration/genome/star \\\n",
    "--genomeFastaFiles /data/users/wheelenj/BIOL343/2_genome_exploration/genome/genome.fa \\\n",
    "--sjdbGTFfile /data/users/wheelenj/BIOL343/2_genome_exploration/genome/annotations.gtf \\\n",
    "--sjdbOverhang 68 \\\n",
    "--genomeSAindexNbases 13"
   ]
  },
  {
   "attachments": {},
   "cell_type": "markdown",
   "metadata": {},
   "source": [
    "***3 minute time to completion***\n",
    "\n",
    "You will now have many new files in the `BIOL343/2_genome_exploration/genome/star` directory. Many of these are `.txt` files that are clearly named. Click through them to checkout their contents. Crucially, you also have `SA` and `SAindex`, which is the SA that will be used during alignment. Using OnDemand, you can see that this file is several GB large, which explains why a lot of RAM is required to use it.\n",
    "\n",
    "Each STAR command also generates a `Log.out` file. Each different bioinformatics tools deals with logs in their own way, but you should grow to be comfortable viewing logs and diagnosing potential problems."
   ]
  },
  {
   "attachments": {},
   "cell_type": "markdown",
   "metadata": {},
   "source": [
    "### Aligning\n",
    "Here are the manual instructions for the aligning steps:\n",
    "\n",
    ">The basic options to run a mapping job are as follows:  \n",
    "`--runThreadN` *NumberOfThreads*  \n",
    "`--genomeDir` */path/to/genomeDir*  \n",
    "`--readFilesIn` */path/to/read1 [/path/to/read2 ]*  \n",
    "`--genomeDir` specifies path to the genome directory where genome indices where generated\n",
    "(see Section 2. Generating genome indexes).  \n",
    "`--readFilesIn` name(s) (with path) of the files containing the sequences to be mapped (e.g.\n",
    "RNA-seq FASTQ files). If using Illumina paired-end reads, the read1 and read2 files have to\n",
    "be supplied. STAR can process both FASTA and FASTQ files. Multi-line (i.e. sequence split\n",
    "in multiple lines) FASTA (but not FASTQ) files are supported.  \n",
    "If the read files are compressed, use the `--readFilesCommand` *UncompressionCommand* option,\n",
    "where *UncompressionCommand* is the un-compression command that takes the file name as\n",
    "input parameter, and sends the uncompressed output to stdout. For example, for gzipped\n",
    "files (\\*.gz) use `--readFilesCommand` *zcat* OR `--readFilesCommand` *gunzip -c*. For bzip2compressed files, use `--readFilesCommand` *bunzip2 -c*.\n",
    "\n",
    "Run the alignment step in the code block below. Remember to use the trimmed reads. Let's run separate commands for each input FASTQ file. You could also provide them all in one command, but they would the aligned reads would be in a single output file with a distinguisher in the SAM header, which we haven't yet talked about. Speaking of SAM files, we'll also set an option to create BAMs instead of SAMs and to sort these files by coordinate. Finally, we also need to set the `--outFileNamePrefix` to make sure each outfile gets a different name. We will make a separate directory to organize the output files."
   ]
  },
  {
   "cell_type": "code",
   "execution_count": 9,
   "metadata": {},
   "outputs": [
    {
     "name": "stdout",
     "output_type": "stream",
     "text": [
      "mkdir: cannot create directory ‘/data/users/wheelenj/BIOL343/alignment’: File exists\n",
      "\tSTAR --runThreadN 16 --runMode alignReads --genomeDir /data/users/wheelenj/BIOL343/2_genome_exploration/genome --readFilesIn /data/users/wheelenj/BIOL343/4_fastq/trimmed/SRR26691082.fastq.gz --readFilesCommand zcat --outSAMtype BAM SortedByCoordinate --outFileNamePrefix /data/users/wheelenj/BIOL343/5_alignment/alignment/SRR26691082/\n",
      "\tSTAR version: 2.7.10b   compiled: 2022-11-01T09:53:26-04:00 :/home/dobin/data/STAR/STARcode/STAR.master/source\n",
      "Sep 04 13:17:43 ..... started STAR run\n",
      "Sep 04 13:17:43 ..... loading genome\n",
      "Sep 04 13:17:43 ..... started mapping\n",
      "Sep 04 13:18:19 ..... finished mapping\n",
      "Sep 04 13:18:19 ..... started sorting BAM\n",
      "Sep 04 13:18:24 ..... finished successfully\n"
     ]
    }
   ],
   "source": [
    "%mkdir /data/users/wheelenj/BIOL343/alignment\n",
    "\n",
    "!STAR \\\n",
    "--runThreadN 16 \\\n",
    "--runMode alignReads \\\n",
    "--genomeDir /data/users/wheelenj/BIOL343/2_genome_exploration/genome/star \\\n",
    "--readFilesIn /data/users/wheelenj/BIOL343/4_fastq/trimmed/SRR26691082.fastq.gz \\\n",
    "--readFilesCommand zcat \\\n",
    "--outSAMtype BAM SortedByCoordinate \\\n",
    "--outFileNamePrefix /data/users/wheelenj/BIOL343/5_alignment/alignment/SRR26691082/"
   ]
  },
  {
   "attachments": {},
   "cell_type": "markdown",
   "metadata": {},
   "source": [
    "***1 minute time to completion***\n",
    "\n",
    "After completion, you will see a number of new files in `BIOL343/5_alignment/alignment/SRR26691082/`, including `Log.out`. The results that we care about are stored in `BIOL343/alignment/SRR26691082/Aligned.sortedByCoord.out.bam`. Take a look at `Log.out`, then delete the entire `SRR26691082` directory, we're going to realign it in a more sophisticated way...\n",
    "\n",
    "#### Two-pass alignment\n",
    "\n",
    "In section 9 of the STAR manual, it provides guidance for running the so-called 2-pass mapping. In this scheme, the first pass maps to the known splice junctions provided in the GTF while the second pass re-maps to known and novel junctions (which are output in `SJ.out.tab`. However, 9.1 recommends that we include the junctions from ***all*** samples, so let's rerun the alignment, this time aligning all of the trimmed FASTQ files in the dataset.\n",
    "\n",
    "There are a few different ways to use multiple FASTQ files as input, which are described in section 3.2. Take some time to read through that section...\n",
    "\n",
    "So, we're going to align all the FASTQ files and generate a single output file (BAM or SAM). However, down the road we are going to want to differentiate reads from each FASTQ, because we'll want to know if a given transcript was differentially expressed between tissues/treatment groups. To help differentiate, the output file is going to have a RG tag in the header of each aligned read (more on that later). The important thing to know now is we need to provide STAR with a RG (read group) ID for each FASTQ. We can do that be creating a tab-separated file (TSV) that is called the \"manifest\" and directing START to it with `--readFilesManifest /path/to/manifest.tsv`. That manifest should have 3 columns: `read1-file-name tab - tab read-group-line`, e.g.:\n",
    "\n",
    "|read1-file-name| - | read-group-line |\n",
    "|---------------|----|-----------------|\n",
    "| /data/users/wheelenj/BIOL343/4_fastq/trimmed/SRR26691082.fastq.gz | - | ID:LIV_ma1| \n",
    "| /data/users/wheelenj/BIOL343/4_fastq/trimmed/SRR26691083.fastq.gz |- | ID:LIV_im3|\n",
    "\n",
    "The `read-group-line` field will be populated with sample details from `4_fastq/SraRunTable.txt`. You could create the manifest using command line tools and the run table, but I've provided the TSV for you at `5_alignment/manifest.tsv`."
   ]
  },
  {
   "cell_type": "code",
   "execution_count": 16,
   "metadata": {},
   "outputs": [
    {
     "name": "stdout",
     "output_type": "stream",
     "text": [
      "\tSTAR --runThreadN 16 --runMode alignReads --genomeDir /data/users/wheelenj/BIOL343/2_genome_exploration/genome/ --readFilesManifest /data/users/wheelenj/BIOL343/5_alignment/manifest.tsv --readFilesCommand zcat --outSAMtype BAM SortedByCoordinate --outFileNamePrefix /data/users/wheelenj/BIOL343/5_alignment/alignment/\n",
      "\tSTAR version: 2.7.10b   compiled: 2022-11-01T09:53:26-04:00 :/home/dobin/data/STAR/STARcode/STAR.master/source\n",
      "Sep 04 14:07:49 ..... started STAR run\n",
      "Sep 04 14:07:49 ..... loading genome\n",
      "Sep 04 14:07:50 ..... started mapping\n",
      "Sep 04 14:16:08 ..... finished mapping\n",
      "Sep 04 14:16:09 ..... started sorting BAM\n",
      "Sep 04 14:16:58 ..... finished successfully\n"
     ]
    }
   ],
   "source": [
    "!STAR \\\n",
    "--runThreadN 16 \\\n",
    "--runMode alignReads \\\n",
    "--genomeDir /data/users/wheelenj/BIOL343/2_genome_exploration/genome/star \\\n",
    "--readFilesManifest /data/users/wheelenj/BIOL343/5_alignment/manifest.tsv \\\n",
    "--readFilesCommand zcat \\\n",
    "--outSAMtype BAM SortedByCoordinate \\\n",
    "--outFileNamePrefix /data/users/wheelenj/BIOL343/5_alignment/alignment/"
   ]
  },
  {
   "attachments": {},
   "cell_type": "markdown",
   "metadata": {},
   "source": [
    "***9 minute time to completion***\n",
    "\n",
    "You can track the progress by viewing `5_alignment/alignment/Log.progress.out`. Mapping statistics can be found in `5_alignment/alignment/Log.final.out`. Let's rename that file so it doesn't get overwritten in the next section:"
   ]
  },
  {
   "cell_type": "code",
   "execution_count": 17,
   "metadata": {},
   "outputs": [],
   "source": [
    "!cp alignment/Log.final.out alignment/first-pass.final.out"
   ]
  },
  {
   "cell_type": "markdown",
   "metadata": {},
   "source": [
    "\n",
    "Now that we're finished with the first pass, which has given us new information regarding potential splice junctions in `5_alignment/alignment/SJ.out.tab`, we can run the second pass:"
   ]
  },
  {
   "cell_type": "code",
   "execution_count": 19,
   "metadata": {},
   "outputs": [
    {
     "name": "stdout",
     "output_type": "stream",
     "text": [
      "\tSTAR --runThreadN 16 --runMode alignReads --genomeDir /data/users/wheelenj/BIOL343/2_genome_exploration/genome/ --readFilesManifest /data/users/wheelenj/BIOL343/5_alignment/manifest.tsv --readFilesCommand zcat --outSAMtype BAM SortedByCoordinate --outFileNamePrefix /data/users/wheelenj/BIOL343/5_alignment/alignment/ --sjdbFileChrStartEnd /data/users/wheelenj/BIOL343/5_alignment/alignment/SJ.out.tab\n",
      "\tSTAR version: 2.7.10b   compiled: 2022-11-01T09:53:26-04:00 :/home/dobin/data/STAR/STARcode/STAR.master/source\n",
      "Sep 04 14:18:09 ..... started STAR run\n",
      "Sep 04 14:18:09 ..... loading genome\n",
      "Sep 04 14:18:14 ..... inserting junctions into the genome indices\n",
      "Sep 04 14:18:33 ..... started mapping\n",
      "Sep 04 14:31:47 ..... finished mapping\n",
      "Sep 04 14:31:48 ..... started sorting BAM\n",
      "Sep 04 14:32:51 ..... finished successfully\n"
     ]
    }
   ],
   "source": [
    "!STAR \\\n",
    "--runThreadN 16 \\\n",
    "--runMode alignReads \\\n",
    "--genomeDir /data/users/wheelenj/BIOL343/2_genome_exploration/genome/star \\\n",
    "--readFilesManifest /data/users/wheelenj/BIOL343/5_alignment/manifest.tsv \\\n",
    "--readFilesCommand zcat \\\n",
    "--outSAMtype BAM SortedByCoordinate \\\n",
    "--outFileNamePrefix /data/users/wheelenj/BIOL343/5_alignment/alignment/ \\\n",
    "--sjdbFileChrStartEnd /data/users/wheelenj/BIOL343/5_alignment/alignment/SJ.out.tab\n",
    "\n",
    "!cp alignment/Log.final.out alignment/second-pass.final.out"
   ]
  },
  {
   "attachments": {},
   "cell_type": "markdown",
   "metadata": {},
   "source": [
    "***15 minute time to completion***"
   ]
  },
  {
   "attachments": {},
   "cell_type": "markdown",
   "metadata": {},
   "source": [
    "## HISAT\n",
    "\n",
    "Now it's time to use HISAT. Remember how HISAT works...it is a splice-aware aligner that searches transformst the genome with the BWT and uses an FM-index. It is very fast and can soft-clip, which means trimming isn't as necessary as with other aligners. It's slightly slower than STAR because it doesn't use an SA, but the tradeoff is that it uses much less memory to align. However, a lot of memory is needed for a one-time generation of the genome index files. Our genome has been indexed already and can be found at `2_genome_exploration/genome/hisat`. A summary of the commands used to generate the index and the associated logs can be found at `5_alignment/hisat_index.txt`.\n",
    "\n",
    "As we use HISAT to align reads, we will be using the [HISAT manual](https://daehwankimlab.github.io/hisat2/manual/) heavily. I recommend opening it in a separate tab/window.\n",
    "\n",
    "Unfortunately, HISAT cannot assign different RG tags based on the input FASTQ files, so we won't be able to align all the data in a single command. Instead, we'll use a Bash loop, like in `4_fastq`. Will also use the `--new-summary` flag to write out logs that are compatible with [MultiQC](https://multiqc.info/modules/hisat2/)."
   ]
  },
  {
   "cell_type": "code",
   "execution_count": 11,
   "metadata": {},
   "outputs": [
    {
     "name": "stdout",
     "output_type": "stream",
     "text": [
      "mkdir: cannot create directory ‘alignment/hisat/’: File exists\n",
      "Aligning /data/users/wheelenj/BIOL343/4_fastq/trimmed/SRR26691082.fastq.gz with ID:LIV_ma1\n",
      "HISAT2 summary stats:\n",
      "\tTotal reads: 9979274\n",
      "\t\tAligned 0 time: 1226726 (12.29%)\n",
      "\t\tAligned 1 time: 5978215 (59.91%)\n",
      "\t\tAligned >1 times: 2774333 (27.80%)\n",
      "\tOverall alignment rate: 87.71%\n",
      "Aligning /data/users/wheelenj/BIOL343/4_fastq/trimmed/SRR26691083.fastq.gz with ID:LIV_im3\n",
      "HISAT2 summary stats:\n",
      "\tTotal reads: 8719538\n",
      "\t\tAligned 0 time: 924583 (10.60%)\n",
      "\t\tAligned 1 time: 6565376 (75.29%)\n",
      "\t\tAligned >1 times: 1229579 (14.10%)\n",
      "\tOverall alignment rate: 89.40%\n",
      "Aligning /data/users/wheelenj/BIOL343/4_fastq/trimmed/SRR26691084.fastq.gz with ID:LIV_im2\n",
      "HISAT2 summary stats:\n",
      "\tTotal reads: 8438071\n",
      "\t\tAligned 0 time: 782228 (9.27%)\n",
      "\t\tAligned 1 time: 6474277 (76.73%)\n",
      "\t\tAligned >1 times: 1181566 (14.00%)\n",
      "\tOverall alignment rate: 90.73%\n",
      "Aligning /data/users/wheelenj/BIOL343/4_fastq/trimmed/SRR26691085.fastq.gz with ID:LIV_im1\n",
      "HISAT2 summary stats:\n",
      "\tTotal reads: 8258477\n",
      "\t\tAligned 0 time: 765631 (9.27%)\n",
      "\t\tAligned 1 time: 6030777 (73.03%)\n",
      "\t\tAligned >1 times: 1462069 (17.70%)\n",
      "\tOverall alignment rate: 90.73%\n",
      "Aligning /data/users/wheelenj/BIOL343/4_fastq/trimmed/SRR26691086.fastq.gz with ID:INT_ma2\n",
      "HISAT2 summary stats:\n",
      "\tTotal reads: 6866301\n",
      "\t\tAligned 0 time: 3917071 (57.05%)\n",
      "\t\tAligned 1 time: 2722686 (39.65%)\n",
      "\t\tAligned >1 times: 226544 (3.30%)\n",
      "\tOverall alignment rate: 42.95%\n",
      "Aligning /data/users/wheelenj/BIOL343/4_fastq/trimmed/SRR26691087.fastq.gz with ID:INT_ma1\n",
      "HISAT2 summary stats:\n",
      "\tTotal reads: 11234877\n",
      "\t\tAligned 0 time: 4783093 (42.57%)\n",
      "\t\tAligned 1 time: 5632086 (50.13%)\n",
      "\t\tAligned >1 times: 819698 (7.30%)\n",
      "\tOverall alignment rate: 57.43%\n",
      "Aligning /data/users/wheelenj/BIOL343/4_fastq/trimmed/SRR26691088.fastq.gz with ID:INT_im3\n",
      "HISAT2 summary stats:\n",
      "\tTotal reads: 9951030\n",
      "\t\tAligned 0 time: 4102711 (41.23%)\n",
      "\t\tAligned 1 time: 4374906 (43.96%)\n",
      "\t\tAligned >1 times: 1473413 (14.81%)\n",
      "\tOverall alignment rate: 58.77%\n",
      "Aligning /data/users/wheelenj/BIOL343/4_fastq/trimmed/SRR26691089.fastq.gz with ID:INT_ma3\n",
      "HISAT2 summary stats:\n",
      "\tTotal reads: 11228220\n",
      "\t\tAligned 0 time: 4836561 (43.08%)\n",
      "\t\tAligned 1 time: 4301823 (38.31%)\n",
      "\t\tAligned >1 times: 2089836 (18.61%)\n",
      "\tOverall alignment rate: 56.92%\n",
      "Aligning /data/users/wheelenj/BIOL343/4_fastq/trimmed/SRR26691090.fastq.gz with ID:LIV_ma3\n",
      "HISAT2 summary stats:\n",
      "\tTotal reads: 9847640\n",
      "\t\tAligned 0 time: 2116217 (21.49%)\n",
      "\t\tAligned 1 time: 5886533 (59.78%)\n",
      "\t\tAligned >1 times: 1844890 (18.73%)\n",
      "\tOverall alignment rate: 78.51%\n",
      "Aligning /data/users/wheelenj/BIOL343/4_fastq/trimmed/SRR26691091.fastq.gz with ID:LIV_ma2\n",
      "HISAT2 summary stats:\n",
      "\tTotal reads: 9649096\n",
      "\t\tAligned 0 time: 847939 (8.79%)\n",
      "\t\tAligned 1 time: 7237370 (75.01%)\n",
      "\t\tAligned >1 times: 1563787 (16.21%)\n",
      "\tOverall alignment rate: 91.21%\n",
      "Aligning /data/users/wheelenj/BIOL343/4_fastq/trimmed/SRR26691092.fastq.gz with ID:INT_im2\n",
      "HISAT2 summary stats:\n",
      "\tTotal reads: 12423578\n",
      "\t\tAligned 0 time: 6582839 (52.99%)\n",
      "\t\tAligned 1 time: 3687655 (29.68%)\n",
      "\t\tAligned >1 times: 2153084 (17.33%)\n",
      "\tOverall alignment rate: 47.01%\n"
     ]
    }
   ],
   "source": [
    "%mkdir alignment/hisat/\n",
    "\n",
    "!while read -r line; do \\\n",
    "    fq=$(echo $line | awk '{print $1}'); \\\n",
    "    bn=$(basename \"$fq\" .fastq.gz); \\\n",
    "    rg=$(echo $line | awk '{print $3}'); \\\n",
    "    echo \"Aligning $fq with $rg\"; \\\n",
    "    hisat2 /data/users/wheelenj/BIOL343/2_genome_exploration/genome/hisat/genome -p 16 -U $fq --rg-id $rg --summary-file alignment/hisat/$bn.log --new-summary > alignment/hisat/$bn.sam; \\\n",
    "    done < manifest.tsv"
   ]
  },
  {
   "attachments": {},
   "cell_type": "markdown",
   "metadata": {},
   "source": [
    "***11 minute completion time***\n",
    "\n",
    "While you're waiting, do some research to figure out how the above `while` loop works. You'll need to read about `awk` and `basename`, as well as `read -r $line ... done < file.txt`.\n",
    "\n",
    "We will talk more about alignment formats (SAM/BAM/CRAM) next week. Until then, take a look at the logs/summaries for STAR and HISAT alignments. What differences do you notice?"
   ]
  },
  {
   "cell_type": "markdown",
   "metadata": {},
   "source": []
  }
 ],
 "metadata": {
  "kernelspec": {
   "display_name": "biol343",
   "language": "python",
   "name": "python3"
  },
  "language_info": {
   "codemirror_mode": {
    "name": "ipython",
    "version": 3
   },
   "file_extension": ".py",
   "mimetype": "text/x-python",
   "name": "python",
   "nbconvert_exporter": "python",
   "pygments_lexer": "ipython3",
   "version": "3.12.3"
  },
  "orig_nbformat": 4
 },
 "nbformat": 4,
 "nbformat_minor": 2
}
