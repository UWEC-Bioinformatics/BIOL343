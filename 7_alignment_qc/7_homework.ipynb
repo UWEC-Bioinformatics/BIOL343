{
 "cells": [
  {
   "cell_type": "markdown",
   "metadata": {},
   "source": [
    "# Week 7 Homework\n",
    "\n",
    "***Due (pushed to your GitHub branch) on 10/31 by 11:59 pm***\n",
    "\n",
    "## Samtools\n",
    "\n",
    "Use Samtools to convert to BAM and sort the output SAMs produced by HISAT:"
   ]
  },
  {
   "cell_type": "code",
   "execution_count": 1,
   "metadata": {},
   "outputs": [
    {
     "name": "stdout",
     "output_type": "stream",
     "text": [
      "Converting ../6_alignment/alignment/hisat/ERR1442621.sam to ERR1442621.bam and sorting.\n",
      "[bam_sort_core] merging from 0 files and 32 in-memory blocks...\n",
      "Converting ../6_alignment/alignment/hisat/ERR1442622.sam to ERR1442622.bam and sorting.\n",
      "[bam_sort_core] merging from 0 files and 32 in-memory blocks...\n",
      "Converting ../6_alignment/alignment/hisat/ERR1442623.sam to ERR1442623.bam and sorting.\n",
      "[bam_sort_core] merging from 0 files and 32 in-memory blocks...\n",
      "Converting ../6_alignment/alignment/hisat/ERR1442631.sam to ERR1442631.bam and sorting.\n",
      "[bam_sort_core] merging from 0 files and 32 in-memory blocks...\n",
      "Converting ../6_alignment/alignment/hisat/ERR1442632.sam to ERR1442632.bam and sorting.\n",
      "[bam_sort_core] merging from 0 files and 32 in-memory blocks...\n",
      "Converting ../6_alignment/alignment/hisat/ERR1442633.sam to ERR1442633.bam and sorting.\n",
      "[bam_sort_core] merging from 0 files and 32 in-memory blocks...\n",
      "Converting ../6_alignment/alignment/hisat/ERR1442641.sam to ERR1442641.bam and sorting.\n",
      "[bam_sort_core] merging from 0 files and 32 in-memory blocks...\n",
      "Converting ../6_alignment/alignment/hisat/ERR1442642.sam to ERR1442642.bam and sorting.\n",
      "[bam_sort_core] merging from 0 files and 32 in-memory blocks...\n",
      "Converting ../6_alignment/alignment/hisat/ERR1442643.sam to ERR1442643.bam and sorting.\n",
      "[bam_sort_core] merging from 0 files and 32 in-memory blocks...\n"
     ]
    }
   ],
   "source": [
    "!for sam in ../6_alignment/alignment/hisat/E*.sam; do \\\n",
    "    bn=$(basename \"$sam\" .sam); \\\n",
    "    echo \"Converting $sam to $bn.bam and sorting.\"; \\\n",
    "    samtools view -@ 32 -b $sam | samtools sort -@ 32 > ../6_alignment/alignment/hisat/$bn.bam; \\\n",
    "    done"
   ]
  },
  {
   "attachments": {},
   "cell_type": "markdown",
   "metadata": {},
   "source": [
    "Merge the BAMs to a single BAM and generate an index:"
   ]
  },
  {
   "cell_type": "code",
   "execution_count": 2,
   "metadata": {},
   "outputs": [],
   "source": [
    "!samtools merge -@ 32 ../6_alignment/alignment/hisat/merged.bam  ../6_alignment/alignment/hisat/*.bam \n",
    "!samtools index -@ 32 ../6_alignment/alignment/hisat/merged.bam "
   ]
  },
  {
   "attachments": {},
   "cell_type": "markdown",
   "metadata": {},
   "source": [
    "Use Samtools `flagstat` to generate QC metrics for the STAR and HISAT merged BAMs:"
   ]
  },
  {
   "cell_type": "code",
   "execution_count": 5,
   "metadata": {},
   "outputs": [
    {
     "name": "stdout",
     "output_type": "stream",
     "text": [
      "36657911 + 0 in total (QC-passed reads + QC-failed reads)\n",
      "3790977 + 0 secondary\n",
      "0 + 0 supplementary\n",
      "0 + 0 duplicates\n",
      "32865834 + 0 mapped (89.66% : N/A)\n",
      "32866934 + 0 paired in sequencing\n",
      "16433467 + 0 read1\n",
      "16433467 + 0 read2\n",
      "27601850 + 0 properly paired (83.98% : N/A)\n",
      "27978204 + 0 with itself and mate mapped\n",
      "1096653 + 0 singletons (3.34% : N/A)\n",
      "60984 + 0 with mate mapped to a different chr\n",
      "41816 + 0 with mate mapped to a different chr (mapQ>=5)\n",
      "35951572 + 0 in total (QC-passed reads + QC-failed reads)\n",
      "3084638 + 0 secondary\n",
      "0 + 0 supplementary\n",
      "0 + 0 duplicates\n",
      "32819336 + 0 mapped (91.29% : N/A)\n",
      "32866934 + 0 paired in sequencing\n",
      "16433467 + 0 read1\n",
      "16433467 + 0 read2\n",
      "29734698 + 0 properly paired (90.47% : N/A)\n",
      "29734698 + 0 with itself and mate mapped\n",
      "0 + 0 singletons (0.00% : N/A)\n",
      "0 + 0 with mate mapped to a different chr\n",
      "0 + 0 with mate mapped to a different chr (mapQ>=5)\n"
     ]
    }
   ],
   "source": [
    "!samtools flagstat ../6_alignment/alignment/hisat/merged.bam\n",
    "!samtools flagstat ../6_alignment/alignment/star/Aligned.sorted.bam"
   ]
  },
  {
   "attachments": {},
   "cell_type": "markdown",
   "metadata": {},
   "source": [
    "## Qualimap\n",
    "\n",
    "Use Qualimap to run `bamqc` and `rnaseq` to generate QC metrics for the STAR and HISAT merged BAMs:"
   ]
  },
  {
   "cell_type": "code",
   "execution_count": 10,
   "metadata": {},
   "outputs": [
    {
     "name": "stdout",
     "output_type": "stream",
     "text": [
      "Java memory size is set to 1200M\n",
      "Launching application...\n",
      "\n",
      "[0.004s][warning][os,container] Duplicate cpuset controllers detected. Picking /sys/fs/cgroup/cpuset, skipping /dev/cpuset.\n",
      "QualiMap v.2.3\n",
      "Built on 2023-05-19 16:57\n",
      "\n",
      "Selected tool: bamqc\n",
      "\n",
      "ERROR: input region gff file not found\n",
      "\n",
      "usage: qualimap bamqc -bam <arg> [-c] [-cl <arg>] [-dl <arg>] [-gd <arg>] [-gff\n",
      "       <arg>] [-hm <arg>] [-ip] [-nr <arg>] [-nt <arg>] [-nw <arg>] [-oc <arg>]\n",
      "       [-os] [-outdir <arg>] [-outfile <arg>] [-outformat <arg>] [-p <arg>]\n",
      "       [-sd] [-sdmode <arg>]\n",
      " -bam <arg>                           Input mapping file in BAM format\n",
      " -c,--paint-chromosome-limits         Paint chromosome limits inside charts\n",
      " -cl,--cov-hist-lim <arg>             Upstream limit for targeted per-bin\n",
      "                                      coverage histogram (default is 50X)\n",
      " -dl,--dup-rate-lim <arg>             Upstream limit for duplication rate\n",
      "                                      historgram (default is 50)\n",
      " -gd,--genome-gc-distr <arg>          Species to compare with genome GC\n",
      "                                      distribution. Possible values: HUMAN -\n",
      "                                      hg19, hg38; MOUSE - mm9(default), mm10\n",
      " -gff,--feature-file <arg>            Feature file with regions of interest in\n",
      "                                      GFF/GTF or BED format\n",
      " -hm <arg>                            Minimum size of a homopolymer to be\n",
      "                                      considered in indel analysis (default is\n",
      "                                      3)\n",
      " -ip,--collect-overlap-pairs          Activate this option to collect statistics\n",
      "                                      of overlapping paired-end reads\n",
      " -nr <arg>                            Number of reads analyzed in a chunk\n",
      "                                      (default is 1000)\n",
      " -nt <arg>                            Number of threads (default is 32)\n",
      " -nw <arg>                            Number of windows (default is 400)\n",
      " -oc,--output-genome-coverage <arg>   File to save per base non-zero coverage.\n",
      "                                      Warning: large files are expected for\n",
      "                                      large genomes\n",
      " -os,--outside-stats                  Report information for the regions outside\n",
      "                                      those defined by feature-file  (ignored\n",
      "                                      when -gff option is not set)\n",
      " -outdir <arg>                        Output folder for HTML report and raw\n",
      "                                      data.\n",
      " -outfile <arg>                       Output file for PDF report (default value\n",
      "                                      is report.pdf).\n",
      " -outformat <arg>                     Format of the output report (PDF, HTML or\n",
      "                                      both PDF:HTML, default is HTML).\n",
      " -p,--sequencing-protocol <arg>       Sequencing library protocol:\n",
      "                                      strand-specific-forward,\n",
      "                                      strand-specific-reverse or\n",
      "                                      non-strand-specific (default)\n",
      " -sd,--skip-duplicated                Activate this option to skip duplicated\n",
      "                                      alignments from the analysis. If the\n",
      "                                      duplicates are not flagged in the BAM\n",
      "                                      file, then they will be detected by\n",
      "                                      Qualimap and can be selected for skipping.\n",
      " -sdmode,--skip-dup-mode <arg>        Specific type of duplicated alignments to\n",
      "                                      skip (if this option is activated).\n",
      "                                      0 : only flagged duplicates (default)\n",
      "                                      1 : only estimated by Qualimap\n",
      "                                      2 : both flagged and estimated\n",
      "\n",
      "\n",
      "\n",
      "Java memory size is set to 1200M\n",
      "Launching application...\n",
      "\n",
      "[0.001s][warning][os,container] Duplicate cpuset controllers detected. Picking /sys/fs/cgroup/cpuset, skipping /dev/cpuset.\n",
      "QualiMap v.2.3\n",
      "Built on 2023-05-19 16:57\n",
      "\n",
      "Selected tool: rnaseq\n",
      "Initializing regions from ../2_genome_exploration/genome/zebrafish_annotations.gtf...\n",
      "\n",
      "Initialized 100000 regions...\n",
      "Initialized 200000 regions...\n",
      "Initialized 300000 regions...\n",
      "Initialized 400000 regions...\n",
      "Initialized 500000 regions...\n",
      "Initialized 600000 regions...\n",
      "Initialized 700000 regions...\n",
      "Initialized 800000 regions...\n",
      "Initialized 900000 regions...\n",
      "Initialized 1000000 regions...\n",
      "Initialized 1100000 regions...\n",
      "Initialized 1200000 regions...\n",
      "Initialized 1300000 regions...\n",
      "\n",
      "Initialized 1390999 regions it total\n",
      "\n",
      "Starting constructing transcripts for RNA-seq stats...\n",
      "Warning! Transcript NM_001077752.1 has incorrect exon coordinates. Transcript skipped...\n",
      "Finished constructing transcripts\n",
      "\n",
      "Starting BAM file analysis\n",
      "\n",
      "Failed to run rnaseq\n",
      "net.sf.samtools.SAMFormatException: Error parsing SAM header. @RG line missing SM tag. Line:\n",
      "@RG\tID:DOME_A; File /data/users/heky1803/BIOL343/7_alignment_qc/../6_alignment/alignment/star/Aligned.sorted.bam; Line number 1064\n",
      "\tat net.sf.samtools.SAMTextHeaderCodec.reportErrorParsingLine(SAMTextHeaderCodec.java:230)\n",
      "\tat net.sf.samtools.SAMTextHeaderCodec.access$100(SAMTextHeaderCodec.java:39)\n",
      "\tat net.sf.samtools.SAMTextHeaderCodec$ParsedHeaderLine.requireTag(SAMTextHeaderCodec.java:306)\n",
      "\tat net.sf.samtools.SAMTextHeaderCodec.parseRGLine(SAMTextHeaderCodec.java:160)\n",
      "\tat net.sf.samtools.SAMTextHeaderCodec.decode(SAMTextHeaderCodec.java:93)\n",
      "\tat net.sf.samtools.BAMFileReader.readHeader(BAMFileReader.java:393)\n",
      "\tat net.sf.samtools.BAMFileReader.<init>(BAMFileReader.java:146)\n",
      "\tat net.sf.samtools.BAMFileReader.<init>(BAMFileReader.java:114)\n",
      "\tat net.sf.samtools.SAMFileReader.init(SAMFileReader.java:514)\n",
      "\tat net.sf.samtools.SAMFileReader.<init>(SAMFileReader.java:167)\n",
      "\tat net.sf.samtools.SAMFileReader.<init>(SAMFileReader.java:122)\n",
      "\tat org.bioinfo.ngs.qc.qualimap.process.ComputeCountsTask.run(ComputeCountsTask.java:492)\n",
      "\tat org.bioinfo.ngs.qc.qualimap.process.RNASeqQCAnalysis.run(RNASeqQCAnalysis.java:68)\n",
      "\tat org.bioinfo.ngs.qc.qualimap.main.RnaSeqQcTool.execute(RnaSeqQcTool.java:221)\n",
      "\tat org.bioinfo.ngs.qc.qualimap.main.NgsSmartTool.run(NgsSmartTool.java:190)\n",
      "\tat org.bioinfo.ngs.qc.qualimap.main.NgsSmartMain.main(NgsSmartMain.java:113)\n",
      "\n",
      "Mon Oct 27 20:01:30 CDT 2025\t\tWARNING\tCleanup output dir\n"
     ]
    }
   ],
   "source": [
    "!qualimap bamqc -nt 32 -outdir qualimap/star/bam -bam ../6_alignment/alignment/star/Aligned.sorted.bam --feature-file ../2_genome_exploration/zebrafish_genome/annotations.gtf \n",
    "!qualimap rnaseq -outdir qualimap/star/rnaseq -bam ../6_alignment/alignment/star/Aligned.sorted.bam -gtf ../2_genome_exploration/genome/zebrafish_annotations.gtf\n",
    "#!qualimap bamqc -nt 32 -outdir qualimap/hisat/bam -bam ../6_alignment/alignment/hisat/merged.bam --feature-file ../2_genome_exploration/genome/zebrafish_annotations.gtf\n",
    "#!qualimap rnaseq -outdir qualimap/hisat/rnaseq -bam ../6_alignment/alignment/hisat/merged.bam -gtf ../2_genome_exploration/genome/zebrafish_annotations.gtf "
   ]
  },
  {
   "attachments": {},
   "cell_type": "markdown",
   "metadata": {},
   "source": [
    "## Report\n",
    "\n",
    "Use MuliQC to generate a single report that merges all Samtools and Qualimap metrics:"
   ]
  },
  {
   "cell_type": "code",
   "execution_count": null,
   "metadata": {},
   "outputs": [],
   "source": []
  },
  {
   "attachments": {},
   "cell_type": "markdown",
   "metadata": {},
   "source": [
    "## JBrowse2\n",
    "\n",
    "Upload a screenshot of JBrowse2 that shows the reference genome, the annotations, and the two alignments as tracks."
   ]
  },
  {
   "attachments": {},
   "cell_type": "markdown",
   "metadata": {},
   "source": [
    "## Snakemake Pipeline (Optional)\n",
    "\n",
    "1. Copy your `Snakefile` and `config.yaml` from `6_alignment` to `7_alignment_qc`.  \n",
    "2. In the `Snakefile`, add the following rules:  \n",
    "    a. `convert_hisat` - use `samtools` to convert HISAT SAMs to BAMs; sort the BAMs.  \n",
    "    b. `merge_hisat` - use `samtools` to merge all HISAT BAMs.  \n",
    "    c. `flagstat` -  use `samtools` to generate `flagstat` QC.  \n",
    "    d. `qualimap` - use `qualimap` to generate `bamqc` and `rnaseq` QC.  \n",
    "    e. `report` - use `multiqc` to aggregate all QC data into a single report. This should be an update of the report from the previous week's homework.  \n",
    "\n",
    "This `Snakefile` should not use any `wrappers` because we already have the relevant software installed in the `biol343` conda environment. The pipeline should run to completion when any instructor or classmate runs `snakemake --use-conda`."
   ]
  },
  {
   "cell_type": "markdown",
   "metadata": {},
   "source": []
  }
 ],
 "metadata": {
  "kernelspec": {
   "display_name": "biol343",
   "language": "python",
   "name": "python3"
  },
  "language_info": {
   "codemirror_mode": {
    "name": "ipython",
    "version": 3
   },
   "file_extension": ".py",
   "mimetype": "text/x-python",
   "name": "python",
   "nbconvert_exporter": "python",
   "pygments_lexer": "ipython3",
   "version": "3.12.3"
  },
  "orig_nbformat": 4
 },
 "nbformat": 4,
 "nbformat_minor": 2
}
