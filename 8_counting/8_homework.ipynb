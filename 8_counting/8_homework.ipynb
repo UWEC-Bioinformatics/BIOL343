{
 "cells": [
  {
   "attachments": {},
   "cell_type": "markdown",
   "metadata": {},
   "source": [
    "# Week 8 Homework\n",
    "\n",
    "***Due (pushed to your GitHub branch) on 11/8 by 11:59 pm***\n",
    "\n",
    "## Mark duplicates\n",
    "\n",
    "Use Picard Tools to mark the duplicates of the HISAT and STAR alignments. Store the logs in a new directory."
   ]
  },
  {
   "cell_type": "code",
   "execution_count": 6,
   "metadata": {},
   "outputs": [
    {
     "name": "stdout",
     "output_type": "stream",
     "text": [
      "mkdir: cannot create directory ‘logs_hw’: File exists\n",
      "mkdir: cannot create directory ‘dedup_hw’: File exists\n",
      "Error: LinkageError occurred while loading main class picard.cmdline.PicardCommandLine\n",
      "\tjava.lang.UnsupportedClassVersionError: picard/cmdline/PicardCommandLine has been compiled by a more recent version of the Java Runtime (class file version 61.0), this version of the Java Runtime only recognizes class file versions up to 55.0\n"
     ]
    }
   ],
   "source": [
    "%mkdir logs_hw\n",
    "%mkdir dedup_hw\n",
    "\n",
    "!picard MarkDuplicates -I /data/users/waldhacw6865/BIOL343/2_genome_exploration/beegenome/genome.fa -M logs_hw/star_duplicates -O dedup_hw/star.bam"
   ]
  },
  {
   "attachments": {},
   "cell_type": "markdown",
   "metadata": {},
   "source": [
    "## Counting\n",
    "\n",
    "Use featureCounts to count reads. You may need to explicitly set the features and meta-features with `-t` and `-g`."
   ]
  },
  {
   "cell_type": "code",
   "execution_count": 4,
   "metadata": {},
   "outputs": [
    {
     "name": "stdout",
     "output_type": "stream",
     "text": [
      "\n",
      "       \u001b[44;37m ========== \u001b[0m\u001b[36m    _____ _    _ ____  _____  ______          _____  \n",
      "       \u001b[44;37m =====      \u001b[0m\u001b[36m   / ____| |  | |  _ \\|  __ \\|  ____|   /\\   |  __ \\ \n",
      "       \u001b[44;37m   =====    \u001b[0m\u001b[36m  | (___ | |  | | |_) | |__) | |__     /  \\  | |  | |\n",
      "       \u001b[44;37m     ====   \u001b[0m\u001b[36m   \\___ \\| |  | |  _ <|  _  /|  __|   / /\\ \\ | |  | |\n",
      "       \u001b[44;37m       ==== \u001b[0m\u001b[36m   ____) | |__| | |_) | | \\ \\| |____ / ____ \\| |__| |\n",
      "       \u001b[44;37m ========== \u001b[0m\u001b[36m  |_____/ \\____/|____/|_|  \\_\\______/_/    \\_\\_____/\u001b[0m\n",
      "\t  v2.0.6\n",
      "\n",
      "//==========================\u001b[36m featureCounts setting \u001b[0m===========================\\\\\n",
      "||  \u001b[0m                                                                          ||\n",
      "||             Input files : \u001b[36m1 BAM file  \u001b[0m \u001b[0m                                    ||\n",
      "||  \u001b[0m                                                                          ||\n",
      "||                           \u001b[36mstar.bam\u001b[0m \u001b[0m                                        ||\n",
      "||  \u001b[0m                                                                          ||\n",
      "||             Output file : \u001b[36mstar_counts.tsv\u001b[0m \u001b[0m                                 ||\n",
      "||                 Summary : \u001b[36mstar_counts.tsv.summary\u001b[0m \u001b[0m                         ||\n",
      "||              Paired-end : \u001b[36mno\u001b[0m \u001b[0m                                              ||\n",
      "||        Count read pairs : \u001b[36mno\u001b[0m \u001b[0m                                              ||\n",
      "||              Annotation : \u001b[36mgenome_annotations.gtf (GTF)\u001b[0m \u001b[0m                    ||\n",
      "||      Dir for temp files : \u001b[36m./\u001b[0m \u001b[0m                                              ||\n",
      "||  \u001b[0m                                                                          ||\n",
      "||                 Threads : \u001b[36m32\u001b[0m \u001b[0m                                              ||\n",
      "||                   Level : \u001b[36mmeta-feature level\u001b[0m \u001b[0m                              ||\n",
      "||      Multimapping reads : \u001b[36mcounted (fractional)\u001b[0m \u001b[0m                            ||\n",
      "|| Multi-overlapping reads : \u001b[36mnot counted\u001b[0m \u001b[0m                                     ||\n",
      "||   Min overlapping bases : \u001b[36m1\u001b[0m \u001b[0m                                               ||\n",
      "||        Duplicated Reads : \u001b[36mignored\u001b[0m \u001b[0m                                         ||\n",
      "||  \u001b[0m                                                                          ||\n",
      "\\\\============================================================================//\n",
      "\n",
      "//=================================\u001b[36m Running \u001b[0m==================================\\\\\n",
      "||  \u001b[0m                                                                          ||\n",
      "|| Load annotation file genome_annotations.gtf \u001b[0m... \u001b[0m                           ||\n",
      "||    Features : \u001b[36m267813\u001b[0m \u001b[0m                                                      ||\n",
      "||    Meta-features : \u001b[36m12356\u001b[0m \u001b[0m                                                  ||\n",
      "||    Chromosomes/contigs : \u001b[36m61\u001b[0m \u001b[0m                                               ||\n",
      "||  \u001b[0m                                                                          ||\n",
      "|| Process BAM file star.bam... \u001b[0m                                              ||\n",
      "||    Strand specific : \u001b[36mstranded\u001b[0m \u001b[0m                                             ||\n",
      "||  \u001b[0m                                                                          ||\n",
      "|| Chromosomes/contigs in annotation but not in input file \u001b[0m                   ||\n",
      "||    NW_020555868.1 \u001b[0m                                                         ||\n",
      "||    NW_020555821.1 \u001b[0m                                                         ||\n",
      "||    NC_037652.1 \u001b[0m                                                            ||\n",
      "||    NC_037648.1 \u001b[0m                                                            ||\n",
      "||    NW_020555851.1 \u001b[0m                                                         ||\n",
      "||    NW_020555864.1 \u001b[0m                                                         ||\n",
      "||    NW_020555813.1 \u001b[0m                                                         ||\n",
      "||    NW_020555894.1 \u001b[0m                                                         ||\n",
      "||    NC_037644.1 \u001b[0m                                                            ||\n",
      "||    NW_020555843.1 \u001b[0m                                                         ||\n",
      "||    NW_020555901.1 \u001b[0m                                                         ||\n",
      "||    NW_020555860.1 \u001b[0m                                                         ||\n",
      "||    NW_020555869.1 \u001b[0m                                                         ||\n",
      "||    NW_020555886.1 \u001b[0m                                                         ||\n",
      "||    NW_020555822.1 \u001b[0m                                                         ||\n",
      "||    NC_037640.1 \u001b[0m                                                            ||\n",
      "||    NW_020555794.1 \u001b[0m                                                         ||\n",
      "||    NC_037653.1 \u001b[0m                                                            ||\n",
      "||    NC_037649.1 \u001b[0m                                                            ||\n",
      "||    NW_020555801.1 \u001b[0m                                                         ||\n",
      "||    NW_020555814.1 \u001b[0m                                                         ||\n",
      "||    NC_037645.1 \u001b[0m                                                            ||\n",
      "||    NW_020555902.1 \u001b[0m                                                         ||\n",
      "||    NW_020555891.1 \u001b[0m                                                         ||\n",
      "||    NW_020555887.1 \u001b[0m                                                         ||\n",
      "||    NC_037641.1 \u001b[0m                                                            ||\n",
      "||    NW_020555853.1 \u001b[0m                                                         ||\n",
      "||    NW_020555907.1 \u001b[0m                                                         ||\n",
      "||    NW_020555870.1 \u001b[0m                                                         ||\n",
      "||    NW_020555866.1 \u001b[0m                                                         ||\n",
      "||    NW_020555924.1 \u001b[0m                                                         ||\n",
      "||    NW_020555815.1 \u001b[0m                                                         ||\n",
      "||    NW_020555896.1 \u001b[0m                                                         ||\n",
      "||    NC_037650.1 \u001b[0m                                                            ||\n",
      "||    NC_037646.1 \u001b[0m                                                            ||\n",
      "||    NW_020555862.1 \u001b[0m                                                         ||\n",
      "||    NW_020555807.1 \u001b[0m                                                         ||\n",
      "||    NC_037642.1 \u001b[0m                                                            ||\n",
      "||    NC_037638.1 \u001b[0m                                                            ||\n",
      "||    NW_020555841.1 \u001b[0m                                                         ||\n",
      "||    NW_020555912.1 \u001b[0m                                                         ||\n",
      "||    NW_020555867.1 \u001b[0m                                                         ||\n",
      "||    NW_020555938.1 \u001b[0m                                                         ||\n",
      "||    NW_020555816.1 \u001b[0m                                                         ||\n",
      "||    NW_020555792.1 \u001b[0m                                                         ||\n",
      "||    NC_037651.1 \u001b[0m                                                            ||\n",
      "||    NC_037647.1 \u001b[0m                                                            ||\n",
      "||    NW_020555850.1 \u001b[0m                                                         ||\n",
      "||    NW_020555846.1 \u001b[0m                                                         ||\n",
      "||    NW_020555904.1 \u001b[0m                                                         ||\n",
      "||    NW_020555863.1 \u001b[0m                                                         ||\n",
      "||    NW_020555859.1 \u001b[0m                                                         ||\n",
      "||    NW_020555880.1 \u001b[0m                                                         ||\n",
      "||    NW_020555812.1 \u001b[0m                                                         ||\n",
      "||    NW_020555889.1 \u001b[0m                                                         ||\n",
      "||    NC_001566.1 \u001b[0m                                                            ||\n",
      "||    NC_037643.1 \u001b[0m                                                            ||\n",
      "||    NC_037639.1 \u001b[0m                                                            ||\n",
      "||    NW_020555842.1 \u001b[0m                                                         ||\n",
      "||    NW_020555797.1 \u001b[0m                                                         ||\n",
      "||    NW_020555855.1 \u001b[0m                                                         ||\n",
      "||  \u001b[0m                                                                          ||\n",
      "||  \u001b[0m                                                                          ||\n",
      "|| Chromosomes/contigs in input file but not in annotation \u001b[0m                   ||\n",
      "||    SM_V10_MITO \u001b[0m                                                            ||\n",
      "||    SM_V10_WSR \u001b[0m                                                             ||\n",
      "||    SM_V10_1 \u001b[0m                                                               ||\n",
      "||    SM_V10_2 \u001b[0m                                                               ||\n",
      "||    SM_V10_3 \u001b[0m                                                               ||\n",
      "||    SM_V10_4 \u001b[0m                                                               ||\n",
      "||    SM_V10_5 \u001b[0m                                                               ||\n",
      "||    SM_V10_6 \u001b[0m                                                               ||\n",
      "||    SM_V10_7 \u001b[0m                                                               ||\n",
      "||    SM_V10_Z \u001b[0m                                                               ||\n",
      "||  \u001b[0m                                                                          ||\n",
      "||    Single-end reads are included. \u001b[0m                                         ||\n",
      "||    Total read groups : \u001b[36m12\u001b[0m \u001b[0m                                                 ||\n",
      "||    Total alignments : \u001b[36m171342056\u001b[0m \u001b[0m                                           ||\n",
      "||    Successfully assigned alignments : \u001b[36m0 (0.0%)\u001b[0m \u001b[0m                            ||\n",
      "||    Running time : \u001b[36m0.48 minutes\u001b[0m \u001b[0m                                            ||\n",
      "||  \u001b[0m                                                                          ||\n",
      "|| Write the final count table. \u001b[0m                                              ||\n",
      "|| Write the read assignment summary. \u001b[0m                                        ||\n",
      "||  \u001b[0m                                                                          ||\n",
      "|| Summary of counting results can be found in file \"star_counts.tsv.summary \u001b[0m ||\n",
      "|| \" \u001b[0m                                                                         ||\n",
      "||  \u001b[0m                                                                          ||\n",
      "\\\\============================================================================//\n",
      "\n"
     ]
    }
   ],
   "source": [
    "!featureCounts -T 32 \\\n",
    "    /data/classes/2024/fall/biol343/course_files/dedup/star.bam \\\n",
    "    -T 32 \\\n",
    "    --byReadGroup \\\n",
    "    -s 1 \\\n",
    "    --ignoreDup \\\n",
    "    -M \\\n",
    "    --fraction \\\n",
    "    -a ../2_genome_exploration/beegenome/genome_annotations.gtf \\\n",
    "    -o star_counts.tsv \\\n",
    "    --verbose"
   ]
  },
  {
   "attachments": {},
   "cell_type": "markdown",
   "metadata": {},
   "source": [
    "## Report\n",
    "\n",
    "Use MultiQC to aggregate a report that incorporates all steps of the pipeline."
   ]
  },
  {
   "cell_type": "code",
   "execution_count": null,
   "metadata": {},
   "outputs": [],
   "source": [
    "!multiqc --force -d ../5_fastq/fastq/qc/ ../5_fastq/trimmed/qc/ ../6_alignment ../7_alignment_qc ."
   ]
  },
  {
   "attachments": {},
   "cell_type": "markdown",
   "metadata": {},
   "source": [
    "## Snakemake Pipeline (optional)\n",
    "\n",
    "1. Copy your `Snakefile` and `config.yaml` from `7_alignment_qc` to `8_counting`.  \n",
    "2. In the `Snakefile`, add the following rules:  \n",
    "    a. `mark_duplicates` - use Picard Tools to mark the duplicate reads in the STAR and HISAT alignments.  \n",
    "    b. `count` - use featureCounts to count reads in the alignments with duplicates marked.  \n",
    "    c. `report` - use `multiqc` to aggregate all QC data into a single report. This should be an update of the report from the previous week's homework.  \n",
    "\n",
    "This `Snakefile` should not use any `wrappers` because we already have the relevant software installed in the `biol343` conda environment. The pipeline should run to completion when any instructor or classmate runs `snakemake --use-conda`."
   ]
  },
  {
   "cell_type": "markdown",
   "metadata": {},
   "source": []
  }
 ],
 "metadata": {
  "kernelspec": {
   "display_name": "biol343_new",
   "language": "python",
   "name": "python3"
  },
  "language_info": {
   "codemirror_mode": {
    "name": "ipython",
    "version": 3
   },
   "file_extension": ".py",
   "mimetype": "text/x-python",
   "name": "python",
   "nbconvert_exporter": "python",
   "pygments_lexer": "ipython3",
   "version": "3.12.3"
  },
  "orig_nbformat": 4
 },
 "nbformat": 4,
 "nbformat_minor": 2
}
