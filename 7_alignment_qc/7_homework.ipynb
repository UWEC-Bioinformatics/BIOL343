{
 "cells": [
  {
   "cell_type": "markdown",
   "metadata": {},
   "source": [
    "# Week 7 Homework\n",
    "\n",
    "***Due (pushed to your GitHub branch) on 11/1 by 11:59 pm***\n",
    "\n",
    "## Samtools\n",
    "\n",
    "Use Samtools to convert to BAM and sort the output SAMs produced by HISAT:"
   ]
  },
  {
   "cell_type": "code",
   "execution_count": 1,
   "metadata": {},
   "outputs": [
    {
     "name": "stdout",
     "output_type": "stream",
     "text": [
      "Converting ../6_alignment/placenta_alignment/hisat/*.sam to *.bam and sorting.\n",
      "[E::hts_open_format] Failed to open file ../6_alignment/placenta_alignment/hisat/*.sam\n",
      "samtools view: failed to open \"../6_alignment/placenta_alignment/hisat/*.sam\" for reading: No such file or directory\n"
     ]
    }
   ],
   "source": [
    "!for sam in ../6_alignment/placenta_alignment/hisat/*.sam; do \\\n",
    "    bn=$(basename \"$sam\" .sam); \\\n",
    "    echo \"Converting $sam to $bn.bam and sorting.\"; \\\n",
    "    samtools view -@ 32 -b $sam | samtools sort -@ 32 > ../6_alignment/placenta_alignment/hisat/$bn.bam; \\\n",
    "    done"
   ]
  },
  {
   "attachments": {},
   "cell_type": "markdown",
   "metadata": {},
   "source": [
    "Merge the BAMs to a single BAM and generate an index:"
   ]
  },
  {
   "cell_type": "code",
   "execution_count": null,
   "metadata": {},
   "outputs": [],
   "source": [
    "!samtools merge -@ 32 ../6_alignment/placenta_alignment/hisat/merged.bam  ../6_alignment/placenta_alignment/hisat/*.bam \n",
    "!samtools index -@ 32 ../6_alignment/placenta_alignment/hisat/merged.bam "
   ]
  },
  {
   "attachments": {},
   "cell_type": "markdown",
   "metadata": {},
   "source": [
    "Use Samtools `flagstat` to generate QC metrics for the STAR and HISAT merged BAMs:"
   ]
  },
  {
   "cell_type": "code",
   "execution_count": null,
   "metadata": {},
   "outputs": [],
   "source": [
    "!samtools flagstat ../6_alignment/placenta_alignment/"
   ]
  },
  {
   "attachments": {},
   "cell_type": "markdown",
   "metadata": {},
   "source": [
    "## Qualimap\n",
    "\n",
    "Use Qualimap to run `bamqc` and `rnaseq` to generate QC metrics for the STAR and HISAT merged BAMs:"
   ]
  },
  {
   "cell_type": "code",
   "execution_count": null,
   "metadata": {},
   "outputs": [],
   "source": [
    "!qualimap bamqc -nt 32 -outdir qualimap/star/bam -bam ../6_alignment/placenta_alignment/star/Aligned.sortedByCoord.out.bam --feature-file ../2_genome_exploration/placenta_genome/placenta_annotations.gtf -p strand-specific-forward\n",
    "!qualimap rnaseq -outdir qualimap/star/rnaseq -bam ../6_alignment/placenta_alignment/star/Aligned.sortedByCoord.out.bam -gtf ../2_genome_exploration/placenta_genome/placenta_annotations.gtf -p strand-specific-forward\n",
    "!qualimap bamqc -nt 32 -outdir qualimap/hisat/bam -bam ../6_alignment/placenta_alignment/hisat/merged.bam --feature-file ../2_genome_exploration/placenta_genome/placenta_annotations.gtf -p strand-specific-forward\n",
    "!qualimap rnaseq -outdir qualimap/hisat/rnaseq -bam ../6_alignment/placenta_alignment/hisat/merged.bam -gtf ../2_genome_exploration/placenta_genome/placenta_annotations.gtf -p strand-specific-forward\n",
    "# !echo \"HISAT mapping stats\"\n",
    "# !samtools stats  -@ 32 ../6_alignment/placenta_alignment/hisat/merged.bam > placenta_hisat_stats.txt\n",
    "# !echo \"STAR index\"\n",
    "# !samtools index -@ 32 ../6_alignment/placenta_alignment/star/Aligned.sortedByCoord.out.bam\n",
    "# !echo \"STAR mapping stats\"\n",
    "# !samtools stats -@ 32 ../6_alignment/placenta_alignment/star/Aligned.sortedByCoord.out.bam > placenta_star_stats.txt"
   ]
  },
  {
   "attachments": {},
   "cell_type": "markdown",
   "metadata": {},
   "source": [
    "## Report\n",
    "\n",
    "Use MuliQC to generate a single report that merges all Samtools and Qualimap metrics:"
   ]
  },
  {
   "cell_type": "code",
   "execution_count": null,
   "metadata": {},
   "outputs": [],
   "source": [
    "!multiqc --force -d ../5_fastq/fastq_placenta/placenta_qc/ ../5_fastq/fastq_placenta/placenta_qc_trimmed/ ../6_alignment ."
   ]
  },
  {
   "attachments": {},
   "cell_type": "markdown",
   "metadata": {},
   "source": [
    "## JBrowse2\n",
    "\n",
    "Upload a screenshot of JBrowse2 that shows the reference genome, the annotations, and the two alignments as tracks."
   ]
  },
  {
   "attachments": {},
   "cell_type": "markdown",
   "metadata": {},
   "source": [
    "## Snakemake Pipeline (Optional)\n",
    "\n",
    "1. Copy your `Snakefile` and `config.yaml` from `6_alignment` to `7_alignment_qc`.  \n",
    "2. In the `Snakefile`, add the following rules:  \n",
    "    a. `convert_hisat` - use `samtools` to convert HISAT SAMs to BAMs; sort the BAMs.  \n",
    "    b. `merge_hisat` - use `samtools` to merge all HISAT BAMs.  \n",
    "    c. `flagstat` -  use `samtools` to generate `flagstat` QC.  \n",
    "    d. `qualimap` - use `qualimap` to generate `bamqc` and `rnaseq` QC.  \n",
    "    e. `report` - use `multiqc` to aggregate all QC data into a single report. This should be an update of the report from the previous week's homework.  \n",
    "\n",
    "This `Snakefile` should not use any `wrappers` because we already have the relevant software installed in the `biol343` conda environment. The pipeline should run to completion when any instructor or classmate runs `snakemake --use-conda`."
   ]
  },
  {
   "cell_type": "markdown",
   "metadata": {},
   "source": []
  }
 ],
 "metadata": {
  "kernelspec": {
   "display_name": "biol343_nov_12",
   "language": "python",
   "name": "python3"
  },
  "language_info": {
   "codemirror_mode": {
    "name": "ipython",
    "version": 3
   },
   "file_extension": ".py",
   "mimetype": "text/x-python",
   "name": "python",
   "nbconvert_exporter": "python",
   "pygments_lexer": "ipython3",
   "version": "3.12.3"
  },
  "orig_nbformat": 4
 },
 "nbformat": 4,
 "nbformat_minor": 2
}
