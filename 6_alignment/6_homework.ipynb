{
 "cells": [
  {
   "attachments": {},
   "cell_type": "markdown",
   "metadata": {},
   "source": [
    "# Week 6 Homework\n",
    "\n",
    "***Due (pushed to your GitHub branch) on 10/25 by 11:59 pm***\n",
    "\n",
    "## STAR two-pass alignment\n",
    "\n",
    "Build the STAR SA:"
   ]
  },
  {
   "cell_type": "code",
   "execution_count": 8,
   "metadata": {},
   "outputs": [
    {
     "name": "stdout",
     "output_type": "stream",
     "text": [
      "mkdir: cannot create directory ‘alignment/star_B/’: File exists\n",
      "\tSTAR --runThreadN 32 --runMode genomeGenerate --genomeDir ../2_genome_exploration/beegenome/star --genomeFastaFiles /data/users/waldhacw6865/BIOL343/2_genome_exploration/beegenome/genome.fa --sjdbGTFfile /data/users/waldhacw6865/BIOL343/2_genome_exploration/beegenome/genome_annotations.gtf --sjdbOverhang 169 --genomeSAindexNbases 12\n",
      "\tSTAR version: 2.7.10b   compiled: 2022-11-01T09:53:26-04:00 :/home/dobin/data/STAR/STARcode/STAR.master/source\n",
      "Oct 24 16:11:46 ..... started STAR run\n",
      "Oct 24 16:11:46 ... starting to generate Genome files\n",
      "Oct 24 16:11:49 ..... processing annotations GTF\n",
      "Oct 24 16:11:53 ... starting to sort Suffix Array. This may take a long time...\n",
      "Oct 24 16:11:54 ... sorting Suffix Array chunks and saving them to disk...\n",
      "Oct 24 16:12:15 ... loading chunks from disk, packing SA...\n",
      "Oct 24 16:12:21 ... finished generating suffix array\n",
      "Oct 24 16:12:21 ... generating Suffix Array index\n",
      "Oct 24 16:12:34 ... completed Suffix Array index\n",
      "Oct 24 16:12:34 ..... inserting junctions into the genome indices\n",
      "Oct 24 16:13:06 ... writing Genome to disk ...\n",
      "Oct 24 16:13:06 ... writing Suffix Array to disk ...\n",
      "Oct 24 16:13:10 ... writing SAindex to disk\n",
      "Oct 24 16:13:10 ..... finished successfully\n"
     ]
    }
   ],
   "source": [
    "%mkdir alignment/star_B/\n",
    "\n",
    "!STAR \\\n",
    "--runThreadN 32 \\\n",
    "--runMode genomeGenerate \\\n",
    "--genomeDir ../2_genome_exploration/beegenome/star \\\n",
    "--genomeFastaFiles /data/users/waldhacw6865/BIOL343/2_genome_exploration/beegenome/genome.fa \\\n",
    "--sjdbGTFfile /data/users/waldhacw6865/BIOL343/2_genome_exploration/beegenome/genome_annotations.gtf \\\n",
    "--sjdbOverhang 169 \\\n",
    "--genomeSAindexNbases 12"
   ]
  },
  {
   "attachments": {},
   "cell_type": "markdown",
   "metadata": {},
   "source": [
    "Use STAR and ***all*** of your FASTQs for a first-pass alignment. Be sure to update the `sjdbOverhang` parameter to a value that is appropriate for your dataset. Rename the log file so that you can compare the logs from the first and second alignments:"
   ]
  },
  {
   "cell_type": "code",
   "execution_count": 13,
   "metadata": {},
   "outputs": [
    {
     "name": "stdout",
     "output_type": "stream",
     "text": [
      "\tSTAR --runThreadN 32 --runMode alignReads --genomeDir ../2_genome_exploration/beegenome/star --readFilesManifest manifestcopy_B.tsv --readFilesCommand zcat --outSAMtype BAM SortedByCoordinate --outSAMunmapped Within --outFileNamePrefix alignment/star_B/\n",
      "\tSTAR version: 2.7.10b   compiled: 2022-11-01T09:53:26-04:00 :/home/dobin/data/STAR/STARcode/STAR.master/source\n",
      "Oct 24 16:23:15 ..... started STAR run\n",
      "Oct 24 16:23:15 ..... loading genome\n",
      "Oct 24 16:23:17 ..... started mapping\n",
      "^C\n"
     ]
    }
   ],
   "source": [
    "!STAR \\\n",
    "--runThreadN 32 \\\n",
    "--runMode alignReads \\\n",
    "--genomeDir ../2_genome_exploration/beegenome/star \\\n",
    "--readFilesManifest manifestcopy_B.tsv \\\n",
    "--readFilesCommand zcat \\\n",
    "--outSAMtype BAM SortedByCoordinate \\\n",
    "--outSAMunmapped Within \\\n",
    "--outFileNamePrefix alignment/star_B/"
   ]
  },
  {
   "attachments": {},
   "cell_type": "markdown",
   "metadata": {},
   "source": [
    "Use STAR, all of your FASTQs, and `SJ.out.tab` for the second-pass alignment. You will likely need to make your own `manifest.tsv`:"
   ]
  },
  {
   "cell_type": "code",
   "execution_count": null,
   "metadata": {},
   "outputs": [],
   "source": [
    "!STAR \\\n",
    "--runThreadN 32 \\\n",
    "--runMode alignReads \\\n",
    "--genomeDir ../2_genome_exploration/beegenome/star \\\n",
    "--readFilesManifest manifestcopy_B.tsv \\\n",
    "--readFilesCommand zcat \\\n",
    "--outSAMtype BAM SortedByCoordinate \\\n",
    "--outSAMunmapped Within \\\n",
    "--outSAMattributes NH HI AS nM RG \\\n",
    "--outFileNamePrefix alignment/star_B \\\n",
    "--sjdbFileChrStartEnd alignment/star/SJ.out.tab\n",
    "\n",
    "!cp alignment/star/Log.final.out alignment/star/second-pass.final.out"
   ]
  },
  {
   "cell_type": "markdown",
   "metadata": {},
   "source": [
    "Update this block to briefly describe the differences between the logs for the first and second alignments."
   ]
  },
  {
   "attachments": {},
   "cell_type": "markdown",
   "metadata": {},
   "source": [
    "## HISAT alignment\n",
    "\n",
    "(***Note***: you may need Dr. Wheeler to build the HISAT index of your genome. Ask him for assistance when you get to this part of the assignment.)\n",
    "\n",
    "Use a Bash `while` loop to align all of your FASTQs and save the output files using the same names as the input FASTQ:"
   ]
  },
  {
   "cell_type": "code",
   "execution_count": null,
   "metadata": {},
   "outputs": [],
   "source": []
  },
  {
   "attachments": {},
   "cell_type": "markdown",
   "metadata": {},
   "source": [
    "## Snakemake Pipeline\n",
    "\n",
    "In contrast to last week (FASTQ files), there aren't as many decisions that need to be made during alignment, so using a notebook to control and report code isn't as necessary. As you saw in in [6_alignment](6_alignment.ipynb), file and directory management can get complicated during alignment. This is a case where Snakemake scripting shines.\n",
    "\n",
    "1. Copy your `Snakefile` and `config.yaml` from `5_fastq` to `6_alignment`. \n",
    "2. In the `Snakefile`, add the following rules:  \n",
    "    a. `fetch_genome` - using a variation from the code from `2_genome_exploration`, download your reference genome and annotations.\n",
    "    b. `star_sa` - use `STAR` to produce the suffix array of the reference genome.  \n",
    "    c. `star_align_first` - use `STAR` to perform first-pass alignment with all FASTQ files.\n",
    "    d. `star_align_second` - use `STAR` to perform second-pass alignment with all FASTQ files.\n",
    "    e. `hisat_align` - use `HISAT` to align all FASTQ files.\n",
    "    e. `report` - use `multiqc` to aggregate all QC data into a single report.\n",
    "\n",
    "This `Snakefile` should not use any `wrappers` because we already have the relevant software installed in the `biol343` conda environment. The pipeline should run to completion when any instructor or classmate runs `snakemake --use-conda`."
   ]
  },
  {
   "cell_type": "markdown",
   "metadata": {},
   "source": []
  }
 ],
 "metadata": {
  "kernelspec": {
   "display_name": "biol343",
   "language": "python",
   "name": "python3"
  },
  "language_info": {
   "codemirror_mode": {
    "name": "ipython",
    "version": 3
   },
   "file_extension": ".py",
   "mimetype": "text/x-python",
   "name": "python",
   "nbconvert_exporter": "python",
   "pygments_lexer": "ipython3",
   "version": "3.12.3"
  },
  "orig_nbformat": 4
 },
 "nbformat": 4,
 "nbformat_minor": 2
}
