{
 "cells": [
  {
   "attachments": {},
   "cell_type": "markdown",
   "metadata": {},
   "source": [
    "# Alignment of RNA-seq reads to a reference genome\n",
    "\n",
    "## STAR\n",
    "\n",
    "Remember how STAR works...it is a splice-aware aligner that searches read prefixes against a suffix array (SA). It is ultra-fast and can soft-clip, which means trimming isn't as necessary as with other aligners. The use of the SA index makes it fast, but it also requires a lot of RAM to build the index and load it into memory for searches.\n",
    "\n",
    "As we use STAR to align reads, we will be using the [STAR manual](https://github.com/alexdobin/STAR/blob/master/doc/STARmanual.pdf) heavily. I recommend opening it in a separate tab/window.\n",
    "\n",
    "### Build the SA\n",
    "\n",
    "An SA is a lexographically sored array of *all* the suffixes of an entire genome. STAR usage is generally `STAR --runMode {mode} --argument option`. To build the SA and give the aligner some information about where to expect splice junctions, here are the relevant details provided in the manual:\n",
    "\n",
    "```\n",
    "--runThreadN NumberOfThreads\n",
    "--runMode genomeGenerate\n",
    "--genomeDir /path/to/genomeDir\n",
    "--genomeFastaFiles /path/to/genome/fasta1 /path/to/genome/fasta2 ...\n",
    "--sjdbGTFfile /path/to/annotations.gtf\n",
    "--sjdbOverhang ReadLength-1\n",
    "```\n",
    "\n",
    "Most of these are self-explanatory, but `--sjdbOverhang` takes special consideration. Here's the desription:\n",
    "\n",
    "> `--sjdbOverhang` specifies the length of the genomic sequence around the annotated junction\n",
    "to be used in constructing the splice junctions database. Ideally, this length should be equal\n",
    "to the ReadLength-1, where ReadLength is the length of the reads. For instance, for Illumina\n",
    "2x100b paired-end reads, the ideal value is 100-1=99. In case of reads of varying length, the\n",
    "ideal value is max(ReadLength)-1. In most cases, the default value of 100 will work as\n",
    "well as the ideal value.\n",
    "\n",
    "Usings this description and what we know about our read lenghs from our QC, choose the best value. Edit and run the code block below."
   ]
  },
  {
   "cell_type": "code",
   "execution_count": 1,
   "metadata": {},
   "outputs": [
    {
     "name": "stdout",
     "output_type": "stream",
     "text": [
      "mkdir: cannot create directory ‘alignment/star/’: File exists\n",
      "\tSTAR --runThreadN 32 --runMode genomeGenerate --genomeDir ../2_genome_exploration/genome/star --genomeFastaFiles ../2_genome_exploration/genome/genome.fa --sjdbGTFfile ../2_genome_exploration/genome/annotations.gtf --sjdbOverhang 68 --genomeSAindexNbases 13\n",
      "\tSTAR version: 2.7.10b   compiled: 2022-11-01T09:53:26-04:00 :/home/dobin/data/STAR/STARcode/STAR.master/source\n",
      "Oct 22 19:01:15 ..... started STAR run\n",
      "Oct 22 19:01:15 ... starting to generate Genome files\n",
      "Oct 22 19:01:21 ..... processing annotations GTF\n",
      "Oct 22 19:01:23 ... starting to sort Suffix Array. This may take a long time...\n",
      "Oct 22 19:01:25 ... sorting Suffix Array chunks and saving them to disk...\n",
      "Oct 22 19:02:09 ... loading chunks from disk, packing SA...\n",
      "Oct 22 19:02:18 ... finished generating suffix array\n",
      "Oct 22 19:02:18 ... generating Suffix Array index\n",
      "Oct 22 19:03:17 ... completed Suffix Array index\n",
      "Oct 22 19:03:17 ..... inserting junctions into the genome indices\n",
      "Oct 22 19:03:35 ... writing Genome to disk ...\n",
      "Oct 22 19:03:36 ... writing Suffix Array to disk ...\n",
      "Oct 22 19:03:40 ... writing SAindex to disk\n",
      "Oct 22 19:03:41 ..... finished successfully\n"
     ]
    }
   ],
   "source": [
    "%mkdir alignment/star/\n",
    "\n",
    "!STAR \\\n",
    "--runThreadN 32 \\\n",
    "--runMode genomeGenerate \\\n",
    "--genomeDir ../2_genome_exploration/genome/star \\\n",
    "--genomeFastaFiles ../2_genome_exploration/genome/genome.fa \\\n",
    "--sjdbGTFfile ../2_genome_exploration/genome/annotations.gtf \\\n",
    "--sjdbOverhang 68 \\\n",
    "--genomeSAindexNbases 13"
   ]
  },
  {
   "attachments": {},
   "cell_type": "markdown",
   "metadata": {},
   "source": [
    "***3 minute time to completion***\n",
    "\n",
    "You will now have many new files in the `BIOL343/2_genome_exploration/genome/star` directory. Many of these are `.txt` files that are clearly named. Click through them to checkout their contents. Crucially, you also have `SA` and `SAindex`, which is the SA that will be used during alignment. Using OnDemand, you can see that this file is several GB large, which explains why a lot of RAM is required to use it.\n",
    "\n",
    "Each STAR command also generates a `Log.out` file. Each different bioinformatics tools deals with logs in their own way, but you should grow to be comfortable viewing logs and diagnosing potential problems."
   ]
  },
  {
   "attachments": {},
   "cell_type": "markdown",
   "metadata": {},
   "source": [
    "### Aligning\n",
    "Here are the manual instructions for the aligning steps:\n",
    "\n",
    ">The basic options to run a mapping job are as follows:  \n",
    "`--runThreadN` *NumberOfThreads*  \n",
    "`--genomeDir` */path/to/genomeDir*  \n",
    "`--readFilesIn` */path/to/read1 [/path/to/read2 ]*  \n",
    "`--genomeDir` specifies path to the genome directory where genome indices where generated\n",
    "(see Section 2. Generating genome indexes).  \n",
    "`--readFilesIn` name(s) (with path) of the files containing the sequences to be mapped (e.g.\n",
    "RNA-seq FASTQ files). If using Illumina paired-end reads, the read1 and read2 files have to\n",
    "be supplied. STAR can process both FASTA and FASTQ files. Multi-line (i.e. sequence split\n",
    "in multiple lines) FASTA (but not FASTQ) files are supported.  \n",
    "If the read files are compressed, use the `--readFilesCommand` *UncompressionCommand* option,\n",
    "where *UncompressionCommand* is the un-compression command that takes the file name as\n",
    "input parameter, and sends the uncompressed output to stdout. For example, for gzipped\n",
    "files (\\*.gz) use `--readFilesCommand` *zcat* OR `--readFilesCommand` *gunzip -c*. For bzip2compressed files, use `--readFilesCommand` *bunzip2 -c*.\n",
    "\n",
    "Run the alignment step using one FASTQ in the code block below. Remember to use the trimmed reads. This command will create a SAM file, which we'll talk more about next week. A few options relate to this file: we'll set an option to create a BAM instead of a SAM, to sort this file by coordinate, and to keep unmapped reads in the SAM. Finally, we also need to set the `--outFileNamePrefix` to make sure each outfile gets a different name. We will make a separate directory to organize the output files."
   ]
  },
  {
   "cell_type": "code",
   "execution_count": 2,
   "metadata": {},
   "outputs": [
    {
     "name": "stdout",
     "output_type": "stream",
     "text": [
      "\tSTAR --runThreadN 32 --runMode alignReads --genomeDir ../2_genome_exploration/genome/star --readFilesIn ../5_fastq/trimmed/SRR26691082.fastq.gz --readFilesCommand zcat --outSAMtype BAM SortedByCoordinate --outSAMunmapped Within --outFileNamePrefix alignment/star/SRR26691082/\n",
      "\tSTAR version: 2.7.10b   compiled: 2022-11-01T09:53:26-04:00 :/home/dobin/data/STAR/STARcode/STAR.master/source\n",
      "Oct 22 19:05:40 ..... started STAR run\n",
      "Oct 22 19:05:40 ..... loading genome\n",
      "Oct 22 19:05:42 ..... started mapping\n",
      "Oct 22 19:06:06 ..... finished mapping\n",
      "Oct 22 19:06:07 ..... started sorting BAM\n",
      "Oct 22 19:06:12 ..... finished successfully\n"
     ]
    }
   ],
   "source": [
    "!STAR \\\n",
    "--runThreadN 32 \\\n",
    "--runMode alignReads \\\n",
    "--genomeDir ../2_genome_exploration/genome/star \\\n",
    "--readFilesIn ../5_fastq/trimmed/SRR26691082.fastq.gz \\\n",
    "--readFilesCommand zcat \\\n",
    "--outSAMtype BAM SortedByCoordinate \\\n",
    "--outSAMunmapped Within \\\n",
    "--outFileNamePrefix alignment/star/SRR26691082/"
   ]
  },
  {
   "attachments": {},
   "cell_type": "markdown",
   "metadata": {},
   "source": [
    "***1 minute time to completion***\n",
    "\n",
    "After completion, you will see a number of new files in `BIOL343/6_alignment/alignment/star/SRR26691082/`, including `Log.out`. The results that we care about are stored in `BIOL343/alignment/star/SRR26691082/Aligned.sortedByCoord.out.bam`. Take a look at `Log.out`, then delete the entire `SRR26691082` directory, we're going to realign it in a more sophisticated way...\n",
    "\n",
    "#### Two-pass alignment\n",
    "\n",
    "In section 9 of the STAR manual, it provides guidance for running the so-called 2-pass mapping. In this scheme, the first pass maps to the known splice junctions provided in the GTF while the second pass re-maps to known and novel junctions (which are output in `SJ.out.tab`. However, 9.1 recommends that we include the junctions from ***all*** samples, so let's rerun the alignment, this time aligning all of the trimmed FASTQ files in the dataset.\n",
    "\n",
    "There are a few different ways to use multiple FASTQ files as input, which are described in section 3.2. Take some time to read through that section...\n",
    "\n",
    "So, we're going to align all the FASTQ files and generate a single output file (BAM or SAM). However, down the road we are going to want to differentiate reads from each FASTQ, because we'll want to know if a given transcript was differentially expressed between tissues/treatment groups. To help differentiate, the output file is going to have an RG tag in the header of each aligned read (more on that later). The important thing to know now is we need to provide STAR with an RG (read group) ID for each FASTQ. We can do that be creating a tab-separated file (TSV) that is called the \"manifest\" and directing STAR to it with `--readFilesManifest /path/to/manifest.tsv`. That manifest should have 3 columns: `read1-file-name tab - tab read-group-line`, e.g.:\n",
    "\n",
    "|read1-file-name| - | read-group-line |\n",
    "|---------------|----|-----------------|\n",
    "| /data/users/wheelenj/BIOL343/5_fastq/trimmed/SRR26691082.fastq.gz | - | LIV_ma1| \n",
    "| /data/users/wheelenj/BIOL343/5_fastq/trimmed/SRR26691083.fastq.gz | - | LIV_im3|\n",
    "\n",
    "The `read-group-line` field will be populated with sample details from `5_fastq/SraRunTable.txt`. You could create the manifest using command line tools and the run table, but I've provided the TSV for you at `6_alignment/manifest.tsv`."
   ]
  },
  {
   "cell_type": "code",
   "execution_count": 3,
   "metadata": {},
   "outputs": [
    {
     "name": "stdout",
     "output_type": "stream",
     "text": [
      "\tSTAR --runThreadN 32 --runMode alignReads --genomeDir ../2_genome_exploration/genome/star --readFilesManifest manifest.tsv --readFilesCommand zcat --outSAMtype BAM SortedByCoordinate --outSAMunmapped Within --outFileNamePrefix alignment/star/\n",
      "\tSTAR version: 2.7.10b   compiled: 2022-11-01T09:53:26-04:00 :/home/dobin/data/STAR/STARcode/STAR.master/source\n",
      "Oct 22 19:06:19 ..... started STAR run\n",
      "Oct 22 19:06:22 ..... loading genome\n",
      "Oct 22 19:06:22 ..... started mapping\n",
      "Oct 22 19:10:58 ..... finished mapping\n",
      "Oct 22 19:10:59 ..... started sorting BAM\n",
      "Oct 22 19:12:15 ..... finished successfully\n"
     ]
    }
   ],
   "source": [
    "!STAR \\\n",
    "--runThreadN 32 \\\n",
    "--runMode alignReads \\\n",
    "--genomeDir ../2_genome_exploration/genome/star \\\n",
    "--readFilesManifest manifest.tsv \\\n",
    "--readFilesCommand zcat \\\n",
    "--outSAMtype BAM SortedByCoordinate \\\n",
    "--outSAMunmapped Within \\\n",
    "--outFileNamePrefix alignment/star/"
   ]
  },
  {
   "attachments": {},
   "cell_type": "markdown",
   "metadata": {},
   "source": [
    "***9 minute time to completion***\n",
    "\n",
    "You can track the progress by viewing `6_alignment/alignment/star/Log.progress.out`. Mapping statistics can be found in `6_alignment/alignment/star/Log.final.out`. Let's rename that file so it doesn't get overwritten in the next section:"
   ]
  },
  {
   "cell_type": "code",
   "execution_count": 4,
   "metadata": {},
   "outputs": [],
   "source": [
    "!cp alignment/star/Log.final.out alignment/star/first-pass.final.out"
   ]
  },
  {
   "attachments": {},
   "cell_type": "markdown",
   "metadata": {},
   "source": [
    "\n",
    "Now that we're finished with the first pass, which has given us new information regarding potential splice junctions in `6_alignment/alignment/star/SJ.out.tab`, we can run the second pass:"
   ]
  },
  {
   "cell_type": "code",
   "execution_count": 5,
   "metadata": {},
   "outputs": [
    {
     "name": "stdout",
     "output_type": "stream",
     "text": [
      "\tSTAR --runThreadN 32 --runMode alignReads --genomeDir ../2_genome_exploration/genome/star --readFilesManifest manifest.tsv --readFilesCommand zcat --outSAMtype BAM SortedByCoordinate --outSAMunmapped Within --outSAMattributes NH HI AS nM RG --outFileNamePrefix alignment/star/ --sjdbFileChrStartEnd alignment/star/SJ.out.tab\n",
      "\tSTAR version: 2.7.10b   compiled: 2022-11-01T09:53:26-04:00 :/home/dobin/data/STAR/STARcode/STAR.master/source\n",
      "Oct 22 19:12:27 ..... started STAR run\n",
      "Oct 22 19:12:28 ..... loading genome\n",
      "Oct 22 19:12:29 ..... inserting junctions into the genome indices\n",
      "Oct 22 19:12:47 ..... started mapping\n",
      "Oct 22 19:19:37 ..... finished mapping\n",
      "Oct 22 19:19:38 ..... started sorting BAM\n",
      "Oct 22 19:21:00 ..... finished successfully\n"
     ]
    }
   ],
   "source": [
    "!STAR \\\n",
    "--runThreadN 32 \\\n",
    "--runMode alignReads \\\n",
    "--genomeDir ../2_genome_exploration/genome/star \\\n",
    "--readFilesManifest manifest.tsv \\\n",
    "--readFilesCommand zcat \\\n",
    "--outSAMtype BAM SortedByCoordinate \\\n",
    "--outSAMunmapped Within \\\n",
    "--outSAMattributes NH HI AS nM RG \\\n",
    "--outFileNamePrefix alignment/star/ \\\n",
    "--sjdbFileChrStartEnd alignment/star/SJ.out.tab\n",
    "\n",
    "!cp alignment/star/Log.final.out alignment/star/second-pass.final.out"
   ]
  },
  {
   "attachments": {},
   "cell_type": "markdown",
   "metadata": {},
   "source": [
    "***15 minute time to completion***\n",
    "\n",
    "Open `first-pass.final.out` and `second-pass.final.out`. What differences stick out? How can you explain those differences?"
   ]
  },
  {
   "attachments": {},
   "cell_type": "markdown",
   "metadata": {},
   "source": [
    "## HISAT\n",
    "\n",
    "Now it's time to use HISAT. Remember how HISAT works...it is a splice-aware aligner that searches transformst the genome with the BWT and uses an FM-index. It is very fast and can soft-clip, which means trimming isn't as necessary as with other aligners. It's slightly slower than STAR because it doesn't use an SA, but the tradeoff is that it uses much less memory to align. However, a lot of memory is needed for a one-time generation of the genome index files. Our genome has been indexed already and can be found at `2_genome_exploration/genome/hisat`. A summary of the commands used to generate the index and the associated logs can be found at `6_alignment/hisat_index.txt`.\n",
    "\n",
    "As we use HISAT to align reads, we will be using the [HISAT manual](https://daehwankimlab.github.io/hisat2/manual/) heavily. I recommend opening it in a separate tab/window.\n",
    "\n",
    "Unfortunately, HISAT cannot assign different RG tags based on the input FASTQ files, so we won't be able to align all the data in a single command. Instead, we'll use a Bash loop, like in `5_fastq`. Will also use the `--new-summary` flag to write out logs that are compatible with [MultiQC](https://multiqc.info/modules/hisat2/)."
   ]
  },
  {
   "cell_type": "code",
   "execution_count": 6,
   "metadata": {},
   "outputs": [
    {
     "name": "stdout",
     "output_type": "stream",
     "text": [
      "mkdir: cannot create directory ‘alignment/hisat/’: File exists\n",
      "Aligning /data/users/willetse0745/BIOL343/5_fastq/trimmed/SRR26691082.fastq.gz with LIV_ma1\n",
      "HISAT2 summary stats:\n",
      "\tTotal reads: 9979274\n",
      "\t\tAligned 0 time: 1226726 (12.29%)\n",
      "\t\tAligned 1 time: 5978215 (59.91%)\n",
      "\t\tAligned >1 times: 2774333 (27.80%)\n",
      "\tOverall alignment rate: 87.71%\n",
      "Aligning /data/users/willetse0745/BIOL343/5_fastq/trimmed/SRR26691083.fastq.gz with LIV_im3\n",
      "HISAT2 summary stats:\n",
      "\tTotal reads: 8719538\n",
      "\t\tAligned 0 time: 924583 (10.60%)\n",
      "\t\tAligned 1 time: 6565376 (75.29%)\n",
      "\t\tAligned >1 times: 1229579 (14.10%)\n",
      "\tOverall alignment rate: 89.40%\n",
      "Aligning /data/users/willetse0745/BIOL343/5_fastq/trimmed/SRR26691084.fastq.gz with LIV_im2\n",
      "HISAT2 summary stats:\n",
      "\tTotal reads: 8438071\n",
      "\t\tAligned 0 time: 782228 (9.27%)\n",
      "\t\tAligned 1 time: 6474277 (76.73%)\n",
      "\t\tAligned >1 times: 1181566 (14.00%)\n",
      "\tOverall alignment rate: 90.73%\n",
      "Aligning /data/users/willetse0745/BIOL343/5_fastq/trimmed/SRR26691085.fastq.gz with LIV_im1\n",
      "HISAT2 summary stats:\n",
      "\tTotal reads: 8258477\n",
      "\t\tAligned 0 time: 765631 (9.27%)\n",
      "\t\tAligned 1 time: 6030777 (73.03%)\n",
      "\t\tAligned >1 times: 1462069 (17.70%)\n",
      "\tOverall alignment rate: 90.73%\n",
      "Aligning /data/users/willetse0745/BIOL343/5_fastq/trimmed/SRR26691086.fastq.gz with INT_ma2\n",
      "HISAT2 summary stats:\n",
      "\tTotal reads: 6866301\n",
      "\t\tAligned 0 time: 3917071 (57.05%)\n",
      "\t\tAligned 1 time: 2722686 (39.65%)\n",
      "\t\tAligned >1 times: 226544 (3.30%)\n",
      "\tOverall alignment rate: 42.95%\n",
      "Aligning /data/users/willetse0745/BIOL343/5_fastq/trimmed/SRR26691087.fastq.gz with INT_ma1\n",
      "HISAT2 summary stats:\n",
      "\tTotal reads: 11234877\n",
      "\t\tAligned 0 time: 4783093 (42.57%)\n",
      "\t\tAligned 1 time: 5632086 (50.13%)\n",
      "\t\tAligned >1 times: 819698 (7.30%)\n",
      "\tOverall alignment rate: 57.43%\n",
      "Aligning /data/users/willetse0745/BIOL343/5_fastq/trimmed/SRR26691088.fastq.gz with INT_im3\n",
      "HISAT2 summary stats:\n",
      "\tTotal reads: 9951030\n",
      "\t\tAligned 0 time: 4102711 (41.23%)\n",
      "\t\tAligned 1 time: 4374906 (43.96%)\n",
      "\t\tAligned >1 times: 1473413 (14.81%)\n",
      "\tOverall alignment rate: 58.77%\n",
      "Aligning /data/users/willetse0745/BIOL343/5_fastq/trimmed/SRR26691089.fastq.gz with INT_ma3\n",
      "HISAT2 summary stats:\n",
      "\tTotal reads: 11228220\n",
      "\t\tAligned 0 time: 4836561 (43.08%)\n",
      "\t\tAligned 1 time: 4301823 (38.31%)\n",
      "\t\tAligned >1 times: 2089836 (18.61%)\n",
      "\tOverall alignment rate: 56.92%\n",
      "Aligning /data/users/willetse0745/BIOL343/5_fastq/trimmed/SRR26691090.fastq.gz with LIV_ma3\n",
      "HISAT2 summary stats:\n",
      "\tTotal reads: 9847640\n",
      "\t\tAligned 0 time: 2116217 (21.49%)\n",
      "\t\tAligned 1 time: 5886533 (59.78%)\n",
      "\t\tAligned >1 times: 1844890 (18.73%)\n",
      "\tOverall alignment rate: 78.51%\n",
      "Aligning /data/users/willetse0745/BIOL343/5_fastq/trimmed/SRR26691091.fastq.gz with LIV_ma2\n",
      "HISAT2 summary stats:\n",
      "\tTotal reads: 9649096\n",
      "\t\tAligned 0 time: 847939 (8.79%)\n",
      "\t\tAligned 1 time: 7237370 (75.01%)\n",
      "\t\tAligned >1 times: 1563787 (16.21%)\n",
      "\tOverall alignment rate: 91.21%\n",
      "Aligning /data/users/willetse0745/BIOL343/5_fastq/trimmed/SRR26691092.fastq.gz with INT_im2\n",
      "HISAT2 summary stats:\n",
      "\tTotal reads: 12423578\n",
      "\t\tAligned 0 time: 6582839 (52.99%)\n",
      "\t\tAligned 1 time: 3687655 (29.68%)\n",
      "\t\tAligned >1 times: 2153084 (17.33%)\n",
      "\tOverall alignment rate: 47.01%\n",
      "Aligning /data/users/willetse0745/BIOL343/5_fastq/trimmed/SRR26691093.fastq.gz with INT_im1\n",
      "HISAT2 summary stats:\n",
      "\tTotal reads: 14459548\n",
      "\t\tAligned 0 time: 8912790 (61.64%)\n",
      "\t\tAligned 1 time: 3213227 (22.22%)\n",
      "\t\tAligned >1 times: 2333531 (16.14%)\n",
      "\tOverall alignment rate: 38.36%\n"
     ]
    }
   ],
   "source": [
    "%mkdir alignment/hisat/\n",
    "\n",
    "!while read -r line; do \\\n",
    "    fq=$(echo $line | awk '{print $1}'); \\\n",
    "    bn=$(basename \"$fq\" .fastq.gz); \\\n",
    "    rg=$(echo $line | awk '{print $3}' | sed 's/ID://' ); \\\n",
    "    echo \"Aligning $fq with $rg\"; \\\n",
    "    hisat2 /data/users/willetse0745/BIOL343/2_genome_exploration/genome/hisat/genome -p 16 -U $fq --rg-id $rg --rg SM:$rg --summary-file alignment/hisat/$bn.log --new-summary > alignment/hisat/$bn.sam; \\\n",
    "    done < manifest.tsv"
   ]
  },
  {
   "attachments": {},
   "cell_type": "markdown",
   "metadata": {},
   "source": [
    "***14 minute completion time***\n",
    "\n",
    "While you're waiting, do some research to figure out how the above `while` loop works. You'll need to read about `awk` and `basename`, as well as `read -r $line ... done < file.txt`. You should also look into the `sed` command and how it is used to find/replace text.\n",
    "\n",
    "We will talk more about alignment formats (SAM/BAM/CRAM) next week. Until then, take a look at the logs/summaries for STAR and HISAT alignments. What differences do you notice?"
   ]
  }
 ],
 "metadata": {
  "kernelspec": {
   "display_name": "biol343",
   "language": "python",
   "name": "python3"
  },
  "language_info": {
   "codemirror_mode": {
    "name": "ipython",
    "version": 3
   },
   "file_extension": ".py",
   "mimetype": "text/x-python",
   "name": "python",
   "nbconvert_exporter": "python",
   "pygments_lexer": "ipython3",
   "version": "3.12.3"
  },
  "orig_nbformat": 4
 },
 "nbformat": 4,
 "nbformat_minor": 2
}
