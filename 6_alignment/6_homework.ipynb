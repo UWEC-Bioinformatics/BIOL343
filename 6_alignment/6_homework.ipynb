{
 "cells": [
  {
   "attachments": {},
   "cell_type": "markdown",
   "metadata": {},
   "source": [
    "# Week 6 Homework\n",
    "\n",
    "***Due (pushed to your GitHub branch) on 10/24 by 11:59 pm***\n",
    "\n",
    "## STAR two-pass alignment\n",
    "\n",
    "Build the STAR SA:"
   ]
  },
  {
   "cell_type": "code",
   "execution_count": 1,
   "metadata": {},
   "outputs": [
    {
     "name": "stdout",
     "output_type": "stream",
     "text": [
      "\tSTAR --runThreadN 32 --runMode genomeGenerate --genomeDir ../2_genome_exploration/genome_for_homework/star_for_homework --genomeFastaFiles ../2_genome_exploration/genome_for_homework/genome_for_homework.fa --sjdbGTFfile ../2_genome_exploration/genome_for_homework/annotations_for_homework.gtf --sjdbOverhang 50 --genomeSAindexNbases 13\n",
      "\tSTAR version: 2.7.10b   compiled: 2022-11-01T09:53:26-04:00 :/home/dobin/data/STAR/STARcode/STAR.master/source\n",
      "Oct 21 00:28:11 ..... started STAR run\n",
      "Oct 21 00:28:11 ... starting to generate Genome files\n",
      "Oct 21 00:29:37 ..... processing annotations GTF\n",
      "Oct 21 00:30:25 ... starting to sort Suffix Array. This may take a long time...\n",
      "Oct 21 00:30:38 ... sorting Suffix Array chunks and saving them to disk...\n",
      "Oct 21 00:36:56 ... loading chunks from disk, packing SA...\n",
      "Oct 21 00:41:59 ... finished generating suffix array\n",
      "Oct 21 00:41:59 ... generating Suffix Array index\n",
      "Oct 21 00:44:15 ... completed Suffix Array index\n",
      "Oct 21 00:44:16 ..... inserting junctions into the genome indices\n",
      "Oct 21 00:46:00 ... writing Genome to disk ...\n",
      "Oct 21 00:46:05 ... writing Suffix Array to disk ...\n",
      "Oct 21 00:46:27 ... writing SAindex to disk\n",
      "Oct 21 00:46:31 ..... finished successfully\n"
     ]
    }
   ],
   "source": [
    "%mkdir alignment/star_for_homework/\n",
    "%mkdir ../2_genome_exploration/genome_for_homework/star_for_homework\n",
    "\n",
    "!STAR \\\n",
    "--runThreadN 32 \\\n",
    "--runMode genomeGenerate \\\n",
    "--genomeDir ../2_genome_exploration/genome_for_homework/star_for_homework \\\n",
    "--genomeFastaFiles ../2_genome_exploration/genome_for_homework/genome_for_homework.fa \\\n",
    "--sjdbGTFfile ../2_genome_exploration/genome_for_homework/annotations_for_homework.gtf \\\n",
    "--sjdbOverhang 50 \\\n",
    "--genomeSAindexNbases 13"
   ]
  },
  {
   "attachments": {},
   "cell_type": "markdown",
   "metadata": {},
   "source": [
    "Use STAR and ***all*** of your FASTQs for a first-pass alignment. Be sure to update the `sjdbOverhang` parameter to a value that is appropriate for your dataset. Rename the log file so that you can compare the logs from the first and second alignments:"
   ]
  },
  {
   "cell_type": "code",
   "execution_count": 4,
   "metadata": {},
   "outputs": [
    {
     "name": "stdout",
     "output_type": "stream",
     "text": [
      "\tSTAR --runThreadN 32 --runMode alignReads --genomeDir ../2_genome_exploration/genome_for_1/star_for_homework --readFilesIn ../5_fastq/mouse_hippocampus_fastq/SRR2916027.fastq.gz ../5_fastq/mouse_hippocampus_fastq/SRR2916049.fastq.gz --readFilesCommand zcat --outSAMtype BAM Unsorted --outSAMunmapped Within --outFileNamePrefix alignment/star_for_homework/first_pass_ --sjdbOverhang 50\n",
      "\tSTAR version: 2.7.10b   compiled: 2022-11-01T09:53:26-04:00 :/home/dobin/data/STAR/STARcode/STAR.master/source\n",
      "Oct 21 01:01:38 ..... started STAR run\n",
      "Oct 21 01:01:38 ..... loading genome\n",
      "\n",
      "EXITING because of FATAL ERROR: could not open genome file ../2_genome_exploration/genome_for_1/star_for_homework//genomeParameters.txt\n",
      "SOLUTION: check that the path to genome files, specified in --genomeDir is correct and the files are present, and have user read permsissions\n",
      "\n",
      "Oct 21 01:01:38 ...... FATAL ERROR, exiting\n"
     ]
    }
   ],
   "source": [
    "!STAR \\\n",
    "--runThreadN 32 \\\n",
    "--runMode alignReads \\\n",
    "--genomeDir ../2_genome_exploration/genome_for_1/star_for_homework \\\n",
    "--readFilesIn ../5_fastq/mouse_hippocampus_fastq/SRR2916027.fastq.gz ../5_fastq/mouse_hippocampus_fastq/SRR2916049.fastq.gz \\\n",
    "--readFilesCommand zcat \\\n",
    "--outSAMtype BAM Unsorted \\\n",
    "--outSAMunmapped Within \\\n",
    "--outFileNamePrefix alignment/star_for_homework/first_pass_ \\\n",
    "--sjdbOverhang 50"
   ]
  },
  {
   "attachments": {},
   "cell_type": "markdown",
   "metadata": {},
   "source": [
    "Use STAR, all of your FASTQs, and `SJ.out.tab` for the second-pass alignment. You will likely need to make your own `manifest.tsv`:"
   ]
  },
  {
   "cell_type": "code",
   "execution_count": 5,
   "metadata": {},
   "outputs": [
    {
     "name": "stdout",
     "output_type": "stream",
     "text": [
      "\tSTAR --runThreadN 32 --runMode alignReads --genomeDir ../2_genome_exploration/genome_for_homework/star_for_homework --readFilesManifest manifest.tsv --readFilesCommand zcat --outSAMtype BAM Unsorted --outSAMunmapped Within --outFileNamePrefix alignment/star_for_homework/\n",
      "\tSTAR version: 2.7.10b   compiled: 2022-11-01T09:53:26-04:00 :/home/dobin/data/STAR/STARcode/STAR.master/source\n",
      "Oct 21 15:12:06 ..... started STAR run\n",
      "Oct 21 15:12:06 ..... loading genome\n",
      "Oct 21 15:13:51 ..... started mapping\n"
     ]
    }
   ],
   "source": [
    "!STAR \\\n",
    "--runThreadN 32 \\\n",
    "--runMode alignReads \\\n",
    "--genomeDir ../2_genome_exploration/genome_for_homework/star_for_homework \\\n",
    "--readFilesManifest manifest.tsv \\\n",
    "--readFilesCommand zcat \\\n",
    "--outSAMtype BAM Unsorted \\\n",
    "--outSAMunmapped Within \\\n",
    "--outFileNamePrefix alignment/star_for_homework/"
   ]
  },
  {
   "cell_type": "markdown",
   "metadata": {},
   "source": [
    "Update this block to briefly describe the differences between the logs for the first and second alignments."
   ]
  },
  {
   "attachments": {},
   "cell_type": "markdown",
   "metadata": {},
   "source": [
    "## HISAT alignment\n",
    "\n",
    "(***Note***: you may need Dr. Wheeler to build the HISAT index of your genome. Ask him for assistance when you get to this part of the assignment.)\n",
    "\n",
    "Use a Bash `while` loop to align all of your FASTQs and save the output files using the same names as the input FASTQ:"
   ]
  },
  {
   "cell_type": "code",
   "execution_count": null,
   "metadata": {},
   "outputs": [],
   "source": [
    "%mkdir alignment/hisat_for_homework/\n",
    "\n",
    "!while read -r line; do \\\n",
    "    fq1=$(echo $line | awk '{print $1}'); \\\n",
    "    fq2=$(echo $line | awk '{print $2}'); \\\n",
    "    bn=$(basename \"$fq1\" .fastq.gz) \\\n",
    "    bn=$(echo \"$bn\" | sed 's/_1$//') \\\n",
    "    rg=$(echo $line | awk '{print $3}' | sed 's/ID://' ); \\\n",
    "    echo \"Aligning $fq1 and $fq2 with $rg\"; \\\n",
    "    hisat2 /data/users/zhouz6436/BIOL343/6_alignment/hisat -p 16 -1 $fq1 -2 $fq2 --rg-id $rg --rg SM:$rg --summary-file alignment/hisat/$bn.log --new-summary > alignment/hisat/$bn.sam; \\\n",
    "    done < manifest.tsv"
   ]
  },
  {
   "attachments": {},
   "cell_type": "markdown",
   "metadata": {},
   "source": [
    "## Snakemake Pipeline\n",
    "\n",
    "In contrast to last week (FASTQ files), there aren't as many decisions that need to be made during alignment, so using a notebook to control and report code isn't as necessary. As you saw in in [6_alignment](6_alignment.ipynb), file and directory management can get complicated during alignment. This is a case where Snakemake scripting shines.\n",
    "\n",
    "1. Copy your `Snakefile` and `config.yaml` from `5_fastq` to `6_alignment`. \n",
    "2. In the `Snakefile`, add the following rules:  \n",
    "    a. `fetch_genome` - using a variation from the code from `2_genome_exploration`, download your reference genome and annotations.  \n",
    "    b. `star_sa` - use `STAR` to produce the suffix array of the reference genome.  \n",
    "    c. `star_align_first` - use `STAR` to perform first-pass alignment with all FASTQ files.  \n",
    "    d. `star_align_second` - use `STAR` to perform second-pass alignment with all FASTQ files.  \n",
    "    e. `hisat_align` - use `HISAT` to align all FASTQ files.  \n",
    "    f. `report` - use `multiqc` to aggregate all QC data into a single report.\n",
    "\n",
    "This `Snakefile` should not use any `wrappers` because we already have the relevant software installed in the `biol343` conda environment. The pipeline should run to completion when any instructor or classmate runs `snakemake --use-conda`."
   ]
  }
 ],
 "metadata": {
  "kernelspec": {
   "display_name": "biol343",
   "language": "python",
   "name": "python3"
  },
  "language_info": {
   "codemirror_mode": {
    "name": "ipython",
    "version": 3
   },
   "file_extension": ".py",
   "mimetype": "text/x-python",
   "name": "python",
   "nbconvert_exporter": "python",
   "pygments_lexer": "ipython3",
   "version": "3.12.3"
  },
  "orig_nbformat": 4
 },
 "nbformat": 4,
 "nbformat_minor": 2
}
