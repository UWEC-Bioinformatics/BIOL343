{
 "cells": [
  {
   "cell_type": "markdown",
   "metadata": {},
   "source": [
    "# Differential expression"
   ]
  },
  {
   "cell_type": "code",
   "execution_count": null,
   "metadata": {},
   "outputs": [],
   "source": [
    "import os\n",
    "import pickle as pkl\n",
    "\n",
    "from pydeseq2.dds import DeseqDataSet\n",
    "from pydeseq2.default_inference import DefaultInference\n",
    "from pydeseq2.ds import DeseqStats\n",
    "from pydeseq2.utils import load_example_data\n",
    "\n",
    "\n",
    "OUTPUT_PATH = \"tmp/\"\n",
    "os.makedirs(OUTPUT_PATH, exist_ok=True) "
   ]
  },
  {
   "attachments": {},
   "cell_type": "markdown",
   "metadata": {},
   "source": [
    "To perform differential expression analysis (DEA), PyDESeq2 requires two types of inputs:\n",
    "\n",
    "A count matrix of shape ‘number of samples’ x ‘number of genes’, containing read counts (non-negative integers),\n",
    "\n",
    "Metadata (or “column” data) of shape ‘number of samples’ x ‘number of variables’, containing sample annotations that will be used to split the data in cohorts."
   ]
  },
  {
   "cell_type": "code",
   "execution_count": null,
   "metadata": {},
   "outputs": [],
   "source": [
    "import pandas as pd\n",
    "\n",
    "counts_df = pd.read_csv(\"star_counts.tsv\", sep=\"\\t\", header=1)\n",
    "counts_df.iloc[:, 6:18] = counts_df.iloc[:, 6:18].astype('int')\n",
    "counts_df"
   ]
  },
  {
   "attachments": {},
   "cell_type": "markdown",
   "metadata": {},
   "source": [
    "The output of featureCounts needs to be transposed, and a few unnecessary columns need to be removed:"
   ]
  },
  {
   "cell_type": "code",
   "execution_count": null,
   "metadata": {},
   "outputs": [],
   "source": [
    "counts_reshape = counts_df.drop(columns=[\"Chr\", \"Start\", \"End\", \"Strand\", \"Length\"])\n",
    "counts_reshape = counts_reshape.set_index(\"Geneid\")\n",
    "counts_reshape = counts_reshape.transpose()\n",
    "counts_reshape.index = counts_reshape.index.str.strip('../6_alignment/alignment/star/Aligned.sortedByCoord.out.bam:')\n",
    "counts_reshape"
   ]
  },
  {
   "attachments": {},
   "cell_type": "markdown",
   "metadata": {},
   "source": [
    "Now we create the metadata:"
   ]
  },
  {
   "cell_type": "code",
   "execution_count": null,
   "metadata": {},
   "outputs": [],
   "source": [
    "metadata = pd.DataFrame(counts_df_t.index, columns=['Sample'])\n",
    "metadata['Age'] = metadata['Sample'].str[4:6]\n",
    "metadata['Replicate'] = metadata['Sample'].str[-1:]\n",
    "metadata['Tissue'] = metadata['Sample'].str[0:3]\n",
    "metadata['Tissue_Age'] = metadata['Tissue'] + \"_\" + metadata['Age']\n",
    "metadata = metadata.set_index(\"Sample\")\n",
    "metadata.index.name = None\n",
    "print(metadata)"
   ]
  },
  {
   "attachments": {},
   "cell_type": "markdown",
   "metadata": {},
   "source": [
    "Remove genes that have <10 reads in total:"
   ]
  },
  {
   "cell_type": "code",
   "execution_count": null,
   "metadata": {},
   "outputs": [],
   "source": [
    "genes_to_keep = counts_reshape.columns[counts_reshape.sum(axis=0) >= 10]\n",
    "counts_filt = counts_reshape[genes_to_keep]\n",
    "counts_filt.index.name = None\n",
    "print(counts_filt)"
   ]
  },
  {
   "attachments": {},
   "cell_type": "markdown",
   "metadata": {},
   "source": [
    "We removed ~600 very lowly expressed genes.\n",
    "\n",
    "We can analyze the data just to see if there are differences between liver and intestine eggs, ignoring the age of the eggs. To do so, we create a `DeseqDataSet` (or DDS object), which incorporates the counts and the metadata. We can then run the `deseq()` method on the DDS object to fit dispersions and log-fold changes:"
   ]
  },
  {
   "cell_type": "code",
   "execution_count": null,
   "metadata": {},
   "outputs": [],
   "source": [
    "inference = DefaultInference(n_cpus=32)\n",
    "dds = DeseqDataSet(\n",
    "    counts=counts_filt,\n",
    "    metadata=metadata,\n",
    "    design_factors=\"Tissue_Age\",\n",
    "    refit_cooks=True,\n",
    "    inference=inference\n",
    ")\n",
    "dds\n"
   ]
  },
  {
   "attachments": {},
   "cell_type": "markdown",
   "metadata": {},
   "source": [
    "The DDS object is based on the AnnData object. Like any Python objects, we can access the fields:"
   ]
  },
  {
   "cell_type": "code",
   "execution_count": null,
   "metadata": {},
   "outputs": [],
   "source": [
    "print(dds.obsm)\n",
    "dds.obsm['design_matrix']"
   ]
  },
  {
   "attachments": {},
   "cell_type": "markdown",
   "metadata": {},
   "source": [
    "Now we can run the `deseq2()` method, which fits the dispersion and log-fold changes and therefore now adds new fields to the DDS object:"
   ]
  },
  {
   "cell_type": "code",
   "execution_count": null,
   "metadata": {},
   "outputs": [],
   "source": [
    "dds.deseq2()\n",
    "dds"
   ]
  },
  {
   "attachments": {},
   "cell_type": "markdown",
   "metadata": {},
   "source": [
    "Now, for example, we can access the gene-level LFCs:"
   ]
  },
  {
   "cell_type": "code",
   "execution_count": null,
   "metadata": {},
   "outputs": [],
   "source": [
    "dds.varm[\"LFC\"]"
   ]
  },
  {
   "attachments": {},
   "cell_type": "markdown",
   "metadata": {},
   "source": [
    "The DDS object with the dispersions and LFCs allow us to perform statistical tests. The `DeseqStats` class includes the DDS object and will allow for the calculation of p-values and adjusted p-values. These data are stored in `results_df`."
   ]
  },
  {
   "cell_type": "code",
   "execution_count": null,
   "metadata": {},
   "outputs": [],
   "source": [
    "stat_res = DeseqStats(dds, inference=inference)\n",
    "stat_res.summary()"
   ]
  },
  {
   "attachments": {},
   "cell_type": "markdown",
   "metadata": {},
   "source": [
    "One of the featured differentially expressed genes from the Winners vs. Losers paper was Smp_245390, which encodes for an immunomodulatory molecule IPSE/alpha-1. We can search for that gene to see we reproduce the finding:"
   ]
  },
  {
   "cell_type": "code",
   "execution_count": null,
   "metadata": {},
   "outputs": [],
   "source": [
    "summary = stat_res.results_df\n",
    "summary['gene_id'] = summary.index\n",
    "summary = summary.reset_index()\n",
    "print(summary)\n",
    "summary.loc[summary['gene_id'] == 'Smp_245390']\n",
    "\n",
    "import matplotlib.pylab as plt\n",
    "import seaborn as sns\n",
    "import numpy as np\n",
    "\n",
    "plt.scatter(x=summary['log2FoldChange'],y=summary['padj'].apply(lambda x:-np.log10(x)), s=1)"
   ]
  },
  {
   "cell_type": "markdown",
   "metadata": {},
   "source": []
  }
 ],
 "metadata": {
  "kernelspec": {
   "display_name": "biol343_temp",
   "language": "python",
   "name": "python3"
  },
  "language_info": {
   "codemirror_mode": {
    "name": "ipython",
    "version": 3
   },
   "file_extension": ".py",
   "mimetype": "text/x-python",
   "name": "python",
   "nbconvert_exporter": "python",
   "pygments_lexer": "ipython3",
   "version": "3.12.3"
  },
  "orig_nbformat": 4
 },
 "nbformat": 4,
 "nbformat_minor": 2
}
