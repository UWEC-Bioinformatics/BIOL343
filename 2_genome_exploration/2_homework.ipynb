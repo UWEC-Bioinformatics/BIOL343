{
 "cells": [
  {
   "cell_type": "markdown",
   "metadata": {},
   "source": [
    "# Week 2 Homework\n",
    "\n",
    "***Due (pushed to your GitHub branch) on 9/27 by 11:59 pm***"
   ]
  },
  {
   "attachments": {},
   "cell_type": "markdown",
   "metadata": {},
   "source": [
    "Retrieve and decompress the genome."
   ]
  },
  {
   "cell_type": "code",
   "execution_count": 6,
   "metadata": {},
   "outputs": [
    {
     "name": "stdout",
     "output_type": "stream",
     "text": [
      "File ‘c_elegans_genome.fa.gz’ already there; not retrieving.\n"
     ]
    }
   ],
   "source": [
    "#!mkdir c_elegans_genome\n",
    "#%cd c_elegans_genome\n",
    "!wget -nc -O c_elegans_genome.fa.gz https://downloads.wormbase.org/species/c_elegans/sequence/genomic/c_elegans.PRJNA275000.current.genomic.fa.gz\n",
    "!gzip -d -f c_elegans_genome.fa.gz"
   ]
  },
  {
   "cell_type": "markdown",
   "metadata": {},
   "source": [
    "Retrieve and decompress the annotations."
   ]
  },
  {
   "cell_type": "code",
   "execution_count": 9,
   "metadata": {},
   "outputs": [],
   "source": [
    "!wget -O - https://downloads.wormbase.org/species/c_elegans/gff/c_elegans.canonical_bioproject.current.annotations.gff3.gz | \\\n",
    "        gzip -f -d > c_elegans_annotations.gff\n",
    "!gffread c_elegans_annotations.gff -T -o c_elegans_annotations.gtf"
   ]
  },
  {
   "attachments": {},
   "cell_type": "markdown",
   "metadata": {},
   "source": [
    "Count the number of contigs/chromosomes using a single `grep` command. The command should return an integer."
   ]
  },
  {
   "cell_type": "code",
   "execution_count": null,
   "metadata": {},
   "outputs": [],
   "source": []
  },
  {
   "attachments": {},
   "cell_type": "markdown",
   "metadata": {},
   "source": [
    "List the name of each contig/chromosome, which is included in the header of each sequence. Your `grep` command should return the entire header of each entry, with a new line separating entries."
   ]
  },
  {
   "cell_type": "code",
   "execution_count": null,
   "metadata": {},
   "outputs": [],
   "source": []
  },
  {
   "attachments": {},
   "cell_type": "markdown",
   "metadata": {},
   "source": [
    "Using piped command line tools, list the feature types in the annotations file with the tally of each feature printed next to it."
   ]
  },
  {
   "cell_type": "code",
   "execution_count": null,
   "metadata": {},
   "outputs": [],
   "source": []
  },
  {
   "attachments": {},
   "cell_type": "markdown",
   "metadata": {},
   "source": [
    "Select a gene of interest.\n",
    "\n",
    "*Gene of interest:*\n",
    "\n",
    "Using piped command line tools, count the number of exons in your gene of interest."
   ]
  },
  {
   "cell_type": "code",
   "execution_count": null,
   "metadata": {},
   "outputs": [],
   "source": []
  },
  {
   "attachments": {},
   "cell_type": "markdown",
   "metadata": {},
   "source": [
    "*Copy/paste a screenshot of your gene of interest shown in JBrowse2*:"
   ]
  },
  {
   "cell_type": "markdown",
   "metadata": {},
   "source": []
  }
 ],
 "metadata": {
  "kernelspec": {
   "display_name": "biol343",
   "language": "python",
   "name": "python3"
  },
  "language_info": {
   "codemirror_mode": {
    "name": "ipython",
    "version": 3
   },
   "file_extension": ".py",
   "mimetype": "text/x-python",
   "name": "python",
   "nbconvert_exporter": "python",
   "pygments_lexer": "ipython3",
   "version": "3.12.3"
  },
  "orig_nbformat": 4
 },
 "nbformat": 4,
 "nbformat_minor": 2
}
