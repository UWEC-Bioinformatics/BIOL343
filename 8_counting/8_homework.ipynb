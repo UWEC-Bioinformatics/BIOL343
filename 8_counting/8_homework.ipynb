{
 "cells": [
  {
   "attachments": {},
   "cell_type": "markdown",
   "metadata": {},
   "source": [
    "# Week 8 Homework\n",
    "\n",
    "***Due (pushed to your GitHub branch) on 11/8 by 11:59 pm***\n",
    "\n",
    "## Mark duplicates\n",
    "\n",
    "Use Picard Tools to mark the duplicates of the HISAT and STAR alignments. Store the logs in a new directory."
   ]
  },
  {
   "cell_type": "code",
   "execution_count": 4,
   "metadata": {},
   "outputs": [
    {
     "name": "stdout",
     "output_type": "stream",
     "text": [
      "mkdir: cannot create directory ‘placenta_logs’: File exists\n"
     ]
    }
   ],
   "source": [
    "# !mkdir placenta_logs\n",
    "# !mkdir placenta_dedup\n",
    "\n",
    "!picard MarkDuplicates -I ../6_alignment/placenta_alignment/star -M placenta_logs/star_duplicates -O placenta_dedup/star.bam --VALIDATION_STRINGENCY SILENT\n",
    "!picard MarkDuplicates -I ../6_alignment/placenta_alignment/hisat/merged.bam -M placenta_logs/hisat_duplicates -O placenta_dedup/hisat.bam --VALIDATION_STRINGENCY SILENT\n"
   ]
  },
  {
   "attachments": {},
   "cell_type": "markdown",
   "metadata": {},
   "source": [
    "## Counting\n",
    "\n",
    "Use featureCounts to count reads. You may need to explicitly set the features and meta-features with `-t` and `-g`."
   ]
  },
  {
   "cell_type": "code",
   "execution_count": null,
   "metadata": {},
   "outputs": [],
   "source": [
    "!featureCounts -T 32 \\\n",
    "    placenta_dedup/star.bam \\\n",
    "    -T 32 \\\n",
    "    --byReadGroup \\\n",
    "    -s 1 \\\n",
    "    --ignoreDup \\\n",
    "    -M \\\n",
    "    --fraction \\\n",
    "    -a ../2_genome_exploration/placenta_genome/placenta_annotations.gtf \\\n",
    "    -o placenta_star_counts.tsv \\\n",
    "    --verbose\n",
    "\n",
    "\n",
    "!featureCounts -T 32 \\\n",
    "    placenta_dedup/hisat.bam \\\n",
    "    -T 32 \\\n",
    "    --byReadGroup \\\n",
    "    -s 1 \\\n",
    "    --ignoreDup \\\n",
    "    -M \\\n",
    "    --fraction \\\n",
    "    -a ../2_genome_exploration/placenta_genome/placenta_annotations.gtf \\\n",
    "    -o placenta_hisat_counts.tsv \\\n",
    "    --verbose "
   ]
  },
  {
   "attachments": {},
   "cell_type": "markdown",
   "metadata": {},
   "source": [
    "## Report\n",
    "\n",
    "Use MultiQC to aggregate a report that incorporates all steps of the pipeline."
   ]
  },
  {
   "cell_type": "code",
   "execution_count": null,
   "metadata": {},
   "outputs": [],
   "source": [
    "!multiqc --force -d ../5_fastq/fastq_placenta/placenta_qc/ ../5_fastq/fastq_placenta/placenta_qc_trimmed/ ../6_alignment ../7_alignment_qc ."
   ]
  },
  {
   "attachments": {},
   "cell_type": "markdown",
   "metadata": {},
   "source": [
    "## Snakemake Pipeline (optional)\n",
    "\n",
    "1. Copy your `Snakefile` and `config.yaml` from `7_alignment_qc` to `8_counting`.  \n",
    "2. In the `Snakefile`, add the following rules:  \n",
    "    a. `mark_duplicates` - use Picard Tools to mark the duplicate reads in the STAR and HISAT alignments.  \n",
    "    b. `count` - use featureCounts to count reads in the alignments with duplicates marked.  \n",
    "    c. `report` - use `multiqc` to aggregate all QC data into a single report. This should be an update of the report from the previous week's homework.  \n",
    "\n",
    "This `Snakefile` should not use any `wrappers` because we already have the relevant software installed in the `biol343` conda environment. The pipeline should run to completion when any instructor or classmate runs `snakemake --use-conda`."
   ]
  },
  {
   "cell_type": "markdown",
   "metadata": {},
   "source": []
  }
 ],
 "metadata": {
  "kernelspec": {
   "display_name": "biol343_nov_12",
   "language": "python",
   "name": "python3"
  },
  "language_info": {
   "codemirror_mode": {
    "name": "ipython",
    "version": 3
   },
   "file_extension": ".py",
   "mimetype": "text/x-python",
   "name": "python",
   "nbconvert_exporter": "python",
   "pygments_lexer": "ipython3",
   "version": "3.12.3"
  },
  "orig_nbformat": 4
 },
 "nbformat": 4,
 "nbformat_minor": 2
}
