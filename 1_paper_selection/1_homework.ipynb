{
 "cells": [
  {
   "attachments": {},
   "cell_type": "markdown",
   "metadata": {},
   "source": [
    "# Week 1 Homework\n",
    "\n",
    "***Due (pushed to your GitHub branch) on 9/20 by 11:59 pm***\n",
    "\n",
    "## Paper selection\n",
    "\n",
    "Link to paper: https://journals.plos.org/plospathogens/article?id=10.1371/journal.ppat.1004713#sec002\n",
    "\n",
    "*Major research question: How do viruses affect the poplulations of honey bees and their genes?\n",
    "\n",
    "*Short synopsis of paper (50-75 words): Farmers and beekeepers are losing about 30% of their population per year to viruses. These viruses, specifically Israeli Acute Paralysis Virus which paralyzes the bees leading to their inevitable death. This is leading to a sharp decline in major crop production around the world. Leading to both losses in jobs and losses in food production. By creating a control grou of bees and infecting some with the viruses they were able to look at the difference in gene expression.\n",
    "\n",
    "## RNA-seq\n",
    "\n",
    "*Description of the use of RNA-seq: After both the infected bees and the unaffected bees died. They took apart their abdomins.\n",
    "\n",
    "### Experimental details\n",
    "\n",
    "*Species:* honey bees (Scientific name: Apis mellifera)\n",
    "\n",
    "*Tissue source:* severed abdomins of bees\n",
    "\n",
    "*Variables (i.e., treatments, multiples tissue sources, time course, etc.):* treatments and time course.\n",
    "\n",
    "*Method of RNA extraction:* RNAlater was used in the tissue samples and was later RNA was isolated TRIzol Reagent. Samples were then treated with TURBO DNase to remove DNA the contamination. Then RNA pools were verified using a 2100 Bioanalyzer.\n",
    "\n",
    "*Method of library prep:* The RNA samples were sent to Beijing Genomics Institute for library preparation and sequencing. Illumina was used to sequence RNA samples. Then RNA samples were sequenced on lanes of the Illumina Hiseq2000 platform.\n",
    "\n",
    "*Type of sequencer used:* 2100 Bioanalyzer\n",
    "\n",
    "*Number and description of replicates:* There were 2 different treatment groups and the experiment was replicated 3 times with the bees. The first group was infected with the IAPV and the second group was a control with no known viruses in them.\n",
    "\n",
    "### Computational details\n",
    "\n",
    "*Link to reference genome:* https://ftp.ncbi.nlm.nih.gov/genomes/all/GCF/003/254/395/GCF_003254395.2_Amel_HAv3.1/GCF_003254395.2_Amel_HAv3.1_genomic.fna.gz\n",
    "\n",
    "*Link to genome annotations (GTF):* https://ftp.ncbi.nlm.nih.gov/genomes/all/GCF/003/254/395/GCF_003254395.2_Amel_HAv3.1/GCF_003254395.2_Amel_HAv3.1_genomic.gtf.gz\n",
    "\n",
    "*Link to RNA-seq reads (BioProject or SRA): *https://www.ncbi.nlm.nih.gov/Traces/study/?acc=PRJNA274674&o=acc_s%3Aa\n",
    "\n",
    "## Results\n",
    "\n",
    "*Include figures that report RNA-seq results.*\n",
    "\n",
    "To include figures in Markdown, copy the image (JPG, PNG, etc.) to `1_paper_selection/assets/` and include the Markdown code: `![Image alt text](assets/{filename})`. The image will be rendered when the Markdown document is processed. If you want to adjust the size of the image, you have to use HTML tags. Examples can be found by lookinga the Markdown syntax in `1_paper.selection.ipynb`, i.e., `<img src=\"assets/journal.ppat.1012268.g001.PNG\" alt=\"experiment data\" width=\"600\">`\n",
    "\n",
    "- *Figure 1* <img src=\"https://journals.plos.org/plospathogens/article/figure/image?size=medium&id=10.1371/journal.ppat.1004713.g001\" width=\"400\" >\n",
    "\n",
    "- *Figure 2* <img src=\"https://journals.plos.org/plospathogens/article/figure/image?size=medium&id=10.1371/journal.ppat.1004713.g002\" width=\"400\" >\n",
    "\n",
    "- *Figure 3* <img src=\"https://journals.plos.org/plospathogens/article/figure/image?size=medium&id=10.1371/journal.ppat.1004713.g006\" width=\"400\" >\n",
    "\n",
    "*Short description of each figure, including the results and conclusions derived from the figure:*\n",
    "\n",
    "- *Figure 1* There is a volcano plot that shows the expression of all of the genes. A heat map of the log 2 transformed read counts for the 753 significantly differentially expressed genes was also generated. Red colors indicate higher levels of gene expression and blue colors indicated lower levels of gene expression across the samples.\n",
    "\n",
    "- *Figure 2* This image is a bar graph that shows fold change in both infected and not affected groups of the bees. It also shows expression in separate bee samples fed either 50% sucrose solution which is a control group bee extract from individuals with no IAPV infection which is the control groups for bees. Bee extract from individuals with confirmed IAPV infection is also shown in the chart. The second part proves the first part of the chart.\n",
    "\n",
    "- *Figure 3* This chart shows all kinds of colors that show different levels of gene expression coming from the bees. Part A being the control and part B being the infected bees shows how different they really are in some genes and not so much in others. The first three groups of genes are methylated genes divided into three similar sized bands. The last four groups are heavily methylated genes."
   ]
  },
  {
   "cell_type": "markdown",
   "metadata": {},
   "source": []
  }
 ],
 "metadata": {
  "kernelspec": {
   "display_name": "Python 3",
   "language": "python",
   "name": "python3"
  },
  "language_info": {
   "name": "python",
   "version": "3.9.13"
  },
  "orig_nbformat": 4
 },
 "nbformat": 4,
 "nbformat_minor": 2
}
