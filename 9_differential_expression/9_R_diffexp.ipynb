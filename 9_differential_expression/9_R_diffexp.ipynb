{
 "cells": [
  {
   "attachments": {},
   "cell_type": "markdown",
   "metadata": {},
   "source": [
    "# Differential expression in R"
   ]
  },
  {
   "cell_type": "code",
   "execution_count": null,
   "metadata": {
    "vscode": {
     "languageId": "r"
    }
   },
   "outputs": [],
   "source": [
    "R.version\n",
    "R.home()"
   ]
  },
  {
   "attachments": {},
   "cell_type": "markdown",
   "metadata": {},
   "source": [
    "We will use the `tidyverse` family of packages and `DESeq2` to do this analysis. In R, we load packages like this:"
   ]
  },
  {
   "cell_type": "code",
   "execution_count": null,
   "metadata": {
    "vscode": {
     "languageId": "r"
    }
   },
   "outputs": [],
   "source": [
    "library(tidyverse)\n",
    "library(DESeq2)"
   ]
  },
  {
   "attachments": {},
   "cell_type": "markdown",
   "metadata": {},
   "source": [
    "## QC on raw counts\n",
    "\n",
    "Before we do any differential expression analysis, it's good to do some QC on the count data to ensure the sequencing samples cluster as expected. For our experiment, we expect four clusters (LIV_ma, LIV_im, INT_ma, and INT_im) each with three points.\n",
    "\n",
    "### Gene filtering based on total read count and the number of samples the gene is found in\n",
    "\n",
    "Before we do anything, we are going to filter the count data to remove genes with low total expression values (anything less than 10 is not going to be informative) and genes that were only expressed in 3 or fewer samples. First, we read in the counts data and convert numeric columns to integers:"
   ]
  },
  {
   "cell_type": "code",
   "execution_count": null,
   "metadata": {
    "vscode": {
     "languageId": "r"
    }
   },
   "outputs": [],
   "source": [
    "counts_df <- read_tsv(\"/data/classes/2024/fall/biol343/course_files/star_counts.tsv\",\n",
    "                      comment = \"#\") |>\n",
    "             mutate(across(where(is.numeric), as.integer))\n",
    "counts_df"
   ]
  },
  {
   "attachments": {},
   "cell_type": "markdown",
   "metadata": {},
   "source": [
    "Next, we do the filtering. The first operation will sum the expression across all samples and remove any gene that had a total count of less than or equal to 10. The second operation will count each sample that had counts >0 of each gene. Any gene that wasn't expressed in >3 samples will be removed entirely."
   ]
  },
  {
   "cell_type": "code",
   "execution_count": null,
   "metadata": {
    "vscode": {
     "languageId": "r"
    }
   },
   "outputs": [],
   "source": [
    "counts_summary <- counts_df |>\n",
    "    select(Geneid, contains('star.bam')) |>\n",
    "    rename_with(~str_remove(., \"/data/classes/2024/fall/biol343/course_files/dedup/star.bam:\"), everything()) |>\n",
    "    rowwise() |>\n",
    "    mutate(total_counts = sum(c_across(where(is.numeric)), na.rm = T)) |>\n",
    "    filter(total_counts >= 10)\n",
    "counts_summary\n",
    "\n",
    "sample_summary <- counts_df |>\n",
    "    select(Geneid, contains('star.bam')) |>\n",
    "    rename_with(~str_remove(., \"/data/classes/2024/fall/biol343/course_files/dedup/star.bam:\"), everything()) |>\n",
    "    pivot_longer(-Geneid, names_to = 'sample', values_to = 'count') |>\n",
    "    filter(count > 0) |>\n",
    "    group_by(Geneid) |>\n",
    "    tally() |>\n",
    "    filter(n <= 3)\n",
    "sample_summary\n",
    "\n",
    "genes_to_remove = sample_summary$Geneid\n",
    "\n",
    "counts_filt <- counts_summary |>\n",
    "    filter(!Geneid %in% genes_to_remove) |>\n",
    "    arrange(Geneid) |>\n",
    "    select(-total_counts)\n",
    "counts_filt"
   ]
  },
  {
   "attachments": {},
   "cell_type": "markdown",
   "metadata": {},
   "source": [
    "You can see that in the initial data (`count_m`), there were 9920 rows (genes). In `counts_summary`, there are 9000. Which means that 920 genes were removed because they were lowly expressed. There are 8991 rows in `counts_filt`, which means an additional 9 genes were removed because they showed up in <3 samples.\n",
    "\n",
    "This filtered dataset will be used for all downstream analyses. First, we'll measure the Euclidean distance between each sample and then plot the results as a heatmap. We'll first convert the data from a data frame to a matrix, and then measure the distance:"
   ]
  },
  {
   "cell_type": "code",
   "execution_count": null,
   "metadata": {
    "vscode": {
     "languageId": "r"
    }
   },
   "outputs": [],
   "source": [
    "counts_m <- counts_filt |>\n",
    "    select(-Geneid) |>\n",
    "    as.matrix()\n",
    "rownames(counts_m) <- counts_filt$Geneid\n",
    "counts_m\n",
    "\n",
    "dists <- dist(t(counts_m))\n",
    "dists"
   ]
  },
  {
   "attachments": {},
   "cell_type": "markdown",
   "metadata": {},
   "source": [
    "We can then use these distances to plot the heatmap:"
   ]
  },
  {
   "cell_type": "code",
   "execution_count": null,
   "metadata": {
    "vscode": {
     "languageId": "r"
    }
   },
   "outputs": [],
   "source": [
    "dists_df <- as.matrix(dists) |>\n",
    "    as_tibble(rownames = 'sample')\n",
    "\n",
    "dist_plot <- dists_df |>\n",
    "    pivot_longer(-sample, names_to = 'comp', values_to = 'dist') |>\n",
    "    ggplot(aes(x = sample, y = comp, fill = dist)) +\n",
    "    geom_tile() +\n",
    "    scale_fill_viridis_c() +\n",
    "    coord_equal() +\n",
    "    NULL\n",
    "dist_plot"
   ]
  },
  {
   "attachments": {},
   "cell_type": "markdown",
   "metadata": {},
   "source": [
    "We can clearly see 3 main clusters - LIV_ma, LIV_im, and INT. The difference between INT_ma and INT_im is more difficult to see. Let's see how a PCA looks:"
   ]
  },
  {
   "cell_type": "code",
   "execution_count": null,
   "metadata": {
    "vscode": {
     "languageId": "r"
    }
   },
   "outputs": [],
   "source": [
    "pca_fit <- t(log10(counts_m + 1)) |> \n",
    "  prcomp(scale = TRUE)\n",
    "pca_fit"
   ]
  },
  {
   "cell_type": "markdown",
   "metadata": {},
   "source": [
    "Now plot the first two PCs:"
   ]
  },
  {
   "cell_type": "code",
   "execution_count": null,
   "metadata": {
    "vscode": {
     "languageId": "r"
    }
   },
   "outputs": [],
   "source": [
    "library(broom)\n",
    "\n",
    "pca_fit |>\n",
    "  augment(t(counts_m)) |>\n",
    "  dplyr::rename(sample = .rownames) |>\n",
    "  separate(sample, into = c('tissue', 'age'), sep = '_') |>\n",
    "  mutate(age = str_remove(age, '[0-9]')) |>\n",
    "  ggplot(aes(.fittedPC1, .fittedPC2, color = tissue, shape = age)) + \n",
    "  geom_point(size = 4)"
   ]
  },
  {
   "attachments": {},
   "cell_type": "markdown",
   "metadata": {},
   "source": [
    "Again, we're seeing one strange replicate in the INT_ma data. In the publication, they say in their methods:\n",
    "\n",
    ">For PCA within DESeq2 package, log–transformed read count data was used as an input.\n",
    "\n",
    "So, they didn't perform PCA on the read counts, but on transformed data from the DESeq2 analysis. We will run PCA again after using DESeq2 to see how it differs."
   ]
  },
  {
   "attachments": {},
   "cell_type": "markdown",
   "metadata": {},
   "source": [
    "\n",
    "\n",
    "## Differential expression analysis\n",
    "To perform differential expression analysis, DESeq2 requires two types of input:\n",
    "\n",
    "1. A count matrix of shape ‘number of samples’ x ‘number of genes’, containing read counts (non-negative integers) \n",
    "2. Metadata (or “column” data) of shape ‘number of samples’ x ‘number of variables’, containing sample annotations that will be used to split the data in cohorts.\n",
    "\n",
    "The output of featureCounts needs to be converted to a matrix, the column names should be simplified, and a few unnecessary columns need to be removed. We did most of that earlier (creating `counts_m`). Below, we'll create the metadata data frame:"
   ]
  },
  {
   "cell_type": "code",
   "execution_count": null,
   "metadata": {
    "vscode": {
     "languageId": "r"
    }
   },
   "outputs": [],
   "source": [
    "metadata <- data.frame(sample_id = colnames(counts_m)) |>\n",
    "    mutate(tissue = str_sub(sample_id, 1, 3),\n",
    "           age = str_sub(sample_id, 5, 6),\n",
    "           rep = str_sub(sample_id, 7))\n",
    "rownames(metadata) <- metadata$sample_id\n",
    "metadata <- select(metadata, -sample_id)\n",
    "metadata"
   ]
  },
  {
   "attachments": {},
   "cell_type": "markdown",
   "metadata": {},
   "source": [
    "Check to confirm the metadata and count columns from `counts_m` correspond."
   ]
  },
  {
   "cell_type": "code",
   "execution_count": null,
   "metadata": {
    "vscode": {
     "languageId": "r"
    }
   },
   "outputs": [],
   "source": [
    "all(rownames(metadata) == colnames(counts_m))"
   ]
  },
  {
   "attachments": {},
   "cell_type": "markdown",
   "metadata": {},
   "source": [
    "### Single factor analyses\n",
    "\n",
    "DESeq2 allows for single factorial analyses (only one independent variable, i.e., just tissue) or multifactorial analyses (more than independent variable, i.e., tissue and age). We will first analyze the data just to see if there are differences between liver and intestine eggs, ignoring the age of the eggs. To do so, we create a `DeseqDataSet` (or DDS object), which incorporates the counts and the metadata. We can then run the `deseq()` method on the DDS object to fit dispersions and log-fold changes:"
   ]
  },
  {
   "cell_type": "code",
   "execution_count": null,
   "metadata": {
    "vscode": {
     "languageId": "r"
    }
   },
   "outputs": [],
   "source": [
    "dds <- DESeqDataSetFromMatrix(countData = counts_m,\n",
    "                              colData = metadata,\n",
    "                              design = ~ tissue)\n",
    "dds <- DESeq(dds)\n",
    "dds"
   ]
  },
  {
   "attachments": {},
   "cell_type": "markdown",
   "metadata": {},
   "source": [
    "We can run the `results()` method on the `dds` objects, which runs the statistical tests. Now, for example, we can access the gene-level LFCs (stored in `res` below) and look at the results for genes of interest:"
   ]
  },
  {
   "cell_type": "code",
   "execution_count": null,
   "metadata": {
    "vscode": {
     "languageId": "r"
    }
   },
   "outputs": [],
   "source": [
    "res <- results(dds)\n",
    "res\n",
    "\n",
    "as_tibble(res, rownames = 'gene_id') |>\n",
    "    filter(gene_id == 'Smp_329140')"
   ]
  },
  {
   "attachments": {},
   "cell_type": "markdown",
   "metadata": {},
   "source": [
    "For the gene Smp_329140, we calculated that there is a 2^1.147953 = 2.216 fold change between LIV and INT eggs (higher in liver). Below are the expression values that were counted with featureCounts. Does a ~2-fold difference look right?"
   ]
  },
  {
   "cell_type": "code",
   "execution_count": null,
   "metadata": {
    "vscode": {
     "languageId": "r"
    }
   },
   "outputs": [],
   "source": [
    "filter(counts_filt, Geneid == 'Smp_329140')"
   ]
  },
  {
   "attachments": {},
   "cell_type": "markdown",
   "metadata": {},
   "source": [
    "The expression values for LIV were 2, 0, 3, 1, 0, and 3 (mean of 1.5). The expression values for INT were 0, 0, 0, 0, 0, 1 (mean of 0.167). 1.5 / 0.167 is right around 9. So, our L2FC calculation is slightly lower than the raw L2FC of 9, which makes sense based on what we know about how DESeq2 handles expression values that are low counts (it reduces them).\n",
    "\n",
    "One of the featured differentially expressed genes from the Winners vs. Losers paper was Smp_333930, which encodes for an immunomodulatory molecule IPSE/alpha-1. We can search for that gene to see if there was a difference between INT and LIV expression when not accounting for age:"
   ]
  },
  {
   "cell_type": "code",
   "execution_count": null,
   "metadata": {
    "vscode": {
     "languageId": "r"
    }
   },
   "outputs": [],
   "source": [
    "as_tibble(res, rownames = 'gene_id') |>\n",
    "    filter(gene_id == 'Smp_333930')"
   ]
  },
  {
   "attachments": {},
   "cell_type": "markdown",
   "metadata": {},
   "source": [
    "This gene is significantly differentially expressed when taking all LIV and INT eggs together. Let's now look at the results when we separate Tissue and Age, giving us four total groups to compare.\n",
    "\n",
    "### Multifactorial analysis\n",
    "\n",
    "To do a multifactorial analysis, we have to remake the DDS object, this time changing the `design` parameter to include both tissue and age. We'll update the metadata and join the tissue and age columns, which will now have the original 4 factors (LIV_im, LIV_ma, INT_im, and INT_ma)."
   ]
  },
  {
   "cell_type": "code",
   "execution_count": null,
   "metadata": {
    "vscode": {
     "languageId": "r"
    }
   },
   "outputs": [],
   "source": [
    "metadata2 <- metadata |>\n",
    "    mutate(tissue_age = str_c(tissue, \"_\", age)) |>\n",
    "    select(tissue_age, rep)\n",
    "metadata2\n",
    "\n",
    "dds2 <- DESeqDataSetFromMatrix(countData = counts_m,\n",
    "                               colData = metadata2,\n",
    "                               design = ~ tissue_age)\n",
    "dds2 <- DESeq(dds2)\n",
    "dds2"
   ]
  },
  {
   "attachments": {},
   "cell_type": "markdown",
   "metadata": {},
   "source": [
    "When there are >2 levels in the variable (like ours, which has four) DESeq2 will automatically compare the first and last levels unless we provide the comparison we want with the `contrast` argument of the `results()` method. Below, we will calculate differnces betweeen LIV_ma and INT_ma, which was one of the main comparisons in the paper (Fig. 4):"
   ]
  },
  {
   "cell_type": "code",
   "execution_count": null,
   "metadata": {
    "vscode": {
     "languageId": "r"
    }
   },
   "outputs": [],
   "source": [
    "LIV_ma_vs_INT_ma <- results(dds2, contrast = c('tissue_age', 'LIV_ma', 'INT_ma'))\n",
    "LIV_ma_vs_INT_ma"
   ]
  },
  {
   "cell_type": "markdown",
   "metadata": {},
   "source": [
    "And now we can again check our gene of interest:"
   ]
  },
  {
   "cell_type": "code",
   "execution_count": null,
   "metadata": {
    "vscode": {
     "languageId": "r"
    }
   },
   "outputs": [],
   "source": [
    "as_tibble(LIV_ma_vs_INT_ma, rownames = 'gene_id') |>\n",
    "    filter(gene_id == 'Smp_333930')"
   ]
  },
  {
   "attachments": {},
   "cell_type": "markdown",
   "metadata": {},
   "source": [
    "The gene is expressed much higher in LIV_ma eggs than INT_ma eggs (5.59 log fold change, or 2^5.59 = ~50 fold difference), but the difference isn't quite significant (padj of 0.056 > 0.05).\n",
    "\n",
    "### Volcano plots\n",
    "\n",
    "Typically in RNA-seq analyses, we are interested in genes that are significantly differentially expressed (padj <0.05) and those that have large differences (maybe log two fold change > 2, which is a four-fold change). Volcano plots are a good way to visualize all the genes that satisfy both conditions."
   ]
  },
  {
   "cell_type": "code",
   "execution_count": null,
   "metadata": {
    "vscode": {
     "languageId": "r"
    }
   },
   "outputs": [],
   "source": [
    "volcano_data <- as_tibble(LIV_ma_vs_INT_ma, rownames = 'gene_id')\n",
    "\n",
    "volcano_plot <- volcano_data |> \n",
    "    ggplot(aes(x = log2FoldChange, y = -log10(padj))) +\n",
    "    geom_point() +\n",
    "    geom_hline(yintercept = -log10(0.05)) +\n",
    "    geom_vline(xintercept = 2) +\n",
    "    geom_vline(xintercept = -2) +\n",
    "    theme_minimal()\n",
    "volcano_plot"
   ]
  },
  {
   "attachments": {},
   "cell_type": "markdown",
   "metadata": {},
   "source": [
    "In a plot like this, the higher points represent genes that are most likely to be truly significantly differentially expressed (a small p-value). The points far to the right or left represent genes that have large expression differences (fold changes) between LIV_ma and INT_ma. Genes on the right are more highly expressed in LIV_ma (positive log2FoldChange), and the genes on the left are more highly expressed in INT_ma eggs (negative log2FoldChange). The points in the top right/left areas, then, are the genes in which we're interested."
   ]
  },
  {
   "attachments": {},
   "cell_type": "markdown",
   "metadata": {},
   "source": [
    "## QC on transformed data\n",
    "\n",
    "Now what we have the `dds` object, we can do another PCA to see if we can get something that looks like their Fig. 1D. We first transform the read counts with DESeq2's variance-stabilizing transformation:"
   ]
  },
  {
   "cell_type": "code",
   "execution_count": null,
   "metadata": {
    "vscode": {
     "languageId": "r"
    }
   },
   "outputs": [],
   "source": [
    "vsd <- vst(dds)\n",
    "vsd"
   ]
  },
  {
   "attachments": {},
   "cell_type": "markdown",
   "metadata": {},
   "source": [
    "DESeq2 includes a method to easily plot a PCA:"
   ]
  },
  {
   "cell_type": "code",
   "execution_count": null,
   "metadata": {
    "vscode": {
     "languageId": "r"
    }
   },
   "outputs": [],
   "source": [
    "plotPCA(vsd, intgroup = c(\"tissue\", \"age\"))"
   ]
  },
  {
   "attachments": {},
   "cell_type": "markdown",
   "metadata": {},
   "source": [
    "We can see that this fixed the weird result we saw earlier on raw read counts. The variance-stabilizing transformation (`vst`) provided by DESeq2 results in clustering that makes sense. Now we see tissue represented by PC2 and age by PC1.\n",
    "\n",
    "We can check the distance results too:"
   ]
  },
  {
   "cell_type": "code",
   "execution_count": null,
   "metadata": {
    "vscode": {
     "languageId": "r"
    }
   },
   "outputs": [],
   "source": [
    "vsd_dists <- dist(t(assay(vsd)))\n",
    "\n",
    "vsd_dists_df <- as.matrix(vsd_dists) |>\n",
    "    as_tibble(rownames = 'sample')\n",
    "\n",
    "vsd_dist_plot <- vsd_dists_df |>\n",
    "    pivot_longer(-sample, names_to = 'comp', values_to = 'dist') |>\n",
    "    ggplot(aes(x = sample, y = comp, fill = dist)) +\n",
    "    geom_tile() +\n",
    "    scale_fill_viridis_c() +\n",
    "    coord_equal() +\n",
    "    NULL\n",
    "vsd_dist_plot"
   ]
  }
 ],
 "metadata": {
  "kernelspec": {
   "display_name": "R",
   "language": "R",
   "name": "ir"
  },
  "language_info": {
   "codemirror_mode": "r",
   "file_extension": ".r",
   "mimetype": "text/x-r-source",
   "name": "R",
   "pygments_lexer": "r",
   "version": "4.2.0"
  },
  "orig_nbformat": 4
 },
 "nbformat": 4,
 "nbformat_minor": 2
}
