{
 "cells": [
  {
   "attachments": {},
   "cell_type": "markdown",
   "metadata": {},
   "source": [
    "# Quality control of RNA-seq alignment to a reference genome\n",
    "\n",
    "## Alignment file types\n",
    "\n",
    "If you look at the output data from last week, you'll notice that there are two main file types that were produced:\n",
    "\n",
    "- STAR produced `Aligned.sorted.bam`\n",
    "- HISAT produced `$bn.sam` where `$bn` is the SRA ID for each of the FASTQ files that were aligned. We merged and sorted those into `merged.bam`.\n",
    "\n",
    "SAM (Sequence Alignment/Map format) files and BAM (Binary Alignment/Map format) files include the exact same data types, except that a SAM files includes human-readable tab-separated values, while BAM values are binary files that are therefore much smaller. BAM files are also convenient because they can be quickly indexed (BAI files), which will allow for fast retrieval of alignments from specific regions of the genome without having to start the search from the beginning of the first chromosome. The specification for these files are defined by the The SAM/BAM Format Specification Working Group, they can be found at the following link [(SAM specification link)](https://samtools.github.io/hts-specs/SAMv1.pdf). The specification is easy to read and understand and you are encouraged to reference it often.\n",
    "\n",
    "### SAM specification\n",
    "\n",
    "A full specification can be found at the above link, but we'll go through the relevant sections now using the SAM we generated with HISAT last week. The BAM from STAR will be very similar, but it's a bit trickier to interact with because it's a binary file.\n",
    "\n",
    "#### Header\n",
    "\n",
    "A SAM file may container a header, which header lines starting with the `@` symbol. You can use `grep` to show the header lines:"
   ]
  },
  {
   "cell_type": "code",
   "execution_count": 1,
   "metadata": {},
   "outputs": [
    {
     "name": "stdout",
     "output_type": "stream",
     "text": [
      "@HD\tVN:1.0\tSO:unsorted\n",
      "@SQ\tSN:SM_V10_1\tLN:87984048\n",
      "@SQ\tSN:SM_V10_Z\tLN:86692428\n",
      "@SQ\tSN:SM_V10_3\tLN:49793710\n",
      "@SQ\tSN:SM_V10_4\tLN:46471573\n",
      "@SQ\tSN:SM_V10_2\tLN:45716244\n",
      "@SQ\tSN:SM_V10_6\tLN:24696076\n",
      "@SQ\tSN:SM_V10_5\tLN:24128858\n",
      "@SQ\tSN:SM_V10_7\tLN:19942475\n",
      "@SQ\tSN:SM_V10_WSR\tLN:5969970\n",
      "@SQ\tSN:SM_V10_MITO\tLN:26917\n",
      "@RG\tID:ADULT_PZQ_E\tSM:ADULT_PZQ_E\n",
      "@PG\tID:hisat2\tPN:hisat2\tVN:2.2.1\tCL:\"/data/users/zhouz6436/.conda/envs/biol343/bin/hisat2-align-s --wrapper basic-0 /data/classes/2025/fall/biol343/course_files/hisat/genome -p 16 --rg-id ADULT_PZQ_E --rg SM:ADULT_PZQ_E --summary-file alignment/hisat/SRR10776762.log --new-summary --read-lengths 51 -1 /tmp/621982.inpipe1 -2 /tmp/621982.inpipe2\"\n"
     ]
    }
   ],
   "source": [
    "!head -100 ../6_alignment/alignment/hisat/SRR10776762.sam | grep '^@' "
   ]
  },
  {
   "attachments": {},
   "cell_type": "markdown",
   "metadata": {},
   "source": [
    "In this case, the header includes the SAM format version number (`VN:1.0`), whether it is sorted (`SO:unsorted`), information about the reference genome (`SN`), the read group (`@RG`, which we added in the HISAT command), and information about the program that was used during alignment (`@PG`). The definitions for each of these IDs can be found in the SAM format spec.\n",
    "\n",
    "### Alignment\n",
    "\n",
    "After the header, the rest of the SAM file consists of alignments. According to the spec, each alignment contains at least 11 tab-separated fields. Section 1.4 of the spec includes the following:\n",
    "\n",
    "|Col | Field | Type   | Regexp/Range | Brief description|\n",
    "|----|-------|--------|--------------|------------------|\n",
    "|1   | QNAME | String | [!-?A-~]{1,254} | Query template NAME |\n",
    "|2   | FLAG  | Int    | [0, 216 − 1] | bitwise FLAG |\n",
    "|3   | RNAME | String | \\*|[:rname:∧*=][:rname:]* | Reference sequence NAME  |\n",
    "|4   | POS   | Int    | [0, 231 − 1] | 1-based leftmost mapping POSition |\n",
    "|5   | MAPQ  | Int    | [0, 28 − 1] | MAPping Quality |\n",
    "|6   | CIGAR | String | \\*|([0-9]+[MIDNSHP=X])+ | CIGAR string |\n",
    "|7   | RNEXT | String | \\*|=|[:rname:∧*=][:rname:]* | Reference name of the mate/next read |\n",
    "|8   | PNEXT | Int    | [0, 231 − 1] | Position of the mate/next read |\n",
    "|9   | TLEN  | Int    | [−231 + 1, 231 − 1] | observed Template LENgth |\n",
    "|10  | SEQ   | String | \\*|[A-Za-z=.]+ | segment SEQuence |\n",
    "|11  | QUAL  | String | [!-~]+ | ASCII of Phred-scaled base QUALity+33 |\n",
    "\n",
    "You can see this format in action by using `head` to look at the first 25 lines:"
   ]
  },
  {
   "cell_type": "code",
   "execution_count": 2,
   "metadata": {},
   "outputs": [
    {
     "name": "stdout",
     "output_type": "stream",
     "text": [
      "@HD\tVN:1.0\tSO:unsorted\n",
      "@SQ\tSN:SM_V10_1\tLN:87984048\n",
      "@SQ\tSN:SM_V10_Z\tLN:86692428\n",
      "@SQ\tSN:SM_V10_3\tLN:49793710\n",
      "@SQ\tSN:SM_V10_4\tLN:46471573\n",
      "@SQ\tSN:SM_V10_2\tLN:45716244\n",
      "@SQ\tSN:SM_V10_6\tLN:24696076\n",
      "@SQ\tSN:SM_V10_5\tLN:24128858\n",
      "@SQ\tSN:SM_V10_7\tLN:19942475\n",
      "@SQ\tSN:SM_V10_WSR\tLN:5969970\n",
      "@SQ\tSN:SM_V10_MITO\tLN:26917\n",
      "@RG\tID:ADULT_PZQ_E\tSM:ADULT_PZQ_E\n",
      "@PG\tID:hisat2\tPN:hisat2\tVN:2.2.1\tCL:\"/data/users/zhouz6436/.conda/envs/biol343/bin/hisat2-align-s --wrapper basic-0 /data/classes/2025/fall/biol343/course_files/hisat/genome -p 16 --rg-id ADULT_PZQ_E --rg SM:ADULT_PZQ_E --summary-file alignment/hisat/SRR10776762.log --new-summary --read-lengths 51 -1 /tmp/621982.inpipe1 -2 /tmp/621982.inpipe2\"\n",
      "SRR10776762.12\t83\tSM_V10_MITO\t23569\t1\t51M\t=\t15838\t-7782\tGTTATAGCCCATACTCCTTTAGTCTTTTAGTATTATCGTCTATAGTCCCTT\t11E:0:01DF<1CEGGGGGGGEGGGGGDGEGGGGGGGGGGGGEGGGBBB=B\tAS:i:0\tZS:i:0\tXN:i:0\tXM:i:0\tXO:i:0\tXG:i:0\tNM:i:0\tMD:Z:51\tYS:i:0\tYT:Z:CP\tRG:Z:ADULT_PZQ_E\tNH:i:10\n",
      "SRR10776762.12\t163\tSM_V10_MITO\t15838\t1\t51M\t=\t23569\t7782\tGTTTCTTAGTGTTATAGCCCATACTCCTTTAGTCTTTTAGTATTATCGTCT\tCCCCCGGGGGGGGGGGEGGGGGGGGGGGGGGGGGGGGGGGGGGGFGG>GBG\tAS:i:0\tZS:i:0\tXN:i:0\tXM:i:0\tXO:i:0\tXG:i:0\tNM:i:0\tMD:Z:51\tYS:i:0\tYT:Z:CP\tRG:Z:ADULT_PZQ_E\tNH:i:10\n",
      "SRR10776762.12\t339\tSM_V10_MITO\t19796\t1\t51M\t=\t17750\t-2097\tGTTATAGCCCATACTCCTTTAGTCTTTTAGTATTATCGTCTATAGTCCCTT\t11E:0:01DF<1CEGGGGGGGEGGGGGDGEGGGGGGGGGGGGEGGGBBB=B\tAS:i:0\tZS:i:0\tXN:i:0\tXM:i:0\tXO:i:0\tXG:i:0\tNM:i:0\tMD:Z:51\tYS:i:0\tYT:Z:CP\tRG:Z:ADULT_PZQ_E\tNH:i:10\n",
      "SRR10776762.12\t419\tSM_V10_MITO\t17750\t1\t51M\t=\t19796\t2097\tGTTTCTTAGTGTTATAGCCCATACTCCTTTAGTCTTTTAGTATTATCGTCT\tCCCCCGGGGGGGGGGGEGGGGGGGGGGGGGGGGGGGGGGGGGGGFGG>GBG\tAS:i:0\tZS:i:0\tXN:i:0\tXM:i:0\tXO:i:0\tXG:i:0\tNM:i:0\tMD:Z:51\tYS:i:0\tYT:Z:CP\tRG:Z:ADULT_PZQ_E\tNH:i:10\n",
      "SRR10776762.12\t339\tSM_V10_MITO\t23569\t1\t51M\t=\t15776\t-7844\tGTTATAGCCCATACTCCTTTAGTCTTTTAGTATTATCGTCTATAGTCCCTT\t11E:0:01DF<1CEGGGGGGGEGGGGGDGEGGGGGGGGGGGGEGGGBBB=B\tAS:i:0\tZS:i:0\tXN:i:0\tXM:i:0\tXO:i:0\tXG:i:0\tNM:i:0\tMD:Z:51\tYS:i:0\tYT:Z:CP\tRG:Z:ADULT_PZQ_E\tNH:i:10\n",
      "SRR10776762.12\t419\tSM_V10_MITO\t15776\t1\t51M\t=\t23569\t7844\tGTTTCTTAGTGTTATAGCCCATACTCCTTTAGTCTTTTAGTATTATCGTCT\tCCCCCGGGGGGGGGGGEGGGGGGGGGGGGGGGGGGGGGGGGGGGFGG>GBG\tAS:i:0\tZS:i:0\tXN:i:0\tXM:i:0\tXO:i:0\tXG:i:0\tNM:i:0\tMD:Z:51\tYS:i:0\tYT:Z:CP\tRG:Z:ADULT_PZQ_E\tNH:i:10\n",
      "SRR10776762.12\t339\tSM_V10_MITO\t20106\t1\t51M\t=\t18923\t-1234\tGTTATAGCCCATACTCCTTTAGTCTTTTAGTATTATCGTCTATAGTCCCTT\t11E:0:01DF<1CEGGGGGGGEGGGGGDGEGGGGGGGGGGGGEGGGBBB=B\tAS:i:0\tZS:i:0\tXN:i:0\tXM:i:0\tXO:i:0\tXG:i:0\tNM:i:0\tMD:Z:51\tYS:i:0\tYT:Z:CP\tRG:Z:ADULT_PZQ_E\tNH:i:10\n",
      "SRR10776762.12\t419\tSM_V10_MITO\t18923\t1\t51M\t=\t20106\t1234\tGTTTCTTAGTGTTATAGCCCATACTCCTTTAGTCTTTTAGTATTATCGTCT\tCCCCCGGGGGGGGGGGEGGGGGGGGGGGGGGGGGGGGGGGGGGGFGG>GBG\tAS:i:0\tZS:i:0\tXN:i:0\tXM:i:0\tXO:i:0\tXG:i:0\tNM:i:0\tMD:Z:51\tYS:i:0\tYT:Z:CP\tRG:Z:ADULT_PZQ_E\tNH:i:10\n",
      "SRR10776762.12\t339\tSM_V10_MITO\t23569\t1\t51M\t=\t18985\t-4635\tGTTATAGCCCATACTCCTTTAGTCTTTTAGTATTATCGTCTATAGTCCCTT\t11E:0:01DF<1CEGGGGGGGEGGGGGDGEGGGGGGGGGGGGEGGGBBB=B\tAS:i:0\tZS:i:0\tXN:i:0\tXM:i:0\tXO:i:0\tXG:i:0\tNM:i:0\tMD:Z:51\tYS:i:0\tYT:Z:CP\tRG:Z:ADULT_PZQ_E\tNH:i:10\n",
      "SRR10776762.12\t419\tSM_V10_MITO\t18985\t1\t51M\t=\t23569\t4635\tGTTTCTTAGTGTTATAGCCCATACTCCTTTAGTCTTTTAGTATTATCGTCT\tCCCCCGGGGGGGGGGGEGGGGGGGGGGGGGGGGGGGGGGGGGGGFGG>GBG\tAS:i:0\tZS:i:0\tXN:i:0\tXM:i:0\tXO:i:0\tXG:i:0\tNM:i:0\tMD:Z:51\tYS:i:0\tYT:Z:CP\tRG:Z:ADULT_PZQ_E\tNH:i:10\n",
      "SRR10776762.12\t339\tSM_V10_MITO\t24499\t1\t51M\t=\t16024\t-8526\tGTTATAGCCCATACTCCTTTAGTCTTTTAGTATTATCGTCTATAGTCCCTT\t11E:0:01DF<1CEGGGGGGGEGGGGGDGEGGGGGGGGGGGGEGGGBBB=B\tAS:i:0\tZS:i:0\tXN:i:0\tXM:i:0\tXO:i:0\tXG:i:0\tNM:i:0\tMD:Z:51\tYS:i:0\tYT:Z:CP\tRG:Z:ADULT_PZQ_E\tNH:i:10\n",
      "SRR10776762.12\t419\tSM_V10_MITO\t16024\t1\t51M\t=\t24499\t8526\tGTTTCTTAGTGTTATAGCCCATACTCCTTTAGTCTTTTAGTATTATCGTCT\tCCCCCGGGGGGGGGGGEGGGGGGGGGGGGGGGGGGGGGGGGGGGFGG>GBG\tAS:i:0\tZS:i:0\tXN:i:0\tXM:i:0\tXO:i:0\tXG:i:0\tNM:i:0\tMD:Z:51\tYS:i:0\tYT:Z:CP\tRG:Z:ADULT_PZQ_E\tNH:i:10\n"
     ]
    }
   ],
   "source": [
    "!head -25 ../6_alignment/alignment/hisat/SRR10776762.sam"
   ]
  },
  {
   "attachments": {},
   "cell_type": "markdown",
   "metadata": {},
   "source": [
    "The SAM format contains many encodings that take some getting used to. The most important for our purposes are FLAG, mapping quality (MAPQ) and the CIGAR string.\n",
    "\n",
    "#### FLAG\n",
    "\n",
    "The FLAG is a combination of bits that represent certain features of the alignment. The meaning of each bit is provided in the spec:\n",
    "\n",
    "|Bit | Description|\n",
    "|----|------------|\n",
    "|1 0x1 | template having multiple segments in sequencing|\n",
    "|2 0x2 | each segment properly aligned according to the aligner|\n",
    "|4 0x4 | segment unmapped|\n",
    "|8 0x8 | next segment in the template unmapped|\n",
    "|16 0x10 | SEQ being reverse complemented|\n",
    "|32 0x20 | SEQ of the next segment in the template being reverse complemented|\n",
    "|64 0x40 | the first segment in the template|\n",
    "|128 0x80 | the last segment in the template|\n",
    "|256 0x100 | secondary alignment|\n",
    "|512 0x200 | not passing filters, such as platform/vendor quality controls|\n",
    "|1024 0x400 | PCR or optical duplicate|\n",
    "|2048 0x800 | supplementary alignment|\n",
    "\n",
    "These are very useful for filtering out alignment types that you aren't interested in. For intance, take a look at the `QNAME` `SRR10776762.2`:"
   ]
  },
  {
   "cell_type": "code",
   "execution_count": 6,
   "metadata": {},
   "outputs": [
    {
     "name": "stdout",
     "output_type": "stream",
     "text": [
      "@HD\tVN:1.0\tSO:unsorted\n",
      "@SQ\tSN:SM_V10_1\tLN:87984048\n",
      "@SQ\tSN:SM_V10_Z\tLN:86692428\n",
      "@SQ\tSN:SM_V10_3\tLN:49793710\n",
      "@SQ\tSN:SM_V10_4\tLN:46471573\n",
      "@SQ\tSN:SM_V10_2\tLN:45716244\n",
      "@SQ\tSN:SM_V10_6\tLN:24696076\n",
      "@SQ\tSN:SM_V10_5\tLN:24128858\n",
      "@SQ\tSN:SM_V10_7\tLN:19942475\n",
      "@SQ\tSN:SM_V10_WSR\tLN:5969970\n",
      "@SQ\tSN:SM_V10_MITO\tLN:26917\n",
      "@RG\tID:ADULT_PZQ_E\tSM:ADULT_PZQ_E\n",
      "@PG\tID:hisat2\tPN:hisat2\tVN:2.2.1\tCL:\"/data/users/zhouz6436/.conda/envs/biol343/bin/hisat2-align-s --wrapper basic-0 /data/classes/2025/fall/biol343/course_files/hisat/genome -p 16 --rg-id ADULT_PZQ_E --rg SM:ADULT_PZQ_E --summary-file alignment/hisat/SRR10776762.log --new-summary --read-lengths 51 -1 /tmp/621982.inpipe1 -2 /tmp/621982.inpipe2\"\n",
      "SRR10776762.12\t83\tSM_V10_MITO\t23569\t1\t51M\t=\t15838\t-7782\tGTTATAGCCCATACTCCTTTAGTCTTTTAGTATTATCGTCTATAGTCCCTT\t11E:0:01DF<1CEGGGGGGGEGGGGGDGEGGGGGGGGGGGGEGGGBBB=B\tAS:i:0\tZS:i:0\tXN:i:0\tXM:i:0\tXO:i:0\tXG:i:0\tNM:i:0\tMD:Z:51\tYS:i:0\tYT:Z:CP\tRG:Z:ADULT_PZQ_E\tNH:i:10\n",
      "SRR10776762.12\t163\tSM_V10_MITO\t15838\t1\t51M\t=\t23569\t7782\tGTTTCTTAGTGTTATAGCCCATACTCCTTTAGTCTTTTAGTATTATCGTCT\tCCCCCGGGGGGGGGGGEGGGGGGGGGGGGGGGGGGGGGGGGGGGFGG>GBG\tAS:i:0\tZS:i:0\tXN:i:0\tXM:i:0\tXO:i:0\tXG:i:0\tNM:i:0\tMD:Z:51\tYS:i:0\tYT:Z:CP\tRG:Z:ADULT_PZQ_E\tNH:i:10\n",
      "SRR10776762.12\t339\tSM_V10_MITO\t19796\t1\t51M\t=\t17750\t-2097\tGTTATAGCCCATACTCCTTTAGTCTTTTAGTATTATCGTCTATAGTCCCTT\t11E:0:01DF<1CEGGGGGGGEGGGGGDGEGGGGGGGGGGGGEGGGBBB=B\tAS:i:0\tZS:i:0\tXN:i:0\tXM:i:0\tXO:i:0\tXG:i:0\tNM:i:0\tMD:Z:51\tYS:i:0\tYT:Z:CP\tRG:Z:ADULT_PZQ_E\tNH:i:10\n",
      "SRR10776762.12\t419\tSM_V10_MITO\t17750\t1\t51M\t=\t19796\t2097\tGTTTCTTAGTGTTATAGCCCATACTCCTTTAGTCTTTTAGTATTATCGTCT\tCCCCCGGGGGGGGGGGEGGGGGGGGGGGGGGGGGGGGGGGGGGGFGG>GBG\tAS:i:0\tZS:i:0\tXN:i:0\tXM:i:0\tXO:i:0\tXG:i:0\tNM:i:0\tMD:Z:51\tYS:i:0\tYT:Z:CP\tRG:Z:ADULT_PZQ_E\tNH:i:10\n",
      "SRR10776762.12\t339\tSM_V10_MITO\t23569\t1\t51M\t=\t15776\t-7844\tGTTATAGCCCATACTCCTTTAGTCTTTTAGTATTATCGTCTATAGTCCCTT\t11E:0:01DF<1CEGGGGGGGEGGGGGDGEGGGGGGGGGGGGEGGGBBB=B\tAS:i:0\tZS:i:0\tXN:i:0\tXM:i:0\tXO:i:0\tXG:i:0\tNM:i:0\tMD:Z:51\tYS:i:0\tYT:Z:CP\tRG:Z:ADULT_PZQ_E\tNH:i:10\n",
      "SRR10776762.12\t419\tSM_V10_MITO\t15776\t1\t51M\t=\t23569\t7844\tGTTTCTTAGTGTTATAGCCCATACTCCTTTAGTCTTTTAGTATTATCGTCT\tCCCCCGGGGGGGGGGGEGGGGGGGGGGGGGGGGGGGGGGGGGGGFGG>GBG\tAS:i:0\tZS:i:0\tXN:i:0\tXM:i:0\tXO:i:0\tXG:i:0\tNM:i:0\tMD:Z:51\tYS:i:0\tYT:Z:CP\tRG:Z:ADULT_PZQ_E\tNH:i:10\n",
      "SRR10776762.12\t339\tSM_V10_MITO\t20106\t1\t51M\t=\t18923\t-1234\tGTTATAGCCCATACTCCTTTAGTCTTTTAGTATTATCGTCTATAGTCCCTT\t11E:0:01DF<1CEGGGGGGGEGGGGGDGEGGGGGGGGGGGGEGGGBBB=B\tAS:i:0\tZS:i:0\tXN:i:0\tXM:i:0\tXO:i:0\tXG:i:0\tNM:i:0\tMD:Z:51\tYS:i:0\tYT:Z:CP\tRG:Z:ADULT_PZQ_E\tNH:i:10\n",
      "SRR10776762.12\t419\tSM_V10_MITO\t18923\t1\t51M\t=\t20106\t1234\tGTTTCTTAGTGTTATAGCCCATACTCCTTTAGTCTTTTAGTATTATCGTCT\tCCCCCGGGGGGGGGGGEGGGGGGGGGGGGGGGGGGGGGGGGGGGFGG>GBG\tAS:i:0\tZS:i:0\tXN:i:0\tXM:i:0\tXO:i:0\tXG:i:0\tNM:i:0\tMD:Z:51\tYS:i:0\tYT:Z:CP\tRG:Z:ADULT_PZQ_E\tNH:i:10\n",
      "SRR10776762.12\t339\tSM_V10_MITO\t23569\t1\t51M\t=\t18985\t-4635\tGTTATAGCCCATACTCCTTTAGTCTTTTAGTATTATCGTCTATAGTCCCTT\t11E:0:01DF<1CEGGGGGGGEGGGGGDGEGGGGGGGGGGGGEGGGBBB=B\tAS:i:0\tZS:i:0\tXN:i:0\tXM:i:0\tXO:i:0\tXG:i:0\tNM:i:0\tMD:Z:51\tYS:i:0\tYT:Z:CP\tRG:Z:ADULT_PZQ_E\tNH:i:10\n",
      "SRR10776762.12\t419\tSM_V10_MITO\t18985\t1\t51M\t=\t23569\t4635\tGTTTCTTAGTGTTATAGCCCATACTCCTTTAGTCTTTTAGTATTATCGTCT\tCCCCCGGGGGGGGGGGEGGGGGGGGGGGGGGGGGGGGGGGGGGGFGG>GBG\tAS:i:0\tZS:i:0\tXN:i:0\tXM:i:0\tXO:i:0\tXG:i:0\tNM:i:0\tMD:Z:51\tYS:i:0\tYT:Z:CP\tRG:Z:ADULT_PZQ_E\tNH:i:10\n",
      "SRR10776762.12\t339\tSM_V10_MITO\t24499\t1\t51M\t=\t16024\t-8526\tGTTATAGCCCATACTCCTTTAGTCTTTTAGTATTATCGTCTATAGTCCCTT\t11E:0:01DF<1CEGGGGGGGEGGGGGDGEGGGGGGGGGGGGEGGGBBB=B\tAS:i:0\tZS:i:0\tXN:i:0\tXM:i:0\tXO:i:0\tXG:i:0\tNM:i:0\tMD:Z:51\tYS:i:0\tYT:Z:CP\tRG:Z:ADULT_PZQ_E\tNH:i:10\n",
      "SRR10776762.12\t419\tSM_V10_MITO\t16024\t1\t51M\t=\t24499\t8526\tGTTTCTTAGTGTTATAGCCCATACTCCTTTAGTCTTTTAGTATTATCGTCT\tCCCCCGGGGGGGGGGGEGGGGGGGGGGGGGGGGGGGGGGGGGGGFGG>GBG\tAS:i:0\tZS:i:0\tXN:i:0\tXM:i:0\tXO:i:0\tXG:i:0\tNM:i:0\tMD:Z:51\tYS:i:0\tYT:Z:CP\tRG:Z:ADULT_PZQ_E\tNH:i:10\n"
     ]
    }
   ],
   "source": [
    "!head -25 ../6_alignment/alignment/hisat/SRR10776762.sam"
   ]
  },
  {
   "attachments": {},
   "cell_type": "markdown",
   "metadata": {},
   "source": [
    "This read has two lines: one for each mate in the pair (remember, these are paired end reads). The FLAG for the first mate is 99, and it's 147 for the second mate. Here's are the descriptions of those values:\n",
    "\n",
    "|Bit value|Hex |Mnemonic           |Meaning                                                     |\n",
    "|---------|----|-------------------|------------------------------------------------------------|\n",
    "|1        |0x1 |Read paired        |Read originates from a paired-end sequencing experiment.    |\n",
    "|2        |0x2 |Proper pair        |Read and mate map with expected orientation and insert size.|\n",
    "|32       |0x20|Mate reverse strand|The mate aligns to the reverse strand of the reference.     |\n",
    "|64       |0x40|First in pair      |This is the first mate (R1) in the paired-end read.         |\n",
    "\n",
    "1 + 2 + 32 + 64 = 99\n",
    "\n",
    "|Bit value|Hex |Mnemonic           |Meaning                                                              |\n",
    "|---------|----|-------------------|---------------------------------------------------------------------|\n",
    "|1        |0x1 |Read paired        |Read originates from a paired-end sequencing experiment.             |\n",
    "|2        |0x2 |Proper pair        |Read and mate map with expected orientation and insert size.         |\n",
    "|16       |0x10|Read reverse strand|This read aligns to the reverse (complement) strand of the reference.|\n",
    "|128      |0x80|Second in pair     |This is the second mate (R2) in the paired-end read.                 |\n",
    "\n",
    "1 + 2 + 16 + 128 = 147\n",
    "\n",
    "The `FLAG` is useful for filtering out alignments that probably don't represent the *true* or *best* alignment. The filtering strategy someone uses can have drastic effects on downstream analysis of differential expression.\n",
    "\n",
    "#### MAPQ\n",
    "\n",
    "The SAM spec defines the mapping quality as \" −10log<sub>10</sub> Pr{mapping position is wrong}, rounded to the nearest integer. A value 255 indicates that the mapping quality is not available.\" This formula should remind you of the Phred quality...because it's the same. The difference is that we don't need to represent it in a single character so we don't +33 and convert to ASCII. Each alignment tool can calculate the `MAPQ` differently, so you need to be sure that you're using the right scale. For instance, the STAR manual states:\n",
    "\n",
    ">The mapping quality MAPQ (column 5) is 255 for uniquely mapping reads, and int(-10*log10(11/Nmap)) for multi-mapping reads. This scheme is same as the one used by TopHat and is compatible with Cufflinks. The default MAPQ=255 for the unique mappers maybe changed with --outSAMmapqUnique parameter (integer 0 to 255) to ensure compatibility with downstream tools such as GATK.\n",
    "\n",
    "It is not obvious how HISAT calculates the `MAPQ` score (you have to look at the CPP code). The most important thing to know is that uniquely mapping reads are given a score of 60. Knowing that, we could use `cut` and `grep` to see what portion of the reads are uniquely mapping:"
   ]
  },
  {
   "cell_type": "code",
   "execution_count": 7,
   "metadata": {},
   "outputs": [
    {
     "name": "stdout",
     "output_type": "stream",
     "text": [
      "1229605\n"
     ]
    }
   ],
   "source": [
    "!cut -f 5 ../6_alignment/alignment/hisat/SRR10776762.sam | grep -c '60'"
   ]
  },
  {
   "attachments": {},
   "cell_type": "markdown",
   "metadata": {},
   "source": [
    "## Samtools\n",
    "\n",
    "The SAM spec is well designed to be able parse with command line tools like `cut`, `uniq`, and `grep`. There exist more simple tools to perform these operations, though, and `samtools` is the most popular. Check out the manual:"
   ]
  },
  {
   "cell_type": "code",
   "execution_count": 8,
   "metadata": {},
   "outputs": [
    {
     "name": "stdout",
     "output_type": "stream",
     "text": [
      "\n",
      "Program: samtools (Tools for alignments in the SAM format)\n",
      "Version: 1.6 (using htslib 1.6)\n",
      "\n",
      "Usage:   samtools <command> [options]\n",
      "\n",
      "Commands:\n",
      "  -- Indexing\n",
      "     dict           create a sequence dictionary file\n",
      "     faidx          index/extract FASTA\n",
      "     index          index alignment\n",
      "\n",
      "  -- Editing\n",
      "     calmd          recalculate MD/NM tags and '=' bases\n",
      "     fixmate        fix mate information\n",
      "     reheader       replace BAM header\n",
      "     rmdup          remove PCR duplicates\n",
      "     targetcut      cut fosmid regions (for fosmid pool only)\n",
      "     addreplacerg   adds or replaces RG tags\n",
      "     markdup        mark duplicates\n",
      "\n",
      "  -- File operations\n",
      "     collate        shuffle and group alignments by name\n",
      "     cat            concatenate BAMs\n",
      "     merge          merge sorted alignments\n",
      "     mpileup        multi-way pileup\n",
      "     sort           sort alignment file\n",
      "     split          splits a file by read group\n",
      "     quickcheck     quickly check if SAM/BAM/CRAM file appears intact\n",
      "     fastq          converts a BAM to a FASTQ\n",
      "     fasta          converts a BAM to a FASTA\n",
      "\n",
      "  -- Statistics\n",
      "     bedcov         read depth per BED region\n",
      "     depth          compute the depth\n",
      "     flagstat       simple stats\n",
      "     idxstats       BAM index stats\n",
      "     phase          phase heterozygotes\n",
      "     stats          generate stats (former bamcheck)\n",
      "\n",
      "  -- Viewing\n",
      "     flags          explain BAM flags\n",
      "     tview          text alignment viewer\n",
      "     view           SAM<->BAM<->CRAM conversion\n",
      "     depad          convert padded BAM to unpadded BAM\n",
      "\n"
     ]
    }
   ],
   "source": [
    "!samtools --help"
   ]
  },
  {
   "attachments": {},
   "cell_type": "markdown",
   "metadata": {},
   "source": [
    "One of the first things you might want to do on a new alignment is to use `samtools flagstat` to generate some summary statistics. For instance:"
   ]
  },
  {
   "cell_type": "code",
   "execution_count": 9,
   "metadata": {},
   "outputs": [
    {
     "name": "stdout",
     "output_type": "stream",
     "text": [
      "2201437 + 0 in total (QC-passed reads + QC-failed reads)\n",
      "782107 + 0 secondary\n",
      "0 + 0 supplementary\n",
      "0 + 0 duplicates\n",
      "2174345 + 0 mapped (98.77% : N/A)\n",
      "1419330 + 0 paired in sequencing\n",
      "709665 + 0 read1\n",
      "709665 + 0 read2\n",
      "1368826 + 0 properly paired (96.44% : N/A)\n",
      "1374916 + 0 with itself and mate mapped\n",
      "17322 + 0 singletons (1.22% : N/A)\n",
      "4150 + 0 with mate mapped to a different chr\n",
      "2628 + 0 with mate mapped to a different chr (mapQ>=5)\n"
     ]
    }
   ],
   "source": [
    "!samtools flagstat ../6_alignment/alignment/hisat/SRR10776762.sam"
   ]
  },
  {
   "attachments": {},
   "cell_type": "markdown",
   "metadata": {},
   "source": [
    "***1 minute run time***\n",
    "\n",
    "Samtools also enables a variety of other operations. Recall that when we aligned with STAR, we were able to generate a single output file, which you can find at `6_alignment/alignment/Aligned.sorted.bam`. When doing the two-pass alignment, we provided it with `manifest.tsv` which assigned a read group (`RG`) to each read depending on the file that it came from. This wasn't an option with HISAT; instead, we used a loop to align each FASTQ individually and used the `--rg-id $rg` option to add the `RG`. We want to compare the alignments derived from the two different aligners, which means we need to produce a comparable output file. We will use BAM files to save space and speed things up. The STAR output is already `.bam`, but the HISAT output is `.sam`. Let's use Samtools to fix that.\n",
    "\n",
    "Samtools allows piping. In order, we must:\n",
    "\n",
    "1. Convert the SAM files to BAM\n",
    "2. Sort the BAM files\n",
    "2. Merge the BAM files to a single file\n",
    "4. Generate the index\n",
    "\n",
    "Samtools can be piped, but we'll also need to use a loop:"
   ]
  },
  {
   "cell_type": "code",
   "execution_count": null,
   "metadata": {},
   "outputs": [],
   "source": [
    "!for sam in ../6_alignment/alignment/hisat/*.sam; do \\\n",
    "    bn=$(basename \"$sam\" .sam); \\\n",
    "    echo \"Converting $sam to $bn.bam and sorting.\"; \\\n",
    "    samtools view -@ 32 -b $sam | samtools sort -@ 32 > ../6_alignment/alignment/hisat/$bn.bam; \\\n",
    "    done"
   ]
  },
  {
   "attachments": {},
   "cell_type": "markdown",
   "metadata": {},
   "source": [
    "***9 minute run time***\n",
    "\n",
    "You can see that these BAM files are about 10% of the size of the SAM files:"
   ]
  },
  {
   "cell_type": "code",
   "execution_count": null,
   "metadata": {},
   "outputs": [],
   "source": [
    "!ls -lh ../6_alignment/alignment/hisat/ | grep -P 'bam|sam'"
   ]
  },
  {
   "attachments": {},
   "cell_type": "markdown",
   "metadata": {},
   "source": [
    "Now we merge them into a single file and generate the index:"
   ]
  },
  {
   "cell_type": "code",
   "execution_count": null,
   "metadata": {},
   "outputs": [],
   "source": [
    "!samtools merge -@ 32 ../6_alignment/alignment/hisat/merged.bam  ../6_alignment/alignment/hisat/*.bam \n",
    "!samtools index -@ 32 ../6_alignment/alignment/hisat/merged.bam "
   ]
  },
  {
   "attachments": {},
   "cell_type": "markdown",
   "metadata": {},
   "source": [
    "***4 minutes time to completion***\n",
    "\n",
    "When storage space is a concern, it would be wise to remove the old SAM/BAM files. But they might be useful to us later, so we'll keep them."
   ]
  },
  {
   "attachments": {},
   "cell_type": "markdown",
   "metadata": {},
   "source": [
    "## Alignment QC\n",
    "\n",
    "### Samtools\n",
    "\n",
    "There are a range of metrics we can look at to compare the quality of alignments. The simplest is `samtools flagstat`, which simple reports the number of unique and secondary mappings, as we saw earlier. `samtools stats` gives a more full-featured report. Note that an index is required, which we will create for the STAR output:"
   ]
  },
  {
   "cell_type": "code",
   "execution_count": 11,
   "metadata": {},
   "outputs": [
    {
     "name": "stdout",
     "output_type": "stream",
     "text": [
      "HISAT mapping stats\n"
     ]
    }
   ],
   "source": [
    "!echo \"HISAT mapping stats\"\n",
    "!samtools stats  -@ 32 /data/classes/2025/fall/biol343/course_files/alignments/hisat/merged.bam > hisat_stats.txt\n",
    "\n",
    "#!echo \"STAR mapping stats\"\n",
    "#!samtools stats -@ 32 /data/classes/2025/fall/biol343/course_files/alignments/star/Aligned.sorted.bam > star_stats.txt"
   ]
  },
  {
   "attachments": {},
   "cell_type": "markdown",
   "metadata": {},
   "source": [
    "***15 minutes time to completion***\n",
    "\n",
    "The output stats file contains quite a bit of information. We can use `multiqc` to summarize and plot it for us (will do this later).\n",
    "\n",
    "### Qualimap\n",
    "\n",
    "[Qualimap](http://qualimap.conesalab.org/#what-is-qualimap) is a tool built specificially for QC of RNA-seq data, not just general sequencing data. You will have to install it with conda before being able to use it ([here's the link to the Anaconda package](https://anaconda.org/bioconda/qualimap) and [here's the link to documentation](http://qualimap.conesalab.org/doc_html/index.html)). Use `mamba install qualimap` to install it to the `biol343` conda environment.\n",
    "\n",
    "Qualimap usage is pretty simple. There are two modules BAM QC, which is general for all BAMs, regarless of the type of sequencing, Count QC, and RNA-seq QC. RNA-seq QC is helped if we tell it if our library prep protocol was stand specific or not:"
   ]
  },
  {
   "cell_type": "code",
   "execution_count": null,
   "metadata": {},
   "outputs": [],
   "source": [
    "!qualimap bamqc -nt 32 –java-mem-size=32G -outdir qualimap/star/bam -bam ../6_alignment/alignment/star/Aligned.sorted.bam --feature-file ../2_genome_exploration/genome/annotations.gtf \n",
    "!qualimap rnaseq –java-mem-size=32G -outdir qualimap/star/rnaseq -bam ../6_alignment/alignment/star/Aligned.sorted.bam -gtf ../2_genome_exploration/genome/annotations.gtf\n",
    "!qualimap bamqc -nt 32 -outdir qualimap/hisat/bam -bam ../6_alignment/alignment/hisat/merged.bam --feature-file ../2_genome_exploration/genome/annotations.gtf\n",
    "!qualimap rnaseq -outdir qualimap/hisat/rnaseq -bam ../6_alignment/alignment/hisat/merged.bam -gtf ../2_genome_exploration/genome/annotations.gtf "
   ]
  },
  {
   "attachments": {},
   "cell_type": "markdown",
   "metadata": {},
   "source": [
    "***27 minute run time***\n",
    "\n",
    "We can summarize these with MultiQC, like previously. Note that MultiQC can also detect log output in IPython Notebooks, so if you don't clear the output from old notebooks then those will be included as well."
   ]
  },
  {
   "cell_type": "code",
   "execution_count": null,
   "metadata": {},
   "outputs": [],
   "source": [
    "!multiqc --force -d ../5_fastq/fastq/qc/ ../5_fastq/trimmed/qc/ ../6_alignment ."
   ]
  },
  {
   "attachments": {},
   "cell_type": "markdown",
   "metadata": {},
   "source": [
    "## Alignment browsing\n",
    "\n",
    "After performing QC with command line tools, the next step is to actually look at the alignments. We'll use JBrowse2 to do so. The slides can be found at [7_alignment_qc.pdf](../lectures/7_alignment_qc.pdf)"
   ]
  }
 ],
 "metadata": {
  "kernelspec": {
   "display_name": "biol343",
   "language": "python",
   "name": "python3"
  },
  "language_info": {
   "codemirror_mode": {
    "name": "ipython",
    "version": 3
   },
   "file_extension": ".py",
   "mimetype": "text/x-python",
   "name": "python",
   "nbconvert_exporter": "python",
   "pygments_lexer": "ipython3",
   "version": "3.12.3"
  },
  "orig_nbformat": 4
 },
 "nbformat": 4,
 "nbformat_minor": 2
}
