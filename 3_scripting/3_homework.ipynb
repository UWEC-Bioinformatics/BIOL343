{
 "cells": [
  {
   "cell_type": "markdown",
   "metadata": {},
   "source": [
    "# Week 3 Homework\n",
    "\n",
    "***Due (pushed to your GitHub branch) on 10/4 by 11:59 pm***\n",
    "\n",
    "## Convert your Week 2 Homework notebook to a Shell script\n",
    "\n",
    "- Create a new file called `genome_exploration.sh` and save it in the `2_genome_exploration/` directory\n",
    "- All downloaded files should be written to a new directory in `2_genome_exploration`\n",
    "- Save the output of `grep` commands to `.txt` files using the `>` operator \n",
    "    - These files should include the ***exact*** same information as was written out in `2_genome_exploration.ipynb`\n",
    "- Run the file in BOSE with the command `bash genome_exploration.sh`\n",
    "    - Check to ensure the proper files were created\n",
    "    - Commit/push to your branch\n",
    "    - Dr. Wheeler should be able to re-run `genome_exploration.sh` to regenerate all the files associated with Week 2 Homework"
   ]
  }
 ],
 "metadata": {
  "language_info": {
   "name": "python"
  }
 },
 "nbformat": 4,
 "nbformat_minor": 2
}
