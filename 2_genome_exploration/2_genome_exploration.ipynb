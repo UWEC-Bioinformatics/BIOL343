{
 "cells": [
  {
   "attachments": {},
   "cell_type": "markdown",
   "metadata": {},
   "source": [
    "# Prepare genome and annotations\n",
    "\n",
    "## FASTA files\n",
    "\n",
    "1. Make a new directory called `genome`\n",
    "2. Navigate to `genome/`\n",
    "3. Download the reference genome file, which will be compressed as `.gz`\n",
    "    1. The `>` operator saves the incoming file to a new file name, which we call `genome.fa.gz`\n",
    "    2. Checkout details and info about the genome at [WormBase ParaSite](https://parasite.wormbase.org/Schistosoma_mansoni_prjea36577/Info/Index/)\n",
    "4. Decompress the reference"
   ]
  },
  {
   "cell_type": "code",
   "execution_count": 1,
   "metadata": {},
   "outputs": [
    {
     "name": "stdout",
     "output_type": "stream",
     "text": [
      "/data/users/heky1803/BIOL343/2_genome_exploration/genome\n",
      "--2025-09-16 16:06:40--  https://ftp.ebi.ac.uk/pub/databases/wormbase/parasite/releases/WBPS19/species/schistosoma_mansoni/PRJEA36577/schistosoma_mansoni.PRJEA36577.WBPS19.genomic.fa.gz\n",
      "Resolving ftp.ebi.ac.uk... 193.62.193.165\n",
      "Connecting to ftp.ebi.ac.uk|193.62.193.165|:443... connected.\n",
      "HTTP request sent, awaiting response... 200 OK\n",
      "Length: 116797085 (111M) [application/x-gzip]\n",
      "Saving to: ‘genome.fa.gz’\n",
      "\n",
      "genome.fa.gz        100%[===================>] 111.39M  16.1MB/s    in 6.5s    \n",
      "\n",
      "2025-09-16 16:06:47 (17.1 MB/s) - ‘genome.fa.gz’ saved [116797085/116797085]\n",
      "\n"
     ]
    }
   ],
   "source": [
    "!mkdir genome\n",
    "%cd genome\n",
    "!wget -nc -O genome.fa.gz https://ftp.ebi.ac.uk/pub/databases/wormbase/parasite/releases/WBPS19/species/schistosoma_mansoni/PRJEA36577/schistosoma_mansoni.PRJEA36577.WBPS19.genomic.fa.gz\n",
    "!gzip -d -f genome.fa.gz"
   ]
  },
  {
   "attachments": {},
   "cell_type": "markdown",
   "metadata": {},
   "source": [
    "Whenever we run a command line tool, it is expected that you will define the meaning of the options, arguments, and or flags used and explain ***why*** each flag is used. You can find the definition of these in the manual, which is typically accesssed by running the command followed by `--help`. Use the manual to define the meaning and purpose of each flag; put your answers below:\n",
    "\n",
    "***wget***\n",
    "\n",
    "`-nc`:\n",
    "\n",
    "`-O`:\n",
    "\n",
    "***gzip***\n",
    "\n",
    "`-d`:\n",
    "\n",
    "`-f`:"
   ]
  },
  {
   "attachments": {},
   "cell_type": "markdown",
   "metadata": {},
   "source": [
    "Generic sequence files usually are held in FASTA files (`.fasta` or `.fa`). An explanation of the FASTA format can be found [here](https://zhanggroup.org/FASTA/). FASTA files can hold nucleotide or amino acid sequence data. Take a moment to read about the FASTA format at the previous link. You will use what you learn, along with a few command line tools, to explore the genome that we just downloaded."
   ]
  },
  {
   "attachments": {},
   "cell_type": "markdown",
   "metadata": {},
   "source": [
    "## Genome exploration\n",
    "\n",
    "### `head` and `tail`\n",
    "`head` and `tail` are used to glance at the beginning or end of a file, respectively. They are simple tools - usually the only modifier is `-#`, where `#` is an integer that dictates how many lines you want to be printed.\n"
   ]
  },
  {
   "cell_type": "code",
   "execution_count": 2,
   "metadata": {},
   "outputs": [
    {
     "name": "stdout",
     "output_type": "stream",
     "text": [
      ">SM_V10_1 length=87984048\n",
      "TGATAGTTAGTCATATGAAAGCATCATTAGTAAACCACATTGCTTATTATATTGAACAGT\n",
      "TACATCTGGCTTATTATACAAAGAGAAAACCATACTATTCATACTATTCTCTTTTTGATC\n",
      "TTCTCAATCTTCTGTTGTTAGATATTCTATTCCTTGCTCACCATATATACTACTTATGTC\n",
      "AATATAAGTAGCTCACACCACACTACTACTTCAACTACTACTACTACTGCTACTGCTACT\n",
      "GTTGTGAACAGAACACGACTGTTGGACAATCGAATCTAATTAAGCAAACATTACAAACTA\n",
      "TCTCAGTAAATTGTAATAACCATACAATGGACAGTTAATTTGCAAATTATCAACCAATAG\n",
      "TCTCCATGTTCACTGTTTGTTCTTTAATTCCATTGCTTAAAGTTACTTGGTAAAATGCAA\n",
      "AAACCATACTATGATACTCTATTTGCAAAATGTTCTTCAATTGTCTCAGGCTTCATTGTT\n",
      "CCTGGATTTCCACACAAATTGCTTTTTATTTCTGTTCTTCTCTTCTTGATCTTCTCAATC\n"
     ]
    }
   ],
   "source": [
    "!head genome.fa"
   ]
  },
  {
   "cell_type": "code",
   "execution_count": 3,
   "metadata": {},
   "outputs": [
    {
     "name": "stdout",
     "output_type": "stream",
     "text": [
      "TTGGTTTCTTAGTGTTATAGCCCATACTCCTTTAGTCTTTTAGTATTATCGTCTATAGTC\n",
      "CCTTGGTTTCTTAGTGTTATAGCCCATACTCCTTTAGTCTTTTAGTATTATCGTCTATAG\n",
      "TCCCTTGGTTTCTTAGTGTTATAGCCCATACTCCTTTAGTCTTTTAGTATTATCGTCTAT\n",
      "AGTACGGTAGGTGGGTAAGGTAGAAAATGTTGTTTGTTTGATTCTGTATTTCGTGCAGAT\n",
      "AAGATGTTTGTAGTCTCTACTTGGCAGTGGTAGAAGTGTTTAACTTGATGAAGGGGATAG\n",
      "GTGTATGTTCTGTCCTTTGTTTTTGAATAGTGGTTTCGGTTTTGTTTTTTTTTTTGGTGG\n",
      "GGGTTAAAGTATAGGATTAAGTTAATTTAATGGTAAGTAAAATGATTTCCGAAAAAAGAC\n",
      "CTAAATTTGTGTTATATATATAATATATACAATTATAATATAGAAGGAGAAAAGATGTAA\n",
      "AAATAGGATTTAGGGAGGAGGAAAATTTATAGGTTTTGATAATAAATTTTTCTTGTAAGG\n",
      "GGGTACCCTTACAGAATTTTTGGGGTAGTGGTTGGAT\n"
     ]
    }
   ],
   "source": [
    "!tail genome.fa"
   ]
  },
  {
   "attachments": {},
   "cell_type": "markdown",
   "metadata": {},
   "source": [
    "\n",
    "### `grep`\n",
    "`grep` is a command line tool that is often used to inspect files, especially files that include sequences (i.e., FASTA and FASTQ, which we'll see later). \n",
    "\n",
    "View the `grep` manual and then use it to inspect the genome file in the command line. These files are often hundreds of megabytes to gigabytes, so we tend not to open the entire file in a text editor but instead use command line tools to answer our questions."
   ]
  },
  {
   "cell_type": "code",
   "execution_count": 4,
   "metadata": {},
   "outputs": [
    {
     "name": "stdout",
     "output_type": "stream",
     "text": [
      "Usage: grep [OPTION]... PATTERN [FILE]...\n",
      "Search for PATTERN in each FILE.\n",
      "Example: grep -i 'hello world' menu.h main.c\n",
      "\n",
      "Pattern selection and interpretation:\n",
      "  -E, --extended-regexp     PATTERN is an extended regular expression\n",
      "  -F, --fixed-strings       PATTERN is a set of newline-separated strings\n",
      "  -G, --basic-regexp        PATTERN is a basic regular expression (default)\n",
      "  -P, --perl-regexp         PATTERN is a Perl regular expression\n",
      "  -e, --regexp=PATTERN      use PATTERN for matching\n",
      "  -f, --file=FILE           obtain PATTERN from FILE\n",
      "  -i, --ignore-case         ignore case distinctions\n",
      "  -w, --word-regexp         force PATTERN to match only whole words\n",
      "  -x, --line-regexp         force PATTERN to match only whole lines\n",
      "  -z, --null-data           a data line ends in 0 byte, not newline\n",
      "\n",
      "Miscellaneous:\n",
      "  -s, --no-messages         suppress error messages\n",
      "  -v, --invert-match        select non-matching lines\n",
      "  -V, --version             display version information and exit\n",
      "      --help                display this help text and exit\n",
      "\n",
      "Output control:\n",
      "  -m, --max-count=NUM       stop after NUM selected lines\n",
      "  -b, --byte-offset         print the byte offset with output lines\n",
      "  -n, --line-number         print line number with output lines\n",
      "      --line-buffered       flush output on every line\n",
      "  -H, --with-filename       print file name with output lines\n",
      "  -h, --no-filename         suppress the file name prefix on output\n",
      "      --label=LABEL         use LABEL as the standard input file name prefix\n",
      "  -o, --only-matching       show only the part of a line matching PATTERN\n",
      "  -q, --quiet, --silent     suppress all normal output\n",
      "      --binary-files=TYPE   assume that binary files are TYPE;\n",
      "                            TYPE is 'binary', 'text', or 'without-match'\n",
      "  -a, --text                equivalent to --binary-files=text\n",
      "  -I                        equivalent to --binary-files=without-match\n",
      "  -d, --directories=ACTION  how to handle directories;\n",
      "                            ACTION is 'read', 'recurse', or 'skip'\n",
      "  -D, --devices=ACTION      how to handle devices, FIFOs and sockets;\n",
      "                            ACTION is 'read' or 'skip'\n",
      "  -r, --recursive           like --directories=recurse\n",
      "  -R, --dereference-recursive\n",
      "                            likewise, but follow all symlinks\n",
      "      --include=FILE_PATTERN\n",
      "                            search only files that match FILE_PATTERN\n",
      "      --exclude=FILE_PATTERN\n",
      "                            skip files and directories matching FILE_PATTERN\n",
      "      --exclude-from=FILE   skip files matching any file pattern from FILE\n",
      "      --exclude-dir=PATTERN directories that match PATTERN will be skipped.\n",
      "  -L, --files-without-match print only names of FILEs with no selected lines\n",
      "  -l, --files-with-matches  print only names of FILEs with selected lines\n",
      "  -c, --count               print only a count of selected lines per FILE\n",
      "  -T, --initial-tab         make tabs line up (if needed)\n",
      "  -Z, --null                print 0 byte after FILE name\n",
      "\n",
      "Context control:\n",
      "  -B, --before-context=NUM  print NUM lines of leading context\n",
      "  -A, --after-context=NUM   print NUM lines of trailing context\n",
      "  -C, --context=NUM         print NUM lines of output context\n",
      "  -NUM                      same as --context=NUM\n",
      "      --group-separator=SEP use SEP as a group separator\n",
      "      --no-group-separator  use empty string as a group separator\n",
      "      --color[=WHEN],\n",
      "      --colour[=WHEN]       use markers to highlight the matching strings;\n",
      "                            WHEN is 'always', 'never', or 'auto'\n",
      "  -U, --binary              do not strip CR characters at EOL (MSDOS/Windows)\n",
      "\n",
      "When FILE is '-', read standard input.  With no FILE, read '.' if\n",
      "recursive, '-' otherwise.  With fewer than two FILEs, assume -h.\n",
      "Exit status is 0 if any line is selected, 1 otherwise;\n",
      "if any error occurs and -q is not given, the exit status is 2.\n",
      "\n",
      "Report bugs to: bug-grep@gnu.org\n",
      "GNU grep home page: <http://www.gnu.org/software/grep/>\n",
      "General help using GNU software: <http://www.gnu.org/gethelp/>\n"
     ]
    }
   ],
   "source": [
    "!grep --help"
   ]
  },
  {
   "attachments": {},
   "cell_type": "markdown",
   "metadata": {},
   "source": [
    "Now that you've looked at the manual, complete the following tasks. Put the correct answer below each bullet.\n",
    "\n",
    "- Count the number of contigs/chromosomes using a single `grep` command. The command should return an integer.\n",
    "- List the name of each contig/chromosome, which is included in the header of each sequence. Your `grep` command should return the entire header of each entry, with a new line separating entries.\n",
    "\n",
    "The answers to the above questions should be printed in the output derived from the below code block:"
   ]
  },
  {
   "cell_type": "code",
   "execution_count": 6,
   "metadata": {},
   "outputs": [
    {
     "name": "stdout",
     "output_type": "stream",
     "text": [
      "10\n"
     ]
    }
   ],
   "source": [
    "!grep -c \">\" genome.fa"
   ]
  },
  {
   "attachments": {},
   "cell_type": "markdown",
   "metadata": {},
   "source": [
    "This assembly is full-length (an impressive achievement, which you'll learn more about next semester 🤯), and has been assembled into the 7 autosomes, two sex chromosome (Z and W), and a mitochondrial genome. Every single nucleotide of the entire genome is contained in this single file. It's kind of amazing when decades of work can culminate in a file ~100 MB large..."
   ]
  },
  {
   "attachments": {},
   "cell_type": "markdown",
   "metadata": {},
   "source": [
    "## Genome annotations\n",
    "### GTF files\n",
    "Typically, we're not just interested in the sequences but what the sequences represent, like genes, coding sequences, promoters, exons, etc.. The elements that a genome contains are called \"annotations,\" and these are stored in annotation files. Genome annotation files are tab-separated files that include coordinate information - that is, the chromosome and nucleotide location - for each annotation. For example, the annotations include the start/stop location of every single gene, mRNA, and exon. Annotation are usually in GTF or GFF format; GTF is more common and preferred by many programs. [Here's the definition](http://mblab.wustl.edu/GTF22.html) for the GTF file format. Take a few minutes to read through the information.\n",
    "\n",
    "Let's get the annotations and decompress them.\n",
    "\n",
    "- This time we'll pipe the commands, so we have to redirect the download to standard out (`-O -`).\n",
    "- The pipe operator `|` allows you to run a command using standard output from the previous command as the input for the ensuing command.\n",
    "- To write a single command over multiple lines, use the `\\` sign."
   ]
  },
  {
   "cell_type": "code",
   "execution_count": 7,
   "metadata": {},
   "outputs": [
    {
     "name": "stdout",
     "output_type": "stream",
     "text": [
      "--2025-09-16 16:20:53--  https://ftp.ebi.ac.uk/pub/databases/wormbase/parasite/releases/WBPS19/species/schistosoma_mansoni/PRJEA36577/schistosoma_mansoni.PRJEA36577.WBPS19.canonical_geneset.gtf.gz\n",
      "Resolving ftp.ebi.ac.uk... 193.62.193.165\n",
      "Connecting to ftp.ebi.ac.uk|193.62.193.165|:443... connected.\n",
      "HTTP request sent, awaiting response... 200 OK\n",
      "Length: 3228084 (3.1M) [application/x-gzip]\n",
      "Saving to: ‘STDOUT’\n",
      "\n",
      "-                   100%[===================>]   3.08M  3.54MB/s    in 0.9s    \n",
      "\n",
      "2025-09-16 16:20:54 (3.54 MB/s) - written to stdout [3228084/3228084]\n",
      "\n"
     ]
    }
   ],
   "source": [
    "!wget -O - https://ftp.ebi.ac.uk/pub/databases/wormbase/parasite/releases/WBPS19/species/schistosoma_mansoni/PRJEA36577/schistosoma_mansoni.PRJEA36577.WBPS19.canonical_geneset.gtf.gz | \\\n",
    "    gzip -f -d > annotations.gtf"
   ]
  },
  {
   "attachments": {},
   "cell_type": "markdown",
   "metadata": {},
   "source": [
    "Let's checkout what the annotations look like using the `head` and `tail` commands."
   ]
  },
  {
   "cell_type": "code",
   "execution_count": 8,
   "metadata": {},
   "outputs": [
    {
     "name": "stdout",
     "output_type": "stream",
     "text": [
      "#!genebuild-version 2022-11-WormBase\n",
      "SM_V10_1\tWormBase\tgene\t68427\t68783\t.\t-\t.\tgene_id \"Smp_329140\"; gene_version \"1\"; gene_source \"WormBase\"; gene_biotype \"protein_coding\";\n",
      "SM_V10_1\tWormBase\ttranscript\t68427\t68783\t.\t-\t.\tgene_id \"Smp_329140\"; gene_version \"1\"; transcript_id \"Smp_329140.1\"; gene_source \"WormBase\"; gene_biotype \"protein_coding\"; transcript_source \"WormBase\"; transcript_biotype \"protein_coding\"; tag \"Ensembl_canonical\";\n",
      "SM_V10_1\tWormBase\texon\t68427\t68783\t.\t-\t.\tgene_id \"Smp_329140\"; gene_version \"1\"; transcript_id \"Smp_329140.1\"; exon_number \"1\"; gene_source \"WormBase\"; gene_biotype \"protein_coding\"; transcript_source \"WormBase\"; transcript_biotype \"protein_coding\"; exon_id \"Smp_329140.1.e1\"; tag \"Ensembl_canonical\";\n",
      "SM_V10_1\tWormBase\tCDS\t68596\t68763\t.\t-\t0\tgene_id \"Smp_329140\"; gene_version \"1\"; transcript_id \"Smp_329140.1\"; exon_number \"1\"; gene_source \"WormBase\"; gene_biotype \"protein_coding\"; transcript_source \"WormBase\"; transcript_biotype \"protein_coding\"; protein_id \"Smp_329140.1\"; tag \"Ensembl_canonical\";\n",
      "SM_V10_1\tWormBase\tstart_codon\t68761\t68763\t.\t-\t0\tgene_id \"Smp_329140\"; gene_version \"1\"; transcript_id \"Smp_329140.1\"; exon_number \"1\"; gene_source \"WormBase\"; gene_biotype \"protein_coding\"; transcript_source \"WormBase\"; transcript_biotype \"protein_coding\"; tag \"Ensembl_canonical\";\n",
      "SM_V10_1\tWormBase\tstop_codon\t68593\t68595\t.\t-\t0\tgene_id \"Smp_329140\"; gene_version \"1\"; transcript_id \"Smp_329140.1\"; exon_number \"1\"; gene_source \"WormBase\"; gene_biotype \"protein_coding\"; transcript_source \"WormBase\"; transcript_biotype \"protein_coding\"; tag \"Ensembl_canonical\";\n",
      "SM_V10_1\tWormBase\tfive_prime_utr\t68764\t68783\t.\t-\t.\tgene_id \"Smp_329140\"; gene_version \"1\"; transcript_id \"Smp_329140.1\"; gene_source \"WormBase\"; gene_biotype \"protein_coding\"; transcript_source \"WormBase\"; transcript_biotype \"protein_coding\"; tag \"Ensembl_canonical\";\n",
      "SM_V10_1\tWormBase\tthree_prime_utr\t68427\t68592\t.\t-\t.\tgene_id \"Smp_329140\"; gene_version \"1\"; transcript_id \"Smp_329140.1\"; gene_source \"WormBase\"; gene_biotype \"protein_coding\"; transcript_source \"WormBase\"; transcript_biotype \"protein_coding\"; tag \"Ensembl_canonical\";\n",
      "SM_V10_1\tWormBase\tgene\t83503\t131262\t.\t-\t.\tgene_id \"Smp_315690\"; gene_version \"1\"; gene_source \"WormBase\"; gene_biotype \"protein_coding\";\n"
     ]
    }
   ],
   "source": [
    "!head -10 annotations.gtf"
   ]
  },
  {
   "cell_type": "code",
   "execution_count": 9,
   "metadata": {},
   "outputs": [
    {
     "name": "stdout",
     "output_type": "stream",
     "text": [
      "SM_V10_MITO\tWormBase\tCDS\t13064\t13348\t.\t+\t0\tgene_id \"Smp_900100\"; gene_version \"1\"; transcript_id \"Smp_900100.1\"; exon_number \"1\"; gene_source \"WormBase\"; gene_biotype \"protein_coding\"; transcript_source \"WormBase\"; transcript_biotype \"protein_coding\"; protein_id \"Smp_900100.1\"; tag \"Ensembl_canonical\";\n",
      "SM_V10_MITO\tWormBase\tstart_codon\t13064\t13066\t.\t+\t0\tgene_id \"Smp_900100\"; gene_version \"1\"; transcript_id \"Smp_900100.1\"; exon_number \"1\"; gene_source \"WormBase\"; gene_biotype \"protein_coding\"; transcript_source \"WormBase\"; transcript_biotype \"protein_coding\"; tag \"Ensembl_canonical\";\n",
      "SM_V10_MITO\tWormBase\tgene\t13537\t14415\t.\t+\t.\tgene_id \"Smp_900110\"; gene_version \"1\"; gene_source \"WormBase\"; gene_biotype \"protein_coding\";\n",
      "SM_V10_MITO\tWormBase\ttranscript\t13537\t14415\t.\t+\t.\tgene_id \"Smp_900110\"; gene_version \"1\"; transcript_id \"Smp_900110.1\"; gene_source \"WormBase\"; gene_biotype \"protein_coding\"; transcript_source \"WormBase\"; transcript_biotype \"protein_coding\"; tag \"Ensembl_canonical\";\n",
      "SM_V10_MITO\tWormBase\texon\t13537\t13749\t.\t+\t.\tgene_id \"Smp_900110\"; gene_version \"1\"; transcript_id \"Smp_900110.1\"; exon_number \"1\"; gene_source \"WormBase\"; gene_biotype \"protein_coding\"; transcript_source \"WormBase\"; transcript_biotype \"protein_coding\"; exon_id \"Smp_900110.1.e1\"; tag \"Ensembl_canonical\";\n",
      "SM_V10_MITO\tWormBase\tCDS\t13537\t13749\t.\t+\t0\tgene_id \"Smp_900110\"; gene_version \"1\"; transcript_id \"Smp_900110.1\"; exon_number \"1\"; gene_source \"WormBase\"; gene_biotype \"protein_coding\"; transcript_source \"WormBase\"; transcript_biotype \"protein_coding\"; protein_id \"Smp_900110.1\"; tag \"Ensembl_canonical\";\n",
      "SM_V10_MITO\tWormBase\tstart_codon\t13537\t13539\t.\t+\t0\tgene_id \"Smp_900110\"; gene_version \"1\"; transcript_id \"Smp_900110.1\"; exon_number \"1\"; gene_source \"WormBase\"; gene_biotype \"protein_coding\"; transcript_source \"WormBase\"; transcript_biotype \"protein_coding\"; tag \"Ensembl_canonical\";\n",
      "SM_V10_MITO\tWormBase\texon\t13753\t14415\t.\t+\t.\tgene_id \"Smp_900110\"; gene_version \"1\"; transcript_id \"Smp_900110.1\"; exon_number \"2\"; gene_source \"WormBase\"; gene_biotype \"protein_coding\"; transcript_source \"WormBase\"; transcript_biotype \"protein_coding\"; exon_id \"Smp_900110.1.e2\"; tag \"Ensembl_canonical\";\n",
      "SM_V10_MITO\tWormBase\tCDS\t13753\t14412\t.\t+\t0\tgene_id \"Smp_900110\"; gene_version \"1\"; transcript_id \"Smp_900110.1\"; exon_number \"2\"; gene_source \"WormBase\"; gene_biotype \"protein_coding\"; transcript_source \"WormBase\"; transcript_biotype \"protein_coding\"; protein_id \"Smp_900110.1\"; tag \"Ensembl_canonical\";\n",
      "SM_V10_MITO\tWormBase\tstop_codon\t14413\t14415\t.\t+\t0\tgene_id \"Smp_900110\"; gene_version \"1\"; transcript_id \"Smp_900110.1\"; exon_number \"2\"; gene_source \"WormBase\"; gene_biotype \"protein_coding\"; transcript_source \"WormBase\"; transcript_biotype \"protein_coding\"; tag \"Ensembl_canonical\";\n"
     ]
    }
   ],
   "source": [
    "!tail -10 annotations.gtf"
   ]
  },
  {
   "attachments": {},
   "cell_type": "markdown",
   "metadata": {},
   "source": [
    "Each line is a different annotation. In the first and last 10 lines we see gene, exon, CDS, start codon, stop codon, 5' UTR, and 3' UTR. The columns (technically \"fields\") of a GTF file are described at the link provided above. Provide definitions for each of these annotations and answer the last question:\n",
    "\n",
    "- gene:\n",
    "- exon:\n",
    "- CDS:\n",
    "- start codon:\n",
    "- stop codon:\n",
    "- 5' UTR:\n",
    "- 3' UTR:\n",
    "- Why isn't there an \"intron\" annotation?\n",
    "\n",
    "Fields are tab-separated. `grep` can again be used to search for annotations of interest, but this time we have to use a few regular expressions. Regular expressions (\"regexp\") are sequences of characters (\"expressions\") that can be used to search for patterns in the input text. The language Perl is (in)famous for enabling power regular expression searches, and it has been integrated into `grep`. [Here](https://www.cheat-sheets.org/saved-copy/perl-regexp-refcard-a4.pdf) is a cheat sheet for regular expressions in Perl.\n",
    "\n",
    "For example, below are a few lines that one might use to count the number of transcripts in the GTF:"
   ]
  },
  {
   "cell_type": "code",
   "execution_count": 10,
   "metadata": {},
   "outputs": [
    {
     "name": "stdout",
     "output_type": "stream",
     "text": [
      "231617\n",
      "10960\n"
     ]
    }
   ],
   "source": [
    "!grep -c \"transcript\" annotations.gtf\n",
    "!grep -c -P \"\\ttranscript\\t\" annotations.gtf"
   ]
  },
  {
   "attachments": {},
   "cell_type": "markdown",
   "metadata": {
    "tags": []
   },
   "source": [
    "Define the new `grep` flag and define the regular expression:\n",
    "\n",
    "- `P`: pattern is a regular expressions\n",
    "\n",
    "- `\\t`: a tab\n",
    "\n",
    "- Explain the difference between the two commands in the above code block and why they resulted in different values.\n",
    "\n",
    "We can use a similar idea to count the number of genes on chromsome 1 of the genome."
   ]
  },
  {
   "cell_type": "code",
   "execution_count": null,
   "metadata": {},
   "outputs": [],
   "source": [
    "!grep -c -P \"SM_V10_1.*\\tgene\\t\" annotations.gtf"
   ]
  },
  {
   "attachments": {},
   "cell_type": "markdown",
   "metadata": {
    "tags": []
   },
   "source": [
    "Define the regexp:\n",
    "\n",
    "- `.*`:"
   ]
  },
  {
   "attachments": {},
   "cell_type": "markdown",
   "metadata": {},
   "source": [
    "### `cut`\n",
    "There are a few command line tools used to explore delimited files (`cut`, `awk`, etc.). These tools allow you to slice up delimited files into different rows and columns (technically \"fields\"), and they can be piped with other tools to create powerful pipelines.\n",
    "\n",
    "Checkout the man page for `cut`:"
   ]
  },
  {
   "cell_type": "code",
   "execution_count": null,
   "metadata": {},
   "outputs": [],
   "source": [
    "!cut --help"
   ]
  },
  {
   "attachments": {},
   "cell_type": "markdown",
   "metadata": {},
   "source": [
    "For example, to get only the first field of the GTF:"
   ]
  },
  {
   "cell_type": "code",
   "execution_count": null,
   "metadata": {},
   "outputs": [],
   "source": [
    "!cut -f 1 annotations.gtf"
   ]
  },
  {
   "attachments": {},
   "cell_type": "markdown",
   "metadata": {},
   "source": [
    "You can combine `grep` and `cut` to extract fields from specific lines. For instance, suppose you're interested in the gene called Smp_104210, which is a gene that encodes an opsin protein (the receptor that detects photons in eyes or eye-spots). The following command would show you all the lines that contained that gene ID:"
   ]
  },
  {
   "cell_type": "code",
   "execution_count": 5,
   "metadata": {},
   "outputs": [
    {
     "name": "stdout",
     "output_type": "stream",
     "text": [
      "SM_V10_1\tcurated\tgene\t7098303\t7098851\t.\t-\t.\tgene_id \"Smp_245390\"; gene_version \"1\"; gene_source \"curated\"; gene_biotype \"protein_coding\";\n",
      "SM_V10_1\tcurated\ttranscript\t7098303\t7098851\t.\t-\t.\tgene_id \"Smp_245390\"; gene_version \"1\"; transcript_id \"Smp_245390.1\"; gene_source \"curated\"; gene_biotype \"protein_coding\"; transcript_source \"curated\"; transcript_biotype \"protein_coding\"; tag \"Ensembl_canonical\";\n",
      "SM_V10_1\tcurated\texon\t7098622\t7098851\t.\t-\t.\tgene_id \"Smp_245390\"; gene_version \"1\"; transcript_id \"Smp_245390.1\"; exon_number \"1\"; gene_source \"curated\"; gene_biotype \"protein_coding\"; transcript_source \"curated\"; transcript_biotype \"protein_coding\"; exon_id \"Smp_245390.1.e1\"; tag \"Ensembl_canonical\";\n",
      "SM_V10_1\tcurated\tCDS\t7098622\t7098851\t.\t-\t0\tgene_id \"Smp_245390\"; gene_version \"1\"; transcript_id \"Smp_245390.1\"; exon_number \"1\"; gene_source \"curated\"; gene_biotype \"protein_coding\"; transcript_source \"curated\"; transcript_biotype \"protein_coding\"; protein_id \"Smp_245390.1\"; tag \"Ensembl_canonical\";\n",
      "SM_V10_1\tcurated\tstart_codon\t7098849\t7098851\t.\t-\t0\tgene_id \"Smp_245390\"; gene_version \"1\"; transcript_id \"Smp_245390.1\"; exon_number \"1\"; gene_source \"curated\"; gene_biotype \"protein_coding\"; transcript_source \"curated\"; transcript_biotype \"protein_coding\"; tag \"Ensembl_canonical\";\n",
      "SM_V10_1\tcurated\texon\t7098303\t7098477\t.\t-\t.\tgene_id \"Smp_245390\"; gene_version \"1\"; transcript_id \"Smp_245390.1\"; exon_number \"2\"; gene_source \"curated\"; gene_biotype \"protein_coding\"; transcript_source \"curated\"; transcript_biotype \"protein_coding\"; exon_id \"Smp_245390.1.e2\"; tag \"Ensembl_canonical\";\n",
      "SM_V10_1\tcurated\tCDS\t7098306\t7098477\t.\t-\t1\tgene_id \"Smp_245390\"; gene_version \"1\"; transcript_id \"Smp_245390.1\"; exon_number \"2\"; gene_source \"curated\"; gene_biotype \"protein_coding\"; transcript_source \"curated\"; transcript_biotype \"protein_coding\"; protein_id \"Smp_245390.1\"; tag \"Ensembl_canonical\";\n",
      "SM_V10_1\tcurated\tstop_codon\t7098303\t7098305\t.\t-\t0\tgene_id \"Smp_245390\"; gene_version \"1\"; transcript_id \"Smp_245390.1\"; exon_number \"2\"; gene_source \"curated\"; gene_biotype \"protein_coding\"; transcript_source \"curated\"; transcript_biotype \"protein_coding\"; tag \"Ensembl_canonical\";\n"
     ]
    }
   ],
   "source": [
    "!grep 'Smp_245390' genome/annotations.gtf"
   ]
  },
  {
   "cell_type": "markdown",
   "metadata": {},
   "source": [
    "Now suppose you wanted the start position of the trasnscript associated with Smp_104210. We know from the GTF description that the 3rd field contains the feature type and the 4th field contains the start location. `cut` allows you to parse each field of a delimited file. `grep` exracts lines containing the search term, which can then be piped to `cut` to extract the feature, and then `grep` can again be used to only keep mRNA features."
   ]
  },
  {
   "cell_type": "code",
   "execution_count": 1,
   "metadata": {},
   "outputs": [
    {
     "name": "stdout",
     "output_type": "stream",
     "text": [
      "grep: annotations.gtf: No such file or directory\n"
     ]
    }
   ],
   "source": [
    "!grep 'Smp_104210' annotations.gtf | cut -f 3,4 | grep 'transcript'"
   ]
  },
  {
   "attachments": {},
   "cell_type": "markdown",
   "metadata": {
    "tags": []
   },
   "source": [
    "Using the features of the Smp_104210, answer the following questions:\n",
    "\n",
    "- What's the difference between the transript start location (which you found above) and the start codon?\n",
    "- How many exons are in Smp_104210?\n",
    "- What's the nucleotide length of the entire transcript?\n",
    "- What's the nucleotide length of the coding sequence?\n",
    "- How many amino acids are in the Smp_104210 peptide?"
   ]
  },
  {
   "attachments": {},
   "cell_type": "markdown",
   "metadata": {},
   "source": [
    "### `sort` and `uniq`\n",
    "\n",
    "Not all GTFs include the same features/annotations, and other types of annotation files (i.e., GFF3) are often much more comprehensive. When working with a new genome and its annotations, it's a good idea to make sure you know what types of features are included. You could open up the file and scroll through it, but they tend to be quite large. A better way is to use command line tools to explore the file.\n",
    "\n",
    "`sort` is a tool that explains itself - it sorts lines. After sorting, `uniq` can be used to remove duplicate lines. In an unmodified GTF, there are unlikely to be any duplicate lines - but there are many duplicates within separate fields of the GTF. As we know, the 3rd column includes the feature type, and we've seen several of these features using `head` and `tail`, but have we seen all of them? Using `cut`, `sort`, and `uniq`, we can use the command line to view them all. First, check out the `sort` and `uniq` man pages."
   ]
  },
  {
   "cell_type": "code",
   "execution_count": null,
   "metadata": {},
   "outputs": [],
   "source": [
    "!sort --help"
   ]
  },
  {
   "cell_type": "code",
   "execution_count": null,
   "metadata": {},
   "outputs": [],
   "source": [
    "!uniq --help"
   ]
  },
  {
   "attachments": {},
   "cell_type": "markdown",
   "metadata": {},
   "source": [
    "Now, pipe `cut`, `sort`, and `uniq` to list all the features. Use what you found in the man pages to provide the number of occurences of each feature. Each feature and output should be printed in the output derived from the below code block:"
   ]
  },
  {
   "cell_type": "code",
   "execution_count": null,
   "metadata": {
    "tags": []
   },
   "outputs": [],
   "source": []
  },
  {
   "attachments": {},
   "cell_type": "markdown",
   "metadata": {},
   "source": [
    "Answer the following questions:\n",
    "\n",
    "- Why are there more transcripts than there are genes?"
   ]
  },
  {
   "attachments": {},
   "cell_type": "markdown",
   "metadata": {},
   "source": [
    "# Genome and annotation visualization\n",
    "\n",
    "## JBrowse2\n",
    "\n",
    "FASTA files and GTF files are foundational, but even with command line tools it is difficult to inspect and explore these files, especially if we're interested in specific features. Thankfully, there are a range of different \"genome browsers\" that allow you to load genome sequences, annotations, and other \"tracks\" and use mouse to interact with it.\n",
    "\n",
    "There are a few popular genome browsers, but my favorite is [JBrowse2](https://jbrowse.org/jb2/). This browser is actively developed, modern, and works on all types of computers. Navigate to the JBrowse2 link and follow the instructions to download and install the app. After that, run the following commands to generate an index of the genome FASTA file. Indices are common auxillary files in bioinformatics; they allow for tools/apps to quickly access large files based on location (\"random access\") rather than starting at the beginning/end and searching for the location of interest. As you will see, we will use JBrowse2 to very quickly hop around the genome, which is enabled by the index file. We use `samtools` to generate this index. We'll become much more familiar with this program later."
   ]
  },
  {
   "cell_type": "code",
   "execution_count": 3,
   "metadata": {},
   "outputs": [],
   "source": [
    "!samtools faidx genome/genome.fa"
   ]
  },
  {
   "attachments": {},
   "cell_type": "markdown",
   "metadata": {},
   "source": [
    "The rest of this section will proceed locally, on your actual computer rather than on the server.\n",
    "\n",
    "You now need to download three files that you've retrieved:\n",
    "\n",
    "1. `genome.fa` - the FASTA file that contains the entire genomic sequence\n",
    "2. `genome.fa.fai` - the index for the genome\n",
    "3. `annotations.gtf` - the annotations file\n",
    "\n",
    "Right-click on the files in the Explorer pane of VS Code and click \"Download...\" It may be useful to put these files in a new folder somewhere on your computer.\n",
    "\n",
    "The rest of the lesson will be shown live during class."
   ]
  }
 ],
 "metadata": {
  "kernelspec": {
   "display_name": "biol343",
   "language": "python",
   "name": "python3"
  },
  "language_info": {
   "codemirror_mode": {
    "name": "ipython",
    "version": 3
   },
   "file_extension": ".py",
   "mimetype": "text/x-python",
   "name": "python",
   "nbconvert_exporter": "python",
   "pygments_lexer": "ipython3",
   "version": "3.12.3"
  },
  "orig_nbformat": 4
 },
 "nbformat": 4,
 "nbformat_minor": 2
}
