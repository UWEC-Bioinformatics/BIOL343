{
 "cells": [
  {
   "cell_type": "markdown",
   "metadata": {},
   "source": [
    "# Week 2 Homework\n",
    "\n",
    "***Due (pushed to your GitHub branch) on 9/27 by 11:59 pm***"
   ]
  },
  {
   "attachments": {},
   "cell_type": "markdown",
   "metadata": {},
   "source": [
    "Retrieve and decompress the genome."
   ]
  },
  {
   "cell_type": "code",
   "execution_count": 1,
   "metadata": {},
   "outputs": [
    {
     "name": "stdout",
     "output_type": "stream",
     "text": [
      "mkdir: cannot create directory ‘c_elegans_genome’: File exists\n",
      "/data/users/willetse0745/BIOL343/2_genome_exploration/c_elegans_genome\n",
      "--2024-09-26 15:14:54--  https://downloads.wormbase.org/species/c_elegans/sequence/genomic/c_elegans.PRJNA275000.current.genomic.fa.gz\n",
      "Resolving downloads.wormbase.org (downloads.wormbase.org)... 50.19.229.229\n",
      "Connecting to downloads.wormbase.org (downloads.wormbase.org)|50.19.229.229|:443... connected.\n",
      "HTTP request sent, awaiting response... 200 OK\n",
      "Length: 28610932 (27M) [application/x-gzip]\n",
      "Saving to: ‘c_elegans_genome.fa.gz’\n",
      "\n",
      "c_elegans_genome.fa 100%[===================>]  27.29M  34.9MB/s    in 0.8s    \n",
      "\n",
      "2024-09-26 15:14:55 (34.9 MB/s) - ‘c_elegans_genome.fa.gz’ saved [28610932/28610932]\n",
      "\n"
     ]
    }
   ],
   "source": [
    "!mkdir c_elegans_genome\n",
    "%cd c_elegans_genome\n",
    "!wget -nc -O c_elegans_genome.fa.gz https://downloads.wormbase.org/species/c_elegans/sequence/genomic/c_elegans.PRJNA275000.current.genomic.fa.gz\n",
    "!gzip -d -f c_elegans_genome.fa.gz"
   ]
  },
  {
   "cell_type": "markdown",
   "metadata": {},
   "source": [
    "Retrieve and decompress the annotations."
   ]
  },
  {
   "cell_type": "code",
   "execution_count": 6,
   "metadata": {},
   "outputs": [
    {
     "name": "stdout",
     "output_type": "stream",
     "text": [
      "--2024-09-26 15:23:51--  https://ftp.ebi.ac.uk/pub/databases/wormbase/parasite/releases/WBPS19/species/caenorhabditis_elegans/PRJNA13758/caenorhabditis_elegans.PRJNA13758.WBPS19.canonical_geneset.gtf.gz\n",
      "Resolving ftp.ebi.ac.uk (ftp.ebi.ac.uk)... 193.62.193.165\n",
      "Connecting to ftp.ebi.ac.uk (ftp.ebi.ac.uk)|193.62.193.165|:443... connected.\n",
      "HTTP request sent, awaiting response... 200 OK\n",
      "Length: 8521242 (8.1M) [application/x-gzip]\n",
      "Saving to: ‘STDOUT’\n",
      "\n",
      "-                   100%[===================>]   8.13M  6.62MB/s    in 1.2s    \n",
      "\n",
      "2024-09-26 15:23:53 (6.62 MB/s) - written to stdout [8521242/8521242]\n",
      "\n"
     ]
    }
   ],
   "source": [
    "!wget -O - https://ftp.ebi.ac.uk/pub/databases/wormbase/parasite/releases/WBPS19/species/caenorhabditis_elegans/PRJNA13758/caenorhabditis_elegans.PRJNA13758.WBPS19.canonical_geneset.gtf.gz | \\\n",
    "    gzip -f -d > c_elegans_annotations.gtf"
   ]
  },
  {
   "attachments": {},
   "cell_type": "markdown",
   "metadata": {},
   "source": [
    "Count the number of contigs/chromosomes using a single `grep` command. The command should return an integer."
   ]
  },
  {
   "cell_type": "code",
   "execution_count": 12,
   "metadata": {},
   "outputs": [
    {
     "name": "stdout",
     "output_type": "stream",
     "text": [
      "7\n"
     ]
    }
   ],
   "source": [
    "!grep -c \">\" c_elegans_genome.fa"
   ]
  },
  {
   "attachments": {},
   "cell_type": "markdown",
   "metadata": {},
   "source": [
    "List the name of each contig/chromosome, which is included in the header of each sequence. Your `grep` command should return the entire header of each entry, with a new line separating entries."
   ]
  },
  {
   "cell_type": "code",
   "execution_count": 10,
   "metadata": {},
   "outputs": [
    {
     "name": "stdout",
     "output_type": "stream",
     "text": [
      ">V length=20182852\n",
      ">X length=17537347\n",
      ">IV length=17183857\n",
      ">I length=14890789\n",
      ">II length=14885952\n",
      ">III length=13596826\n",
      ">MtDNA length=13793\n"
     ]
    }
   ],
   "source": [
    "!grep \">\" c_elegans_genome.fa"
   ]
  },
  {
   "attachments": {},
   "cell_type": "markdown",
   "metadata": {},
   "source": [
    "Using piped command line tools, list the feature types in the annotations file with the tally of each feature printed next to it."
   ]
  },
  {
   "cell_type": "code",
   "execution_count": null,
   "metadata": {},
   "outputs": [],
   "source": []
  },
  {
   "attachments": {},
   "cell_type": "markdown",
   "metadata": {},
   "source": [
    "Select a gene of interest.\n",
    "\n",
    "*Gene of interest:*\n",
    "\n",
    "Using piped command line tools, count the number of exons in your gene of interest."
   ]
  },
  {
   "cell_type": "code",
   "execution_count": null,
   "metadata": {},
   "outputs": [],
   "source": []
  },
  {
   "attachments": {},
   "cell_type": "markdown",
   "metadata": {},
   "source": [
    "*Copy/paste a screenshot of your gene of interest shown in JBrowse2*:"
   ]
  },
  {
   "cell_type": "markdown",
   "metadata": {},
   "source": []
  }
 ],
 "metadata": {
  "kernelspec": {
   "display_name": "biol343",
   "language": "python",
   "name": "python3"
  },
  "language_info": {
   "codemirror_mode": {
    "name": "ipython",
    "version": 3
   },
   "file_extension": ".py",
   "mimetype": "text/x-python",
   "name": "python",
   "nbconvert_exporter": "python",
   "pygments_lexer": "ipython3",
   "version": "3.12.3"
  },
  "orig_nbformat": 4
 },
 "nbformat": 4,
 "nbformat_minor": 2
}
