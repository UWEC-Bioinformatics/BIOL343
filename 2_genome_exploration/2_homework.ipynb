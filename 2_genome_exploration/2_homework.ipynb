{
 "cells": [
  {
   "cell_type": "markdown",
   "metadata": {},
   "source": [
    "# Week 2 Homework\n",
    "\n",
    "***Due (pushed to your GitHub branch) on 9/27 by 11:59 pm***"
   ]
  },
  {
   "attachments": {},
   "cell_type": "markdown",
   "metadata": {},
   "source": [
    "Retrieve and decompress the genome."
   ]
  },
  {
   "cell_type": "code",
   "execution_count": 4,
   "metadata": {},
   "outputs": [
    {
     "name": "stdout",
     "output_type": "stream",
     "text": [
      "--2024-09-19 16:49:17--  https://www.citrusgenomedb.org/citrus_downloads/Citrus_limon/C.limon_EMF-UC_v1-Alternative_genome/assembly/Climon_v1_alternative-scaffolds.fa\n",
      "Resolving www.citrusgenomedb.org... 134.121.193.87\n",
      "Connecting to www.citrusgenomedb.org|134.121.193.87|:443... connected.\n",
      "HTTP request sent, awaiting response... 200 OK\n",
      "Length: 324757774 (310M)\n",
      "Saving to: ‘lemon_genome.fa’\n",
      "\n",
      "lemon_genome.fa     100%[===================>] 309.71M  7.82MB/s    in 63s     \n",
      "\n",
      "2024-09-19 16:50:21 (4.89 MB/s) - ‘lemon_genome.fa’ saved [324757774/324757774]\n",
      "\n"
     ]
    }
   ],
   "source": [
    "#!mkdir lemons\n",
    "#%cd lemons\n",
    "!wget -nc -O lemon_genome.fa https://www.citrusgenomedb.org/citrus_downloads/Citrus_limon/C.limon_EMF-UC_v1-Alternative_genome/assembly/Climon_v1_alternative-scaffolds.fa\n"
   ]
  },
  {
   "cell_type": "markdown",
   "metadata": {},
   "source": [
    "Retrieve and decompress the annotations."
   ]
  },
  {
   "cell_type": "code",
   "execution_count": 3,
   "metadata": {},
   "outputs": [
    {
     "name": "stdout",
     "output_type": "stream",
     "text": [
      "--2024-09-19 15:42:29--  https://www.citrusgenomedb.org/citrus_downloads/Citrus_limon/C.limon_EMF-UC_v1-Alternative_genome/annotation/Climon_v1_alternative-annotation.gff\n",
      "Resolving www.citrusgenomedb.org... 134.121.193.87\n",
      "Connecting to www.citrusgenomedb.org|134.121.193.87|:443... connected.\n",
      "HTTP request sent, awaiting response... 200 OK\n",
      "Length: 27890165 (27M)\n",
      "Saving to: ‘STDOUT’\n",
      "\n",
      "-                   100%[===================>]  26.60M  23.0MB/s    in 1.2s    \n",
      "\n",
      "2024-09-19 15:42:30 (23.0 MB/s) - written to stdout [27890165/27890165]\n",
      "\n",
      "Warning: invalid start coordinate at line:\n",
      "##gff-version 3\t\t\t\t\t\t\t\t\n"
     ]
    }
   ],
   "source": [
    "!wget -O - https://www.citrusgenomedb.org/citrus_downloads/Citrus_limon/C.limon_EMF-UC_v1-Alternative_genome/annotation/Climon_v1_alternative-annotation.gff | \\\n",
    "    gzip -f -d > lemon_annotations.gff\n",
    "!gffread lemon_annotations.gff -T -o lemon_annotations.gtf"
   ]
  },
  {
   "attachments": {},
   "cell_type": "markdown",
   "metadata": {},
   "source": [
    "Count the number of contigs/chromosomes using a single `grep` command. The command should return an integer."
   ]
  },
  {
   "cell_type": "code",
   "execution_count": null,
   "metadata": {},
   "outputs": [],
   "source": []
  },
  {
   "attachments": {},
   "cell_type": "markdown",
   "metadata": {},
   "source": [
    "List the name of each contig/chromosome, which is included in the header of each sequence. Your `grep` command should return the entire header of each entry, with a new line separating entries."
   ]
  },
  {
   "cell_type": "code",
   "execution_count": null,
   "metadata": {},
   "outputs": [],
   "source": []
  },
  {
   "attachments": {},
   "cell_type": "markdown",
   "metadata": {},
   "source": [
    "Using piped command line tools, list the feature types in the annotations file with the tally of each feature printed next to it."
   ]
  },
  {
   "cell_type": "code",
   "execution_count": null,
   "metadata": {},
   "outputs": [],
   "source": []
  },
  {
   "attachments": {},
   "cell_type": "markdown",
   "metadata": {},
   "source": [
    "Select a gene of interest.\n",
    "\n",
    "*Gene of interest:*\n",
    "\n",
    "Using piped command line tools, count the number of exons in your gene of interest."
   ]
  },
  {
   "cell_type": "code",
   "execution_count": null,
   "metadata": {},
   "outputs": [],
   "source": []
  },
  {
   "attachments": {},
   "cell_type": "markdown",
   "metadata": {},
   "source": [
    "*Copy/paste a screenshot of your gene of interest shown in JBrowse2*:"
   ]
  },
  {
   "cell_type": "markdown",
   "metadata": {},
   "source": []
  }
 ],
 "metadata": {
  "kernelspec": {
   "display_name": "biol343",
   "language": "python",
   "name": "python3"
  },
  "language_info": {
   "codemirror_mode": {
    "name": "ipython",
    "version": 3
   },
   "file_extension": ".py",
   "mimetype": "text/x-python",
   "name": "python",
   "nbconvert_exporter": "python",
   "pygments_lexer": "ipython3",
   "version": "3.12.3"
  },
  "orig_nbformat": 4
 },
 "nbformat": 4,
 "nbformat_minor": 2
}
