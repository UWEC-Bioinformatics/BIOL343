{
 "cells": [
  {
   "attachments": {},
   "cell_type": "markdown",
   "metadata": {},
   "source": [
    "# Week 5 Homework\n",
    "\n",
    "***Due (pushed to your GitHub branch) on 10/18 by 11:59 pm***"
   ]
  },
  {
   "attachments": {},
   "cell_type": "markdown",
   "metadata": {},
   "source": [
    "## FASTQ fetch, QC, and trimming/filtering\n",
    "\n",
    "Use the SRA-toolkit to fetch the relevant FASTQ files. You may use a hand-crafted `txt` file to provide the list of SRAs instead of manipulating an SRA Run Table with `cut`."
   ]
  },
  {
   "cell_type": "code",
   "execution_count": 2,
   "metadata": {},
   "outputs": [
    {
     "name": "stdout",
     "output_type": "stream",
     "text": [
      "['ERR4231022', 'ERR4231010', 'ERR4231012', 'ERR4231013', 'ERR4231014', 'ERR4231015', 'ERR4231016', 'ERR4231017', 'ERR4231018', 'ERR4231019', 'ERR4231020', 'ERR4231021', 'ERR4231023', 'ERR4231011']\n"
     ]
    }
   ],
   "source": [
    "# ERR4231022\n",
    "# ERR4231010\n",
    "# ERR4231012\n",
    "# ERR4231013\n",
    "# ERR4231014\n",
    "# ERR4231015\n",
    "# ERR4231016\n",
    "# ERR4231017\n",
    "# ERR4231018\n",
    "# ERR4231019\n",
    "# ERR4231020\n",
    "# ERR4231021\n",
    "# ERR4231023\n",
    "# ERR4231011\n",
    "print(\"ERR4231022 ERR4231010 ERR4231012 ERR4231013 ERR4231014 ERR4231015 ERR4231016 ERR4231017 ERR4231018 ERR4231019 ERR4231020 ERR4231021 ERR4231023 ERR4231011\".split(\" \"))\n"
   ]
  },
  {
   "attachments": {},
   "cell_type": "markdown",
   "metadata": {},
   "source": [
    "Run QC on the FASTQ files and aggregate the results into a report."
   ]
  },
  {
   "cell_type": "code",
   "execution_count": 26,
   "metadata": {},
   "outputs": [
    {
     "name": "stdout",
     "output_type": "stream",
     "text": [
      "Getting ERR4231022 from NCBI SRA\n",
      "2024-10-24 16:58:47,245 - SRR ids: ['ERR4231022']\n",
      "2024-10-24 16:58:47,245 - extra args: ['--gzip']\n",
      "2024-10-24 16:58:47,246 - tempdir: /local/scratch/job_101134/pfd_3mbmnpz2\n",
      "2024-10-24 16:58:47,246 - CMD: sra-stat --meta --quick ERR4231022\n",
      "2024-10-24 16:58:50,044 - ERR4231022 spots: 55208970\n",
      "2024-10-24 16:58:50,044 - blocks: [[1, 3450560], [3450561, 6901120], [6901121, 10351680], [10351681, 13802240], [13802241, 17252800], [17252801, 20703360], [20703361, 24153920], [24153921, 27604480], [27604481, 31055040], [31055041, 34505600], [34505601, 37956160], [37956161, 41406720], [41406721, 44857280], [44857281, 48307840], [48307841, 51758400], [51758401, 55208970]]\n",
      "2024-10-24 16:58:50,044 - CMD: fastq-dump -N 1 -X 3450560 -O /local/scratch/job_101134/pfd_3mbmnpz2/0 --gzip ERR4231022\n",
      "2024-10-24 16:58:50,097 - CMD: fastq-dump -N 3450561 -X 6901120 -O /local/scratch/job_101134/pfd_3mbmnpz2/1 --gzip ERR4231022\n",
      "2024-10-24 16:58:50,098 - CMD: fastq-dump -N 6901121 -X 10351680 -O /local/scratch/job_101134/pfd_3mbmnpz2/2 --gzip ERR4231022\n",
      "2024-10-24 16:58:50,098 - CMD: fastq-dump -N 10351681 -X 13802240 -O /local/scratch/job_101134/pfd_3mbmnpz2/3 --gzip ERR4231022\n",
      "2024-10-24 16:58:50,098 - CMD: fastq-dump -N 13802241 -X 17252800 -O /local/scratch/job_101134/pfd_3mbmnpz2/4 --gzip ERR4231022\n",
      "2024-10-24 16:58:50,099 - CMD: fastq-dump -N 17252801 -X 20703360 -O /local/scratch/job_101134/pfd_3mbmnpz2/5 --gzip ERR4231022\n",
      "2024-10-24 16:58:50,099 - CMD: fastq-dump -N 20703361 -X 24153920 -O /local/scratch/job_101134/pfd_3mbmnpz2/6 --gzip ERR4231022\n",
      "2024-10-24 16:58:50,100 - CMD: fastq-dump -N 24153921 -X 27604480 -O /local/scratch/job_101134/pfd_3mbmnpz2/7 --gzip ERR4231022\n",
      "2024-10-24 16:58:50,100 - CMD: fastq-dump -N 27604481 -X 31055040 -O /local/scratch/job_101134/pfd_3mbmnpz2/8 --gzip ERR4231022\n",
      "2024-10-24 16:58:50,100 - CMD: fastq-dump -N 31055041 -X 34505600 -O /local/scratch/job_101134/pfd_3mbmnpz2/9 --gzip ERR4231022\n",
      "2024-10-24 16:58:50,101 - CMD: fastq-dump -N 34505601 -X 37956160 -O /local/scratch/job_101134/pfd_3mbmnpz2/10 --gzip ERR4231022\n",
      "2024-10-24 16:58:50,101 - CMD: fastq-dump -N 37956161 -X 41406720 -O /local/scratch/job_101134/pfd_3mbmnpz2/11 --gzip ERR4231022\n",
      "2024-10-24 16:58:50,101 - CMD: fastq-dump -N 41406721 -X 44857280 -O /local/scratch/job_101134/pfd_3mbmnpz2/12 --gzip ERR4231022\n",
      "2024-10-24 16:58:50,102 - CMD: fastq-dump -N 44857281 -X 48307840 -O /local/scratch/job_101134/pfd_3mbmnpz2/13 --gzip ERR4231022\n",
      "2024-10-24 16:58:50,102 - CMD: fastq-dump -N 48307841 -X 51758400 -O /local/scratch/job_101134/pfd_3mbmnpz2/14 --gzip ERR4231022\n",
      "2024-10-24 16:58:50,102 - CMD: fastq-dump -N 51758401 -X 55208970 -O /local/scratch/job_101134/pfd_3mbmnpz2/15 --gzip ERR4231022\n",
      "^C\n"
     ]
    }
   ],
   "source": [
    "# !mkdir fastq_placenta\n",
    "!cut -d ',' -f 1 SraRunTable_Placenta.txt | tail -n +2 > sra_list_placenta.txt\n",
    "!while IFS= read -r line; do \\\n",
    "    echo \"Getting $line from NCBI SRA\"; \\\n",
    "    parallel-fastq-dump --sra-id $line --threads 16 --outdir fastq_placenta --gzip; \\\n",
    "    done < sra_list_placenta.txt"
   ]
  },
  {
   "attachments": {},
   "cell_type": "markdown",
   "metadata": {},
   "source": [
    "Edit this block with a short evaluation of each of the report sections. Each evaluation should include your important observations, reasons for potential QC failure, and an opinion on what should be done on the failure (i.e., trimming or filtering). Problem FASTQ files, if any, should be noted.\n",
    "\n",
    "*Per base sequence quality:*\n",
    "\n",
    "    Samples ERR42310[19-21] have a low sequence quality after at base 172 with 177 being where the low points start. This could be due to a poly-A tail.\n",
    "    Samples ERR42310[17&18] drop of in quality at base 187.\n",
    "    The other samples seem to have decent per base sequence qualities.\n",
    "*Per tile sequence quality:*\n",
    "\n",
    "    no report on my multiqc file\n",
    "*Per sequence quality scores:*\n",
    "\n",
    "    The Phred scores are within high quality ranges for every sample. \n",
    "*Per base sequence content:*\n",
    "\n",
    "    Before bp 10 there is a low sequence content score, this is likely due to an adapter or identifier. \n",
    "*Per sequence GC content:*\n",
    "\n",
    "    Samples ERR42310[16-18,20,22-23] have warnings for their GC content with some sequences having 61% gc content.\n",
    "*Per base N content:*\n",
    "\n",
    "    Samples ERR42310[19-21] have a high percentage of per base N content starting at bp 177 which is similar to their quality drop off points, likely due to the same thing that lowered their quality score.   \n",
    "*Sequence length distribution:*\n",
    "\n",
    "    All sequences had a length of 202 bp\n",
    "*Sequence duplication levels:*\n",
    "\n",
    "    Samples ERR42310[11&14] have warnings for their duplication levels while the rest of the samples failed their duplication levels. They all had over 10k sequences that were repeated or duplicated\n",
    "*Overrepresented sequences:*\n",
    "\n",
    "    The top overrepresented sequences were:\n",
    "    CTAAAATCCCTCTTCGGATCCACAGTCAACCGCCCTGAACACATCCTGCA\t4\t246420\t0.0314%\n",
    "    CGAAGCTAAAATCCCTCTTCGGATCCACAGTCAACCGCCCTGAACACATC\t3\t169383\t0.0216%\n",
    "    AGATCGGAAGAGCACACGTCTGAACTCCAGTCACCAGATCATCTCGTATG\t3\t578466\t0.0736%\n",
    "    AGATCGGAAGAGCACACGTCTGAACTCCAGTCACCGATGTATCTCGTATG\t3\t228204\t0.0290%\n",
    "    GATCGGAAGAGCACACGTCTGAACTCCAGTCACCAGATCATCTCGTATGC\t2\t200072\t0.0255%\n",
    "    GGAAAACCCATTCTTCTCCCAGCCGGGTGCCCCAATACTTCAGTGCATGG\t1\t37188\t0.0047%\n",
    "    Most of these are known illumina sequence adapters and the rest are human sequences.\n",
    "\n",
    "*Adapter content:*\n",
    "\n",
    "    Most of the samples have illumina sequence adapters or poly-A tails after bp 92 and some even at bp 67"
   ]
  },
  {
   "attachments": {},
   "cell_type": "markdown",
   "metadata": {},
   "source": [
    "If necessary, use `cutadapt` to trim and filter your reads. Provide a justification for the `cutadapt` parameters you used:\n",
    "\n"
   ]
  },
  {
   "cell_type": "code",
   "execution_count": null,
   "metadata": {},
   "outputs": [],
   "source": [
    "# !mkdir fastq_placenta/placenta_qc\n",
    "!fastqc -t 16 fastq_placenta/*.fastq.gz -o fastq_placenta/placenta_qc"
   ]
  },
  {
   "cell_type": "code",
   "execution_count": 9,
   "metadata": {},
   "outputs": [],
   "source": [
    "!cutadapt -a AATGATACGGCGACCACCGAGATCTACACTCTTTCCCTACACGACGCTCTTCCGATCT -u 10 -q 28 -o ./fastq_placenta/trimmed_placenta/ERR4231018.fastq.gz fast"
   ]
  },
  {
   "cell_type": "code",
   "execution_count": 25,
   "metadata": {},
   "outputs": [
    {
     "name": "stdout",
     "output_type": "stream",
     "text": [
      "/data/users/mccallke0364/BIOL343/5_fastq/fastq_placenta\n",
      "ERR4231010.fastq.gz  ERR4231016.fastq.gz  ERR4231022.fastq.gz\n",
      "ERR4231011.fastq.gz  ERR4231017.fastq.gz  ERR4231023.fastq.gz\n",
      "ERR4231012.fastq.gz  ERR4231018.fastq.gz  placenta_qc\n",
      "ERR4231013.fastq.gz  ERR4231019.fastq.gz  trimmed_placenta\n",
      "ERR4231014.fastq.gz  ERR4231020.fastq.gz\n",
      "ERR4231015.fastq.gz  ERR4231021.fastq.gz\n",
      "This is cutadapt 4.9 with Python 3.12.3\n",
      "Command line parameters: -u 10 -q 28 -o ./trimmed_placenta/ERR4231010.fastq.gz ./ERR4231010.fastq.gz\n",
      "Processing single-end reads on 1 core ...\n",
      "\n",
      "No reads processed!\n",
      "This is cutadapt 4.9 with Python 3.12.3\n",
      "Command line parameters: -u 10 -q 28 -o ./trimmed_placenta/ERR4231011.fastq.gz ./ERR4231011.fastq.gz\n",
      "Processing single-end reads on 1 core ...\n",
      "\n",
      "No reads processed!\n",
      "This is cutadapt 4.9 with Python 3.12.3\n",
      "Command line parameters: -u 10 -q 28 -o ./trimmed_placenta/ERR4231012.fastq.gz ./ERR4231012.fastq.gz\n",
      "Processing single-end reads on 1 core ...\n",
      "\n",
      "No reads processed!\n",
      "This is cutadapt 4.9 with Python 3.12.3\n",
      "Command line parameters: -u 10 -q 28 -o ./trimmed_placenta/ERR4231013.fastq.gz ./ERR4231013.fastq.gz\n",
      "Processing single-end reads on 1 core ...\n",
      "\n",
      "No reads processed!\n",
      "This is cutadapt 4.9 with Python 3.12.3\n",
      "Command line parameters: -u 10 -q 28 -o ./trimmed_placenta/ERR4231014.fastq.gz ./ERR4231014.fastq.gz\n",
      "Processing single-end reads on 1 core ...\n",
      "\n",
      "No reads processed!\n",
      "This is cutadapt 4.9 with Python 3.12.3\n",
      "Command line parameters: -u 10 -q 28 -o ./trimmed_placenta/ERR4231015.fastq.gz ./ERR4231015.fastq.gz\n",
      "Processing single-end reads on 1 core ...\n",
      "\n",
      "No reads processed!\n",
      "This is cutadapt 4.9 with Python 3.12.3\n",
      "Command line parameters: -u 10 -q 28 -o ./trimmed_placenta/ERR4231016.fastq.gz ./ERR4231016.fastq.gz\n",
      "Processing single-end reads on 1 core ...\n",
      "\n",
      "No reads processed!\n",
      "This is cutadapt 4.9 with Python 3.12.3\n",
      "Command line parameters: -u 10 -q 28 -o ./trimmed_placenta/ERR4231017.fastq.gz ./ERR4231017.fastq.gz\n",
      "Processing single-end reads on 1 core ...\n",
      "\n",
      "No reads processed!\n",
      "This is cutadapt 4.9 with Python 3.12.3\n",
      "Command line parameters: -u 10 -q 28 -o ./trimmed_placenta/ERR4231018.fastq.gz ./ERR4231018.fastq.gz\n",
      "Processing single-end reads on 1 core ...\n",
      "\n",
      "No reads processed!\n",
      "This is cutadapt 4.9 with Python 3.12.3\n",
      "Command line parameters: -u 10 -q 28 -o ./trimmed_placenta/ERR4231019.fastq.gz ./ERR4231019.fastq.gz\n",
      "Processing single-end reads on 1 core ...\n",
      "\n",
      "No reads processed!\n",
      "This is cutadapt 4.9 with Python 3.12.3\n",
      "Command line parameters: -u 10 -q 28 -o ./trimmed_placenta/ERR4231020.fastq.gz ./ERR4231020.fastq.gz\n",
      "Processing single-end reads on 1 core ...\n",
      "\n",
      "No reads processed!\n",
      "This is cutadapt 4.9 with Python 3.12.3\n",
      "Command line parameters: -u 10 -q 28 -o ./trimmed_placenta/ERR4231021.fastq.gz ./ERR4231021.fastq.gz\n",
      "Processing single-end reads on 1 core ...\n",
      "\n",
      "No reads processed!\n",
      "This is cutadapt 4.9 with Python 3.12.3\n",
      "Command line parameters: -u 10 -q 28 -o ./trimmed_placenta/ERR4231022.fastq.gz ./ERR4231022.fastq.gz\n",
      "Processing single-end reads on 1 core ...\n",
      "\n",
      "No reads processed!\n",
      "This is cutadapt 4.9 with Python 3.12.3\n",
      "Command line parameters: -u 10 -q 28 -o ./trimmed_placenta/ERR4231023.fastq.gz ./ERR4231023.fastq.gz\n",
      "Processing single-end reads on 1 core ...\n",
      "\n",
      "No reads processed!\n",
      "/data/users/mccallke0364/BIOL343/5_fastq\n",
      "5_fastq.ipynb\t      fastq_placenta\t     snakemake_hw_5\n",
      "5_homework.ipynb      multiqc_data\t     sra_list_placenta.txt\n",
      "assets\t\t      multiqc_data_1\t     sra_list.txt\n",
      "config_placenta.yaml  multiqc_report_1.html  SraRunTable_Placenta.txt\n",
      "config.yaml\t      multiqc_report.html    SraRunTable.txt\n",
      "fastq\t\t      Snakefile\t\t     trimmed\n"
     ]
    }
   ],
   "source": [
    "# %mkdir fastq_placenta/trimmed_placenta\n",
    "!for fastq in fastq_placenta/*.fastq.gz; do \\\n",
    "    base_name=$(basename \"$fastq\" .fastq.gz); \\\n",
    "    cutadapt -a AATGATACGGCGACCACCGAGATCTACACTCTTTCCCTACACGACGCTCTTCCGATCT -u 10 -q 28 -o ./fastq_placenta/trimmed/$base_name.fastq.gz $fastq; \\\n",
    "done"
   ]
  },
  {
   "attachments": {},
   "cell_type": "markdown",
   "metadata": {},
   "source": [
    "Run QC on the trimmed/filtered reads and generate an aggregated report"
   ]
  },
  {
   "cell_type": "code",
   "execution_count": 10,
   "metadata": {},
   "outputs": [
    {
     "name": "stdout",
     "output_type": "stream",
     "text": [
      "\n",
      "  \u001b[91m///\u001b[0m \u001b]8;id=893344;https://multiqc.info\u001b\\\u001b[1mMultiQC\u001b[0m\u001b]8;;\u001b\\ 🔍 \u001b[2m| v1.17\u001b[0m\n",
      "\n",
      "\u001b[34m|           multiqc\u001b[0m | Search path : /data/users/mccallke0364/BIOL343/5_fastq/fastq_placenta\n",
      "\u001b[2K\u001b[34m|\u001b[0m         \u001b[34msearching\u001b[0m | \u001b[90m━━━━━━━━━━━━━━━━━━━━━━━━━━━━━━━━━━━━━━━━\u001b[0m \u001b[35m100%\u001b[0m \u001b[32m42/42\u001b[0m  \u001b[0m0m  \n",
      "\u001b[?25h\u001b[34m|            fastqc\u001b[0m | Found 14 reports\n",
      "\u001b[34m|           multiqc\u001b[0m | Existing reports found, adding suffix to filenames. Use '--force' to overwrite.\n",
      "\u001b[34m|           multiqc\u001b[0m | Report      : multiqc_report_1.html\n",
      "\u001b[34m|           multiqc\u001b[0m | Data        : multiqc_data_1\n",
      "\u001b[34m|           multiqc\u001b[0m | MultiQC complete\n"
     ]
    }
   ],
   "source": [
    "!multiqc fastq_placenta/."
   ]
  },
  {
   "attachments": {},
   "cell_type": "markdown",
   "metadata": {},
   "source": [
    "Report your observations on which QC metrics improved (or got worse):\n",
    "\n"
   ]
  },
  {
   "attachments": {},
   "cell_type": "markdown",
   "metadata": {},
   "source": [
    "## Snakemake Pipeline"
   ]
  },
  {
   "attachments": {},
   "cell_type": "markdown",
   "metadata": {},
   "source": [
    "When running bioinformatics studies, it is wise to use notebooks (such as this one) to tie together code, decisions, and data visualization. The above task is something you might generate and report to a client or supervisor who might be interested in sequencing QC and what kind of pre-processing decisions you made prior to alignment. In addition, the preprocessing should be readily reproducible by all relevant stakeholders, so you should supplement notebooks with pipeline scripts. Throughout the semester, we will be creating snakemake pipelines to reproduce the published analysis that you've selected. Follow the below steps to begin producing this pipeline:\n",
    "\n",
    "1. Make a new `Snakefile` and `config.yaml` in `5_fastq`. \n",
    "2. In the `Snakefile`, produce the following rules:  \n",
    "    a. `fetch_fastq` - use `parallel-fastq-dump` to fetch every FASTQ file listed in `config.yaml`.  \n",
    "    b. `fastq_qc` - use `fastqc` to run QC on the raw FASTQ files.  \n",
    "    c. `trim_filter` - use `cutadapt` to trim and/or filter the FASTQ reads using parameters justified in this notebook. ***Note:*** if you choose to trim/filter, it should be done on *all* of the FASTQ files; do not cherry pick.  \n",
    "    d. `trim_qc` - use `fastqc` to run QC on the trimmed FASTQ files.  \n",
    "    e. `report` - use `multiqc` to aggregate all QC data into a single report.\n",
    "\n",
    "This `Snakefile` should not use any `wrappers` because we already have the relevant software installed in the `biol343` conda environment. The pipeline should run to completion when any instructor or classmate runs `snakemake --use-conda`. You may use the documentation found [here](https://multiqc.info/docs/usage/pipelines/#snakemake) or any other online documentation you may find. You may not use any AI tools to complete this homework."
   ]
  }
 ],
 "metadata": {
  "kernelspec": {
   "display_name": "biol343",
   "language": "python",
   "name": "python3"
  },
  "language_info": {
   "codemirror_mode": {
    "name": "ipython",
    "version": 3
   },
   "file_extension": ".py",
   "mimetype": "text/x-python",
   "name": "python",
   "nbconvert_exporter": "python",
   "pygments_lexer": "ipython3",
   "version": "3.12.3"
  },
  "orig_nbformat": 4
 },
 "nbformat": 4,
 "nbformat_minor": 2
}
