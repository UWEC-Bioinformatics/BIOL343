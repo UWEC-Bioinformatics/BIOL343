{
 "cells": [
  {
   "attachments": {},
   "cell_type": "markdown",
   "metadata": {},
   "source": [
    "# Week 1 Homework\n",
    "\n",
    "***Due (pushed to your GitHub branch) on 9/20 by 11:59 pm***\n",
    "\n",
    "## Paper selection\n",
    "\n",
    "Link to paper: https://journals.plos.org/plospathogens/article?id=10.1371/journal.ppat.1004713#sec002\n",
    "\n",
    "*Major research question: How do viruses affect the poplulations of honey bees?\n",
    "\n",
    "*Short synopsis of paper (50-75 words): Farmers and beekeepers are losing about 30% of their population per year to viruses. These viruses, specifically Israeli Acute Paralysis Virus which paralyzes the bees leading to their inevitable death. This is leading to a sharp decline in major crop production around the world. Leading to both losses in jobs and losses in food production. By creating a control grou of bees and infecting some with the viruses they were able to look at the difference in gene expression.\n",
    "\n",
    "## RNA-seq\n",
    "\n",
    "*Description of the use of RNA-seq: After both the infected bees and the unaffected bees died. They took apart their abdomins.\n",
    "\n",
    "### Experimental details\n",
    "\n",
    "*Species:*\n",
    "\n",
    "*Tissue source:*\n",
    "\n",
    "*Variables (i.e., treatments, multiples tissue sources, time course, etc.):*\n",
    "\n",
    "*Method of RNA extraction:*\n",
    "\n",
    "*Method of library prep:*\n",
    "\n",
    "*Type of sequencer used:*\n",
    "\n",
    "*Number and description of replicates:*\n",
    "\n",
    "### Computational details\n",
    "\n",
    "*Link to reference genome:*\n",
    "\n",
    "*Link to genome annotations (GTF):*\n",
    "\n",
    "*Link to RNA-seq reads (BioProject or SRA):*\n",
    "\n",
    "## Results\n",
    "\n",
    "*Include figures that report RNA-seq results.*\n",
    "\n",
    "To include figures in Markdown, copy the image (JPG, PNG, etc.) to `1_paper_selection/assets/` and include the Markdown code: `![Image alt text](assets/{filename})`. The image will be rendered when the Markdown document is processed. If you want to adjust the size of the image, you have to use HTML tags. Examples can be found by lookinga the Markdown syntax in `1_paper.selection.ipynb`, i.e., `<img src=\"assets/journal.ppat.1012268.g001.PNG\" alt=\"experiment data\" width=\"600\">`\n",
    "\n",
    "- *Figure 1*\n",
    "\n",
    "- *Figure 2*\n",
    "\n",
    "- *Etc.*\n",
    "\n",
    "*Short description of each figure, including the results and conclusions derived from the figure:*\n",
    "\n",
    "- *Figure 1*\n",
    "\n",
    "- *Figure 2*\n",
    "\n",
    "- *Etc.*"
   ]
  },
  {
   "cell_type": "markdown",
   "metadata": {},
   "source": []
  }
 ],
 "metadata": {
  "kernelspec": {
   "display_name": "Python 3",
   "language": "python",
   "name": "python3"
  },
  "language_info": {
   "name": "python",
   "version": "3.9.13"
  },
  "orig_nbformat": 4
 },
 "nbformat": 4,
 "nbformat_minor": 2
}
