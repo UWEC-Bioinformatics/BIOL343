{
 "cells": [
  {
   "attachments": {},
   "cell_type": "markdown",
   "metadata": {},
   "source": [
    "# Week 1 Homework\n",
    "\n",
    "***Due (pushed to your GitHub branch) on 9/19 by 11:59 pm***\n",
    "\n",
    "## Paper selection\n",
    "\n",
    "Link to paper: https://elifesciences.org/articles/30860#abstract\n",
    "\n",
    "*Major research question:* how does gene regulation play a role in the embryonic development of vertebraes?\n",
    "\n",
    "*Short synopsis of paper (50-75 words):* Gene regulation the fundamental way embryonic development happens and transcription a major way of how it occurs in the cell. This paper analyzed samples from zebrafish embryos during various stages of development and looked at the RNA expression at different stages to see how it is associated with the development.\n",
    "\n",
    "## RNA-seq\n",
    "\n",
    "*Description of the use of RNA-seq:* \"...generated a comprehensive polyadenylated RNA expression profile of normal zebrafish development\"\n",
    "\n",
    "### Experimental details\n",
    "\n",
    "*Species:* Wild-type HLF strain zebrafish (Danio rerio)\n",
    "\n",
    "*Tissue source:* embryos: 18 different developmental stages from 1 cell to 5 days post-fertilization\n",
    "\n",
    "*Variables (i.e., treatments, multiples tissue sources, time course, etc.):* time: stage of embryonic development\n",
    "\n",
    "*Method of RNA extraction:* First mechanically broke the cells using beta mercaptoethanol. Then let RNA bind to beads (Agencourt RNAClean XP) before using a magnet to remove the liquid and then washed with 70% ethanol and air dried. The beads were then suspended in water and removed from the beads using a magnetic track.\n",
    "\n",
    "*Method of library prep:* Strand-specific RNA-seq libraries containing unique index sequences in the adapter were generated simultaneously following the dUTP method\n",
    "\n",
    "*Type of sequencer used:* Illumina HiSeq 2500 in 100 bp paired-end mode.\n",
    "\n",
    "*Number and description of replicates:* each time point had 5 replicates. Each replicate consisted of a pool of 12 embryos\n",
    "\n",
    "### Computational details\n",
    "\n",
    "*Link to reference genome:* https://www.ncbi.nlm.nih.gov/datasets/genome/GCF_000002035.5/\n",
    "\n",
    "*Link to genome annotations (GTF):* https://www.ncbi.nlm.nih.gov/datasets/genome/GCF_000002035.5/\n",
    "\n",
    "*Link to RNA-seq reads (BioProject or SRA):* Sequence data were deposited in ENA under accession ERP014517.\n",
    "\n",
    "## Results\n",
    "\n",
    "*Include figures that report RNA-seq results.*\n",
    "\n",
    "To include figures in Markdown, copy the image (JPG, PNG, etc.) to `1_paper_selection/assets/` and include the Markdown code: `![Image alt text](assets/{filename})`. The image will be rendered when the Markdown document is processed. If you want to adjust the size of the image, you have to use HTML tags. Examples can be found by lookinga the Markdown syntax in `1_paper.selection.ipynb`, i.e., `<img src=\"assets/journal.ppat.1012268.g001.PNG\" alt=\"experiment data\" width=\"600\">`\n",
    "\n",
    "- *Figure 1*\n",
    "\n",
    "- *Figure 2*\n",
    "\n",
    "- *Etc.*\n",
    "\n",
    "*Short description of each figure, including the results and conclusions derived from the figure:*\n",
    "\n",
    "- *Figure 1*\n",
    "\n",
    "- *Figure 2*\n",
    "\n",
    "- *Etc.*"
   ]
  },
  {
   "cell_type": "markdown",
   "metadata": {},
   "source": []
  }
 ],
 "metadata": {
  "kernelspec": {
   "display_name": "Python 3",
   "language": "python",
   "name": "python3"
  },
  "language_info": {
   "name": "python",
   "version": "3.9.13"
  },
  "orig_nbformat": 4
 },
 "nbformat": 4,
 "nbformat_minor": 2
}
