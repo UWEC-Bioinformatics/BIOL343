{
 "cells": [
  {
   "cell_type": "markdown",
   "metadata": {},
   "source": [
    "# Week 3 Homework\n",
    "\n",
    "***Due (pushed to your GitHub branch) on 10/4 by 11:59 pm***"
   ]
  },
  {
   "attachments": {},
   "cell_type": "markdown",
   "metadata": {},
   "source": [
    "## Continue the snakemake tutorial\n",
    "1. [Advanced](https://snakemake.readthedocs.io/en/stable/tutorial/advanced.html)\n",
    "2. [Additional features](https://snakemake.readthedocs.io/en/stable/tutorial/additional_features.html)\n",
    "    - Skip the *Cluster or cloud execution* and *Tool wrapper* sections\n",
    "\n",
    "- Make sure you complete the bullet points under the Excercise headings\n",
    "- Successful completion will be demonstrated by the following directories/files found in your branch:\n",
    "    - `config.yaml`\n",
    "    - `logs/`\n",
    "    - `logs/bwa_mem/`\n",
    "    - `logs/bcftools_call/`\n",
    "    - Removal of `mapped_reads/`\n",
    "    - `benchmarks/`\n",
    "    - `sub_workflow/` (or another location where you store the `bwa_map.smk` file)\n",
    "    - `envs/samtools.yaml`"
   ]
  },
  {
   "attachments": {},
   "cell_type": "markdown",
   "metadata": {},
   "source": [
    "## Convert your Week 2 Homework notebook to a Shell script\n",
    "\n",
    "- Create a new file called `genome_exploration.sh` and save it in the `2_genome_exploration/` directory\n",
    "- All downloaded files should be written to a new directory in `2_genome_exploration`\n",
    "- Save the output of `grep` commands to `.txt` files using the `>` operator \n",
    "    - These files should include the ***exact*** same information as was written out in `2_genome_exploration.ipynb`\n",
    "- Run the file in BOSE with the command `bash genome_exploration.sh`\n",
    "    - Check to ensure the proper files were created\n",
    "    - Commit/push to your branch\n",
    "    - Dr. Wheeler should be able to re-run `genome_exploration.sh` to regenerate all the files associated with Week 2 Homework"
   ]
  }
 ],
 "metadata": {
  "kernelspec": {
   "display_name": "snakemake-tutorial",
   "language": "python",
   "name": "python3"
  },
  "language_info": {
   "name": "python",
   "version": "3.12.3"
  },
  "orig_nbformat": 4
 },
 "nbformat": 4,
 "nbformat_minor": 2
}
