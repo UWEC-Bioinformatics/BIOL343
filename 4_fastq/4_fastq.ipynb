{
 "cells": [
  {
   "cell_type": "markdown",
   "metadata": {},
   "source": [
    "# FastQ download and QC"
   ]
  },
  {
   "cell_type": "markdown",
   "metadata": {},
   "source": [
    "In previous weeks, we explored the genome and annotations. There were stored in FASTA and GTF files and will be used as the reference to which RNA sequencing reads are mapped/aligned. After alignment, we can count how many RNA-seq reads align to the annotations we care about (genes or transcripts). \n",
    "\n",
    "Now we need to get the FASTQ files that we want to align and analyze.\n",
    "- Create a new directory called `fastq`\n",
    "- Get the SRA Run Table, which give the metadata for the FastQ files.\n",
    "    - *This will include a `cp` command to move it from the class dir to the user dir*\n",
    "    - Reminder - the following commands will need to be slightly updated to direct toward paths in your own home folder"
   ]
  },
  {
   "cell_type": "code",
   "execution_count": null,
   "metadata": {},
   "outputs": [],
   "source": [
    "!mkdir /data/users/wheelenj/biol343/fastq\n",
    "!head -15 /data/users/wheelenj/biol343/fastq/SraRunTable.txt"
   ]
  },
  {
   "cell_type": "markdown",
   "metadata": {},
   "source": [
    "You can see that there are 12 different runs, each has an ID that looks something like `SRR26691082`. After the ID, quite a bit of run metadata is provided. You should spend some time learning about what each field denotes.\n",
    "\n",
    "As we know, the experiment had four different samples: \n",
    "- liver immature\n",
    "- liver mature\n",
    "- intestine immature\n",
    "- intestine mature\n",
    "\n",
    "This information is provided in the metadata. We are all going to work with all 12 runs.\n",
    "\n",
    "First we have to use `sra-tools` to download the FastQ files from NCBI's SRA database. To so, we'll use a `for` loop within bash. We can use `cut` to get the first field, but because it's comma-delimited instead of tab-delimited, we have to tell the program with the `-d` option. This can be saved to a file, which then can be looped through line-by-line."
   ]
  }
 ],
 "metadata": {
  "kernelspec": {
   "display_name": "Python 3",
   "language": "python",
   "name": "python3"
  },
  "language_info": {
   "name": "python",
   "version": "3.12.3"
  }
 },
 "nbformat": 4,
 "nbformat_minor": 2
}
