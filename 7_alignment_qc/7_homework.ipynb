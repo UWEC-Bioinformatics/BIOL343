{
 "cells": [
  {
   "cell_type": "markdown",
   "metadata": {},
   "source": [
    "# Week 7 Homework\n",
    "\n",
    "***Due (pushed to your GitHub branch) on 10/31 by 11:59 pm***\n",
    "\n",
    "## Samtools\n",
    "\n",
    "Use Samtools to convert to BAM and sort the output SAMs produced by HISAT:"
   ]
  },
  {
   "cell_type": "code",
   "execution_count": 1,
   "metadata": {},
   "outputs": [
    {
     "name": "stdout",
     "output_type": "stream",
     "text": [
      "Converting /data/users/zhouz6436/BIOL343/6_alignment/hisat/SRR2916027.sam to SRR2916027.bam and sorting.\n",
      "[bam_sort_core] merging from 0 files and 32 in-memory blocks...\n",
      "Converting /data/users/zhouz6436/BIOL343/6_alignment/hisat/SRR2916028.sam to SRR2916028.bam and sorting.\n",
      "[bam_sort_core] merging from 0 files and 32 in-memory blocks...\n",
      "Converting /data/users/zhouz6436/BIOL343/6_alignment/hisat/SRR2916029.sam to SRR2916029.bam and sorting.\n",
      "[bam_sort_core] merging from 0 files and 32 in-memory blocks...\n",
      "Converting /data/users/zhouz6436/BIOL343/6_alignment/hisat/SRR2916030.sam to SRR2916030.bam and sorting.\n",
      "[bam_sort_core] merging from 0 files and 32 in-memory blocks...\n",
      "Converting /data/users/zhouz6436/BIOL343/6_alignment/hisat/SRR2916031.sam to SRR2916031.bam and sorting.\n",
      "[bam_sort_core] merging from 0 files and 32 in-memory blocks...\n",
      "Converting /data/users/zhouz6436/BIOL343/6_alignment/hisat/SRR2916032.sam to SRR2916032.bam and sorting.\n",
      "[bam_sort_core] merging from 0 files and 32 in-memory blocks...\n",
      "Converting /data/users/zhouz6436/BIOL343/6_alignment/hisat/SRR2916033.sam to SRR2916033.bam and sorting.\n"
     ]
    }
   ],
   "source": [
    "!for sam in /data/users/zhouz6436/BIOL343/6_alignment/hisat/*.sam; do \\\n",
    "    bn=$(basename \"$sam\" .sam); \\\n",
    "    echo \"Converting $sam to $bn.bam and sorting.\"; \\\n",
    "    samtools view -@ 32 -b \"$sam\" | samtools sort -@ 32 -o /data/users/zhouz6436/BIOL343/7_alignment_qc/${bn}_sorted.bam; \\\n",
    "done"
   ]
  },
  {
   "attachments": {},
   "cell_type": "markdown",
   "metadata": {},
   "source": [
    "Merge the BAMs to a single BAM and generate an index:"
   ]
  },
  {
   "cell_type": "code",
   "execution_count": null,
   "metadata": {},
   "outputs": [],
   "source": [
    "!samtools merge -@ 32 /data/users/zhouz6436/BIOL343/7_alignment_qc/merged_alignment.bam /data/users/zhouz6436/BIOL343/7_alignment_qc \n",
    "!samtools index -@ 32 /data/users/zhouz6436/BIOL343/7_alignment_qc/merged_alignment.bam"
   ]
  },
  {
   "attachments": {},
   "cell_type": "markdown",
   "metadata": {},
   "source": [
    "Use Samtools `flagstat` to generate QC metrics for the STAR and HISAT merged BAMs:"
   ]
  },
  {
   "cell_type": "code",
   "execution_count": null,
   "metadata": {},
   "outputs": [],
   "source": []
  },
  {
   "attachments": {},
   "cell_type": "markdown",
   "metadata": {},
   "source": [
    "## Qualimap\n",
    "\n",
    "Use Qualimap to run `bamqc` and `rnaseq` to generate QC metrics for the STAR and HISAT merged BAMs:"
   ]
  },
  {
   "cell_type": "code",
   "execution_count": null,
   "metadata": {},
   "outputs": [],
   "source": []
  },
  {
   "attachments": {},
   "cell_type": "markdown",
   "metadata": {},
   "source": [
    "## Report\n",
    "\n",
    "Use MuliQC to generate a single report that merges all Samtools and Qualimap metrics:"
   ]
  },
  {
   "cell_type": "code",
   "execution_count": null,
   "metadata": {},
   "outputs": [],
   "source": []
  },
  {
   "attachments": {},
   "cell_type": "markdown",
   "metadata": {},
   "source": [
    "## JBrowse2\n",
    "\n",
    "Upload a screenshot of JBrowse2 that shows the reference genome, the annotations, and the two alignments as tracks."
   ]
  },
  {
   "attachments": {},
   "cell_type": "markdown",
   "metadata": {},
   "source": [
    "## Snakemake Pipeline (Optional)\n",
    "\n",
    "1. Copy your `Snakefile` and `config.yaml` from `6_alignment` to `7_alignment_qc`.  \n",
    "2. In the `Snakefile`, add the following rules:  \n",
    "    a. `convert_hisat` - use `samtools` to convert HISAT SAMs to BAMs; sort the BAMs.  \n",
    "    b. `merge_hisat` - use `samtools` to merge all HISAT BAMs.  \n",
    "    c. `flagstat` -  use `samtools` to generate `flagstat` QC.  \n",
    "    d. `qualimap` - use `qualimap` to generate `bamqc` and `rnaseq` QC.  \n",
    "    e. `report` - use `multiqc` to aggregate all QC data into a single report. This should be an update of the report from the previous week's homework.  \n",
    "\n",
    "This `Snakefile` should not use any `wrappers` because we already have the relevant software installed in the `biol343` conda environment. The pipeline should run to completion when any instructor or classmate runs `snakemake --use-conda`."
   ]
  },
  {
   "cell_type": "markdown",
   "metadata": {},
   "source": []
  }
 ],
 "metadata": {
  "kernelspec": {
   "display_name": "biol343",
   "language": "python",
   "name": "python3"
  },
  "language_info": {
   "codemirror_mode": {
    "name": "ipython",
    "version": 3
   },
   "file_extension": ".py",
   "mimetype": "text/x-python",
   "name": "python",
   "nbconvert_exporter": "python",
   "pygments_lexer": "ipython3",
   "version": "3.12.3"
  },
  "orig_nbformat": 4
 },
 "nbformat": 4,
 "nbformat_minor": 2
}
