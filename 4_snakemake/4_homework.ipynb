{
 "cells": [
  {
   "cell_type": "markdown",
   "metadata": {},
   "source": [
    "# Week 4 Homework\n",
    "\n",
    "***Due (pushed to your GitHub branch) on 10/10 by 11:59 pm***"
   ]
  },
  {
   "attachments": {},
   "cell_type": "markdown",
   "metadata": {},
   "source": [
    "## Continue the snakemake tutorial\n",
    "1. [Advanced](https://snakemake.readthedocs.io/en/stable/tutorial/advanced.html)\n",
    "2. [Additional features](https://snakemake.readthedocs.io/en/stable/tutorial/additional_features.html)\n",
    "    - Skip the *Cluster or cloud execution* and *Tool wrapper* sections\n",
    "\n",
    "- Make sure you complete the bullet points under the Excercise headings\n",
    "- Successful completion will be demonstrated by the following directories/files found in your branch:\n",
    "    - `config.yaml`\n",
    "    - `logs/`\n",
    "    - `logs/bwa_mem/`\n",
    "    - `logs/bcftools_call/`\n",
    "    - Removal of `mapped_reads/`\n",
    "    - `benchmarks/`\n",
    "    - `sub_workflow/` (or another location where you store the `bwa_map.smk` file)\n",
    "    - `envs/samtools.yaml`\n",
    "\n",
    "## Extra practice\n",
    "\n",
    "Convert the snakemake workflow from the Basics tutorial to a shell script. This will help demonstrate the power of snakemake in comparison to other scripting techniques."
   ]
  }
 ],
 "metadata": {
  "kernelspec": {
   "display_name": "snakemake-tutorial",
   "language": "python",
   "name": "python3"
  },
  "language_info": {
   "name": "python",
   "version": "3.12.3"
  },
  "orig_nbformat": 4
 },
 "nbformat": 4,
 "nbformat_minor": 2
}
