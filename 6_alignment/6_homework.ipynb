{
 "cells": [
  {
   "attachments": {},
   "cell_type": "markdown",
   "metadata": {},
   "source": [
    "# Week 6 Homework\n",
    "\n",
    "***Due (pushed to your GitHub branch) on 10/25 by 11:59 pm***\n",
    "\n",
    "## STAR two-pass alignment\n",
    "\n",
    "Build the STAR SA:"
   ]
  },
  {
   "cell_type": "code",
   "execution_count": 1,
   "metadata": {},
   "outputs": [
    {
     "name": "stdout",
     "output_type": "stream",
     "text": [
      "mkdir: cannot create directory ‘placenta_alignment’: File exists\n",
      "mkdir: cannot create directory ‘placenta_alignment/star’: File exists\n",
      "mkdir: cannot create directory ‘placenta_alignment/hisat’: File exists\n",
      "\tSTAR --runThreadN 32 --runMode genomeGenerate --genomeDir ../2_genome_exploration/placenta_genome/star --genomeFastaFiles ../2_genome_exploration/placenta_genome/placenta_genome.fa --sjdbGTFfile ../2_genome_exploration/placenta_genome/placenta_annotations.gtf --sjdbOverhang 190 --genomeSAindexNbases 13\n",
      "\tSTAR version: 2.7.10b   compiled: 2022-11-01T09:53:26-04:00 :/home/dobin/data/STAR/STARcode/STAR.master/source\n",
      "Nov 14 16:09:07 ..... started STAR run\n",
      "Nov 14 16:09:07 ... starting to generate Genome files\n",
      "Nov 14 16:09:47 ..... processing annotations GTF\n",
      "Nov 14 16:10:10 ... starting to sort Suffix Array. This may take a long time...\n",
      "Nov 14 16:10:26 ... sorting Suffix Array chunks and saving them to disk...\n",
      "Nov 14 16:25:16 ... loading chunks from disk, packing SA...\n",
      "Nov 14 16:26:32 ... finished generating suffix array\n",
      "Nov 14 16:26:32 ... generating Suffix Array index\n",
      "Nov 14 16:27:49 ... completed Suffix Array index\n",
      "Nov 14 16:27:49 ..... inserting junctions into the genome indices\n",
      "Nov 14 16:30:43 ... writing Genome to disk ...\n",
      "Nov 14 16:30:48 ... writing Suffix Array to disk ...\n",
      "Nov 14 16:31:10 ... writing SAindex to disk\n",
      "Nov 14 16:31:11 ..... finished successfully\n"
     ]
    }
   ],
   "source": [
    "# !mkdir placenta_alignment\n",
    "# !mkdir placenta_alignment/star\n",
    "# !mkdir placenta_alignment/hisat\n",
    "!STAR \\\n",
    "--runThreadN 32 \\\n",
    "--runMode genomeGenerate \\\n",
    "--genomeDir ../2_genome_exploration/placenta_genome/star \\\n",
    "--genomeFastaFiles ../2_genome_exploration/placenta_genome/placenta_genome.fa \\\n",
    "--sjdbGTFfile ../2_genome_exploration/placenta_genome/placenta_annotations.gtf \\\n",
    "--sjdbOverhang 190\\\n",
    "--genomeSAindexNbases 13"
   ]
  },
  {
   "attachments": {},
   "cell_type": "markdown",
   "metadata": {},
   "source": [
    "Use STAR and ***all*** of your FASTQs for a first-pass alignment. Be sure to update the `sjdbOverhang` parameter to a value that is appropriate for your dataset. Rename the log file so that you can compare the logs from the first and second alignments:"
   ]
  },
  {
   "cell_type": "code",
   "execution_count": null,
   "metadata": {},
   "outputs": [],
   "source": [
    "!STAR \\\n",
    "--runThreadN 32 \\\n",
    "--runMode alignReads \\\n",
    "--genomeDir ../2_genome_exploration/placenta_genome/star \\\n",
    "--readFilesManifest placenta_manifest.tsv \\\n",
    "--readFilesCommand zcat \\\n",
    "--outSAMtype BAM SortedByCoordinate \\\n",
    "--outSAMunmapped Within \\\n",
    "--outFileNamePrefix /placenta_alignment/star/"
   ]
  },
  {
   "attachments": {},
   "cell_type": "markdown",
   "metadata": {},
   "source": [
    "Use STAR, all of your FASTQs, and `SJ.out.tab` for the second-pass alignment. You will likely need to make your own `manifest.tsv`:"
   ]
  },
  {
   "cell_type": "code",
   "execution_count": null,
   "metadata": {},
   "outputs": [],
   "source": [
    "!STAR \\\n",
    "--runThreadN 32 \\\n",
    "--runMode alignReads \\\n",
    "--genomeDir ../2_genome_exploration/placenta_genome/star \\\n",
    "--readFilesManifest placenta_manifest.tsv \\\n",
    "--readFilesCommand zcat \\\n",
    "--outSAMtype BAM SortedByCoordinate \\\n",
    "--outSAMunmapped Within \\\n",
    "--outSAMattributes NH HI AS nM RG \\\n",
    "--outFileNamePrefix placenta_alignment/star/ \\\n",
    "--sjdbFileChrStartEnd placenta_alignment/star/SJ.out.tab"
   ]
  },
  {
   "cell_type": "markdown",
   "metadata": {},
   "source": [
    "Update this block to briefly describe the differences between the logs for the first and second alignments."
   ]
  },
  {
   "attachments": {},
   "cell_type": "markdown",
   "metadata": {},
   "source": [
    "## HISAT alignment\n",
    "\n",
    "(***Note***: you may need Dr. Wheeler to build the HISAT index of your genome. Ask him for assistance when you get to this part of the assignment.)\n",
    "\n",
    "Use a Bash `while` loop to align all of your FASTQs and save the output files using the same names as the input FASTQ:"
   ]
  },
  {
   "cell_type": "code",
   "execution_count": null,
   "metadata": {},
   "outputs": [],
   "source": [
    "!while read -r line; do \\\n",
    "    fq=$(echo $line | awk '{print $1}'); \\\n",
    "    bn=$(basename \"$fq\" .fastq.gz); \\\n",
    "    rg=$(echo $line | awk '{print $3}' | sed 's/ID://' ); \\\n",
    "    echo \"Aligning $fq with $rg\"; \\\n",
    "    hisat2 ../2_genome_exploration/placenta_genome/hisat/genome -p 16 -U $fq --rg-id $rg --rg SM:$rg --summary-file placenta_alignment/hisat/$bn.log --new-summary > placenta_alignment/hisat/$bn.sam; \\\n",
    "    done < placenta_manifest.tsv"
   ]
  },
  {
   "attachments": {},
   "cell_type": "markdown",
   "metadata": {},
   "source": [
    "## Snakemake Pipeline\n",
    "\n",
    "In contrast to last week (FASTQ files), there aren't as many decisions that need to be made during alignment, so using a notebook to control and report code isn't as necessary. As you saw in in [6_alignment](6_alignment.ipynb), file and directory management can get complicated during alignment. This is a case where Snakemake scripting shines.\n",
    "\n",
    "1. Copy your `Snakefile` and `config.yaml` from `5_fastq` to `6_alignment`. \n",
    "2. In the `Snakefile`, add the following rules:  \n",
    "    a. `fetch_genome` - using a variation from the code from `2_genome_exploration`, download your reference genome and annotations.  \n",
    "    b. `star_sa` - use `STAR` to produce the suffix array of the reference genome.  \n",
    "    c. `star_align_first` - use `STAR` to perform first-pass alignment with all FASTQ files.  \n",
    "    d. `star_align_second` - use `STAR` to perform second-pass alignment with all FASTQ files.  \n",
    "    e. `hisat_align` - use `HISAT` to align all FASTQ files.  \n",
    "    f. `report` - use `multiqc` to aggregate all QC data into a single report.\n",
    "\n",
    "This `Snakefile` should not use any `wrappers` because we already have the relevant software installed in the `biol343` conda environment. The pipeline should run to completion when any instructor or classmate runs `snakemake --use-conda`."
   ]
  },
  {
   "cell_type": "code",
   "execution_count": null,
   "metadata": {},
   "outputs": [],
   "source": [
    "\n",
    "# !STAR \\\n",
    "# --runThreadN 16 \\\n",
    "# --runMode genomeGenerate \\\n",
    "#     #runMode can use alignment later\n",
    "# --genomeDir /data/users/wheelenj/BIOL343/2_genome_exploration/genome/star \\\n",
    "# --genomeFastaFiles /data/users/wheelenj/BIOL343/2_genome_exploration/genome/genome.fa \\\n",
    "# --sjdbGTFfile /data/users/wheelenj/BIOL343/2_genome_exploration/genome/annotations.gtf \\\n",
    "# --sjdbOverhang 68 \\\n",
    "#     #needs to be adjusted to the length of our genes\n",
    "# --genomeSAindexNbases 13"
   ]
  }
 ],
 "metadata": {
  "kernelspec": {
   "display_name": "biol343_nov_12",
   "language": "python",
   "name": "python3"
  },
  "language_info": {
   "codemirror_mode": {
    "name": "ipython",
    "version": 3
   },
   "file_extension": ".py",
   "mimetype": "text/x-python",
   "name": "python",
   "nbconvert_exporter": "python",
   "pygments_lexer": "ipython3",
   "version": "3.12.3"
  },
  "orig_nbformat": 4
 },
 "nbformat": 4,
 "nbformat_minor": 2
}
