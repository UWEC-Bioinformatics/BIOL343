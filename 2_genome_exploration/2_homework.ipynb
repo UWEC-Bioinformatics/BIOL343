{
 "cells": [
  {
   "cell_type": "markdown",
   "metadata": {},
   "source": [
    "# Week 2 Homework\n",
    "\n",
    "***Due (pushed to your GitHub branch) on 9/27 by 11:59 pm***"
   ]
  },
  {
   "attachments": {},
   "cell_type": "markdown",
   "metadata": {},
   "source": [
    "Retrieve and decompress the genome."
   ]
  },
  {
   "cell_type": "code",
   "execution_count": 1,
   "metadata": {},
   "outputs": [
    {
     "name": "stdout",
     "output_type": "stream",
     "text": [
      "/data/users/mccallke0364/BIOL343/2_genome_exploration/placenta_genome\n",
      "--2024-09-19 15:50:52--  https://ftp.ncbi.nlm.nih.gov/genomes/all/GCF/000/001/405/GCF_000001405.26_GRCh38/GCF_000001405.26_GRCh38_genomic.fna.gz\n",
      "Resolving ftp.ncbi.nlm.nih.gov... 130.14.250.12, 130.14.250.11, 130.14.250.13, ...\n",
      "Connecting to ftp.ncbi.nlm.nih.gov|130.14.250.12|:443... connected.\n",
      "HTTP request sent, awaiting response... 200 OK\n",
      "Length: 946060684 (902M) [application/x-gzip]\n",
      "Saving to: ‘placenta_genome.fa.gz’\n",
      "\n",
      "placenta_genome.fa. 100%[===================>] 902.23M  22.7MB/s    in 30s     \n",
      "\n",
      "2024-09-19 15:51:22 (30.0 MB/s) - ‘placenta_genome.fa.gz’ saved [946060684/946060684]\n",
      "\n"
     ]
    }
   ],
   "source": [
    "!mkdir placenta_genome\n",
    "%cd placenta_genome\n",
    "!wget -nc -O placenta_genome.fa.gz https://ftp.ncbi.nlm.nih.gov/genomes/all/GCF/000/001/405/GCF_000001405.26_GRCh38/GCF_000001405.26_GRCh38_genomic.fna.gz\n",
    "!gzip -d -f placenta_genome.fa.gz"
   ]
  },
  {
   "cell_type": "markdown",
   "metadata": {},
   "source": [
    "Retrieve and decompress the annotations."
   ]
  },
  {
   "cell_type": "code",
   "execution_count": null,
   "metadata": {},
   "outputs": [],
   "source": [
    "!wget -O - https://ftp.ncbi.nlm.nih.gov/genomes/all/GCF/000/001/405/GCF_000001405.26_GRCh38/GCF_000001405.26_GRCh38_genomic.gff.gz | \\\n",
    "    gzip -f -d > placenta_annotations.gff\n",
    "!gffread placenta_annotations.gff -T -o placenta_annotations.gtf"
   ]
  },
  {
   "attachments": {},
   "cell_type": "markdown",
   "metadata": {},
   "source": [
    "Count the number of contigs/chromosomes using a single `grep` command. The command should return an integer."
   ]
  },
  {
   "cell_type": "code",
   "execution_count": null,
   "metadata": {},
   "outputs": [],
   "source": []
  },
  {
   "attachments": {},
   "cell_type": "markdown",
   "metadata": {},
   "source": [
    "List the name of each contig/chromosome, which is included in the header of each sequence. Your `grep` command should return the entire header of each entry, with a new line separating entries."
   ]
  },
  {
   "cell_type": "code",
   "execution_count": null,
   "metadata": {},
   "outputs": [],
   "source": []
  },
  {
   "attachments": {},
   "cell_type": "markdown",
   "metadata": {},
   "source": [
    "Using piped command line tools, list the feature types in the annotations file with the tally of each feature printed next to it."
   ]
  },
  {
   "cell_type": "code",
   "execution_count": null,
   "metadata": {},
   "outputs": [],
   "source": []
  },
  {
   "attachments": {},
   "cell_type": "markdown",
   "metadata": {},
   "source": [
    "Select a gene of interest.\n",
    "\n",
    "*Gene of interest:*\n",
    "\n",
    "Using piped command line tools, count the number of exons in your gene of interest."
   ]
  },
  {
   "cell_type": "code",
   "execution_count": null,
   "metadata": {},
   "outputs": [],
   "source": []
  },
  {
   "attachments": {},
   "cell_type": "markdown",
   "metadata": {},
   "source": [
    "*Copy/paste a screenshot of your gene of interest shown in JBrowse2*:"
   ]
  },
  {
   "cell_type": "markdown",
   "metadata": {},
   "source": []
  }
 ],
 "metadata": {
  "kernelspec": {
   "display_name": "biol343",
   "language": "python",
   "name": "python3"
  },
  "language_info": {
   "codemirror_mode": {
    "name": "ipython",
    "version": 3
   },
   "file_extension": ".py",
   "mimetype": "text/x-python",
   "name": "python",
   "nbconvert_exporter": "python",
   "pygments_lexer": "ipython3",
   "version": "3.12.3"
  },
  "orig_nbformat": 4
 },
 "nbformat": 4,
 "nbformat_minor": 2
}
