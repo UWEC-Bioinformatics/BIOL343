{
 "cells": [
  {
   "attachments": {},
   "cell_type": "markdown",
   "metadata": {},
   "source": [
    "# Week 5 Homework\n",
    "\n",
    "***Due (pushed to your GitHub branch) on 10/18 by 11:59 pm***"
   ]
  },
  {
   "attachments": {},
   "cell_type": "markdown",
   "metadata": {},
   "source": [
    "## FASTQ fetch, QC, and trimming/filtering\n",
    "\n",
    "Use the SRA-toolkit to fetch the relevant FASTQ files. You may use a hand-crafted `txt` file to provide the list of SRAs instead of manipulating an SRA Run Table with `cut`."
   ]
  },
  {
   "cell_type": "code",
   "execution_count": 2,
   "metadata": {},
   "outputs": [],
   "source": [
    "# ERR4231022\n",
    "# ERR4231010\n",
    "# ERR4231012\n",
    "# ERR4231013\n",
    "# ERR4231014\n",
    "# ERR4231015\n",
    "# ERR4231016\n",
    "# ERR4231017\n",
    "# ERR4231018\n",
    "# ERR4231019\n",
    "# ERR4231020\n",
    "# ERR4231021\n",
    "# ERR4231023\n",
    "# ERR4231011"
   ]
  },
  {
   "attachments": {},
   "cell_type": "markdown",
   "metadata": {},
   "source": [
    "Run QC on the FASTQ files and aggregate the results into a report."
   ]
  },
  {
   "cell_type": "code",
   "execution_count": 3,
   "metadata": {},
   "outputs": [
    {
     "name": "stdout",
     "output_type": "stream",
     "text": [
      "Getting  from NCBI SRA\n",
      "usage: parallel-fastq-dump [-h] [-s SRA_ID] [-t THREADS] [-O OUTDIR]\n",
      "                           [-T TMPDIR] [-N MINSPOTID] [-X MAXSPOTID] [-V]\n",
      "parallel-fastq-dump: error: argument -s/--sra-id: expected one argument\n"
     ]
    }
   ],
   "source": [
    "# !mkdir fastq_placenta\n",
    "# !cut -d ',' -f 1 SraRunTable_Placenta.txt | tail -n +2 > sra_list_placenta.txt\n",
    "!while IFS= read -r line; do \\\n",
    "    echo \"Getting $line from NCBI SRA\"; \\\n",
    "    parallel-fastq-dump --sra-id $line --threads 16 --outdir fastq_placenta --gzip; \\\n",
    "    done < sra_list_placenta.txt"
   ]
  },
  {
   "attachments": {},
   "cell_type": "markdown",
   "metadata": {},
   "source": [
    "Edit this block with a short evaluation of each of the report sections. Each evaluation should include your important observations, reasons for potential QC failure, and an opinion on what should be done on the failure (i.e., trimming or filtering). Problem FASTQ files, if any, should be noted.\n",
    "\n",
    "*Per base sequence quality:*\n",
    "\n",
    "*Per tile sequence quality:*\n",
    "\n",
    "*Per sequence quality scores:*\n",
    "\n",
    "*Per base sequence content:*\n",
    "\n",
    "*Per sequence GC content:*\n",
    "\n",
    "*Per base N content:*\n",
    "\n",
    "*Sequence length distribution:*\n",
    "\n",
    "*Sequence duplication levels:*\n",
    "\n",
    "*Overrepresented sequences:*\n",
    "\n",
    "*Adapter content:*"
   ]
  },
  {
   "attachments": {},
   "cell_type": "markdown",
   "metadata": {},
   "source": [
    "If necessary, use `cutadapt` to trim and filter your reads. Provide a justification for the `cutadapt` parameters you used:\n",
    "\n"
   ]
  },
  {
   "cell_type": "code",
   "execution_count": null,
   "metadata": {},
   "outputs": [],
   "source": [
    "# !mkdir fastq_placenta/placenta_qc\n",
    "!fastqc -t 16 fastq_placenta/*.fastq.gz -o fastq_placenta/placenta_qc"
   ]
  },
  {
   "cell_type": "code",
   "execution_count": 20,
   "metadata": {},
   "outputs": [
    {
     "name": "stdout",
     "output_type": "stream",
     "text": [
      "This is cutadapt 4.9 with Python 3.12.3\n",
      "Command line parameters: -j 16 -m 20 --poly-a --nextseq-trim=10 -o ./fastq_placenta/trimmed/ERR4231010.fastq.gz fastq_placenta/ERR4231010.fastq.gz\n",
      "[Errno 2] No such file or directory: './fastq_placenta/trimmed/ERR4231010.fastq.gz'\n",
      "This is cutadapt 4.9 with Python 3.12.3\n",
      "Command line parameters: -j 16 -m 20 --poly-a --nextseq-trim=10 -o ./fastq_placenta/trimmed/ERR4231011.fastq.gz fastq_placenta/ERR4231011.fastq.gz\n",
      "[Errno 2] No such file or directory: './fastq_placenta/trimmed/ERR4231011.fastq.gz'\n",
      "This is cutadapt 4.9 with Python 3.12.3\n",
      "Command line parameters: -j 16 -m 20 --poly-a --nextseq-trim=10 -o ./fastq_placenta/trimmed/ERR4231012.fastq.gz fastq_placenta/ERR4231012.fastq.gz\n",
      "[Errno 2] No such file or directory: './fastq_placenta/trimmed/ERR4231012.fastq.gz'\n",
      "This is cutadapt 4.9 with Python 3.12.3\n",
      "Command line parameters: -j 16 -m 20 --poly-a --nextseq-trim=10 -o ./fastq_placenta/trimmed/ERR4231013.fastq.gz fastq_placenta/ERR4231013.fastq.gz\n",
      "[Errno 2] No such file or directory: './fastq_placenta/trimmed/ERR4231013.fastq.gz'\n",
      "This is cutadapt 4.9 with Python 3.12.3\n",
      "Command line parameters: -j 16 -m 20 --poly-a --nextseq-trim=10 -o ./fastq_placenta/trimmed/ERR4231014.fastq.gz fastq_placenta/ERR4231014.fastq.gz\n",
      "[Errno 2] No such file or directory: './fastq_placenta/trimmed/ERR4231014.fastq.gz'\n",
      "This is cutadapt 4.9 with Python 3.12.3\n",
      "Command line parameters: -j 16 -m 20 --poly-a --nextseq-trim=10 -o ./fastq_placenta/trimmed/ERR4231015.fastq.gz fastq_placenta/ERR4231015.fastq.gz\n",
      "[Errno 2] No such file or directory: './fastq_placenta/trimmed/ERR4231015.fastq.gz'\n",
      "This is cutadapt 4.9 with Python 3.12.3\n",
      "Command line parameters: -j 16 -m 20 --poly-a --nextseq-trim=10 -o ./fastq_placenta/trimmed/ERR4231016.fastq.gz fastq_placenta/ERR4231016.fastq.gz\n",
      "[Errno 2] No such file or directory: './fastq_placenta/trimmed/ERR4231016.fastq.gz'\n",
      "This is cutadapt 4.9 with Python 3.12.3\n",
      "Command line parameters: -j 16 -m 20 --poly-a --nextseq-trim=10 -o ./fastq_placenta/trimmed/ERR4231017.fastq.gz fastq_placenta/ERR4231017.fastq.gz\n",
      "[Errno 2] No such file or directory: './fastq_placenta/trimmed/ERR4231017.fastq.gz'\n",
      "This is cutadapt 4.9 with Python 3.12.3\n",
      "Command line parameters: -j 16 -m 20 --poly-a --nextseq-trim=10 -o ./fastq_placenta/trimmed/ERR4231018.fastq.gz fastq_placenta/ERR4231018.fastq.gz\n",
      "[Errno 2] No such file or directory: './fastq_placenta/trimmed/ERR4231018.fastq.gz'\n",
      "This is cutadapt 4.9 with Python 3.12.3\n",
      "Command line parameters: -j 16 -m 20 --poly-a --nextseq-trim=10 -o ./fastq_placenta/trimmed/ERR4231019.fastq.gz fastq_placenta/ERR4231019.fastq.gz\n",
      "[Errno 2] No such file or directory: './fastq_placenta/trimmed/ERR4231019.fastq.gz'\n",
      "This is cutadapt 4.9 with Python 3.12.3\n",
      "Command line parameters: -j 16 -m 20 --poly-a --nextseq-trim=10 -o ./fastq_placenta/trimmed/ERR4231020.fastq.gz fastq_placenta/ERR4231020.fastq.gz\n",
      "[Errno 2] No such file or directory: './fastq_placenta/trimmed/ERR4231020.fastq.gz'\n",
      "This is cutadapt 4.9 with Python 3.12.3\n",
      "Command line parameters: -j 16 -m 20 --poly-a --nextseq-trim=10 -o ./fastq_placenta/trimmed/ERR4231021.fastq.gz fastq_placenta/ERR4231021.fastq.gz\n",
      "[Errno 2] No such file or directory: './fastq_placenta/trimmed/ERR4231021.fastq.gz'\n",
      "This is cutadapt 4.9 with Python 3.12.3\n",
      "Command line parameters: -j 16 -m 20 --poly-a --nextseq-trim=10 -o ./fastq_placenta/trimmed/ERR4231022.fastq.gz fastq_placenta/ERR4231022.fastq.gz\n",
      "[Errno 2] No such file or directory: './fastq_placenta/trimmed/ERR4231022.fastq.gz'\n",
      "This is cutadapt 4.9 with Python 3.12.3\n",
      "Command line parameters: -j 16 -m 20 --poly-a --nextseq-trim=10 -o ./fastq_placenta/trimmed/ERR4231023.fastq.gz fastq_placenta/ERR4231023.fastq.gz\n",
      "[Errno 2] No such file or directory: './fastq_placenta/trimmed/ERR4231023.fastq.gz'\n"
     ]
    }
   ],
   "source": [
    "# mkdir fastq_placenta/trimmed_placenta\n",
    "!for fastq in fastq_placenta/*.fastq.gz; do \\\n",
    "    base_name=$(basename \"$fastq\" .fastq.gz); \\\n",
    "    cutadapt -j 16 -m 20 --poly-a --nextseq-trim=10 -o ./fastq_placenta/trimmed/$base_name.fastq.gz $fastq; \\\n",
    "done"
   ]
  },
  {
   "attachments": {},
   "cell_type": "markdown",
   "metadata": {},
   "source": [
    "Run QC on the trimmed/filtered reads and generate an aggregated report"
   ]
  },
  {
   "cell_type": "code",
   "execution_count": 10,
   "metadata": {},
   "outputs": [
    {
     "name": "stdout",
     "output_type": "stream",
     "text": [
      "\n",
      "  \u001b[91m///\u001b[0m \u001b]8;id=893344;https://multiqc.info\u001b\\\u001b[1mMultiQC\u001b[0m\u001b]8;;\u001b\\ 🔍 \u001b[2m| v1.17\u001b[0m\n",
      "\n",
      "\u001b[34m|           multiqc\u001b[0m | Search path : /data/users/mccallke0364/BIOL343/5_fastq/fastq_placenta\n",
      "\u001b[2K\u001b[34m|\u001b[0m         \u001b[34msearching\u001b[0m | \u001b[90m━━━━━━━━━━━━━━━━━━━━━━━━━━━━━━━━━━━━━━━━\u001b[0m \u001b[35m100%\u001b[0m \u001b[32m42/42\u001b[0m  \u001b[0m0m  \n",
      "\u001b[?25h\u001b[34m|            fastqc\u001b[0m | Found 14 reports\n",
      "\u001b[34m|           multiqc\u001b[0m | Existing reports found, adding suffix to filenames. Use '--force' to overwrite.\n",
      "\u001b[34m|           multiqc\u001b[0m | Report      : multiqc_report_1.html\n",
      "\u001b[34m|           multiqc\u001b[0m | Data        : multiqc_data_1\n",
      "\u001b[34m|           multiqc\u001b[0m | MultiQC complete\n"
     ]
    }
   ],
   "source": [
    "!multiqc fastq_placenta/."
   ]
  },
  {
   "attachments": {},
   "cell_type": "markdown",
   "metadata": {},
   "source": [
    "Report your observations on which QC metrics improved (or got worse):\n",
    "\n"
   ]
  },
  {
   "attachments": {},
   "cell_type": "markdown",
   "metadata": {},
   "source": [
    "## Snakemake Pipeline"
   ]
  },
  {
   "attachments": {},
   "cell_type": "markdown",
   "metadata": {},
   "source": [
    "When running bioinformatics studies, it is wise to use notebooks (such as this one) to tie together code, decisions, and data visualization. The above task is something you might generate and report to a client or supervisor who might be interested in sequencing QC and what kind of pre-processing decisions you made prior to alignment. In addition, the preprocessing should be readily reproducible by all relevant stakeholders, so you should supplement notebooks with pipeline scripts. Throughout the semester, we will be creating snakemake pipelines to reproduce the published analysis that you've selected. Follow the below steps to begin producing this pipeline:\n",
    "\n",
    "1. Make a new `Snakefile` and `config.yaml` in `5_fastq`. \n",
    "2. In the `Snakefile`, produce the following rules:  \n",
    "    a. `fetch_fastq` - use `parallel-fastq-dump` to fetch every FASTQ file listed in `config.yaml`.  \n",
    "    b. `fastq_qc` - use `fastqc` to run QC on the raw FASTQ files.  \n",
    "    c. `trim_filter` - use `cutadapt` to trim and/or filter the FASTQ reads using parameters justified in this notebook. ***Note:*** if you choose to trim/filter, it should be done on *all* of the FASTQ files; do not cherry pick.  \n",
    "    d. `trim_qc` - use `fastqc` to run QC on the trimmed FASTQ files.  \n",
    "    e. `report` - use `multiqc` to aggregate all QC data into a single report.\n",
    "\n",
    "This `Snakefile` should not use any `wrappers` because we already have the relevant software installed in the `biol343` conda environment. The pipeline should run to completion when any instructor or classmate runs `snakemake --use-conda`. You may use the documentation found [here](https://multiqc.info/docs/usage/pipelines/#snakemake) or any other online documentation you may find. You may not use any AI tools to complete this homework."
   ]
  }
 ],
 "metadata": {
  "kernelspec": {
   "display_name": "biol343",
   "language": "python",
   "name": "python3"
  },
  "language_info": {
   "codemirror_mode": {
    "name": "ipython",
    "version": 3
   },
   "file_extension": ".py",
   "mimetype": "text/x-python",
   "name": "python",
   "nbconvert_exporter": "python",
   "pygments_lexer": "ipython3",
   "version": "3.12.3"
  },
  "orig_nbformat": 4
 },
 "nbformat": 4,
 "nbformat_minor": 2
}
