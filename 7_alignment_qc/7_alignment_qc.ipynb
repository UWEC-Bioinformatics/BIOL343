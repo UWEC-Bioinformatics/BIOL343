{
 "cells": [
  {
   "attachments": {},
   "cell_type": "markdown",
   "metadata": {},
   "source": [
    "# Quality control of RNA-seq alignment to a reference genome\n",
    "\n",
    "## Alignment file types\n",
    "\n",
    "If you look at the output data from last week, you'll notice that there are two main file types that were produced:\n",
    "\n",
    "- STAR produced `Aligned.sortedByCoord.out.bam`\n",
    "- HISAT produced `$bn.sam` where `$bn` is the SRA ID for each of the FASTQ files that were aligned.\n",
    "\n",
    "SAM (Sequence Alignment/Map format) files and BAM (Binary Alignment/Map format) files include the exact same data types, except that a SAM files is includes human-readable tab-separated values, while BAM values are binary files that are therefore much smaller. BAM files are also convenient because they can be quickly indexed (BAI files), which will allow for fast retrieval of alignments from specific regions of the genome without having to start the search from the beginning of the first chromosome. The specification for these files are defined by the The SAM/BAM Format Specification Working Group, they can be found at the following link [(SAM specification link)](https://samtools.github.io/hts-specs/SAMv1.pdf). The specification is easy to read and understand and you are encouraged to reference it often.\n",
    "\n",
    "### SAM specification\n",
    "\n",
    "A full specification can be found at the above link, but we'll go through the relevant sections now using the SAM we generated with HISAT last week. The BAM from STAR will be very similar, but it's a bit trickier to interact with because it's a binary file.\n",
    "\n",
    "#### Header\n",
    "\n",
    "A SAM file may container a header, which header lines starting with the `@` symbol. You can use `grep` to show the header lines:"
   ]
  },
  {
   "cell_type": "code",
   "execution_count": null,
   "metadata": {},
   "outputs": [],
   "source": [
    "!grep '@' ../6_alignment/alignment/hisat/SRR26691082.sam"
   ]
  },
  {
   "attachments": {},
   "cell_type": "markdown",
   "metadata": {},
   "source": [
    "In this case, the header includes the SAm format version number (`VN:1.0`), whether it is sorted (`SO:unsorted`), information about the reference genome (`SN`), the read group (`@RG`, which we added in the HISAT command), and information about the program that was used during alignment (`@PG`). The definitions for each of these IDs can be found in the SAM format spec.\n",
    "\n",
    "### Alignment\n",
    "\n",
    "After the header, the rest of the SAM file consists of alignments. According to the spec, each alignment contains at least 11 tab-separated fields. Section 1.4 of the spec includes the following:\n",
    "\n",
    "|Col | Field | Type   | Regexp/Range | Brief description|\n",
    "|----|-------|--------|--------------|------------------|\n",
    "|1   | QNAME | String | [!-?A-~]{1,254} | Query template NAME |\n",
    "|2   | FLAG  | Int    | [0, 216 − 1] | bitwise FLAG |\n",
    "|3   | RNAME | String | \\*|[:rname:∧*=][:rname:]* | Reference sequence NAME  |\n",
    "|4   | POS   | Int    | [0, 231 − 1] | 1-based leftmost mapping POSition |\n",
    "|5   | MAPQ  | Int    | [0, 28 − 1] | MAPping Quality |\n",
    "|6   | CIGAR | String | \\*|([0-9]+[MIDNSHP=X])+ | CIGAR string |\n",
    "|7   | RNEXT | String | \\*|=|[:rname:∧*=][:rname:]* | Reference name of the mate/next read |\n",
    "|8   | PNEXT | Int    | [0, 231 − 1] | Position of the mate/next read |\n",
    "|9   | TLEN  | Int    | [−231 + 1, 231 − 1] | observed Template LENgth |\n",
    "|10  | SEQ   | String | \\*|[A-Za-z=.]+ | segment SEQuence |\n",
    "|11  | QUAL  | String | [!-~]+ | ASCII of Phred-scaled base QUALity+33 |\n",
    "\n",
    "You can see this format in action by using `head` to look at the first 25 lines:"
   ]
  },
  {
   "cell_type": "code",
   "execution_count": null,
   "metadata": {},
   "outputs": [],
   "source": [
    "!head -100 ../6_alignment/alignment/hisat/SRR26691082.sam"
   ]
  },
  {
   "attachments": {},
   "cell_type": "markdown",
   "metadata": {},
   "source": [
    "The SAM format contains many encodings that take some getting used to. The most important for our purposes are FLAG, mapping quality (MAPQ) and the CIGAR string.\n",
    "\n",
    "#### FLAG\n",
    "\n",
    "The FLAG is a combination of bits that represent certain features of the alignment. The meaning of each bit is provided in the spec:\n",
    "\n",
    "|Bit | Description|\n",
    "|----|------------|\n",
    "|1 0x1 | template having multiple segments in sequencing|\n",
    "|2 0x2 | each segment properly aligned according to the aligner|\n",
    "|4 0x4 | segment unmapped|\n",
    "|8 0x8 | next segment in the template unmapped|\n",
    "|16 0x10 | SEQ being reverse complemented|\n",
    "|32 0x20 | SEQ of the next segment in the template being reverse complemented|\n",
    "|64 0x40 | the first segment in the template|\n",
    "|128 0x80 | the last segment in the template|\n",
    "|256 0x100 | secondary alignment|\n",
    "|512 0x200 | not passing filters, such as platform/vendor quality controls|\n",
    "|1024 0x400 | PCR or optical duplicate|\n",
    "|2048 0x800 | supplementary alignment|\n",
    "\n",
    "These are very useful for filtering out alignment types that you aren't interested in. For intance, take a look at the `QNAME` `SRR26691082.4`:"
   ]
  },
  {
   "cell_type": "code",
   "execution_count": null,
   "metadata": {},
   "outputs": [],
   "source": [
    "!grep -P 'SRR26691082.4\\t' ../6_alignment/alignment/hisat/SRR26691082.sam"
   ]
  },
  {
   "cell_type": "code",
   "execution_count": null,
   "metadata": {},
   "outputs": [],
   "source": []
  },
  {
   "attachments": {},
   "cell_type": "markdown",
   "metadata": {},
   "source": [
    "This read aligned to 10 different locations in the genome, all on chromosome 3. The first alignnment has the `FLAG` set to 16, which indicates the read has been reverse-complemented during alignment. The second one has a `FLAG` of 256, which indicates a secondary alignment. The 3rd-8th alignments have a `FLAG` of 272, which are secondary alignments (256) *and* are reverse complemented (16) because (256 + 16 = 272).\n",
    "\n",
    "The `FLAG` is useful for filtering out alignments that probably don't represent the *true* or *best* alignment. The filtering strategy someone uses can have drastic effects on downstream analysis of differential expression.\n",
    "\n",
    "#### MAPQ\n",
    "\n",
    "The SAM spec defines the mapping quality as \" −10log<sub>10</sub> Pr{mapping position is wrong}, rounded to the nearest integer. A value 255 indicates that the mapping quality is not available.\" This formula should remind you of the Phred quality...because it's the same. The difference is that we don't need to represent it in a single character so we don't +33 and convert to ASCII. Each alignment tool can calculate the `MAPQ` differently, so you need to be sure that you're using the right scale. For instance, the STAR manual states:\n",
    "\n",
    ">The mapping quality MAPQ (column 5) is 255 for uniquely mapping reads, and int(-10*log10(11/Nmap)) for multi-mapping reads. This scheme is same as the one used by TopHat and is compatible with Cufflinks. The default MAPQ=255 for the unique mappers maybe changed with --outSAMmapqUnique parameter (integer 0 to 255) to ensure compatibility with downstream tools such as GATK.\n",
    "\n",
    "It is not obvious how HISAT calculates the `MAPQ` score (you have to look at the CPP code). The most important thing to know is that uniquely mapping reads are given a score of 60. Knowing that, we could use `cut` and `grep` to see what portion of the reads are uniquely mapping:"
   ]
  },
  {
   "cell_type": "code",
   "execution_count": null,
   "metadata": {},
   "outputs": [],
   "source": [
    "!cut -f 5 ../6_alignment/alignment/hisat/SRR26691082.sam | grep -c '60'"
   ]
  },
  {
   "attachments": {},
   "cell_type": "markdown",
   "metadata": {},
   "source": [
    "These values are also reported when you ran the alignment and stored in the associated log file.\n",
    "\n",
    "## Samtools\n",
    "\n",
    "The SAM spec is well designed to be able parse with command line tools like `cut`, `uniq`, and `grep`. There exist more simple tools to perform these operations, though, and `samtools` is the most popular. Check out the manual:"
   ]
  },
  {
   "cell_type": "code",
   "execution_count": null,
   "metadata": {},
   "outputs": [],
   "source": [
    "!samtools --help"
   ]
  },
  {
   "attachments": {},
   "cell_type": "markdown",
   "metadata": {},
   "source": [
    "One of the first things you might want to do on a new alignment is to use `samtools flagstat` to generate some summary statistics. For instance:"
   ]
  },
  {
   "cell_type": "code",
   "execution_count": null,
   "metadata": {},
   "outputs": [],
   "source": [
    "!samtools flagstat ../6_alignment/alignment/hisat/SRR26691082.sam"
   ]
  },
  {
   "attachments": {},
   "cell_type": "markdown",
   "metadata": {},
   "source": [
    "Samtools also enables a variety of other operations. Recall that when we aligned with STAR, we were able to generate a single output file, which you can find at `6_alignment/alignment/Aligned.sortedByCoord.out.bam`. When doing the two-pass alignment, we provided it with `manifest.tsv` which assigned a read group (`RG`) to each read depending on the file that it came from. This wasn't an option with HISAT; instead, we used a loop to align each FASTQ individually and used the `--rg-id $rg` option to add the `RG`. We want to compare the alignments derived from the two different aligners, which means we need to produce comparable output file. We will use BAM files to save space and speed things up. The STAR output is already `.bam`, but the HISAT output is `.sam`. Let's use Samtools to fix that.\n",
    "\n",
    "Samtools allows piping. In order, we must:\n",
    "\n",
    "1. Convert the SAM files to BAM\n",
    "2. Sort the BAM files\n",
    "2. Merge the BAM files to a single file\n",
    "4. Generate the index\n",
    "\n",
    "Samtools can be piped, but we'll also need to use a loop:"
   ]
  },
  {
   "cell_type": "code",
   "execution_count": null,
   "metadata": {},
   "outputs": [],
   "source": [
    "!for sam in ../6_alignment/alignment/hisat/*.sam; do \\\n",
    "    bn=$(basename \"$sam\" .sam); \\\n",
    "    echo \"Converting $sam to $bn.bam and sorting.\"; \\\n",
    "    samtools view -@ 16 -b $sam | samtools sort -@ 16 > ../6_alignment/alignment/hisat/$bn.bam; \\\n",
    "    done"
   ]
  },
  {
   "attachments": {},
   "cell_type": "markdown",
   "metadata": {},
   "source": [
    "***9 minute time to completion***\n",
    "\n",
    "You can see that these BAM files are about 10% of the size of the SAM files:"
   ]
  },
  {
   "cell_type": "code",
   "execution_count": null,
   "metadata": {},
   "outputs": [],
   "source": [
    "!ls -lh ../6_alignment/alignment/hisat/ | grep -P 'bam|sam'"
   ]
  },
  {
   "attachments": {},
   "cell_type": "markdown",
   "metadata": {},
   "source": [
    "Now we merge them into a single file and generate the index:"
   ]
  },
  {
   "cell_type": "code",
   "execution_count": null,
   "metadata": {},
   "outputs": [],
   "source": [
    "!samtools merge -@ 16 ../6_alignment/alignment/hisat/merged.bam  ../6_alignment/alignment/hisat/*.bam \n",
    "!samtools index -@ 16 ../6_alignment/alignment/hisat/merged.bam "
   ]
  },
  {
   "attachments": {},
   "cell_type": "markdown",
   "metadata": {},
   "source": [
    "***4 minutes time to completion***\n",
    "\n",
    "When storage space is a concern, it would be wise to remove the old SAM/BAM files. But they might be useful to us later, so we'll keep them."
   ]
  },
  {
   "attachments": {},
   "cell_type": "markdown",
   "metadata": {},
   "source": [
    "## Alignment QC\n",
    "\n",
    "There are a range of metrics we can look at to compare the quality of alignments. The simplest is `samtools flagstat`, which simple reports the number of unique and secondary mappings, as we saw earlier. `samtools stats` gives a more full-featured report. Note that an index is required, which we will create for the STAR output:"
   ]
  },
  {
   "cell_type": "code",
   "execution_count": null,
   "metadata": {},
   "outputs": [],
   "source": [
    "!echo \"HISAT mapping stats\"\n",
    "!samtools stats  -@ 16 ../6_alignment/alignment/hisat/merged.bam > hisat_stats.txt\n",
    "!echo \"STAR index\"\n",
    "!samtools index -@ 16 ../6_alignment/alignment/Aligned.sortedByCoord.out.bam\n",
    "!echo \"STAR mapping stats\"\n",
    "!samtools stats -@ 16 ../6_alignment/alignment/Aligned.sortedByCoord.out.bam > star_stats.txt"
   ]
  },
  {
   "attachments": {},
   "cell_type": "markdown",
   "metadata": {},
   "source": [
    "***4 minutes time to completion***\n",
    "\n",
    "The output stats file contains quite a bit of information. We can use `multiqc` to summarize and plot it for us:"
   ]
  },
  {
   "cell_type": "code",
   "execution_count": 4,
   "metadata": {},
   "outputs": [
    {
     "name": "stdout",
     "output_type": "stream",
     "text": [
      "\n",
      "  \u001b[91m///\u001b[0m \u001b]8;id=363173;https://multiqc.info\u001b\\\u001b[1mMultiQC\u001b[0m\u001b]8;;\u001b\\ 🔍 \u001b[2m| v1.17\u001b[0m\n",
      "\n",
      "\u001b[34m|           multiqc\u001b[0m | Prepending directory to sample names\n",
      "\u001b[34m|           multiqc\u001b[0m | Search path : /data/users/wheelenj/BIOL343/4_fastq/fastq/qc\n",
      "\u001b[34m|           multiqc\u001b[0m | Search path : /data/users/wheelenj/BIOL343/4_fastq/trimmed/qc\n",
      "\u001b[34m|           multiqc\u001b[0m | Search path : /data/users/wheelenj/BIOL343/6_alignment\n",
      "\u001b[34m|           multiqc\u001b[0m | Search path : /data/users/wheelenj/BIOL343/7_alignment_qc\n",
      "\u001b[2K\u001b[34m|\u001b[0m         \u001b[34msearching\u001b[0m | \u001b[90m━━━━━━━━━━━━━━━━━━━━━━━━━━━━━━━━━━━━━━━━\u001b[0m \u001b[35m100%\u001b[0m \u001b[32m108/108\u001b[0m  05/108\u001b[0m \u001b[2m./temp.txt\u001b[0m\n",
      "\u001b[?25h\u001b[34m|          samtools\u001b[0m | Found 2 stats reports\n",
      "\u001b[34m|              star\u001b[0m | Found 2 reports\n",
      "\u001b[34m|            hisat2\u001b[0m | Found 12 reports\n",
      "\u001b[34m|            fastqc\u001b[0m | Found 24 reports\n",
      "\u001b[34m|           multiqc\u001b[0m | Report      : multiqc_report.html   (overwritten)\n",
      "\u001b[34m|           multiqc\u001b[0m | Data        : multiqc_data   (overwritten)\n",
      "\u001b[34m|           multiqc\u001b[0m | MultiQC complete\n"
     ]
    }
   ],
   "source": [
    "!multiqc --force -d ../4_fastq/fastq/qc/ ../4_fastq/trimmed/qc/ ../6_alignment ."
   ]
  },
  {
   "attachments": {},
   "cell_type": "markdown",
   "metadata": {},
   "source": [
    "You can see from the output that `multiqc` detects the old FASTQC reports, as well as STAR (2, one for the first test and one for the full alignment) and HISAT logs (12, one for each individual alignment).\n",
    "\n",
    "Note that MultiQC can also detect log output in IPython Notebooks, so if you don't clear the output from old notebooks then those will be included as well."
   ]
  },
  {
   "cell_type": "markdown",
   "metadata": {},
   "source": []
  }
 ],
 "metadata": {
  "kernelspec": {
   "display_name": "biol343",
   "language": "python",
   "name": "python3"
  },
  "language_info": {
   "codemirror_mode": {
    "name": "ipython",
    "version": 3
   },
   "file_extension": ".py",
   "mimetype": "text/x-python",
   "name": "python",
   "nbconvert_exporter": "python",
   "pygments_lexer": "ipython3",
   "version": "3.12.3"
  },
  "orig_nbformat": 4
 },
 "nbformat": 4,
 "nbformat_minor": 2
}
