{
 "cells": [
  {
   "cell_type": "markdown",
   "metadata": {},
   "source": [
    "# Week 7 Homework\n",
    "\n",
    "***Due (pushed to your GitHub branch) on 11/1 by 11:59 pm***\n",
    "\n",
    "## Samtools\n",
    "\n",
    "Use Samtools to convert to BAM and sort the output SAMs produced by HISAT:"
   ]
  },
  {
   "cell_type": "code",
   "execution_count": 1,
   "metadata": {},
   "outputs": [
    {
     "name": "stdout",
     "output_type": "stream",
     "text": [
      "Converting ../6_alignment/alignment_lemons/hisat/SRR26560370.sam to SRR26560370.bam and sorting.\n",
      "[bam_sort_core] merging from 0 files and 32 in-memory blocks...\n",
      "Converting ../6_alignment/alignment_lemons/hisat/SRR26560371.sam to SRR26560371.bam and sorting.\n",
      "[bam_sort_core] merging from 0 files and 32 in-memory blocks...\n",
      "Converting ../6_alignment/alignment_lemons/hisat/SRR26560372.sam to SRR26560372.bam and sorting.\n",
      "[bam_sort_core] merging from 0 files and 32 in-memory blocks...\n",
      "Converting ../6_alignment/alignment_lemons/hisat/SRR26560373.sam to SRR26560373.bam and sorting.\n",
      "[bam_sort_core] merging from 0 files and 32 in-memory blocks...\n",
      "Converting ../6_alignment/alignment_lemons/hisat/SRR26560374.sam to SRR26560374.bam and sorting.\n",
      "[bam_sort_core] merging from 0 files and 32 in-memory blocks...\n",
      "Converting ../6_alignment/alignment_lemons/hisat/SRR26560375.sam to SRR26560375.bam and sorting.\n",
      "[bam_sort_core] merging from 0 files and 32 in-memory blocks...\n",
      "Converting ../6_alignment/alignment_lemons/hisat/SRR26560376.sam to SRR26560376.bam and sorting.\n",
      "[bam_sort_core] merging from 0 files and 32 in-memory blocks...\n",
      "Converting ../6_alignment/alignment_lemons/hisat/SRR26560377.sam to SRR26560377.bam and sorting.\n",
      "[bam_sort_core] merging from 0 files and 32 in-memory blocks...\n",
      "Converting ../6_alignment/alignment_lemons/hisat/SRR26560378.sam to SRR26560378.bam and sorting.\n",
      "[bam_sort_core] merging from 0 files and 32 in-memory blocks...\n",
      "Converting ../6_alignment/alignment_lemons/hisat/SRR26560379.sam to SRR26560379.bam and sorting.\n",
      "[bam_sort_core] merging from 0 files and 32 in-memory blocks...\n",
      "Converting ../6_alignment/alignment_lemons/hisat/SRR26560380.sam to SRR26560380.bam and sorting.\n",
      "[bam_sort_core] merging from 0 files and 32 in-memory blocks...\n",
      "Converting ../6_alignment/alignment_lemons/hisat/SRR26560381.sam to SRR26560381.bam and sorting.\n",
      "[bam_sort_core] merging from 0 files and 32 in-memory blocks...\n",
      "Converting ../6_alignment/alignment_lemons/hisat/SRR26560382.sam to SRR26560382.bam and sorting.\n",
      "[bam_sort_core] merging from 0 files and 32 in-memory blocks...\n",
      "Converting ../6_alignment/alignment_lemons/hisat/SRR26560383.sam to SRR26560383.bam and sorting.\n",
      "[bam_sort_core] merging from 0 files and 32 in-memory blocks...\n",
      "Converting ../6_alignment/alignment_lemons/hisat/SRR26560384.sam to SRR26560384.bam and sorting.\n",
      "[bam_sort_core] merging from 0 files and 32 in-memory blocks...\n",
      "Converting ../6_alignment/alignment_lemons/hisat/SRR26560385.sam to SRR26560385.bam and sorting.\n",
      "[bam_sort_core] merging from 0 files and 32 in-memory blocks...\n",
      "Converting ../6_alignment/alignment_lemons/hisat/SRR26560386.sam to SRR26560386.bam and sorting.\n",
      "[bam_sort_core] merging from 0 files and 32 in-memory blocks...\n",
      "Converting ../6_alignment/alignment_lemons/hisat/SRR26560387.sam to SRR26560387.bam and sorting.\n",
      "[bam_sort_core] merging from 0 files and 32 in-memory blocks...\n",
      "Converting ../6_alignment/alignment_lemons/hisat/SRR26560388.sam to SRR26560388.bam and sorting.\n",
      "[bam_sort_core] merging from 0 files and 32 in-memory blocks...\n",
      "Converting ../6_alignment/alignment_lemons/hisat/SRR26560389.sam to SRR26560389.bam and sorting.\n",
      "[bam_sort_core] merging from 0 files and 32 in-memory blocks...\n",
      "Converting ../6_alignment/alignment_lemons/hisat/SRR26560390.sam to SRR26560390.bam and sorting.\n",
      "[bam_sort_core] merging from 0 files and 32 in-memory blocks...\n",
      "Converting ../6_alignment/alignment_lemons/hisat/SRR26560391.sam to SRR26560391.bam and sorting.\n",
      "[bam_sort_core] merging from 0 files and 32 in-memory blocks...\n",
      "Converting ../6_alignment/alignment_lemons/hisat/SRR26560392.sam to SRR26560392.bam and sorting.\n",
      "[bam_sort_core] merging from 0 files and 32 in-memory blocks...\n",
      "Converting ../6_alignment/alignment_lemons/hisat/SRR26560393.sam to SRR26560393.bam and sorting.\n",
      "[bam_sort_core] merging from 0 files and 32 in-memory blocks...\n",
      "Converting ../6_alignment/alignment_lemons/hisat/SRR26560394.sam to SRR26560394.bam and sorting.\n",
      "[bam_sort_core] merging from 0 files and 32 in-memory blocks...\n",
      "Converting ../6_alignment/alignment_lemons/hisat/SRR26560395.sam to SRR26560395.bam and sorting.\n",
      "[bam_sort_core] merging from 0 files and 32 in-memory blocks...\n",
      "Converting ../6_alignment/alignment_lemons/hisat/SRR26560396.sam to SRR26560396.bam and sorting.\n",
      "[bam_sort_core] merging from 0 files and 32 in-memory blocks...\n",
      "Converting ../6_alignment/alignment_lemons/hisat/SRR26560397.sam to SRR26560397.bam and sorting.\n",
      "[bam_sort_core] merging from 0 files and 32 in-memory blocks...\n",
      "Converting ../6_alignment/alignment_lemons/hisat/SRR26560398.sam to SRR26560398.bam and sorting.\n",
      "[bam_sort_core] merging from 0 files and 32 in-memory blocks...\n",
      "Converting ../6_alignment/alignment_lemons/hisat/SRR26560399.sam to SRR26560399.bam and sorting.\n",
      "[bam_sort_core] merging from 0 files and 32 in-memory blocks...\n",
      "Converting ../6_alignment/alignment_lemons/hisat/SRR26560400.sam to SRR26560400.bam and sorting.\n",
      "[bam_sort_core] merging from 0 files and 32 in-memory blocks...\n",
      "Converting ../6_alignment/alignment_lemons/hisat/SRR26560401.sam to SRR26560401.bam and sorting.\n",
      "[bam_sort_core] merging from 0 files and 32 in-memory blocks...\n",
      "Converting ../6_alignment/alignment_lemons/hisat/SRR26560402.sam to SRR26560402.bam and sorting.\n",
      "[bam_sort_core] merging from 0 files and 32 in-memory blocks...\n",
      "Converting ../6_alignment/alignment_lemons/hisat/SRR26560403.sam to SRR26560403.bam and sorting.\n",
      "[bam_sort_core] merging from 0 files and 32 in-memory blocks...\n",
      "Converting ../6_alignment/alignment_lemons/hisat/SRR26560404.sam to SRR26560404.bam and sorting.\n",
      "[bam_sort_core] merging from 0 files and 32 in-memory blocks...\n",
      "Converting ../6_alignment/alignment_lemons/hisat/SRR26560405.sam to SRR26560405.bam and sorting.\n",
      "[bam_sort_core] merging from 0 files and 32 in-memory blocks...\n",
      "Converting ../6_alignment/alignment_lemons/hisat/SRR26560406.sam to SRR26560406.bam and sorting.\n",
      "[bam_sort_core] merging from 0 files and 32 in-memory blocks...\n",
      "Converting ../6_alignment/alignment_lemons/hisat/SRR26560407.sam to SRR26560407.bam and sorting.\n",
      "[bam_sort_core] merging from 0 files and 32 in-memory blocks...\n",
      "Converting ../6_alignment/alignment_lemons/hisat/SRR26560408.sam to SRR26560408.bam and sorting.\n",
      "[bam_sort_core] merging from 0 files and 32 in-memory blocks...\n",
      "Converting ../6_alignment/alignment_lemons/hisat/SRR26560409.sam to SRR26560409.bam and sorting.\n",
      "[bam_sort_core] merging from 0 files and 32 in-memory blocks...\n",
      "Converting ../6_alignment/alignment_lemons/hisat/SRR26560410.sam to SRR26560410.bam and sorting.\n",
      "[bam_sort_core] merging from 0 files and 32 in-memory blocks...\n",
      "Converting ../6_alignment/alignment_lemons/hisat/SRR26560411.sam to SRR26560411.bam and sorting.\n",
      "[bam_sort_core] merging from 0 files and 32 in-memory blocks...\n",
      "Converting ../6_alignment/alignment_lemons/hisat/SRR26560412.sam to SRR26560412.bam and sorting.\n",
      "[bam_sort_core] merging from 0 files and 32 in-memory blocks...\n",
      "Converting ../6_alignment/alignment_lemons/hisat/SRR26560413.sam to SRR26560413.bam and sorting.\n",
      "[bam_sort_core] merging from 0 files and 32 in-memory blocks...\n",
      "Converting ../6_alignment/alignment_lemons/hisat/SRR26560414.sam to SRR26560414.bam and sorting.\n",
      "[bam_sort_core] merging from 0 files and 32 in-memory blocks...\n",
      "Converting ../6_alignment/alignment_lemons/hisat/SRR26560415.sam to SRR26560415.bam and sorting.\n",
      "[bam_sort_core] merging from 0 files and 32 in-memory blocks...\n",
      "Converting ../6_alignment/alignment_lemons/hisat/SRR26560416.sam to SRR26560416.bam and sorting.\n",
      "[bam_sort_core] merging from 0 files and 32 in-memory blocks...\n",
      "Converting ../6_alignment/alignment_lemons/hisat/SRR26560417.sam to SRR26560417.bam and sorting.\n",
      "[bam_sort_core] merging from 0 files and 32 in-memory blocks...\n",
      "Converting ../6_alignment/alignment_lemons/hisat/SRR26560418.sam to SRR26560418.bam and sorting.\n",
      "[bam_sort_core] merging from 0 files and 32 in-memory blocks...\n",
      "Converting ../6_alignment/alignment_lemons/hisat/SRR26560419.sam to SRR26560419.bam and sorting.\n",
      "[bam_sort_core] merging from 0 files and 32 in-memory blocks...\n",
      "Converting ../6_alignment/alignment_lemons/hisat/SRR26560420.sam to SRR26560420.bam and sorting.\n",
      "[bam_sort_core] merging from 0 files and 32 in-memory blocks...\n",
      "Converting ../6_alignment/alignment_lemons/hisat/SRR26560421.sam to SRR26560421.bam and sorting.\n",
      "[bam_sort_core] merging from 0 files and 32 in-memory blocks...\n",
      "Converting ../6_alignment/alignment_lemons/hisat/SRR26560422.sam to SRR26560422.bam and sorting.\n",
      "[bam_sort_core] merging from 0 files and 32 in-memory blocks...\n",
      "Converting ../6_alignment/alignment_lemons/hisat/SRR26560423.sam to SRR26560423.bam and sorting.\n",
      "[bam_sort_core] merging from 0 files and 32 in-memory blocks...\n"
     ]
    }
   ],
   "source": [
    "!for sam in ../6_alignment/alignment_lemons/hisat/*.sam; do \\\n",
    "    bn=$(basename \"$sam\" .sam); \\\n",
    "    echo \"Converting $sam to $bn.bam and sorting.\"; \\\n",
    "    samtools view -@ 32 -b $sam | samtools sort -@ 32 > ../6_alignment/alignment_lemons/hisat/$bn.bam; \\\n",
    "    done"
   ]
  },
  {
   "attachments": {},
   "cell_type": "markdown",
   "metadata": {},
   "source": [
    "Merge the BAMs to a single BAM and generate an index:"
   ]
  },
  {
   "cell_type": "code",
   "execution_count": 2,
   "metadata": {},
   "outputs": [],
   "source": [
    "!samtools merge -@ 32 ../6_alignment/alignment_lemons/hisat/merged.bam  ../6_alignment/alignment_lemons/hisat/*.bam \n",
    "!samtools index -@ 32 ../6_alignment/alignment_lemons/hisat/merged.bam "
   ]
  },
  {
   "attachments": {},
   "cell_type": "markdown",
   "metadata": {},
   "source": [
    "Use Samtools `flagstat` to generate QC metrics for the STAR and HISAT merged BAMs:"
   ]
  },
  {
   "cell_type": "code",
   "execution_count": 3,
   "metadata": {},
   "outputs": [
    {
     "name": "stdout",
     "output_type": "stream",
     "text": [
      "1217784803 + 0 in total (QC-passed reads + QC-failed reads)\n",
      "1123809 + 0 secondary\n",
      "0 + 0 supplementary\n",
      "0 + 0 duplicates\n",
      "4014909 + 0 mapped (0.33% : N/A)\n",
      "0 + 0 paired in sequencing\n",
      "0 + 0 read1\n",
      "0 + 0 read2\n",
      "0 + 0 properly paired (N/A : N/A)\n",
      "0 + 0 with itself and mate mapped\n",
      "0 + 0 singletons (N/A : N/A)\n",
      "0 + 0 with mate mapped to a different chr\n",
      "0 + 0 with mate mapped to a different chr (mapQ>=5)\n",
      "1217134855 + 0 in total (QC-passed reads + QC-failed reads)\n",
      "473861 + 0 secondary\n",
      "0 + 0 supplementary\n",
      "0 + 0 duplicates\n",
      "2805095 + 0 mapped (0.23% : N/A)\n",
      "0 + 0 paired in sequencing\n",
      "0 + 0 read1\n",
      "0 + 0 read2\n",
      "0 + 0 properly paired (N/A : N/A)\n",
      "0 + 0 with itself and mate mapped\n",
      "0 + 0 singletons (N/A : N/A)\n",
      "0 + 0 with mate mapped to a different chr\n",
      "0 + 0 with mate mapped to a different chr (mapQ>=5)\n"
     ]
    }
   ],
   "source": [
    "!samtools flagstat ../6_alignment/alignment_lemons/star/Aligned.sortedByCoord.out.bam\n",
    "!samtools flagstat ../6_alignment/alignment_lemons/hisat/merged.bam"
   ]
  },
  {
   "attachments": {},
   "cell_type": "markdown",
   "metadata": {},
   "source": [
    "## Qualimap\n",
    "\n",
    "Use Qualimap to run `bamqc` and `rnaseq` to generate QC metrics for the STAR and HISAT merged BAMs:"
   ]
  },
  {
   "cell_type": "code",
   "execution_count": 4,
   "metadata": {},
   "outputs": [],
   "source": [
    "!samtools view -h ../6_alignment/alignment_lemons/star/Aligned.sortedByCoord.out.bam | grep -v “^@RG” > ../6_alignment/alignment_lemons/star/no_header.sam\n",
    "!samtools view -b ../6_alignment/alignment_lemons/star/no_header.sam > ../6_alignment/alignment_lemons/star/no_header.bam"
   ]
  },
  {
   "attachments": {},
   "cell_type": "markdown",
   "metadata": {},
   "source": [
    "rnaseq didn't work because of gtf file.\n",
    "niether bamqc is working either."
   ]
  },
  {
   "cell_type": "code",
   "execution_count": 3,
   "metadata": {},
   "outputs": [
    {
     "name": "stdout",
     "output_type": "stream",
     "text": [
      "Command line run, unsetting DISPLAY variable...\n",
      "Display: \n",
      "Java memory size is set to 1200M\n",
      "Launching application...\n",
      "\n",
      "QualiMap v.2.2.2-dev\n",
      "Built on 2016-12-11 14:41\n",
      "\n",
      "Selected tool: bamqc\n",
      "Available memory (Mb): 33\n",
      "Max memory (Mb): 1258\n",
      "Starting bam qc....\n",
      "Failed to run bamqc\n",
      "net.sf.samtools.SAMFormatException: Error parsing SAM header. @RG line missing SM tag. Line:\n",
      "@RG\tID:YCQ_1; File /data/users/corwinbm5021/BIOL343/7_alignment_qc/../6_alignment/alignment_lemons/star/no_header.bam; Line number 802\n",
      "\tat net.sf.samtools.SAMTextHeaderCodec.reportErrorParsingLine(SAMTextHeaderCodec.java:230)\n",
      "\tat net.sf.samtools.SAMTextHeaderCodec.access$100(SAMTextHeaderCodec.java:39)\n",
      "\tat net.sf.samtools.SAMTextHeaderCodec$ParsedHeaderLine.requireTag(SAMTextHeaderCodec.java:306)\n",
      "\tat net.sf.samtools.SAMTextHeaderCodec.parseRGLine(SAMTextHeaderCodec.java:160)\n",
      "\tat net.sf.samtools.SAMTextHeaderCodec.decode(SAMTextHeaderCodec.java:93)\n",
      "\tat net.sf.samtools.BAMFileReader.readHeader(BAMFileReader.java:393)\n",
      "\tat net.sf.samtools.BAMFileReader.<init>(BAMFileReader.java:146)\n",
      "\tat net.sf.samtools.BAMFileReader.<init>(BAMFileReader.java:114)\n",
      "\tat net.sf.samtools.SAMFileReader.init(SAMFileReader.java:514)\n",
      "\tat net.sf.samtools.SAMFileReader.<init>(SAMFileReader.java:167)\n",
      "\tat net.sf.samtools.SAMFileReader.<init>(SAMFileReader.java:122)\n",
      "\tat org.bioinfo.ngs.qc.qualimap.process.BamStatsAnalysis.run(BamStatsAnalysis.java:203)\n",
      "\tat org.bioinfo.ngs.qc.qualimap.main.BamQcTool.execute(BamQcTool.java:242)\n",
      "\tat org.bioinfo.ngs.qc.qualimap.main.NgsSmartTool.run(NgsSmartTool.java:190)\n",
      "\tat org.bioinfo.ngs.qc.qualimap.main.NgsSmartMain.main(NgsSmartMain.java:111)\n",
      "\n",
      "Fri Nov 08 11:39:40 CST 2024\t\tWARNING\tCleanup output dir\n"
     ]
    }
   ],
   "source": [
    "!qualimap bamqc -nt 32 -outdir qualimap_lemons/star/bam -bam ../6_alignment/alignment_lemons/star/no_header.bam --feature-file ../2_genome_exploration/lemons/lemon_annotations.gtf -p strand-specific-forward\n",
    "# !qualimap rnaseq -outdir qualimap_lemons/star/rnaseq -bam ../6_alignment/alignment_lemons/star/no_header.bam -gtf ../2_genome_exploration/lemons/lemon_annotations.gtf -p strand-specific-forward\n",
    "# !qualimap bamqc -nt 32 -outdir qualimap_lemons/hisat/bam -bam ../6_alignment/alignment_lemons/hisat/merged.bam --feature-file ../2_genome_exploration/lemons/lemon_annotations.gtf -p strand-specific-forward\n",
    "# !qualimap rnaseq -outdir qualimap_lemons/hisat/rnaseq -bam ../6_alignment/alignment_lemons/hisat/merged.bam -gtf ../2_genome_exploration/lemons/lemon_annotations.gtf -p strand-specific-forward"
   ]
  },
  {
   "attachments": {},
   "cell_type": "markdown",
   "metadata": {},
   "source": [
    "## Report\n",
    "\n",
    "Use MuliQC to generate a single report that merges all Samtools and Qualimap metrics:"
   ]
  },
  {
   "cell_type": "code",
   "execution_count": null,
   "metadata": {},
   "outputs": [],
   "source": [
    "!multiqc --force -d ../5_fastq/fastq_lemons/qc/ ../5_fastq/trimmed_lemons/qc/ ../6_alignment/alignment_lemons . -n multiqc_report_lemons.html"
   ]
  },
  {
   "attachments": {},
   "cell_type": "markdown",
   "metadata": {},
   "source": [
    "## JBrowse2\n",
    "\n",
    "Upload a screenshot of JBrowse2 that shows the reference genome, the annotations, and the two alignments as tracks."
   ]
  },
  {
   "attachments": {},
   "cell_type": "markdown",
   "metadata": {},
   "source": [
    "## Snakemake Pipeline (Optional)\n",
    "\n",
    "1. Copy your `Snakefile` and `config.yaml` from `6_alignment` to `7_alignment_qc`.  \n",
    "2. In the `Snakefile`, add the following rules:  \n",
    "    a. `convert_hisat` - use `samtools` to convert HISAT SAMs to BAMs; sort the BAMs.  \n",
    "    b. `merge_hisat` - use `samtools` to merge all HISAT BAMs.  \n",
    "    c. `flagstat` -  use `samtools` to generate `flagstat` QC.  \n",
    "    d. `qualimap` - use `qualimap` to generate `bamqc` and `rnaseq` QC.  \n",
    "    e. `report` - use `multiqc` to aggregate all QC data into a single report. This should be an update of the report from the previous week's homework.  \n",
    "\n",
    "This `Snakefile` should not use any `wrappers` because we already have the relevant software installed in the `biol343` conda environment. The pipeline should run to completion when any instructor or classmate runs `snakemake --use-conda`."
   ]
  },
  {
   "cell_type": "markdown",
   "metadata": {},
   "source": []
  }
 ],
 "metadata": {
  "kernelspec": {
   "display_name": "biol343_20241029",
   "language": "python",
   "name": "python3"
  },
  "language_info": {
   "codemirror_mode": {
    "name": "ipython",
    "version": 3
   },
   "file_extension": ".py",
   "mimetype": "text/x-python",
   "name": "python",
   "nbconvert_exporter": "python",
   "pygments_lexer": "ipython3",
   "version": "3.12.3"
  },
  "orig_nbformat": 4
 },
 "nbformat": 4,
 "nbformat_minor": 2
}
