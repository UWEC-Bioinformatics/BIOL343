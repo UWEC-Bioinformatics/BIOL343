{
 "cells": [
  {
   "attachments": {},
   "cell_type": "markdown",
   "metadata": {},
   "source": [
    "# Week 6 Homework\n",
    "\n",
    "***Due (pushed to your GitHub branch) on 10/25 by 11:59 pm***\n",
    "\n",
    "## STAR two-pass alignment\n",
    "\n",
    "Build the STAR SA:"
   ]
  },
  {
   "cell_type": "code",
   "execution_count": null,
   "metadata": {
    "vscode": {
     "languageId": "plaintext"
    }
   },
   "outputs": [],
   "source": [
    "# going to be working on this over the weekend\n",
    "# not going to be complete by the deadline; just fyi"
   ]
  },
  {
   "attachments": {},
   "cell_type": "markdown",
   "metadata": {},
   "source": [
    "Use STAR and ***all*** of your FASTQs for a first-pass alignment. Be sure to update the `sjdbOverhang` parameter to a value that is appropriate for your dataset. Rename the log file so that you can compare the logs from the first and second alignments:"
   ]
  },
  {
   "cell_type": "code",
   "execution_count": null,
   "metadata": {
    "vscode": {
     "languageId": "plaintext"
    }
   },
   "outputs": [],
   "source": []
  },
  {
   "attachments": {},
   "cell_type": "markdown",
   "metadata": {},
   "source": [
    "Use STAR, all of your FASTQs, and `SJ.out.tab` for the second-pass alignment. You will likely need to make your own `manifest.tsv`:"
   ]
  },
  {
   "cell_type": "code",
   "execution_count": null,
   "metadata": {
    "vscode": {
     "languageId": "plaintext"
    }
   },
   "outputs": [],
   "source": []
  },
  {
   "cell_type": "markdown",
   "metadata": {},
   "source": [
    "Update this block to briefly describe the differences between the logs for the first and second alignments."
   ]
  },
  {
   "attachments": {},
   "cell_type": "markdown",
   "metadata": {},
   "source": [
    "## HISAT alignment\n",
    "\n",
    "(***Note***: you may need Dr. Wheeler to build the HISAT index of your genome. Ask him for assistance when you get to this part of the assignment.)\n",
    "\n",
    "Use a Bash `while` loop to align all of your FASTQs and save the output files using the same names as the input FASTQ:"
   ]
  },
  {
   "cell_type": "code",
   "execution_count": null,
   "metadata": {
    "vscode": {
     "languageId": "plaintext"
    }
   },
   "outputs": [],
   "source": []
  },
  {
   "attachments": {},
   "cell_type": "markdown",
   "metadata": {},
   "source": [
    "## Snakemake Pipeline\n",
    "\n",
    "In contrast to last week (FASTQ files), there aren't as many decisions that need to be made during alignment, so using a notebook to control and report code isn't as necessary. As you saw in in [6_alignment](6_alignment.ipynb), file and directory management can get complicated during alignment. This is a case where Snakemake scripting shines.\n",
    "\n",
    "1. Copy your `Snakefile` and `config.yaml` from `5_fastq` to `6_alignment`. \n",
    "2. In the `Snakefile`, add the following rules:  \n",
    "    a. `fetch_genome` - using a variation from the code from `2_genome_exploration`, download your reference genome and annotations.\n",
    "    b. `star_sa` - use `STAR` to produce the suffix array of the reference genome.  \n",
    "    c. `star_align_first` - use `STAR` to perform first-pass alignment with all FASTQ files.\n",
    "    d. `star_align_second` - use `STAR` to perform second-pass alignment with all FASTQ files.\n",
    "    e. `hisat_align` - use `HISAT` to align all FASTQ files.\n",
    "    e. `report` - use `multiqc` to aggregate all QC data into a single report.\n",
    "\n",
    "This `Snakefile` should not use any `wrappers` because we already have the relevant software installed in the `biol343` conda environment. The pipeline should run to completion when any instructor or classmate runs `snakemake --use-conda`."
   ]
  },
  {
   "cell_type": "markdown",
   "metadata": {},
   "source": []
  }
 ],
 "metadata": {
  "language_info": {
   "name": "python"
  },
  "orig_nbformat": 4
 },
 "nbformat": 4,
 "nbformat_minor": 2
}
