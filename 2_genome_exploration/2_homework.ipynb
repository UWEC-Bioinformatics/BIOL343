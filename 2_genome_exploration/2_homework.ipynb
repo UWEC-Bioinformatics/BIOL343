{
 "cells": [
  {
   "cell_type": "markdown",
   "metadata": {},
   "source": [
    "# Week 2 Homework\n",
    "\n",
    "***Due (pushed to your GitHub branch) on 9/27 by 11:59 pm***"
   ]
  },
  {
   "attachments": {},
   "cell_type": "markdown",
   "metadata": {},
   "source": [
    "Retrieve and decompress the genome."
   ]
  },
  {
   "cell_type": "code",
   "execution_count": 1,
   "metadata": {},
   "outputs": [
    {
     "name": "stdout",
     "output_type": "stream",
     "text": [
      "/data/users/waldhacw6865/BIOL343/2_genome_exploration/beegenome\n",
      "--2024-09-26 15:41:58--  https://ftp.ncbi.nlm.nih.gov/genomes/all/GCF/003/254/395/GCF_003254395.2_Amel_HAv3.1/GCF_003254395.2_Amel_HAv3.1_genomic.fna.gz\n",
      "Resolving ftp.ncbi.nlm.nih.gov... 130.14.250.11, 130.14.250.10, 130.14.250.13, ...\n",
      "Connecting to ftp.ncbi.nlm.nih.gov|130.14.250.11|:443... connected.\n",
      "HTTP request sent, awaiting response... 200 OK\n",
      "Length: 69726867 (66M) [application/x-gzip]\n",
      "Saving to: ‘genome.fa.gz’\n",
      "\n",
      "genome.fa.gz        100%[===================>]  66.50M  46.8MB/s    in 1.4s    \n",
      "\n",
      "2024-09-26 15:42:00 (46.8 MB/s) - ‘genome.fa.gz’ saved [69726867/69726867]\n",
      "\n"
     ]
    }
   ],
   "source": [
    "!mkdir beegenome\n",
    "%cd beegenome\n",
    "!wget -nc -O genome.fa.gz https://ftp.ncbi.nlm.nih.gov/genomes/all/GCF/003/254/395/GCF_003254395.2_Amel_HAv3.1/GCF_003254395.2_Amel_HAv3.1_genomic.fna.gz\n",
    "!gzip -d -f genome.fa.gz"
   ]
  },
  {
   "cell_type": "markdown",
   "metadata": {},
   "source": [
    "Retrieve and decompress the annotations."
   ]
  },
  {
   "cell_type": "code",
   "execution_count": 4,
   "metadata": {},
   "outputs": [
    {
     "name": "stdout",
     "output_type": "stream",
     "text": [
      "/data/users/waldhacw6865/BIOL343/2_genome_exploration/beegenome\n",
      "--2024-09-26 15:52:43--  https://ftp.ncbi.nlm.nih.gov/genomes/all/GCF/003/254/395/GCF_003254395.2_Amel_HAv3.1/GCF_003254395.2_Amel_HAv3.1_genomic.gtf.gz\n",
      "Resolving ftp.ncbi.nlm.nih.gov... 130.14.250.7, 130.14.250.10, 130.14.250.13, ...\n",
      "Connecting to ftp.ncbi.nlm.nih.gov|130.14.250.7|:443... connected.\n",
      "HTTP request sent, awaiting response... 200 OK\n",
      "Length: 6521081 (6.2M) [application/x-gzip]\n",
      "Saving to: ‘genome_annotations.gtf.gz’\n",
      "\n",
      "genome_annotations. 100%[===================>]   6.22M  23.0MB/s    in 0.3s    \n",
      "\n",
      "2024-09-26 15:52:43 (23.0 MB/s) - ‘genome_annotations.gtf.gz’ saved [6521081/6521081]\n",
      "\n"
     ]
    }
   ],
   "source": [
    "%cd beegenome\n",
    "!wget -O genome_annotations.gtf.gz https://ftp.ncbi.nlm.nih.gov/genomes/all/GCF/003/254/395/GCF_003254395.2_Amel_HAv3.1/GCF_003254395.2_Amel_HAv3.1_genomic.gtf.gz\n",
    "!gzip -f -d genome_annotations.gtf.gz"
   ]
  },
  {
   "attachments": {},
   "cell_type": "markdown",
   "metadata": {},
   "source": [
    "Count the number of contigs/chromosomes using a single `grep` command. The command should return an integer."
   ]
  },
  {
   "cell_type": "code",
   "execution_count": 13,
   "metadata": {},
   "outputs": [
    {
     "name": "stdout",
     "output_type": "stream",
     "text": [
      "177\n"
     ]
    }
   ],
   "source": [
    "!grep \">\" --count genome.fa"
   ]
  },
  {
   "attachments": {},
   "cell_type": "markdown",
   "metadata": {},
   "source": [
    "List the name of each contig/chromosome, which is included in the header of each sequence. Your `grep` command should return the entire header of each entry, with a new line separating entries."
   ]
  },
  {
   "cell_type": "code",
   "execution_count": 14,
   "metadata": {},
   "outputs": [
    {
     "name": "stdout",
     "output_type": "stream",
     "text": [
      ">NC_037638.1 Apis mellifera strain DH4 linkage group LG1, Amel_HAv3.1, whole genome shotgun sequence\n",
      ">NC_037639.1 Apis mellifera strain DH4 linkage group LG2, Amel_HAv3.1, whole genome shotgun sequence\n",
      ">NW_020555788.1 Apis mellifera strain DH4 linkage group LG2 unlocalized genomic scaffold, Amel_HAv3.1 GroupUN_55_associated_to_Group2, whole genome shotgun sequence\n",
      ">NC_037640.1 Apis mellifera strain DH4 linkage group LG3, Amel_HAv3.1, whole genome shotgun sequence\n",
      ">NC_037641.1 Apis mellifera strain DH4 linkage group LG4, Amel_HAv3.1, whole genome shotgun sequence\n",
      ">NC_037642.1 Apis mellifera strain DH4 linkage group LG5, Amel_HAv3.1, whole genome shotgun sequence\n",
      ">NW_020555789.1 Apis mellifera strain DH4 linkage group LG5 unlocalized genomic scaffold, Amel_HAv3.1 GroupUN_168_associated_to_Group5, whole genome shotgun sequence\n",
      ">NC_037643.1 Apis mellifera strain DH4 linkage group LG6, Amel_HAv3.1, whole genome shotgun sequence\n",
      ">NW_020555790.1 Apis mellifera strain DH4 linkage group LG6 unlocalized genomic scaffold, Amel_HAv3.1 GroupUN_71_associated_to_Group6, whole genome shotgun sequence\n",
      ">NC_037644.1 Apis mellifera strain DH4 linkage group LG7, Amel_HAv3.1, whole genome shotgun sequence\n",
      ">NW_020555791.1 Apis mellifera strain DH4 linkage group LG7 unlocalized genomic scaffold, Amel_HAv3.1 GroupUN_146_associated_to_Group7, whole genome shotgun sequence\n",
      ">NW_020555792.1 Apis mellifera strain DH4 linkage group LG7 unlocalized genomic scaffold, Amel_HAv3.1 GroupUN_74_associated_to_Group7, whole genome shotgun sequence\n",
      ">NW_020555793.1 Apis mellifera strain DH4 linkage group LG7 unlocalized genomic scaffold, Amel_HAv3.1 GroupUN_184_associated_to_Group7, whole genome shotgun sequence\n",
      ">NC_037645.1 Apis mellifera strain DH4 linkage group LG8, Amel_HAv3.1, whole genome shotgun sequence\n",
      ">NW_020555794.1 Apis mellifera strain DH4 linkage group LG8 unlocalized genomic scaffold, Amel_HAv3.1 GroupUN_109_associated_to_Group8, whole genome shotgun sequence\n",
      ">NW_020555795.1 Apis mellifera strain DH4 linkage group LG8 unlocalized genomic scaffold, Amel_HAv3.1 GroupUN_209_associated_to_Group8, whole genome shotgun sequence\n",
      ">NW_020555796.1 Apis mellifera strain DH4 linkage group LG8 unlocalized genomic scaffold, Amel_HAv3.1 GroupUN_233_associated_to_Group8, whole genome shotgun sequence\n",
      ">NC_037646.1 Apis mellifera strain DH4 linkage group LG9, Amel_HAv3.1, whole genome shotgun sequence\n",
      ">NW_020555797.1 Apis mellifera strain DH4 linkage group LG9 unlocalized genomic scaffold, Amel_HAv3.1 GroupUN_41_associated_to_Group9, whole genome shotgun sequence\n",
      ">NW_020555798.1 Apis mellifera strain DH4 linkage group LG9 unlocalized genomic scaffold, Amel_HAv3.1 GroupUN_81_associated_to_Group9, whole genome shotgun sequence\n",
      ">NW_020555799.1 Apis mellifera strain DH4 linkage group LG9 unlocalized genomic scaffold, Amel_HAv3.1 GroupUN_173_associated_to_Group9, whole genome shotgun sequence\n",
      ">NW_020555800.1 Apis mellifera strain DH4 linkage group LG9 unlocalized genomic scaffold, Amel_HAv3.1 GroupUN_111_associated_to_Group9, whole genome shotgun sequence\n",
      ">NW_020555801.1 Apis mellifera strain DH4 linkage group LG9 unlocalized genomic scaffold, Amel_HAv3.1 GroupUN_161_associated_to_Group9, whole genome shotgun sequence\n",
      ">NW_020555802.1 Apis mellifera strain DH4 linkage group LG9 unlocalized genomic scaffold, Amel_HAv3.1 GroupUN_58_associated_to_Group9, whole genome shotgun sequence\n",
      ">NW_020555803.1 Apis mellifera strain DH4 linkage group LG9 unlocalized genomic scaffold, Amel_HAv3.1 GroupUN_151_associated_to_Group9, whole genome shotgun sequence\n",
      ">NW_020555804.1 Apis mellifera strain DH4 linkage group LG9 unlocalized genomic scaffold, Amel_HAv3.1 GroupUN_126_associated_to_Group9, whole genome shotgun sequence\n",
      ">NW_020555805.1 Apis mellifera strain DH4 linkage group LG9 unlocalized genomic scaffold, Amel_HAv3.1 GroupUN_229_associated_to_Group9, whole genome shotgun sequence\n",
      ">NW_020555806.1 Apis mellifera strain DH4 linkage group LG9 unlocalized genomic scaffold, Amel_HAv3.1 GroupUN_110_associated_to_Group9, whole genome shotgun sequence\n",
      ">NW_020555807.1 Apis mellifera strain DH4 linkage group LG9 unlocalized genomic scaffold, Amel_HAv3.1 GroupUN_187_associated_to_Group9, whole genome shotgun sequence\n",
      ">NW_020555808.1 Apis mellifera strain DH4 linkage group LG9 unlocalized genomic scaffold, Amel_HAv3.1 GroupUN_80_associated_to_Group9, whole genome shotgun sequence\n",
      ">NW_020555809.1 Apis mellifera strain DH4 linkage group LG9 unlocalized genomic scaffold, Amel_HAv3.1 GroupUN_160_associated_to_Group9, whole genome shotgun sequence\n",
      ">NW_020555810.1 Apis mellifera strain DH4 linkage group LG9 unlocalized genomic scaffold, Amel_HAv3.1 GroupUN_40_associated_to_Group9, whole genome shotgun sequence\n",
      ">NW_020555811.1 Apis mellifera strain DH4 linkage group LG9 unlocalized genomic scaffold, Amel_HAv3.1 GroupUN_207_associated_to_Group9, whole genome shotgun sequence\n",
      ">NW_020555812.1 Apis mellifera strain DH4 linkage group LG9 unlocalized genomic scaffold, Amel_HAv3.1 GroupUN_185_associated_to_Group9, whole genome shotgun sequence\n",
      ">NW_020555813.1 Apis mellifera strain DH4 linkage group LG9 unlocalized genomic scaffold, Amel_HAv3.1 GroupUN_174_associated_to_Group9, whole genome shotgun sequence\n",
      ">NC_037647.1 Apis mellifera strain DH4 linkage group LG10, Amel_HAv3.1, whole genome shotgun sequence\n",
      ">NW_020555814.1 Apis mellifera strain DH4 linkage group LG10 unlocalized genomic scaffold, Amel_HAv3.1 GroupUN_244_associated_to_Group10, whole genome shotgun sequence\n",
      ">NW_020555815.1 Apis mellifera strain DH4 linkage group LG10 unlocalized genomic scaffold, Amel_HAv3.1 GroupUN_53_associated_to_Group10, whole genome shotgun sequence\n",
      ">NW_020555816.1 Apis mellifera strain DH4 linkage group LG10 unlocalized genomic scaffold, Amel_HAv3.1 GroupUN_15_associated_to_Group10, whole genome shotgun sequence\n",
      ">NW_020555817.1 Apis mellifera strain DH4 linkage group LG10 unlocalized genomic scaffold, Amel_HAv3.1 GroupUN_69_associated_to_Group10, whole genome shotgun sequence\n",
      ">NW_020555818.1 Apis mellifera strain DH4 linkage group LG10 unlocalized genomic scaffold, Amel_HAv3.1 GroupUN_16_associated_to_Group10, whole genome shotgun sequence\n",
      ">NW_020555819.1 Apis mellifera strain DH4 linkage group LG10 unlocalized genomic scaffold, Amel_HAv3.1 GroupUN_43_associated_to_Group10, whole genome shotgun sequence\n",
      ">NW_020555820.1 Apis mellifera strain DH4 linkage group LG10 unlocalized genomic scaffold, Amel_HAv3.1 GroupUN_153_associated_to_Group10, whole genome shotgun sequence\n",
      ">NC_037648.1 Apis mellifera strain DH4 linkage group LG11, Amel_HAv3.1, whole genome shotgun sequence\n",
      ">NW_020555821.1 Apis mellifera strain DH4 linkage group LG11 unlocalized genomic scaffold, Amel_HAv3.1 GroupUN_77_associated_to_Group11, whole genome shotgun sequence\n",
      ">NW_020555822.1 Apis mellifera strain DH4 linkage group LG11 unlocalized genomic scaffold, Amel_HAv3.1 GroupUN_132_associated_to_Group11, whole genome shotgun sequence\n",
      ">NW_020555823.1 Apis mellifera strain DH4 linkage group LG11 unlocalized genomic scaffold, Amel_HAv3.1 GroupUN_7_associated_to_Group11, whole genome shotgun sequence\n",
      ">NW_020555824.1 Apis mellifera strain DH4 linkage group LG11 unlocalized genomic scaffold, Amel_HAv3.1 GroupUN_198_associated_to_Group11, whole genome shotgun sequence\n",
      ">NW_020555825.1 Apis mellifera strain DH4 linkage group LG11 unlocalized genomic scaffold, Amel_HAv3.1 GroupUN_191_associated_to_Group11, whole genome shotgun sequence\n",
      ">NC_037649.1 Apis mellifera strain DH4 linkage group LG12, Amel_HAv3.1, whole genome shotgun sequence\n",
      ">NW_020555826.1 Apis mellifera strain DH4 linkage group LG12 unlocalized genomic scaffold, Amel_HAv3.1 GroupUN_155_associated_to_Group12, whole genome shotgun sequence\n",
      ">NC_037650.1 Apis mellifera strain DH4 linkage group LG13, Amel_HAv3.1, whole genome shotgun sequence\n",
      ">NC_037651.1 Apis mellifera strain DH4 linkage group LG14, Amel_HAv3.1, whole genome shotgun sequence\n",
      ">NW_020555827.1 Apis mellifera strain DH4 linkage group LG14 unlocalized genomic scaffold, Amel_HAv3.1 GroupUN_188_associated_to_Group14, whole genome shotgun sequence\n",
      ">NW_020555828.1 Apis mellifera strain DH4 linkage group LG14 unlocalized genomic scaffold, Amel_HAv3.1 GroupUN_157_associated_to_Group14, whole genome shotgun sequence\n",
      ">NW_020555829.1 Apis mellifera strain DH4 linkage group LG14 unlocalized genomic scaffold, Amel_HAv3.1 GroupUN_223_associated_to_Group14, whole genome shotgun sequence\n",
      ">NW_020555830.1 Apis mellifera strain DH4 linkage group LG14 unlocalized genomic scaffold, Amel_HAv3.1 GroupUN_193_associated_to_Group14, whole genome shotgun sequence\n",
      ">NW_020555831.1 Apis mellifera strain DH4 linkage group LG14 unlocalized genomic scaffold, Amel_HAv3.1 GroupUN_24_associated_to_Group14, whole genome shotgun sequence\n",
      ">NW_020555832.1 Apis mellifera strain DH4 linkage group LG14 unlocalized genomic scaffold, Amel_HAv3.1 GroupUN_128_associated_to_Group14, whole genome shotgun sequence\n",
      ">NW_020555833.1 Apis mellifera strain DH4 linkage group LG14 unlocalized genomic scaffold, Amel_HAv3.1 GroupUN_211_associated_to_Group14, whole genome shotgun sequence\n",
      ">NW_020555834.1 Apis mellifera strain DH4 linkage group LG14 unlocalized genomic scaffold, Amel_HAv3.1 GroupUN_79_associated_to_Group14, whole genome shotgun sequence\n",
      ">NW_020555835.1 Apis mellifera strain DH4 linkage group LG14 unlocalized genomic scaffold, Amel_HAv3.1 GroupUN_46_associated_to_Group14, whole genome shotgun sequence\n",
      ">NW_020555836.1 Apis mellifera strain DH4 linkage group LG14 unlocalized genomic scaffold, Amel_HAv3.1 GroupUN_30_associated_to_Group14, whole genome shotgun sequence\n",
      ">NW_020555837.1 Apis mellifera strain DH4 linkage group LG14 unlocalized genomic scaffold, Amel_HAv3.1 GroupUN_106_associated_to_Group14, whole genome shotgun sequence\n",
      ">NW_020555838.1 Apis mellifera strain DH4 linkage group LG14 unlocalized genomic scaffold, Amel_HAv3.1 GroupUN_51_associated_to_Group14, whole genome shotgun sequence\n",
      ">NW_020555839.1 Apis mellifera strain DH4 linkage group LG14 unlocalized genomic scaffold, Amel_HAv3.1 GroupUN_217_associated_to_Group14, whole genome shotgun sequence\n",
      ">NW_020555840.1 Apis mellifera strain DH4 linkage group LG14 unlocalized genomic scaffold, Amel_HAv3.1 GroupUN_93_associated_to_Group14, whole genome shotgun sequence\n",
      ">NC_037652.1 Apis mellifera strain DH4 linkage group LG15, Amel_HAv3.1, whole genome shotgun sequence\n",
      ">NW_020555841.1 Apis mellifera strain DH4 linkage group LG15 unlocalized genomic scaffold, Amel_HAv3.1 GroupUN_251_associated_to_Group15, whole genome shotgun sequence\n",
      ">NW_020555842.1 Apis mellifera strain DH4 linkage group LG15 unlocalized genomic scaffold, Amel_HAv3.1 GroupUN_252_associated_to_Group15, whole genome shotgun sequence\n",
      ">NW_020555843.1 Apis mellifera strain DH4 linkage group LG15 unlocalized genomic scaffold, Amel_HAv3.1 GroupUN_210_associated_to_Group15, whole genome shotgun sequence\n",
      ">NW_020555844.1 Apis mellifera strain DH4 linkage group LG15 unlocalized genomic scaffold, Amel_HAv3.1 GroupUN_21_associated_to_Group15, whole genome shotgun sequence\n",
      ">NW_020555845.1 Apis mellifera strain DH4 linkage group LG15 unlocalized genomic scaffold, Amel_HAv3.1 GroupUN_26_associated_to_Group15, whole genome shotgun sequence\n",
      ">NW_020555846.1 Apis mellifera strain DH4 linkage group LG15 unlocalized genomic scaffold, Amel_HAv3.1 GroupUN_97_associated_to_Group15, whole genome shotgun sequence\n",
      ">NW_020555847.1 Apis mellifera strain DH4 linkage group LG15 unlocalized genomic scaffold, Amel_HAv3.1 GroupUN_117_associated_to_Group15, whole genome shotgun sequence\n",
      ">NW_020555848.1 Apis mellifera strain DH4 linkage group LG15 unlocalized genomic scaffold, Amel_HAv3.1 GroupUN_4_associated_to_Group15, whole genome shotgun sequence\n",
      ">NW_020555849.1 Apis mellifera strain DH4 linkage group LG15 unlocalized genomic scaffold, Amel_HAv3.1 GroupUN_194_associated_to_Group15, whole genome shotgun sequence\n",
      ">NW_020555850.1 Apis mellifera strain DH4 linkage group LG15 unlocalized genomic scaffold, Amel_HAv3.1 GroupUN_70_associated_to_Group15, whole genome shotgun sequence\n",
      ">NW_020555851.1 Apis mellifera strain DH4 linkage group LG15 unlocalized genomic scaffold, Amel_HAv3.1 GroupUN_237_associated_to_Group15, whole genome shotgun sequence\n",
      ">NW_020555852.1 Apis mellifera strain DH4 linkage group LG15 unlocalized genomic scaffold, Amel_HAv3.1 GroupUN_205_associated_to_Group15, whole genome shotgun sequence\n",
      ">NW_020555853.1 Apis mellifera strain DH4 linkage group LG15 unlocalized genomic scaffold, Amel_HAv3.1 GroupUN_165_associated_to_Group15, whole genome shotgun sequence\n",
      ">NW_020555854.1 Apis mellifera strain DH4 linkage group LG15 unlocalized genomic scaffold, Amel_HAv3.1 GroupUN_38_associated_to_Group15, whole genome shotgun sequence\n",
      ">NW_020555855.1 Apis mellifera strain DH4 linkage group LG15 unlocalized genomic scaffold, Amel_HAv3.1 GroupUN_39_associated_to_Group15, whole genome shotgun sequence\n",
      ">NW_020555856.1 Apis mellifera strain DH4 linkage group LG15 unlocalized genomic scaffold, Amel_HAv3.1 GroupUN_220_associated_to_Group15, whole genome shotgun sequence\n",
      ">NW_020555857.1 Apis mellifera strain DH4 linkage group LG15 unlocalized genomic scaffold, Amel_HAv3.1 GroupUN_133_associated_to_Group15, whole genome shotgun sequence\n",
      ">NW_020555858.1 Apis mellifera strain DH4 linkage group LG15 unlocalized genomic scaffold, Amel_HAv3.1 GroupUN_19_associated_to_Group15, whole genome shotgun sequence\n",
      ">NC_037653.1 Apis mellifera strain DH4 linkage group LG16, Amel_HAv3.1, whole genome shotgun sequence\n",
      ">NW_020555859.1 Apis mellifera strain DH4 unplaced genomic scaffold, Amel_HAv3.1 GroupUN_248, whole genome shotgun sequence\n",
      ">NW_020555860.1 Apis mellifera strain DH4 unplaced genomic scaffold, Amel_HAv3.1 GroupUN_243, whole genome shotgun sequence\n",
      ">NW_020555861.1 Apis mellifera strain DH4 unplaced genomic scaffold, Amel_HAv3.1 GroupUN_13, whole genome shotgun sequence\n",
      ">NW_020555862.1 Apis mellifera strain DH4 unplaced genomic scaffold, Amel_HAv3.1 GroupUN_250, whole genome shotgun sequence\n",
      ">NW_020555863.1 Apis mellifera strain DH4 unplaced genomic scaffold, Amel_HAv3.1 GroupUN_246, whole genome shotgun sequence\n",
      ">NW_020555864.1 Apis mellifera strain DH4 unplaced genomic scaffold, Amel_HAv3.1 GroupUN_247, whole genome shotgun sequence\n",
      ">NW_020555865.1 Apis mellifera strain DH4 unplaced genomic scaffold, Amel_HAv3.1 GroupUN_9, whole genome shotgun sequence\n",
      ">NW_020555866.1 Apis mellifera strain DH4 unplaced genomic scaffold, Amel_HAv3.1 GroupUN_138, whole genome shotgun sequence\n",
      ">NW_020555867.1 Apis mellifera strain DH4 unplaced genomic scaffold, Amel_HAv3.1 GroupUN_88, whole genome shotgun sequence\n",
      ">NW_020555868.1 Apis mellifera strain DH4 unplaced genomic scaffold, Amel_HAv3.1 GroupUN_11, whole genome shotgun sequence\n",
      ">NW_020555869.1 Apis mellifera strain DH4 unplaced genomic scaffold, Amel_HAv3.1 GroupUN_226, whole genome shotgun sequence\n",
      ">NW_020555870.1 Apis mellifera strain DH4 unplaced genomic scaffold, Amel_HAv3.1 GroupUN_3, whole genome shotgun sequence\n",
      ">NW_020555871.1 Apis mellifera strain DH4 unplaced genomic scaffold, Amel_HAv3.1 GroupUN_245, whole genome shotgun sequence\n",
      ">NW_020555872.1 Apis mellifera strain DH4 unplaced genomic scaffold, Amel_HAv3.1 GroupUN_44, whole genome shotgun sequence\n",
      ">NW_020555873.1 Apis mellifera strain DH4 unplaced genomic scaffold, Amel_HAv3.1 GroupUN_63, whole genome shotgun sequence\n",
      ">NW_020555874.1 Apis mellifera strain DH4 unplaced genomic scaffold, Amel_HAv3.1 GroupUN_64, whole genome shotgun sequence\n",
      ">NW_020555875.1 Apis mellifera strain DH4 unplaced genomic scaffold, Amel_HAv3.1 GroupUN_135, whole genome shotgun sequence\n",
      ">NW_020555876.1 Apis mellifera strain DH4 unplaced genomic scaffold, Amel_HAv3.1 GroupUN_164, whole genome shotgun sequence\n",
      ">NW_020555877.1 Apis mellifera strain DH4 unplaced genomic scaffold, Amel_HAv3.1 GroupUN_8, whole genome shotgun sequence\n",
      ">NW_020555878.1 Apis mellifera strain DH4 unplaced genomic scaffold, Amel_HAv3.1 GroupUN_240, whole genome shotgun sequence\n",
      ">NW_020555879.1 Apis mellifera strain DH4 unplaced genomic scaffold, Amel_HAv3.1 GroupUN_17, whole genome shotgun sequence\n",
      ">NW_020555880.1 Apis mellifera strain DH4 unplaced genomic scaffold, Amel_HAv3.1 GroupUN_2, whole genome shotgun sequence\n",
      ">NW_020555881.1 Apis mellifera strain DH4 unplaced genomic scaffold, Amel_HAv3.1 GroupUN_175, whole genome shotgun sequence\n",
      ">NW_020555882.1 Apis mellifera strain DH4 unplaced genomic scaffold, Amel_HAv3.1 GroupUN_141, whole genome shotgun sequence\n",
      ">NW_020555883.1 Apis mellifera strain DH4 unplaced genomic scaffold, Amel_HAv3.1 GroupUN_84, whole genome shotgun sequence\n",
      ">NW_020555884.1 Apis mellifera strain DH4 unplaced genomic scaffold, Amel_HAv3.1 GroupUN_143, whole genome shotgun sequence\n",
      ">NW_020555885.1 Apis mellifera strain DH4 unplaced genomic scaffold, Amel_HAv3.1 GroupUN_204, whole genome shotgun sequence\n",
      ">NW_020555886.1 Apis mellifera strain DH4 unplaced genomic scaffold, Amel_HAv3.1 GroupUN_12, whole genome shotgun sequence\n",
      ">NW_020555887.1 Apis mellifera strain DH4 unplaced genomic scaffold, Amel_HAv3.1 GroupUN_136, whole genome shotgun sequence\n",
      ">NW_020555888.1 Apis mellifera strain DH4 unplaced genomic scaffold, Amel_HAv3.1 GroupUN_27, whole genome shotgun sequence\n",
      ">NW_020555889.1 Apis mellifera strain DH4 unplaced genomic scaffold, Amel_HAv3.1 GroupUN_134, whole genome shotgun sequence\n",
      ">NW_020555890.1 Apis mellifera strain DH4 unplaced genomic scaffold, Amel_HAv3.1 GroupUN_249, whole genome shotgun sequence\n",
      ">NW_020555891.1 Apis mellifera strain DH4 unplaced genomic scaffold, Amel_HAv3.1 GroupUN_95, whole genome shotgun sequence\n",
      ">NW_020555892.1 Apis mellifera strain DH4 unplaced genomic scaffold, Amel_HAv3.1 GroupUN_172, whole genome shotgun sequence\n",
      ">NW_020555893.1 Apis mellifera strain DH4 unplaced genomic scaffold, Amel_HAv3.1 GroupUN_180, whole genome shotgun sequence\n",
      ">NW_020555894.1 Apis mellifera strain DH4 unplaced genomic scaffold, Amel_HAv3.1 GroupUN_20, whole genome shotgun sequence\n",
      ">NW_020555895.1 Apis mellifera strain DH4 unplaced genomic scaffold, Amel_HAv3.1 GroupUN_218, whole genome shotgun sequence\n",
      ">NW_020555896.1 Apis mellifera strain DH4 unplaced genomic scaffold, Amel_HAv3.1 GroupUN_150, whole genome shotgun sequence\n",
      ">NW_020555897.1 Apis mellifera strain DH4 unplaced genomic scaffold, Amel_HAv3.1 GroupUN_199, whole genome shotgun sequence\n",
      ">NW_020555898.1 Apis mellifera strain DH4 unplaced genomic scaffold, Amel_HAv3.1 GroupUN_181, whole genome shotgun sequence\n",
      ">NW_020555899.1 Apis mellifera strain DH4 unplaced genomic scaffold, Amel_HAv3.1 GroupUN_102, whole genome shotgun sequence\n",
      ">NW_020555900.1 Apis mellifera strain DH4 unplaced genomic scaffold, Amel_HAv3.1 GroupUN_222, whole genome shotgun sequence\n",
      ">NW_020555901.1 Apis mellifera strain DH4 unplaced genomic scaffold, Amel_HAv3.1 GroupUN_254, whole genome shotgun sequence\n",
      ">NW_020555902.1 Apis mellifera strain DH4 unplaced genomic scaffold, Amel_HAv3.1 GroupUN_1, whole genome shotgun sequence\n",
      ">NW_020555903.1 Apis mellifera strain DH4 unplaced genomic scaffold, Amel_HAv3.1 GroupUN_98, whole genome shotgun sequence\n",
      ">NW_020555904.1 Apis mellifera strain DH4 unplaced genomic scaffold, Amel_HAv3.1 GroupUN_206, whole genome shotgun sequence\n",
      ">NW_020555905.1 Apis mellifera strain DH4 unplaced genomic scaffold, Amel_HAv3.1 GroupUN_170, whole genome shotgun sequence\n",
      ">NW_020555906.1 Apis mellifera strain DH4 unplaced genomic scaffold, Amel_HAv3.1 GroupUN_186, whole genome shotgun sequence\n",
      ">NW_020555907.1 Apis mellifera strain DH4 unplaced genomic scaffold, Amel_HAv3.1 GroupUN_60, whole genome shotgun sequence\n",
      ">NW_020555908.1 Apis mellifera strain DH4 unplaced genomic scaffold, Amel_HAv3.1 GroupUN_140, whole genome shotgun sequence\n",
      ">NW_020555909.1 Apis mellifera strain DH4 unplaced genomic scaffold, Amel_HAv3.1 GroupUN_221, whole genome shotgun sequence\n",
      ">NW_020555910.1 Apis mellifera strain DH4 unplaced genomic scaffold, Amel_HAv3.1 GroupUN_176, whole genome shotgun sequence\n",
      ">NW_020555911.1 Apis mellifera strain DH4 unplaced genomic scaffold, Amel_HAv3.1 GroupUN_203, whole genome shotgun sequence\n",
      ">NW_020555912.1 Apis mellifera strain DH4 unplaced genomic scaffold, Amel_HAv3.1 GroupUN_67, whole genome shotgun sequence\n",
      ">NW_020555913.1 Apis mellifera strain DH4 unplaced genomic scaffold, Amel_HAv3.1 GroupUN_219, whole genome shotgun sequence\n",
      ">NW_020555914.1 Apis mellifera strain DH4 unplaced genomic scaffold, Amel_HAv3.1 GroupUN_200, whole genome shotgun sequence\n",
      ">NW_020555915.1 Apis mellifera strain DH4 unplaced genomic scaffold, Amel_HAv3.1 GroupUN_169, whole genome shotgun sequence\n",
      ">NW_020555916.1 Apis mellifera strain DH4 unplaced genomic scaffold, Amel_HAv3.1 GroupUN_253, whole genome shotgun sequence\n",
      ">NW_020555917.1 Apis mellifera strain DH4 unplaced genomic scaffold, Amel_HAv3.1 GroupUN_162, whole genome shotgun sequence\n",
      ">NW_020555918.1 Apis mellifera strain DH4 unplaced genomic scaffold, Amel_HAv3.1 GroupUN_108, whole genome shotgun sequence\n",
      ">NW_020555919.1 Apis mellifera strain DH4 unplaced genomic scaffold, Amel_HAv3.1 GroupUN_56, whole genome shotgun sequence\n",
      ">NW_020555920.1 Apis mellifera strain DH4 unplaced genomic scaffold, Amel_HAv3.1 GroupUN_195, whole genome shotgun sequence\n",
      ">NW_020555921.1 Apis mellifera strain DH4 unplaced genomic scaffold, Amel_HAv3.1 GroupUN_101, whole genome shotgun sequence\n",
      ">NW_020555922.1 Apis mellifera strain DH4 unplaced genomic scaffold, Amel_HAv3.1 GroupUN_129, whole genome shotgun sequence\n",
      ">NW_020555923.1 Apis mellifera strain DH4 unplaced genomic scaffold, Amel_HAv3.1 GroupUN_103, whole genome shotgun sequence\n",
      ">NW_020555924.1 Apis mellifera strain DH4 unplaced genomic scaffold, Amel_HAv3.1 GroupUN_89, whole genome shotgun sequence\n",
      ">NW_020555925.1 Apis mellifera strain DH4 unplaced genomic scaffold, Amel_HAv3.1 GroupUN_99, whole genome shotgun sequence\n",
      ">NW_020555926.1 Apis mellifera strain DH4 unplaced genomic scaffold, Amel_HAv3.1 GroupUN_159, whole genome shotgun sequence\n",
      ">NW_020555927.1 Apis mellifera strain DH4 unplaced genomic scaffold, Amel_HAv3.1 GroupUN_178, whole genome shotgun sequence\n",
      ">NW_020555928.1 Apis mellifera strain DH4 unplaced genomic scaffold, Amel_HAv3.1 GroupUN_197, whole genome shotgun sequence\n",
      ">NW_020555929.1 Apis mellifera strain DH4 unplaced genomic scaffold, Amel_HAv3.1 GroupUN_82, whole genome shotgun sequence\n",
      ">NW_020555930.1 Apis mellifera strain DH4 unplaced genomic scaffold, Amel_HAv3.1 GroupUN_156, whole genome shotgun sequence\n",
      ">NW_020555931.1 Apis mellifera strain DH4 unplaced genomic scaffold, Amel_HAv3.1 GroupUN_94, whole genome shotgun sequence\n",
      ">NW_020555932.1 Apis mellifera strain DH4 unplaced genomic scaffold, Amel_HAv3.1 GroupUN_96, whole genome shotgun sequence\n",
      ">NW_020555933.1 Apis mellifera strain DH4 unplaced genomic scaffold, Amel_HAv3.1 GroupUN_35, whole genome shotgun sequence\n",
      ">NW_020555934.1 Apis mellifera strain DH4 unplaced genomic scaffold, Amel_HAv3.1 GroupUN_59, whole genome shotgun sequence\n",
      ">NW_020555935.1 Apis mellifera strain DH4 unplaced genomic scaffold, Amel_HAv3.1 GroupUN_100, whole genome shotgun sequence\n",
      ">NW_020555936.1 Apis mellifera strain DH4 unplaced genomic scaffold, Amel_HAv3.1 GroupUN_154, whole genome shotgun sequence\n",
      ">NW_020555937.1 Apis mellifera strain DH4 unplaced genomic scaffold, Amel_HAv3.1 GroupUN_177, whole genome shotgun sequence\n",
      ">NW_020555938.1 Apis mellifera strain DH4 unplaced genomic scaffold, Amel_HAv3.1 GroupUN_57, whole genome shotgun sequence\n",
      ">NW_020555939.1 Apis mellifera strain DH4 unplaced genomic scaffold, Amel_HAv3.1 GroupUN_139, whole genome shotgun sequence\n",
      ">NW_020555940.1 Apis mellifera strain DH4 unplaced genomic scaffold, Amel_HAv3.1 GroupUN_85, whole genome shotgun sequence\n",
      ">NW_020555941.1 Apis mellifera strain DH4 unplaced genomic scaffold, Amel_HAv3.1 GroupUN_118, whole genome shotgun sequence\n",
      ">NW_020555942.1 Apis mellifera strain DH4 unplaced genomic scaffold, Amel_HAv3.1 GroupUN_202, whole genome shotgun sequence\n",
      ">NW_020555943.1 Apis mellifera strain DH4 unplaced genomic scaffold, Amel_HAv3.1 GroupUN_104, whole genome shotgun sequence\n",
      ">NW_020555944.1 Apis mellifera strain DH4 unplaced genomic scaffold, Amel_HAv3.1 GroupUN_213, whole genome shotgun sequence\n",
      ">NW_020555945.1 Apis mellifera strain DH4 unplaced genomic scaffold, Amel_HAv3.1 GroupUN_76, whole genome shotgun sequence\n",
      ">NW_020555946.1 Apis mellifera strain DH4 unplaced genomic scaffold, Amel_HAv3.1 GroupUN_232, whole genome shotgun sequence\n",
      ">NW_020555947.1 Apis mellifera strain DH4 unplaced genomic scaffold, Amel_HAv3.1 GroupUN_163, whole genome shotgun sequence\n",
      ">NC_001566.1 Apis mellifera ligustica mitochondrion, complete genome\n"
     ]
    }
   ],
   "source": [
    "!grep \">\" genome.fa"
   ]
  },
  {
   "attachments": {},
   "cell_type": "markdown",
   "metadata": {},
   "source": [
    "Using piped command line tools, list the feature types in the annotations file with the tally of each feature printed next to it."
   ]
  },
  {
   "cell_type": "code",
   "execution_count": null,
   "metadata": {},
   "outputs": [],
   "source": []
  },
  {
   "attachments": {},
   "cell_type": "markdown",
   "metadata": {},
   "source": [
    "Select a gene of interest.\n",
    "\n",
    "*Gene of interest:*\n",
    "\n",
    "Using piped command line tools, count the number of exons in your gene of interest."
   ]
  },
  {
   "cell_type": "code",
   "execution_count": null,
   "metadata": {},
   "outputs": [],
   "source": []
  },
  {
   "attachments": {},
   "cell_type": "markdown",
   "metadata": {},
   "source": [
    "*Copy/paste a screenshot of your gene of interest shown in JBrowse2*:"
   ]
  },
  {
   "cell_type": "markdown",
   "metadata": {},
   "source": []
  }
 ],
 "metadata": {
  "kernelspec": {
   "display_name": "Python 3",
   "language": "python",
   "name": "python3"
  },
  "language_info": {
   "codemirror_mode": {
    "name": "ipython",
    "version": 3
   },
   "file_extension": ".py",
   "mimetype": "text/x-python",
   "name": "python",
   "nbconvert_exporter": "python",
   "pygments_lexer": "ipython3",
   "version": "3.10.9"
  },
  "orig_nbformat": 4
 },
 "nbformat": 4,
 "nbformat_minor": 2
}
