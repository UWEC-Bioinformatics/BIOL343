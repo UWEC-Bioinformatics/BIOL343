{
 "cells": [
  {
   "attachments": {},
   "cell_type": "markdown",
   "metadata": {},
   "source": [
    "# Week 6 Homework\n",
    "\n",
    "***Due (pushed to your GitHub branch) on 10/24 by 11:59 pm***\n",
    "\n",
    "## STAR two-pass alignment\n",
    "\n",
    "Build the STAR SA:"
   ]
  },
  {
   "cell_type": "code",
   "execution_count": 1,
   "metadata": {},
   "outputs": [
    {
     "name": "stdout",
     "output_type": "stream",
     "text": [
      "\tSTAR --runThreadN 32 --runMode genomeGenerate --genomeDir ../2_genome_exploration/genome/star --genomeFastaFiles ../2_genome_exploration/genome/zebrafish_genome.fa --sjdbGTFfile ../2_genome_exploration/genome/zebrafish_annotations.gtf --sjdbOverhang 84 --genomeSAindexNbases 13\n",
      "\tSTAR version: 2.7.10b   compiled: 2022-11-01T09:53:26-04:00 :/home/dobin/data/STAR/STARcode/STAR.master/source\n",
      "Oct 20 21:26:15 ..... started STAR run\n",
      "Oct 20 21:26:15 ... starting to generate Genome files\n",
      "Oct 20 21:26:42 ..... processing annotations GTF\n",
      "Oct 20 21:26:58 ... starting to sort Suffix Array. This may take a long time...\n",
      "Oct 20 21:27:06 ... sorting Suffix Array chunks and saving them to disk...\n",
      "Oct 20 21:29:37 ... loading chunks from disk, packing SA...\n",
      "Oct 20 21:31:19 ... finished generating suffix array\n",
      "Oct 20 21:31:19 ... generating Suffix Array index\n",
      "Oct 20 21:32:59 ... completed Suffix Array index\n",
      "Oct 20 21:33:00 ..... inserting junctions into the genome indices\n",
      "Oct 20 21:34:16 ... writing Genome to disk ...\n",
      "Oct 20 21:34:19 ... writing Suffix Array to disk ...\n",
      "Oct 20 21:34:31 ... writing SAindex to disk\n",
      "Oct 20 21:34:32 ..... finished successfully\n"
     ]
    }
   ],
   "source": [
    "!STAR \\\n",
    "--runThreadN 32 \\\n",
    "--runMode genomeGenerate \\\n",
    "--genomeDir ../2_genome_exploration/genome/star \\\n",
    "--genomeFastaFiles ../2_genome_exploration/genome/zebrafish_genome.fa \\\n",
    "--sjdbGTFfile ../2_genome_exploration/genome/zebrafish_annotations.gtf \\\n",
    "--sjdbOverhang 84 \\\n",
    "--genomeSAindexNbases 13"
   ]
  },
  {
   "attachments": {},
   "cell_type": "markdown",
   "metadata": {},
   "source": [
    "Use STAR and ***all*** of your FASTQs for a first-pass alignment. Be sure to update the `sjdbOverhang` parameter to a value that is appropriate for your dataset. Rename the log file so that you can compare the logs from the first and second alignments:"
   ]
  },
  {
   "cell_type": "code",
   "execution_count": 2,
   "metadata": {},
   "outputs": [
    {
     "name": "stdout",
     "output_type": "stream",
     "text": [
      "\tSTAR --runThreadN 32 --runMode alignReads --genomeDir ../2_genome_exploration/genome/star --readFilesManifest hwmanifest.tsv --readFilesCommand zcat --outSAMtype BAM Unsorted --outSAMunmapped Within --outFileNamePrefix alignment/star/\n",
      "\tSTAR version: 2.7.10b   compiled: 2022-11-01T09:53:26-04:00 :/home/dobin/data/STAR/STARcode/STAR.master/source\n",
      "Oct 20 21:39:42 ..... started STAR run\n",
      "Oct 20 21:39:43 ..... loading genome\n",
      "Oct 20 21:40:34 ..... started mapping\n",
      "Oct 20 21:43:54 ..... finished mapping\n",
      "Oct 20 21:43:59 ..... finished successfully\n"
     ]
    }
   ],
   "source": [
    "!STAR \\\n",
    "--runThreadN 32 \\\n",
    "--runMode alignReads \\\n",
    "--genomeDir ../2_genome_exploration/genome/star \\\n",
    "--readFilesManifest hwmanifest.tsv \\\n",
    "--readFilesCommand zcat \\\n",
    "--outSAMtype BAM Unsorted \\\n",
    "--outSAMunmapped Within \\\n",
    "--outFileNamePrefix alignment/star/\n",
    "\n",
    "!mv alignment/star/Log.final.out alignment/star/hwfirst-pass.final.out"
   ]
  },
  {
   "attachments": {},
   "cell_type": "markdown",
   "metadata": {},
   "source": [
    "Use STAR, all of your FASTQs, and `SJ.out.tab` for the second-pass alignment. You will likely need to make your own `manifest.tsv`:"
   ]
  },
  {
   "cell_type": "code",
   "execution_count": 3,
   "metadata": {},
   "outputs": [
    {
     "name": "stdout",
     "output_type": "stream",
     "text": [
      "\tSTAR --runThreadN 32 --runMode alignReads --genomeDir ../2_genome_exploration/genome/star --readFilesManifest hwmanifest.tsv --readFilesCommand zcat --outSAMtype BAM Unsorted --outSAMunmapped Within --outSAMattributes NH HI AS nM RG --outFileNamePrefix alignment/star/ --sjdbFileChrStartEnd alignment/star/SJ.out.tab\n",
      "\tSTAR version: 2.7.10b   compiled: 2022-11-01T09:53:26-04:00 :/home/dobin/data/STAR/STARcode/STAR.master/source\n",
      "Oct 20 21:45:53 ..... started STAR run\n",
      "Oct 20 21:45:54 ..... loading genome\n",
      "Oct 20 21:46:04 ..... inserting junctions into the genome indices\n",
      "Oct 20 21:46:41 ..... started mapping\n",
      "Oct 20 21:50:03 ..... finished mapping\n",
      "Oct 20 21:50:06 ..... finished successfully\n"
     ]
    }
   ],
   "source": [
    "!STAR \\\n",
    "--runThreadN 32 \\\n",
    "--runMode alignReads \\\n",
    "--genomeDir ../2_genome_exploration/genome/star \\\n",
    "--readFilesManifest hwmanifest.tsv \\\n",
    "--readFilesCommand zcat \\\n",
    "--outSAMtype BAM Unsorted \\\n",
    "--outSAMunmapped Within \\\n",
    "--outSAMattributes NH HI AS nM RG \\\n",
    "--outFileNamePrefix alignment/star/ \\\n",
    "--sjdbFileChrStartEnd alignment/star/SJ.out.tab\n",
    "\n",
    "!mv alignment/star/Log.final.out alignment/star/hwsecond-pass.final.out"
   ]
  },
  {
   "cell_type": "code",
   "execution_count": 1,
   "metadata": {},
   "outputs": [
    {
     "name": "stdout",
     "output_type": "stream",
     "text": [
      "[bam_sort_core] merging from 0 files and 32 in-memory blocks...\n"
     ]
    }
   ],
   "source": [
    "!samtools sort -@ 32 -o alignment/star/Aligned.sorted.bam alignment/star/Aligned.out.bam"
   ]
  },
  {
   "cell_type": "markdown",
   "metadata": {},
   "source": [
    "Update this block to briefly describe the differences between the logs for the first and second alignments."
   ]
  },
  {
   "attachments": {},
   "cell_type": "markdown",
   "metadata": {},
   "source": [
    "## HISAT alignment\n",
    "\n",
    "(***Note***: you may need Dr. Wheeler to build the HISAT index of your genome. Ask him for assistance when you get to this part of the assignment.)\n",
    "\n",
    "Use a Bash `while` loop to align all of your FASTQs and save the output files using the same names as the input FASTQ:"
   ]
  },
  {
   "cell_type": "code",
   "execution_count": 4,
   "metadata": {},
   "outputs": [
    {
     "name": "stdout",
     "output_type": "stream",
     "text": [
      "Aligning /data/users/heky1803/BIOL343/5_fastq/hw_fastq/ERR1442621_1.fastq.gz and /data/users/heky1803/BIOL343/5_fastq/hw_fastq/ERR1442621_2.fastq.gz with DOME_A\n",
      "HISAT2 summary stats:\n",
      "\tTotal pairs: 1706411\n",
      "\t\tAligned concordantly or discordantly 0 time: 296369 (17.37%)\n",
      "\t\tAligned concordantly 1 time: 1344497 (78.79%)\n",
      "\t\tAligned concordantly >1 times: 56956 (3.34%)\n",
      "\t\tAligned discordantly 1 time: 8589 (0.50%)\n",
      "\tTotal unpaired reads: 592738\n",
      "\t\tAligned 0 time: 440950 (74.39%)\n",
      "\t\tAligned 1 time: 133825 (22.58%)\n",
      "\t\tAligned >1 times: 17963 (3.03%)\n",
      "\tOverall alignment rate: 87.08%\n",
      "Aligning /data/users/heky1803/BIOL343/5_fastq/hw_fastq/ERR1442622_1.fastq.gz and /data/users/heky1803/BIOL343/5_fastq/hw_fastq/ERR1442622_2.fastq.gz with DOME_B\n",
      "HISAT2 summary stats:\n",
      "\tTotal pairs: 1853271\n",
      "\t\tAligned concordantly or discordantly 0 time: 313015 (16.89%)\n",
      "\t\tAligned concordantly 1 time: 1468545 (79.24%)\n",
      "\t\tAligned concordantly >1 times: 61224 (3.30%)\n",
      "\t\tAligned discordantly 1 time: 10487 (0.57%)\n",
      "\tTotal unpaired reads: 626030\n",
      "\t\tAligned 0 time: 471849 (75.37%)\n",
      "\t\tAligned 1 time: 136990 (21.88%)\n",
      "\t\tAligned >1 times: 17191 (2.75%)\n",
      "\tOverall alignment rate: 87.27%\n",
      "Aligning /data/users/heky1803/BIOL343/5_fastq/hw_fastq/ERR1442623_1.fastq.gz and /data/users/heky1803/BIOL343/5_fastq/hw_fastq/ERR1442623_2.fastq.gz with DOME_C\n",
      "HISAT2 summary stats:\n",
      "\tTotal pairs: 1803705\n",
      "\t\tAligned concordantly or discordantly 0 time: 352505 (19.54%)\n",
      "\t\tAligned concordantly 1 time: 1379420 (76.48%)\n",
      "\t\tAligned concordantly >1 times: 62313 (3.45%)\n",
      "\t\tAligned discordantly 1 time: 9467 (0.52%)\n",
      "\tTotal unpaired reads: 705010\n",
      "\t\tAligned 0 time: 540566 (76.67%)\n",
      "\t\tAligned 1 time: 145845 (20.69%)\n",
      "\t\tAligned >1 times: 18599 (2.64%)\n",
      "\tOverall alignment rate: 85.02%\n",
      "Aligning /data/users/heky1803/BIOL343/5_fastq/hw_fastq/ERR1442631_1.fastq.gz and /data/users/heky1803/BIOL343/5_fastq/hw_fastq/ERR1442631_2.fastq.gz with 128_CELL_A\n",
      "HISAT2 summary stats:\n",
      "\tTotal pairs: 1785080\n",
      "\t\tAligned concordantly or discordantly 0 time: 248697 (13.93%)\n",
      "\t\tAligned concordantly 1 time: 1472866 (82.51%)\n",
      "\t\tAligned concordantly >1 times: 54315 (3.04%)\n",
      "\t\tAligned discordantly 1 time: 9202 (0.52%)\n",
      "\tTotal unpaired reads: 497394\n",
      "\t\tAligned 0 time: 380595 (76.52%)\n",
      "\t\tAligned 1 time: 109896 (22.09%)\n",
      "\t\tAligned >1 times: 6903 (1.39%)\n",
      "\tOverall alignment rate: 89.34%\n",
      "Aligning /data/users/heky1803/BIOL343/5_fastq/hw_fastq/ERR1442632_1.fastq.gz and /data/users/heky1803/BIOL343/5_fastq/hw_fastq/ERR1442632_2.fastq.gz with 128_CELL_B\n",
      "HISAT2 summary stats:\n",
      "\tTotal pairs: 1601181\n",
      "\t\tAligned concordantly or discordantly 0 time: 236295 (14.76%)\n",
      "\t\tAligned concordantly 1 time: 1317837 (82.30%)\n",
      "\t\tAligned concordantly >1 times: 38637 (2.41%)\n",
      "\t\tAligned discordantly 1 time: 8412 (0.53%)\n",
      "\tTotal unpaired reads: 472590\n",
      "\t\tAligned 0 time: 346900 (73.40%)\n",
      "\t\tAligned 1 time: 117984 (24.97%)\n",
      "\t\tAligned >1 times: 7706 (1.63%)\n",
      "\tOverall alignment rate: 89.17%\n",
      "Aligning /data/users/heky1803/BIOL343/5_fastq/hw_fastq/ERR1442633_1.fastq.gz and /data/users/heky1803/BIOL343/5_fastq/hw_fastq/ERR1442633_2.fastq.gz with 128_CELL_C\n",
      "HISAT2 summary stats:\n",
      "\tTotal pairs: 1912345\n",
      "\t\tAligned concordantly or discordantly 0 time: 252616 (13.21%)\n",
      "\t\tAligned concordantly 1 time: 1593026 (83.30%)\n",
      "\t\tAligned concordantly >1 times: 52603 (2.75%)\n",
      "\t\tAligned discordantly 1 time: 14100 (0.74%)\n",
      "\tTotal unpaired reads: 505232\n",
      "\t\tAligned 0 time: 383803 (75.97%)\n",
      "\t\tAligned 1 time: 115483 (22.86%)\n",
      "\t\tAligned >1 times: 5946 (1.18%)\n",
      "\tOverall alignment rate: 89.97%\n",
      "Aligning /data/users/heky1803/BIOL343/5_fastq/hw_fastq/ERR1442641_1.fastq.gz and /data/users/heky1803/BIOL343/5_fastq/hw_fastq/ERR1442641_2.fastq.gz with 1K_CELL_A\n",
      "HISAT2 summary stats:\n",
      "\tTotal pairs: 2116966\n",
      "\t\tAligned concordantly or discordantly 0 time: 307728 (14.54%)\n",
      "\t\tAligned concordantly 1 time: 1713490 (80.94%)\n",
      "\t\tAligned concordantly >1 times: 61388 (2.90%)\n",
      "\t\tAligned discordantly 1 time: 34360 (1.62%)\n",
      "\tTotal unpaired reads: 615456\n",
      "\t\tAligned 0 time: 479393 (77.89%)\n",
      "\t\tAligned 1 time: 128591 (20.89%)\n",
      "\t\tAligned >1 times: 7472 (1.21%)\n",
      "\tOverall alignment rate: 88.68%\n",
      "Aligning /data/users/heky1803/BIOL343/5_fastq/hw_fastq/ERR1442642_1.fastq.gz and /data/users/heky1803/BIOL343/5_fastq/hw_fastq/ERR1442642_2.fastq.gz with 1K_CELL_B\n",
      "HISAT2 summary stats:\n",
      "\tTotal pairs: 2090906\n",
      "\t\tAligned concordantly or discordantly 0 time: 280205 (13.40%)\n",
      "\t\tAligned concordantly 1 time: 1723980 (82.45%)\n",
      "\t\tAligned concordantly >1 times: 59736 (2.86%)\n",
      "\t\tAligned discordantly 1 time: 26985 (1.29%)\n",
      "\tTotal unpaired reads: 560410\n",
      "\t\tAligned 0 time: 431424 (76.98%)\n",
      "\t\tAligned 1 time: 122738 (21.90%)\n",
      "\t\tAligned >1 times: 6248 (1.11%)\n",
      "\tOverall alignment rate: 89.68%\n",
      "Aligning /data/users/heky1803/BIOL343/5_fastq/hw_fastq/ERR1442643_1.fastq.gz and /data/users/heky1803/BIOL343/5_fastq/hw_fastq/ERR1442643_2.fastq.gz with 1K_CELL_C\n",
      "HISAT2 summary stats:\n",
      "\tTotal pairs: 1563602\n",
      "\t\tAligned concordantly or discordantly 0 time: 214538 (13.72%)\n",
      "\t\tAligned concordantly 1 time: 1293077 (82.70%)\n",
      "\t\tAligned concordantly >1 times: 47015 (3.01%)\n",
      "\t\tAligned discordantly 1 time: 8972 (0.57%)\n",
      "\tTotal unpaired reads: 429076\n",
      "\t\tAligned 0 time: 316597 (73.79%)\n",
      "\t\tAligned 1 time: 105753 (24.65%)\n",
      "\t\tAligned >1 times: 6726 (1.57%)\n",
      "\tOverall alignment rate: 89.88%\n",
      "Aligning  and  with \n",
      "Warning: [Errno 2] No such file or directory: '-2'\n",
      "(ERR): Read file '-2' doesn't exist\n",
      "Exiting now ...\n"
     ]
    }
   ],
   "source": [
    "!while read -r line; do \\\n",
    "    fq1=$(echo $line | awk '{print $1}'); \\\n",
    "    fq2=$(echo $line | awk '{print $2}'); \\\n",
    "    bn=$(basename \"$fq1\" .fastq.gz) \\\n",
    "    bn=$(echo \"$bn\" | sed 's/_1$//') \\\n",
    "    rg=$(echo $line | awk '{print $3}' | sed 's/ID://' ); \\\n",
    "    echo \"Aligning $fq1 and $fq2 with $rg\"; \\\n",
    "    hisat2 /data/classes/2025/fall/biol343/course_files/student_genomes/kyle/hisat/zebrafish_genome -p 16 -1 $fq1 -2 $fq2 --rg-id $rg --rg SM:$rg --summary-file alignment/hisat/$bn.log --new-summary > alignment/hisat/$bn.sam; \\\n",
    "    done < hwmanifest.tsv"
   ]
  },
  {
   "attachments": {},
   "cell_type": "markdown",
   "metadata": {},
   "source": [
    "## Snakemake Pipeline\n",
    "\n",
    "In contrast to last week (FASTQ files), there aren't as many decisions that need to be made during alignment, so using a notebook to control and report code isn't as necessary. As you saw in in [6_alignment](6_alignment.ipynb), file and directory management can get complicated during alignment. This is a case where Snakemake scripting shines.\n",
    "\n",
    "1. Copy your `Snakefile` and `config.yaml` from `5_fastq` to `6_alignment`. \n",
    "2. In the `Snakefile`, add the following rules:  \n",
    "    a. `fetch_genome` - using a variation from the code from `2_genome_exploration`, download your reference genome and annotations.  \n",
    "    b. `star_sa` - use `STAR` to produce the suffix array of the reference genome.  \n",
    "    c. `star_align_first` - use `STAR` to perform first-pass alignment with all FASTQ files.  \n",
    "    d. `star_align_second` - use `STAR` to perform second-pass alignment with all FASTQ files.  \n",
    "    e. `hisat_align` - use `HISAT` to align all FASTQ files.  \n",
    "    f. `report` - use `multiqc` to aggregate all QC data into a single report.\n",
    "\n",
    "This `Snakefile` should not use any `wrappers` because we already have the relevant software installed in the `biol343` conda environment. The pipeline should run to completion when any instructor or classmate runs `snakemake --use-conda`."
   ]
  }
 ],
 "metadata": {
  "kernelspec": {
   "display_name": "biol343",
   "language": "python",
   "name": "python3"
  },
  "language_info": {
   "codemirror_mode": {
    "name": "ipython",
    "version": 3
   },
   "file_extension": ".py",
   "mimetype": "text/x-python",
   "name": "python",
   "nbconvert_exporter": "python",
   "pygments_lexer": "ipython3",
   "version": "3.12.3"
  },
  "orig_nbformat": 4
 },
 "nbformat": 4,
 "nbformat_minor": 2
}
