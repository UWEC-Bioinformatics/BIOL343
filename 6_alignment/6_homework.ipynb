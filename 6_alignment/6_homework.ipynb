{
 "cells": [
  {
   "attachments": {},
   "cell_type": "markdown",
   "metadata": {},
   "source": [
    "# Week 6 Homework\n",
    "\n",
    "***Due (pushed to your GitHub branch) on 10/25 by 11:59 pm***\n",
    "\n",
    "## STAR two-pass alignment\n",
    "\n",
    "Build the STAR SA:"
   ]
  },
  {
   "cell_type": "code",
   "execution_count": 1,
   "metadata": {},
   "outputs": [
    {
     "name": "stdout",
     "output_type": "stream",
     "text": [
      "\tSTAR --runThreadN 32 --runMode genomeGenerate --genomeDir ../2_genome_exploration/lemons/star --genomeFastaFiles ../2_genome_exploration/lemons/lemon_genome.fa --sjdbGTFfile ../2_genome_exploration/lemons/lemon_annotations.gtf --sjdbOverhang 289 --genomeSAindexNbases 13 --sjdbGTFfeatureExon CDS\n",
      "\tSTAR version: 2.7.10b   compiled: 2022-11-01T09:53:26-04:00 :/home/dobin/data/STAR/STARcode/STAR.master/source\n",
      "Oct 31 17:57:25 ..... started STAR run\n",
      "Oct 31 17:57:25 ... starting to generate Genome files\n",
      "Oct 31 17:57:29 ..... processing annotations GTF\n",
      "Oct 31 17:57:31 ... starting to sort Suffix Array. This may take a long time...\n",
      "Oct 31 17:57:33 ... sorting Suffix Array chunks and saving them to disk...\n",
      "Oct 31 17:58:06 ... loading chunks from disk, packing SA...\n",
      "Oct 31 17:58:14 ... finished generating suffix array\n",
      "Oct 31 17:58:14 ... generating Suffix Array index\n",
      "Oct 31 17:59:09 ... completed Suffix Array index\n",
      "Oct 31 17:59:10 ..... inserting junctions into the genome indices\n",
      "Oct 31 18:00:28 ... writing Genome to disk ...\n",
      "Oct 31 18:00:29 ... writing Suffix Array to disk ...\n",
      "Oct 31 18:00:32 ... writing SAindex to disk\n",
      "Oct 31 18:00:33 ..... finished successfully\n"
     ]
    }
   ],
   "source": [
    "%mkdir alignment_lemons/\n",
    "%mkdir alignment_lemons/star/\n",
    "\n",
    "!STAR \\\n",
    "--runThreadN 32 \\\n",
    "--runMode genomeGenerate \\\n",
    "--genomeDir ../2_genome_exploration/lemons/star \\\n",
    "--genomeFastaFiles ../2_genome_exploration/lemons/lemon_genome.fa \\\n",
    "--sjdbGTFfile ../2_genome_exploration/lemons/lemon_annotations.gtf \\\n",
    "--sjdbOverhang 289 \\\n",
    "--genomeSAindexNbases 13 \\\n",
    "--sjdbGTFfeatureExon CDS"
   ]
  },
  {
   "attachments": {},
   "cell_type": "markdown",
   "metadata": {},
   "source": [
    "Use STAR and ***all*** of your FASTQs for a first-pass alignment. Be sure to update the `sjdbOverhang` parameter to a value that is appropriate for your dataset. Rename the log file so that you can compare the logs from the first and second alignments:"
   ]
  },
  {
   "cell_type": "code",
   "execution_count": 2,
   "metadata": {},
   "outputs": [
    {
     "name": "stdout",
     "output_type": "stream",
     "text": [
      "\tSTAR --runThreadN 32 --runMode alignReads --genomeDir ../2_genome_exploration/lemons/star --readFilesManifest manifest_lemons.tsv --readFilesCommand zcat --outSAMtype BAM SortedByCoordinate --outSAMunmapped Within --outFileNamePrefix alignment_lemons/star/\n",
      "\tSTAR version: 2.7.10b   compiled: 2022-11-01T09:53:26-04:00 :/home/dobin/data/STAR/STARcode/STAR.master/source\n",
      "Oct 31 18:00:33 ..... started STAR run\n",
      "Oct 31 18:00:34 ..... loading genome\n",
      "Oct 31 18:00:36 ..... started mapping\n",
      "Oct 31 21:05:11 ..... finished mapping\n",
      "Oct 31 21:05:12 ..... started sorting BAM\n",
      "Oct 31 23:21:05 ..... finished successfully\n"
     ]
    }
   ],
   "source": [
    "!STAR \\\n",
    "--runThreadN 32 \\\n",
    "--runMode alignReads \\\n",
    "--genomeDir ../2_genome_exploration/lemons/star \\\n",
    "--readFilesManifest manifest_lemons.tsv \\\n",
    "--readFilesCommand zcat \\\n",
    "--outSAMtype BAM SortedByCoordinate \\\n",
    "--outSAMunmapped Within \\\n",
    "--outFileNamePrefix alignment_lemons/star/\n",
    "!cp alignment_lemons/star/Log.final.out alignment_lemons/star/first-pass.final.out"
   ]
  },
  {
   "attachments": {},
   "cell_type": "markdown",
   "metadata": {},
   "source": [
    "Use STAR, all of your FASTQs, and `SJ.out.tab` for the second-pass alignment. You will likely need to make your own `manifest.tsv`:"
   ]
  },
  {
   "cell_type": "code",
   "execution_count": 4,
   "metadata": {},
   "outputs": [
    {
     "name": "stdout",
     "output_type": "stream",
     "text": [
      "\tSTAR --runThreadN 32 --runMode alignReads --genomeDir ../2_genome_exploration/lemons/star --readFilesManifest manifest_lemons.tsv --readFilesCommand zcat --outSAMtype BAM SortedByCoordinate --outSAMunmapped Within --outSAMattributes NH HI AS nM RG --outFileNamePrefix alignment_lemons/star/ --sjdbFileChrStartEnd alignment_lemons/star/SJ.out.tab\n",
      "\tSTAR version: 2.7.10b   compiled: 2022-11-01T09:53:26-04:00 :/home/dobin/data/STAR/STARcode/STAR.master/source\n",
      "Nov 01 00:20:08 ..... started STAR run\n",
      "Nov 01 00:20:40 ..... loading genome\n",
      "Nov 01 00:20:46 ..... inserting junctions into the genome indices\n",
      "Nov 01 00:23:03 ..... started mapping\n",
      "Nov 01 03:12:36 ..... finished mapping\n",
      "Nov 01 03:12:37 ..... started sorting BAM\n",
      "Nov 01 05:28:25 ..... finished successfully\n"
     ]
    }
   ],
   "source": [
    "!STAR \\\n",
    "--runThreadN 32 \\\n",
    "--runMode alignReads \\\n",
    "--genomeDir ../2_genome_exploration/lemons/star \\\n",
    "--readFilesManifest manifest_lemons.tsv \\\n",
    "--readFilesCommand zcat \\\n",
    "--outSAMtype BAM SortedByCoordinate \\\n",
    "--outSAMunmapped Within \\\n",
    "--outSAMattributes NH HI AS nM RG \\\n",
    "--outFileNamePrefix alignment_lemons/star/ \\\n",
    "--sjdbFileChrStartEnd alignment_lemons/star/SJ.out.tab\n",
    "\n",
    "!cp alignment_lemons/star/Log.final.out alignment_lemons/star/second-pass.final.out"
   ]
  },
  {
   "cell_type": "markdown",
   "metadata": {},
   "source": [
    "Update this block to briefly describe the differences between the logs for the first and second alignments."
   ]
  },
  {
   "attachments": {},
   "cell_type": "markdown",
   "metadata": {},
   "source": [
    "## HISAT alignment\n",
    "\n",
    "(***Note***: you may need Dr. Wheeler to build the HISAT index of your genome. Ask him for assistance when you get to this part of the assignment.)\n",
    "\n",
    "Use a Bash `while` loop to align all of your FASTQs and save the output files using the same names as the input FASTQ:"
   ]
  },
  {
   "cell_type": "code",
   "execution_count": null,
   "metadata": {},
   "outputs": [],
   "source": [
    "#hisat2_extract_splice_sites.py lemon_annotations.gtf > hisat/hisat_ss.tsv\n",
    "#hisat2_extract_exons.py lemon_annotations.gtf > hisat/hisat_exons.tsv\n",
    "#hisat2-build lemon_genome.fa hisat/genome -p 16 --ss hisat/hisat_ss.tsv --exon hisat/hisat_exons.tsv"
   ]
  },
  {
   "cell_type": "code",
   "execution_count": 6,
   "metadata": {},
   "outputs": [
    {
     "name": "stdout",
     "output_type": "stream",
     "text": [
      "mkdir: cannot create directory ‘alignment_lemons/hisat/’: File exists\n",
      "Aligning /data/users/corwinbm5021/BIOL343/5_fastq/trimmed_lemons/SRR26560370.fastq.gz with YCQ_1\n",
      "/bin/bash: hisat2: command not found\n",
      "Aligning /data/users/corwinbm5021/BIOL343/5_fastq/trimmed_lemons/SRR26560371.fastq.gz with ACH_3\n",
      "/bin/bash: hisat2: command not found\n",
      "Aligning /data/users/corwinbm5021/BIOL343/5_fastq/trimmed_lemons/SRR26560372.fastq.gz with ACH_2\n",
      "/bin/bash: hisat2: command not found\n",
      "Aligning /data/users/corwinbm5021/BIOL343/5_fastq/trimmed_lemons/SRR26560373.fastq.gz with ACH_1\n",
      "/bin/bash: hisat2: command not found\n",
      "Aligning /data/users/corwinbm5021/BIOL343/5_fastq/trimmed_lemons/SRR26560374.fastq.gz with YE72_3\n",
      "/bin/bash: hisat2: command not found\n",
      "Aligning /data/users/corwinbm5021/BIOL343/5_fastq/trimmed_lemons/SRR26560375.fastq.gz with YE72_2\n",
      "/bin/bash: hisat2: command not found\n",
      "Aligning /data/users/corwinbm5021/BIOL343/5_fastq/trimmed_lemons/SRR26560376.fastq.gz with YE72_1\n",
      "/bin/bash: hisat2: command not found\n",
      "Aligning /data/users/corwinbm5021/BIOL343/5_fastq/trimmed_lemons/SRR26560377.fastq.gz with YE48_3\n",
      "/bin/bash: hisat2: command not found\n",
      "Aligning /data/users/corwinbm5021/BIOL343/5_fastq/trimmed_lemons/SRR26560378.fastq.gz with ACZ_3\n",
      "/bin/bash: hisat2: command not found\n",
      "Aligning /data/users/corwinbm5021/BIOL343/5_fastq/trimmed_lemons/SRR26560379.fastq.gz with YE48_2\n",
      "/bin/bash: hisat2: command not found\n",
      "Aligning /data/users/corwinbm5021/BIOL343/5_fastq/trimmed_lemons/SRR26560380.fastq.gz with YE48_1\n",
      "/bin/bash: hisat2: command not found\n",
      "Aligning /data/users/corwinbm5021/BIOL343/5_fastq/trimmed_lemons/SRR26560381.fastq.gz with YE24_3\n",
      "/bin/bash: hisat2: command not found\n",
      "Aligning /data/users/corwinbm5021/BIOL343/5_fastq/trimmed_lemons/SRR26560382.fastq.gz with YE24_2\n",
      "/bin/bash: hisat2: command not found\n",
      "Aligning /data/users/corwinbm5021/BIOL343/5_fastq/trimmed_lemons/SRR26560383.fastq.gz with YE24_1\n",
      "/bin/bash: hisat2: command not found\n",
      "Aligning /data/users/corwinbm5021/BIOL343/5_fastq/trimmed_lemons/SRR26560384.fastq.gz with AE72_3\n",
      "/bin/bash: hisat2: command not found\n",
      "Aligning /data/users/corwinbm5021/BIOL343/5_fastq/trimmed_lemons/SRR26560385.fastq.gz with AE72_2\n",
      "/bin/bash: hisat2: command not found\n",
      "Aligning /data/users/corwinbm5021/BIOL343/5_fastq/trimmed_lemons/SRR26560386.fastq.gz with AE72_1\n",
      "/bin/bash: hisat2: command not found\n",
      "Aligning /data/users/corwinbm5021/BIOL343/5_fastq/trimmed_lemons/SRR26560387.fastq.gz with AE48_3\n",
      "/bin/bash: hisat2: command not found\n",
      "Aligning /data/users/corwinbm5021/BIOL343/5_fastq/trimmed_lemons/SRR26560388.fastq.gz with AE48_2\n",
      "/bin/bash: hisat2: command not found\n",
      "Aligning /data/users/corwinbm5021/BIOL343/5_fastq/trimmed_lemons/SRR26560389.fastq.gz with ACZ_2\n",
      "/bin/bash: hisat2: command not found\n",
      "Aligning /data/users/corwinbm5021/BIOL343/5_fastq/trimmed_lemons/SRR26560390.fastq.gz with AE48_1\n",
      "/bin/bash: hisat2: command not found\n",
      "Aligning /data/users/corwinbm5021/BIOL343/5_fastq/trimmed_lemons/SRR26560391.fastq.gz with AE24_3\n",
      "/bin/bash: hisat2: command not found\n",
      "Aligning /data/users/corwinbm5021/BIOL343/5_fastq/trimmed_lemons/SRR26560392.fastq.gz with AE24_2\n",
      "/bin/bash: hisat2: command not found\n",
      "Aligning /data/users/corwinbm5021/BIOL343/5_fastq/trimmed_lemons/SRR26560393.fastq.gz with AE24_1\n",
      "/bin/bash: hisat2: command not found\n",
      "Aligning /data/users/corwinbm5021/BIOL343/5_fastq/trimmed_lemons/SRR26560394.fastq.gz with YK45_3\n",
      "/bin/bash: hisat2: command not found\n",
      "Aligning /data/users/corwinbm5021/BIOL343/5_fastq/trimmed_lemons/SRR26560395.fastq.gz with YK45_2\n",
      "/bin/bash: hisat2: command not found\n",
      "Aligning /data/users/corwinbm5021/BIOL343/5_fastq/trimmed_lemons/SRR26560396.fastq.gz with YK45_1\n",
      "/bin/bash: hisat2: command not found\n",
      "Aligning /data/users/corwinbm5021/BIOL343/5_fastq/trimmed_lemons/SRR26560397.fastq.gz with YK30_3\n",
      "/bin/bash: hisat2: command not found\n",
      "Aligning /data/users/corwinbm5021/BIOL343/5_fastq/trimmed_lemons/SRR26560398.fastq.gz with YK30_2\n",
      "/bin/bash: hisat2: command not found\n",
      "Aligning /data/users/corwinbm5021/BIOL343/5_fastq/trimmed_lemons/SRR26560399.fastq.gz with YK30_1\n",
      "/bin/bash: hisat2: command not found\n",
      "Aligning /data/users/corwinbm5021/BIOL343/5_fastq/trimmed_lemons/SRR26560400.fastq.gz with ACZ_1\n",
      "/bin/bash: hisat2: command not found\n",
      "Aligning /data/users/corwinbm5021/BIOL343/5_fastq/trimmed_lemons/SRR26560401.fastq.gz with YK15_3\n",
      "/bin/bash: hisat2: command not found\n",
      "Aligning /data/users/corwinbm5021/BIOL343/5_fastq/trimmed_lemons/SRR26560402.fastq.gz with YK15_2\n",
      "/bin/bash: hisat2: command not found\n",
      "Aligning /data/users/corwinbm5021/BIOL343/5_fastq/trimmed_lemons/SRR26560403.fastq.gz with YK15_1\n",
      "/bin/bash: hisat2: command not found\n",
      "Aligning /data/users/corwinbm5021/BIOL343/5_fastq/trimmed_lemons/SRR26560404.fastq.gz with AK45_3\n",
      "/bin/bash: hisat2: command not found\n",
      "Aligning /data/users/corwinbm5021/BIOL343/5_fastq/trimmed_lemons/SRR26560405.fastq.gz with AK45_2\n",
      "/bin/bash: hisat2: command not found\n",
      "Aligning /data/users/corwinbm5021/BIOL343/5_fastq/trimmed_lemons/SRR26560406.fastq.gz with AK45_1\n",
      "/bin/bash: hisat2: command not found\n",
      "Aligning /data/users/corwinbm5021/BIOL343/5_fastq/trimmed_lemons/SRR26560407.fastq.gz with AK30_3\n",
      "/bin/bash: hisat2: command not found\n",
      "Aligning /data/users/corwinbm5021/BIOL343/5_fastq/trimmed_lemons/SRR26560408.fastq.gz with AK30_2\n",
      "/bin/bash: hisat2: command not found\n",
      "Aligning /data/users/corwinbm5021/BIOL343/5_fastq/trimmed_lemons/SRR26560409.fastq.gz with AK30_1\n",
      "/bin/bash: hisat2: command not found\n",
      "Aligning /data/users/corwinbm5021/BIOL343/5_fastq/trimmed_lemons/SRR26560410.fastq.gz with AK15_3\n",
      "/bin/bash: hisat2: command not found\n",
      "Aligning /data/users/corwinbm5021/BIOL343/5_fastq/trimmed_lemons/SRR26560411.fastq.gz with ACQ_3\n",
      "/bin/bash: hisat2: command not found\n",
      "Aligning /data/users/corwinbm5021/BIOL343/5_fastq/trimmed_lemons/SRR26560412.fastq.gz with AK15_2\n",
      "/bin/bash: hisat2: command not found\n",
      "Aligning /data/users/corwinbm5021/BIOL343/5_fastq/trimmed_lemons/SRR26560413.fastq.gz with AK15_1\n",
      "/bin/bash: hisat2: command not found\n",
      "Aligning /data/users/corwinbm5021/BIOL343/5_fastq/trimmed_lemons/SRR26560414.fastq.gz with YCH_3\n",
      "/bin/bash: hisat2: command not found\n",
      "Aligning /data/users/corwinbm5021/BIOL343/5_fastq/trimmed_lemons/SRR26560415.fastq.gz with YCH_2\n",
      "/bin/bash: hisat2: command not found\n",
      "Aligning /data/users/corwinbm5021/BIOL343/5_fastq/trimmed_lemons/SRR26560416.fastq.gz with YCH_1\n",
      "/bin/bash: hisat2: command not found\n",
      "Aligning /data/users/corwinbm5021/BIOL343/5_fastq/trimmed_lemons/SRR26560417.fastq.gz with YCZ_3\n",
      "/bin/bash: hisat2: command not found\n",
      "Aligning /data/users/corwinbm5021/BIOL343/5_fastq/trimmed_lemons/SRR26560418.fastq.gz with YCZ_2\n",
      "/bin/bash: hisat2: command not found\n",
      "Aligning /data/users/corwinbm5021/BIOL343/5_fastq/trimmed_lemons/SRR26560419.fastq.gz with YCZ_1\n",
      "/bin/bash: hisat2: command not found\n",
      "Aligning /data/users/corwinbm5021/BIOL343/5_fastq/trimmed_lemons/SRR26560420.fastq.gz with YCQ_3\n",
      "/bin/bash: hisat2: command not found\n",
      "Aligning /data/users/corwinbm5021/BIOL343/5_fastq/trimmed_lemons/SRR26560421.fastq.gz with YCQ_2\n",
      "/bin/bash: hisat2: command not found\n",
      "Aligning /data/users/corwinbm5021/BIOL343/5_fastq/trimmed_lemons/SRR26560422.fastq.gz with ACQ_2\n",
      "/bin/bash: hisat2: command not found\n",
      "Aligning /data/users/corwinbm5021/BIOL343/5_fastq/trimmed_lemons/SRR26560423.fastq.gz with ACQ_1\n",
      "/bin/bash: hisat2: command not found\n"
     ]
    }
   ],
   "source": [
    "%mkdir alignment_lemons/hisat/\n",
    "\n",
    "!while read -r line; do \\\n",
    "    fq=$(echo $line | awk '{print $1}'); \\\n",
    "    bn=$(basename \"$fq\" .fastq.gz); \\\n",
    "    rg=$(echo $line | awk '{print $3}' | sed 's/ID://' ); \\\n",
    "    echo \"Aligning $fq with $rg\"; \\\n",
    "    hisat2 /data/users/corwinbm5021/BIOL343/2_genome_exploration/lemons/hisat/genome -p 32 -U $fq --rg-id $rg --rg SM:$rg --summary-file alignment_lemons/hisat/$bn.log --new-summary > alignment_lemons/hisat/$bn.sam; \\\n",
    "    done < manifest_lemons.tsv"
   ]
  },
  {
   "attachments": {},
   "cell_type": "markdown",
   "metadata": {},
   "source": [
    "## Snakemake Pipeline\n",
    "\n",
    "In contrast to last week (FASTQ files), there aren't as many decisions that need to be made during alignment, so using a notebook to control and report code isn't as necessary. As you saw in in [6_alignment](6_alignment.ipynb), file and directory management can get complicated during alignment. This is a case where Snakemake scripting shines.\n",
    "\n",
    "1. Copy your `Snakefile` and `config.yaml` from `5_fastq` to `6_alignment`. \n",
    "2. In the `Snakefile`, add the following rules:  \n",
    "    a. `fetch_genome` - using a variation from the code from `2_genome_exploration`, download your reference genome and annotations.  \n",
    "    b. `star_sa` - use `STAR` to produce the suffix array of the reference genome.  \n",
    "    c. `star_align_first` - use `STAR` to perform first-pass alignment with all FASTQ files.  \n",
    "    d. `star_align_second` - use `STAR` to perform second-pass alignment with all FASTQ files.  \n",
    "    e. `hisat_align` - use `HISAT` to align all FASTQ files.  \n",
    "    f. `report` - use `multiqc` to aggregate all QC data into a single report.\n",
    "\n",
    "This `Snakefile` should not use any `wrappers` because we already have the relevant software installed in the `biol343` conda environment. The pipeline should run to completion when any instructor or classmate runs `snakemake --use-conda`."
   ]
  }
 ],
 "metadata": {
  "kernelspec": {
   "display_name": "biol343",
   "language": "python",
   "name": "python3"
  },
  "language_info": {
   "codemirror_mode": {
    "name": "ipython",
    "version": 3
   },
   "file_extension": ".py",
   "mimetype": "text/x-python",
   "name": "python",
   "nbconvert_exporter": "python",
   "pygments_lexer": "ipython3",
   "version": "3.12.3"
  },
  "orig_nbformat": 4
 },
 "nbformat": 4,
 "nbformat_minor": 2
}
