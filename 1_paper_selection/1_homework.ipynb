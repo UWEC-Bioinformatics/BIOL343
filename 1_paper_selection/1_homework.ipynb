{
 "cells": [
  {
   "attachments": {},
   "cell_type": "markdown",
   "metadata": {},
   "source": [
    "# Week 1 Homework\n",
    "\n",
    "***Due (pushed to your GitHub branch) on 9/20 by 11:59 pm***\n",
    "\n",
    "## Paper selection\n",
    "\n",
    "Link to paper: https://journals.plos.org/plosgenetics/article?id=10.1371/journal.pgen.1007559#abstract0\n",
    "\n",
    "*Major research question:* Perform cell-specific transcriptional analysis of four major somatic tissues isolated from adult worms to understand the factors affecting adult animal gene expression and \"enriched\" genes that identify parallels between human and worm tissue function-specificity.\n",
    "\n",
    "*Short synopsis of paper (50-75 words):*\n",
    "\n",
    "## RNA-seq\n",
    "\n",
    "*Description of the use of RNA-seq:* \n",
    "\n",
    "### Experimental details\n",
    "\n",
    "*Species:* Caenorhabditis elegans\n",
    "\n",
    "*Tissue source:* Neuron, intestine, hypodermis, and muscle cells from adult worms\n",
    "\n",
    "*Variables (i.e., treatments, multiples tissue sources, time course, etc.):* The neuron, hypodermis, and intestine tissues were fluorescently-marked with GFP. Above in tissue source (they used the four different tissues for analysis)\n",
    "\n",
    "*Method of RNA extraction:* RNA was extracted using standard Trizol/ chloroform/ isopropanol method, DNase digested, and cleaned using Qiagen RNEasy Minelute columnns\n",
    "\n",
    "*Method of library prep:* Either Nugen Encore NGS Library System or the Illumina TruSeq DNA Sample Prep (both were used)\n",
    "\n",
    "*Type of sequencer used:* The reads were mapped to the reference genome using STAR with Ensembl gene model annotations (using default parameters) \n",
    "\n",
    "*Number and description of replicates:* 27 Day 1 adult tissue samples (7 neuron, 5 intestine, 7 hypodermis, 8 muscle)\n",
    "\n",
    "### Computational details\n",
    "\n",
    "*Link to reference genome:* https://downloads.wormbase.org/species/c_elegans/sequence/genomic/c_elegans.PRJNA275000.current.genomic.fa.gz\n",
    "\n",
    "*Link to genome annotations (GTF):* https://downloads.wormbase.org/species/c_elegans/gff/c_elegans.canonical_bioproject.current.annotations.gff3.gz\n",
    "\n",
    "*Link to RNA-seq reads (BioProject or SRA):* https://www.ncbi.nlm.nih.gov/sra?linkname=bioproject_sra_all&from_uid=400796\n",
    "\n",
    "## Results\n",
    "\n",
    "*Include figures that report RNA-seq results.*\n",
    "\n",
    "To include figures in Markdown, copy the image (JPG, PNG, etc.) to `1_paper_selection/assets/` and include the Markdown code: `![Image alt text](assets/{filename})`. The image will be rendered when the Markdown document is processed. If you want to adjust the size of the image, you have to use HTML tags. Examples can be found by lookinga the Markdown syntax in `1_paper.selection.ipynb`, i.e., `<img src=\"assets/journal.ppat.1012268.g001.PNG\" alt=\"experiment data\" width=\"600\">`\n",
    "\n",
    "- *Figure 1*\n",
    "\n",
    "- *Figure 2*\n",
    "\n",
    "- *Etc.*\n",
    "\n",
    "*Short description of each figure, including the results and conclusions derived from the figure:*\n",
    "\n",
    "- *Figure 1*\n",
    "\n",
    "- *Figure 2*\n",
    "\n",
    "- *Etc.*"
   ]
  },
  {
   "cell_type": "markdown",
   "metadata": {},
   "source": []
  }
 ],
 "metadata": {
  "kernelspec": {
   "display_name": "Python 3",
   "language": "python",
   "name": "python3"
  },
  "language_info": {
   "codemirror_mode": {
    "name": "ipython",
    "version": 3
   },
   "file_extension": ".py",
   "mimetype": "text/x-python",
   "name": "python",
   "nbconvert_exporter": "python",
   "pygments_lexer": "ipython3",
   "version": "3.12.3"
  },
  "orig_nbformat": 4
 },
 "nbformat": 4,
 "nbformat_minor": 2
}
